{
  "cells": [
    {
      "cell_type": "markdown",
      "metadata": {
        "id": "Smr0ok1lbXQJ"
      },
      "source": [
        "# LANS - Summarization"
      ]
    },
    {
      "cell_type": "markdown",
      "metadata": {
        "id": "EVH49J6Dbd7l"
      },
      "source": [
        "## Load the dataset"
      ]
    },
    {
      "cell_type": "code",
      "execution_count": 1,
      "metadata": {
        "colab": {
          "base_uri": "https://localhost:8080/",
          "height": 138,
          "referenced_widgets": [
            "0301fdd482ae4502891f98fdad07fdf1",
            "c3439b75937945e1aa63ec99cb9e72ac",
            "37ec9e1c77bf467b8c8408069929a97c",
            "fa33efa8569e4f6ebab7bc527135d8a0",
            "cab740524d1c4f82bf84323b727db0df",
            "26fd320643904837b893afd4abe52beb",
            "d3b7612960c0406c89eb41a1a8db2980",
            "595eb8f19d494ce2ae7f2baade468f66",
            "26636dfb93134e1d834ec3765a27c127",
            "bf69d7623d7049d68907f42fc01e55ca",
            "d4afd70c2bfb4019b3912b9d40b6b0b2"
          ]
        },
        "id": "OdHlTOQLHXTa",
        "outputId": "eadb5102-1dfc-4c79-c12c-fee019534fbd"
      },
      "outputs": [
        {
          "name": "stderr",
          "output_type": "stream",
          "text": [
            "Found cached dataset cnn_dailymail (C:/Users/jayar/.cache/huggingface/datasets/cnn_dailymail/3.0.0/3.0.0/1b3c71476f6d152c31c1730e83ccb08bcf23e348233f4fcc11e182248e6bf7de)\n",
            "100%|██████████| 3/3 [00:00<00:00,  6.31it/s]\n",
            "Loading cached shuffled indices for dataset at C:/Users/jayar/.cache/huggingface/datasets/cnn_dailymail/3.0.0/3.0.0/1b3c71476f6d152c31c1730e83ccb08bcf23e348233f4fcc11e182248e6bf7de\\cache-380ef232430d96da.arrow\n",
            "Loading cached shuffled indices for dataset at C:/Users/jayar/.cache/huggingface/datasets/cnn_dailymail/3.0.0/3.0.0/1b3c71476f6d152c31c1730e83ccb08bcf23e348233f4fcc11e182248e6bf7de\\cache-fe8ce4e4283768ec.arrow\n",
            "Loading cached shuffled indices for dataset at C:/Users/jayar/.cache/huggingface/datasets/cnn_dailymail/3.0.0/3.0.0/1b3c71476f6d152c31c1730e83ccb08bcf23e348233f4fcc11e182248e6bf7de\\cache-914896ee6a47e4aa.arrow\n"
          ]
        }
      ],
      "source": [
        "from datasets import load_dataset\n",
        "\n",
        "dataset = load_dataset('cnn_dailymail', '3.0.0')\n",
        "\n",
        "dataset['train'] = dataset['train'].shuffle(seed=42).select(range(50000))\n",
        "dataset['validation'] = dataset['validation'].shuffle(seed=42).select(range(5000))\n",
        "dataset['test'] = dataset['test'].shuffle(seed=42).select(range(5000))"
      ]
    },
    {
      "cell_type": "markdown",
      "metadata": {
        "id": "NMlba5F2bqTQ"
      },
      "source": [
        "## Data preprocessing"
      ]
    },
    {
      "cell_type": "code",
      "execution_count": 2,
      "metadata": {
        "colab": {
          "base_uri": "https://localhost:8080/"
        },
        "id": "4w4QyMc2wF4z",
        "outputId": "aa703a3b-2ca0-45eb-a9a9-f08f27ed7f99"
      },
      "outputs": [
        {
          "name": "stderr",
          "output_type": "stream",
          "text": [
            "[nltk_data] Downloading package punkt to\n",
            "[nltk_data]     C:\\Users\\jayar\\AppData\\Roaming\\nltk_data...\n",
            "[nltk_data]   Package punkt is already up-to-date!\n"
          ]
        }
      ],
      "source": [
        "import nltk\n",
        "nltk.download('punkt')\n",
        "import string\n",
        "from transformers import AutoTokenizer"
      ]
    },
    {
      "cell_type": "code",
      "execution_count": 3,
      "metadata": {
        "colab": {
          "base_uri": "https://localhost:8080/"
        },
        "id": "fXE4liMzxJVu",
        "outputId": "2cc0d540-3f82-4ab4-89fe-f9500ded5beb"
      },
      "outputs": [
        {
          "name": "stderr",
          "output_type": "stream",
          "text": [
            "c:\\Softwares\\Anaconda\\envs\\torch\\lib\\site-packages\\transformers\\models\\t5\\tokenization_t5_fast.py:155: FutureWarning: This tokenizer was incorrectly instantiated with a model max length of 512 which will be corrected in Transformers v5.\n",
            "For now, this behavior is kept to avoid breaking backwards compatibility when padding/encoding with `truncation is True`.\n",
            "- Be aware that you SHOULD NOT rely on t5-small automatically truncating your input to 512 when padding/encoding.\n",
            "- If you want to encode/pad to sequences longer than 512 you can either instantiate this tokenizer with `model_max_length` or pass `max_length` when encoding/padding.\n",
            "- To avoid this warning, please instantiate this tokenizer with `model_max_length` set to your preferred value.\n",
            "  warnings.warn(\n"
          ]
        }
      ],
      "source": [
        "MODEL_NAME = 't5-small'\n",
        "PREFIX  = 'summarize: '\n",
        "\n",
        "ENCODING_LEN = 128\n",
        "\n",
        "tokenizer = AutoTokenizer.from_pretrained(MODEL_NAME)"
      ]
    },
    {
      "cell_type": "code",
      "execution_count": 4,
      "metadata": {
        "id": "AksRL_QyyYZj"
      },
      "outputs": [],
      "source": [
        "def clean_text(text):\n",
        "  sentences = nltk.sent_tokenize(text.strip())\n",
        "  sentences_cleaned = [s for sent in sentences for s in sent.split(\"\\n\")]\n",
        "  sentences_cleaned_no_titles = [sent for sent in sentences_cleaned if len(sent) > 0 and sent[-1] in string.punctuation]\n",
        "  text_cleaned = \"\\n\".join(sentences_cleaned_no_titles)\n",
        "  return text_cleaned\n",
        "\n",
        "def preprocess_data(examples):\n",
        "  texts_cleaned = [clean_text(text) for text in examples['article']]\n",
        "  inputs = [f'{PREFIX} {text}' for text in texts_cleaned]\n",
        "  model_inputs = tokenizer(inputs, max_length=ENCODING_LEN, truncation=True)\n",
        "\n",
        "  with tokenizer.as_target_tokenizer():\n",
        "    labels = tokenizer(examples['highlights'], max_length=ENCODING_LEN, truncation=True)\n",
        "\n",
        "  model_inputs['labels'] = labels['input_ids']\n",
        "  return model_inputs"
      ]
    },
    {
      "cell_type": "code",
      "execution_count": 5,
      "metadata": {
        "colab": {
          "base_uri": "https://localhost:8080/",
          "height": 507,
          "referenced_widgets": [
            "edb52231312242c19843e52f11a9b97d",
            "fd1dfa7fb59e4c01b6b77b8e23e720ee",
            "02177e3806ba4dbf967e28b0e6050371",
            "49e7c6410d714c6fb36cc69a9a8f3bdc",
            "1f74a72b2a3a4e178f0d2d531a40638f",
            "ed763d29ab124ea58a856ef6c0f0a0cb",
            "a0fcb5d0939f407dac5eff7b514c9333",
            "7c7ab3d6f659473990b20d1dfaa8f86b",
            "54ba6422cfa24d27b74f23ea95fbd5f3",
            "dfe75bfc34084275a5755bf7f4994478",
            "842ca780b4b8401597fe094ea83e5278",
            "9b2115d38f7d4b0aa5a4d830a245eec6",
            "b458bca9f6c5487bb7e7f88deaea74c5",
            "501cc4713c5e45e7bb13d1394dcfbf71",
            "2aa1770282d44072b5895575e30225e8",
            "45c97020fb0c4dd8898f839a0e8f9235",
            "f416b7072e95432486c56d01d41de646",
            "e4f7552828d04c7cad62c7025fcd6d98",
            "17517339ac704b9aac95be2c7160cd6a",
            "8ea952fe399643fa936d62e8ff5e4eec",
            "b89ce44dc8424e419a8157a12052021e",
            "36aec97cf30447728c4f6413030f575b",
            "d7b8fcd9e69246ec8f3e5a6103d3bb86",
            "2c72d133e7a74a03a42835c16da1cd4a",
            "64715fe7469645fba906635401df5e17",
            "4eda60f5cca1441a824a3dda74830a86",
            "958d10bc9803420ebc7fc8b9a1254f09",
            "d79c005836a54a84a45e46262a82599f",
            "86c50405f0004a83916bfab7f8de35e4",
            "2782e664e3204c6187872130853de390",
            "bf1d2554dadf4ef180783f9d6482ce71",
            "7b065ce32cfa4509b4f6b17686557bcb",
            "cdf6c9093da74ad0bcbff6061b03c605",
            "047f8f753f9846a1b9246b2f4d60ee75",
            "352952e1ded64ce89f3910a5c9aaa749",
            "8fa2585849d94d5fa9f249fd1be46089",
            "b1ea400219cb4ac0b14752fa7800b149",
            "c5da2ff2b5964c859f08ea4d8c369e2c",
            "b1291d561a99427296d36af9f5d4fcfa",
            "f8dfdb540ba442afb65d531ff29752f8",
            "c0725e076df04300a1647e49c272100b",
            "661cd7d657144cfe9d4caba48d3b28ab",
            "64295ed1dd76428ea6cacb218b0698d9",
            "a610a6eebf6d48928961ccec8ddee793",
            "c68dc8893d9547a3ba4e93e3bef08e12",
            "eeffba494ff44ee0ac8500819b6c5d6a",
            "28871d620ad94e36ace6e6ceeab390d6",
            "78805a0b3f4f4260ac46f81ff282f9e7",
            "5f882d0050954827a59e0637810cc21d",
            "9f033bae3e644cf28699ac4dbb0fb52b",
            "cec4559a9f3c4581bfac19191c4e4c65",
            "d21d070dc84e40a5b483d78cfdb93594",
            "2dc17a3544e842caaf196515ca11139e",
            "63a0dde43b9244378e8037d173405150",
            "df1291450fb44f0da34fe054536719fa",
            "d08a4c943fb440b28b92621363e0099d",
            "8a17ec27ff9a41a295c11bd034b62b31",
            "3a7fe84faa1c4cf9afe1a64610c955d0",
            "1e7d4a8fe2b04a4aa5dda0675e9addfd",
            "ad21a3d49fa54b6aa363c240282195d6",
            "f5856a44b82e42ab96bf3cf1557fe63c",
            "e564158ca95a47ef9473adca793f1851",
            "0842ad840fce441ab48493df356a46de",
            "7846d9f38eb846e2b31058af93562435",
            "36b66413311c45dbbddfbf72987662ce",
            "1fbb209218c74ad0a04c6975a9ca4291"
          ]
        },
        "id": "tsEaq2Um3HcD",
        "outputId": "244d5384-ccd6-4077-ca6a-7926f29eef12"
      },
      "outputs": [
        {
          "name": "stderr",
          "output_type": "stream",
          "text": [
            "100%|██████████| 50/50 [00:00<00:00, 52.47ba/s]\n",
            "100%|██████████| 5/5 [00:00<00:00, 61.98ba/s]\n",
            "100%|██████████| 5/5 [00:00<00:00, 62.17ba/s]\n",
            "  0%|          | 0/50 [00:00<?, ?ba/s]c:\\Softwares\\Anaconda\\envs\\torch\\lib\\site-packages\\transformers\\tokenization_utils_base.py:3578: UserWarning: `as_target_tokenizer` is deprecated and will be removed in v5 of Transformers. You can tokenize your labels by using the argument `text_target` of the regular `__call__` method (either in the same call as your input texts if you use the same keyword arguments, or in a separate call.\n",
            "  warnings.warn(\n",
            "100%|██████████| 50/50 [01:01<00:00,  1.24s/ba]\n",
            "100%|██████████| 5/5 [00:05<00:00,  1.06s/ba]\n",
            "100%|██████████| 5/5 [00:05<00:00,  1.14s/ba]\n"
          ]
        },
        {
          "data": {
            "text/plain": [
              "DatasetDict({\n",
              "    train: Dataset({\n",
              "        features: ['article', 'highlights', 'id', 'input_ids', 'attention_mask', 'labels'],\n",
              "        num_rows: 49954\n",
              "    })\n",
              "    validation: Dataset({\n",
              "        features: ['article', 'highlights', 'id', 'input_ids', 'attention_mask', 'labels'],\n",
              "        num_rows: 4996\n",
              "    })\n",
              "    test: Dataset({\n",
              "        features: ['article', 'highlights', 'id', 'input_ids', 'attention_mask', 'labels'],\n",
              "        num_rows: 4996\n",
              "    })\n",
              "})"
            ]
          },
          "execution_count": 5,
          "metadata": {},
          "output_type": "execute_result"
        }
      ],
      "source": [
        "dataset_cleaned = dataset.filter(lambda example: (len(example['article']) >= 500) and (example['highlights'] is not None and len(example['highlights']) >= 20))\n",
        "tokenized_datasets = dataset_cleaned.map(preprocess_data, batched=True)\n",
        "tokenized_datasets"
      ]
    },
    {
      "cell_type": "markdown",
      "metadata": {
        "id": "8Xc_wx8WbtJ4"
      },
      "source": [
        "## Fine-tune T5-Small"
      ]
    },
    {
      "cell_type": "code",
      "execution_count": 6,
      "metadata": {
        "id": "m0SW4HFx4wzG"
      },
      "outputs": [],
      "source": [
        "from transformers import AutoModelForSeq2SeqLM, DataCollatorForSeq2Seq, Seq2SeqTrainingArguments, Seq2SeqTrainer"
      ]
    },
    {
      "cell_type": "code",
      "execution_count": 7,
      "metadata": {
        "colab": {
          "base_uri": "https://localhost:8080/"
        },
        "id": "HjLfz7b6cVHJ",
        "outputId": "1f926743-e519-4ddb-d7a0-734877cbdb75"
      },
      "outputs": [],
      "source": [
        "EPOCHS = 10\n",
        "LR = 2e-5\n",
        "BATCH_SIZE = 16\n",
        "WEIGHT_DECAY = 0.01\n",
        "MODEL_DIR = f\".models/summarization/{MODEL_NAME}/ver2-large\"\n",
        "\n",
        "\n",
        "args = Seq2SeqTrainingArguments(\n",
        "    MODEL_DIR,\n",
        "    evaluation_strategy=\"steps\",\n",
        "    eval_steps=100,\n",
        "    save_strategy=\"steps\",\n",
        "    save_steps=200,\n",
        "    learning_rate=LR,\n",
        "    per_device_train_batch_size=BATCH_SIZE,\n",
        "    per_device_eval_batch_size=BATCH_SIZE,\n",
        "    weight_decay=WEIGHT_DECAY,\n",
        "    save_total_limit=3,\n",
        "    num_train_epochs=EPOCHS,\n",
        "    predict_with_generate=True,\n",
        "    fp16=True,\n",
        "    load_best_model_at_end=True,\n",
        "    metric_for_best_model=\"rouge1\"\n",
        ")"
      ]
    },
    {
      "cell_type": "code",
      "execution_count": 8,
      "metadata": {
        "id": "joWGLoZ8dOIS"
      },
      "outputs": [],
      "source": [
        "data_collator = DataCollatorForSeq2Seq(tokenizer)"
      ]
    },
    {
      "cell_type": "code",
      "execution_count": 9,
      "metadata": {
        "colab": {
          "base_uri": "https://localhost:8080/"
        },
        "id": "qYq_4DWjdXYa",
        "outputId": "1bdbb959-dd44-4d10-a1e5-4b312c7f6d92"
      },
      "outputs": [
        {
          "name": "stderr",
          "output_type": "stream",
          "text": [
            "C:\\Users\\jayar\\AppData\\Local\\Temp\\ipykernel_23860\\1756815915.py:4: FutureWarning: load_metric is deprecated and will be removed in the next major version of datasets. Use 'evaluate.load' instead, from the new library 🤗 Evaluate: https://huggingface.co/docs/evaluate\n",
            "  metric = load_metric(\"rouge\")\n"
          ]
        }
      ],
      "source": [
        "import numpy as np\n",
        "from datasets import load_metric\n",
        "\n",
        "metric = load_metric(\"rouge\")\n",
        "\n",
        "def compute_metrics(eval_pred):\n",
        "    predictions, labels = eval_pred\n",
        "    decoded_preds = tokenizer.batch_decode(predictions, skip_special_tokens=True)\n",
        "    \n",
        "    labels = np.where(labels != -100, labels, tokenizer.pad_token_id)\n",
        "    decoded_labels = tokenizer.batch_decode(labels, skip_special_tokens=True)\n",
        "    \n",
        "    decoded_preds = [\"\\n\".join(nltk.sent_tokenize(pred.strip())) for pred in decoded_preds]\n",
        "    decoded_labels = [\"\\n\".join(nltk.sent_tokenize(label.strip())) for label in decoded_labels]\n",
        "    \n",
        "    result = metric.compute(predictions=decoded_preds, references=decoded_labels, use_stemmer=True)\n",
        "\n",
        "    result = {key: value.mid.fmeasure * 100 for key, value in result.items()}\n",
        "    \n",
        "    prediction_lens = [np.count_nonzero(pred != tokenizer.pad_token_id)for pred in predictions]\n",
        "    result[\"gen_len\"] = np.mean(prediction_lens)\n",
        "    \n",
        "    return {k: round(v, 4) for k, v in result.items()}"
      ]
    },
    {
      "cell_type": "code",
      "execution_count": 10,
      "metadata": {
        "colab": {
          "base_uri": "https://localhost:8080/"
        },
        "id": "ODp1f0ZkdadY",
        "outputId": "60eb7d9d-79ca-4987-e57c-ebc0518435ae"
      },
      "outputs": [
        {
          "name": "stderr",
          "output_type": "stream",
          "text": [
            "loading configuration file config.json from cache at C:\\Users\\jayar/.cache\\huggingface\\hub\\models--t5-small\\snapshots\\d78aea13fa7ecd06c29e3e46195d6341255065d5\\config.json\n",
            "Model config T5Config {\n",
            "  \"_name_or_path\": \"t5-small\",\n",
            "  \"architectures\": [\n",
            "    \"T5WithLMHeadModel\"\n",
            "  ],\n",
            "  \"d_ff\": 2048,\n",
            "  \"d_kv\": 64,\n",
            "  \"d_model\": 512,\n",
            "  \"decoder_start_token_id\": 0,\n",
            "  \"dense_act_fn\": \"relu\",\n",
            "  \"dropout_rate\": 0.1,\n",
            "  \"eos_token_id\": 1,\n",
            "  \"feed_forward_proj\": \"relu\",\n",
            "  \"initializer_factor\": 1.0,\n",
            "  \"is_encoder_decoder\": true,\n",
            "  \"is_gated_act\": false,\n",
            "  \"layer_norm_epsilon\": 1e-06,\n",
            "  \"model_type\": \"t5\",\n",
            "  \"n_positions\": 512,\n",
            "  \"num_decoder_layers\": 6,\n",
            "  \"num_heads\": 8,\n",
            "  \"num_layers\": 6,\n",
            "  \"output_past\": true,\n",
            "  \"pad_token_id\": 0,\n",
            "  \"relative_attention_max_distance\": 128,\n",
            "  \"relative_attention_num_buckets\": 32,\n",
            "  \"task_specific_params\": {\n",
            "    \"summarization\": {\n",
            "      \"early_stopping\": true,\n",
            "      \"length_penalty\": 2.0,\n",
            "      \"max_length\": 200,\n",
            "      \"min_length\": 30,\n",
            "      \"no_repeat_ngram_size\": 3,\n",
            "      \"num_beams\": 4,\n",
            "      \"prefix\": \"summarize: \"\n",
            "    },\n",
            "    \"translation_en_to_de\": {\n",
            "      \"early_stopping\": true,\n",
            "      \"max_length\": 300,\n",
            "      \"num_beams\": 4,\n",
            "      \"prefix\": \"translate English to German: \"\n",
            "    },\n",
            "    \"translation_en_to_fr\": {\n",
            "      \"early_stopping\": true,\n",
            "      \"max_length\": 300,\n",
            "      \"num_beams\": 4,\n",
            "      \"prefix\": \"translate English to French: \"\n",
            "    },\n",
            "    \"translation_en_to_ro\": {\n",
            "      \"early_stopping\": true,\n",
            "      \"max_length\": 300,\n",
            "      \"num_beams\": 4,\n",
            "      \"prefix\": \"translate English to Romanian: \"\n",
            "    }\n",
            "  },\n",
            "  \"transformers_version\": \"4.25.1\",\n",
            "  \"use_cache\": true,\n",
            "  \"vocab_size\": 32128\n",
            "}\n",
            "\n",
            "loading weights file pytorch_model.bin from cache at C:\\Users\\jayar/.cache\\huggingface\\hub\\models--t5-small\\snapshots\\d78aea13fa7ecd06c29e3e46195d6341255065d5\\pytorch_model.bin\n",
            "All model checkpoint weights were used when initializing T5ForConditionalGeneration.\n",
            "\n",
            "All the weights of T5ForConditionalGeneration were initialized from the model checkpoint at t5-small.\n",
            "If your task is similar to the task the model of the checkpoint was trained on, you can already use T5ForConditionalGeneration for predictions without further training.\n",
            "Using cuda_amp half precision backend\n"
          ]
        }
      ],
      "source": [
        "def model_init():\n",
        "    return AutoModelForSeq2SeqLM.from_pretrained(MODEL_NAME)\n",
        "\n",
        "trainer = Seq2SeqTrainer(\n",
        "    model_init=model_init,\n",
        "    args=args,\n",
        "    train_dataset=tokenized_datasets[\"train\"],\n",
        "    eval_dataset=tokenized_datasets[\"validation\"],\n",
        "    data_collator=data_collator,\n",
        "    tokenizer=tokenizer,\n",
        "    compute_metrics=compute_metrics\n",
        ")"
      ]
    },
    {
      "cell_type": "code",
      "execution_count": 11,
      "metadata": {
        "colab": {
          "base_uri": "https://localhost:8080/",
          "height": 1000
        },
        "id": "XOeZoPmudwiv",
        "outputId": "1c3e0411-c90b-4983-cfc2-8eba083f37fb"
      },
      "outputs": [
        {
          "name": "stderr",
          "output_type": "stream",
          "text": [
            "loading configuration file config.json from cache at C:\\Users\\jayar/.cache\\huggingface\\hub\\models--t5-small\\snapshots\\d78aea13fa7ecd06c29e3e46195d6341255065d5\\config.json\n",
            "Model config T5Config {\n",
            "  \"_name_or_path\": \"t5-small\",\n",
            "  \"architectures\": [\n",
            "    \"T5WithLMHeadModel\"\n",
            "  ],\n",
            "  \"d_ff\": 2048,\n",
            "  \"d_kv\": 64,\n",
            "  \"d_model\": 512,\n",
            "  \"decoder_start_token_id\": 0,\n",
            "  \"dense_act_fn\": \"relu\",\n",
            "  \"dropout_rate\": 0.1,\n",
            "  \"eos_token_id\": 1,\n",
            "  \"feed_forward_proj\": \"relu\",\n",
            "  \"initializer_factor\": 1.0,\n",
            "  \"is_encoder_decoder\": true,\n",
            "  \"is_gated_act\": false,\n",
            "  \"layer_norm_epsilon\": 1e-06,\n",
            "  \"model_type\": \"t5\",\n",
            "  \"n_positions\": 512,\n",
            "  \"num_decoder_layers\": 6,\n",
            "  \"num_heads\": 8,\n",
            "  \"num_layers\": 6,\n",
            "  \"output_past\": true,\n",
            "  \"pad_token_id\": 0,\n",
            "  \"relative_attention_max_distance\": 128,\n",
            "  \"relative_attention_num_buckets\": 32,\n",
            "  \"task_specific_params\": {\n",
            "    \"summarization\": {\n",
            "      \"early_stopping\": true,\n",
            "      \"length_penalty\": 2.0,\n",
            "      \"max_length\": 200,\n",
            "      \"min_length\": 30,\n",
            "      \"no_repeat_ngram_size\": 3,\n",
            "      \"num_beams\": 4,\n",
            "      \"prefix\": \"summarize: \"\n",
            "    },\n",
            "    \"translation_en_to_de\": {\n",
            "      \"early_stopping\": true,\n",
            "      \"max_length\": 300,\n",
            "      \"num_beams\": 4,\n",
            "      \"prefix\": \"translate English to German: \"\n",
            "    },\n",
            "    \"translation_en_to_fr\": {\n",
            "      \"early_stopping\": true,\n",
            "      \"max_length\": 300,\n",
            "      \"num_beams\": 4,\n",
            "      \"prefix\": \"translate English to French: \"\n",
            "    },\n",
            "    \"translation_en_to_ro\": {\n",
            "      \"early_stopping\": true,\n",
            "      \"max_length\": 300,\n",
            "      \"num_beams\": 4,\n",
            "      \"prefix\": \"translate English to Romanian: \"\n",
            "    }\n",
            "  },\n",
            "  \"transformers_version\": \"4.25.1\",\n",
            "  \"use_cache\": true,\n",
            "  \"vocab_size\": 32128\n",
            "}\n",
            "\n",
            "loading weights file pytorch_model.bin from cache at C:\\Users\\jayar/.cache\\huggingface\\hub\\models--t5-small\\snapshots\\d78aea13fa7ecd06c29e3e46195d6341255065d5\\pytorch_model.bin\n",
            "All model checkpoint weights were used when initializing T5ForConditionalGeneration.\n",
            "\n",
            "All the weights of T5ForConditionalGeneration were initialized from the model checkpoint at t5-small.\n",
            "If your task is similar to the task the model of the checkpoint was trained on, you can already use T5ForConditionalGeneration for predictions without further training.\n",
            "The following columns in the training set don't have a corresponding argument in `T5ForConditionalGeneration.forward` and have been ignored: article, highlights, id. If article, highlights, id are not expected by `T5ForConditionalGeneration.forward`,  you can safely ignore this message.\n",
            "c:\\Softwares\\Anaconda\\envs\\torch\\lib\\site-packages\\transformers\\optimization.py:306: FutureWarning: This implementation of AdamW is deprecated and will be removed in a future version. Use the PyTorch implementation torch.optim.AdamW instead, or set `no_deprecation_warning=True` to disable this warning\n",
            "  warnings.warn(\n",
            "***** Running training *****\n",
            "  Num examples = 49954\n",
            "  Num Epochs = 10\n",
            "  Instantaneous batch size per device = 16\n",
            "  Total train batch size (w. parallel, distributed & accumulation) = 16\n",
            "  Gradient Accumulation steps = 1\n",
            "  Total optimization steps = 31230\n",
            "  Number of trainable parameters = 60506624\n",
            "  0%|          | 0/31230 [00:00<?, ?it/s]You're using a T5TokenizerFast tokenizer. Please note that with a fast tokenizer, using the `__call__` method is faster than using a method to encode the text followed by a call to the `pad` method to get a padded encoding.\n",
            "  0%|          | 100/31230 [00:14<54:45,  9.47it/s] The following columns in the evaluation set don't have a corresponding argument in `T5ForConditionalGeneration.forward` and have been ignored: article, highlights, id. If article, highlights, id are not expected by `T5ForConditionalGeneration.forward`,  you can safely ignore this message.\n",
            "***** Running Evaluation *****\n",
            "  Num examples = 4996\n",
            "  Batch size = 16\n",
            "                                                   \n",
            "  0%|          | 100/31230 [01:31<54:45,  9.47it/s]"
          ]
        },
        {
          "name": "stdout",
          "output_type": "stream",
          "text": [
            "{'eval_loss': 2.6503148078918457, 'eval_rouge1': 23.1116, 'eval_rouge2': 10.4515, 'eval_rougeL': 18.8978, 'eval_rougeLsum': 21.6546, 'eval_gen_len': 19.0, 'eval_runtime': 77.4651, 'eval_samples_per_second': 64.494, 'eval_steps_per_second': 4.041, 'epoch': 0.03}\n"
          ]
        },
        {
          "name": "stderr",
          "output_type": "stream",
          "text": [
            "  1%|          | 200/31230 [01:42<1:02:19,  8.30it/s]  The following columns in the evaluation set don't have a corresponding argument in `T5ForConditionalGeneration.forward` and have been ignored: article, highlights, id. If article, highlights, id are not expected by `T5ForConditionalGeneration.forward`,  you can safely ignore this message.\n",
            "***** Running Evaluation *****\n",
            "  Num examples = 4996\n",
            "  Batch size = 16\n",
            "                                                     \n",
            "  1%|          | 200/31230 [02:56<1:02:19,  8.30it/s]Saving model checkpoint to .models/summarization/t5-small/ver2-large\\checkpoint-200\n",
            "Configuration saved in .models/summarization/t5-small/ver2-large\\checkpoint-200\\config.json\n"
          ]
        },
        {
          "name": "stdout",
          "output_type": "stream",
          "text": [
            "{'eval_loss': 2.53800106048584, 'eval_rouge1': 23.1092, 'eval_rouge2': 10.4218, 'eval_rougeL': 18.9128, 'eval_rougeLsum': 21.6933, 'eval_gen_len': 18.9998, 'eval_runtime': 73.886, 'eval_samples_per_second': 67.618, 'eval_steps_per_second': 4.236, 'epoch': 0.06}\n"
          ]
        },
        {
          "name": "stderr",
          "output_type": "stream",
          "text": [
            "Model weights saved in .models/summarization/t5-small/ver2-large\\checkpoint-200\\pytorch_model.bin\n",
            "tokenizer config file saved in .models/summarization/t5-small/ver2-large\\checkpoint-200\\tokenizer_config.json\n",
            "Special tokens file saved in .models/summarization/t5-small/ver2-large\\checkpoint-200\\special_tokens_map.json\n",
            "Copy vocab file to .models/summarization/t5-small/ver2-large\\checkpoint-200\\spiece.model\n",
            "  1%|          | 300/31230 [03:10<1:04:40,  7.97it/s]  The following columns in the evaluation set don't have a corresponding argument in `T5ForConditionalGeneration.forward` and have been ignored: article, highlights, id. If article, highlights, id are not expected by `T5ForConditionalGeneration.forward`,  you can safely ignore this message.\n",
            "***** Running Evaluation *****\n",
            "  Num examples = 4996\n",
            "  Batch size = 16\n",
            "                                                     \n",
            "  1%|          | 300/31230 [04:31<1:04:40,  7.97it/s]"
          ]
        },
        {
          "name": "stdout",
          "output_type": "stream",
          "text": [
            "{'eval_loss': 2.514437198638916, 'eval_rouge1': 23.2287, 'eval_rouge2': 10.53, 'eval_rougeL': 19.0154, 'eval_rougeLsum': 21.8017, 'eval_gen_len': 18.9998, 'eval_runtime': 80.7892, 'eval_samples_per_second': 61.84, 'eval_steps_per_second': 3.874, 'epoch': 0.1}\n"
          ]
        },
        {
          "name": "stderr",
          "output_type": "stream",
          "text": [
            "  1%|▏         | 400/31230 [04:43<56:36,  9.08it/s]    The following columns in the evaluation set don't have a corresponding argument in `T5ForConditionalGeneration.forward` and have been ignored: article, highlights, id. If article, highlights, id are not expected by `T5ForConditionalGeneration.forward`,  you can safely ignore this message.\n",
            "***** Running Evaluation *****\n",
            "  Num examples = 4996\n",
            "  Batch size = 16\n",
            "                                                   \n",
            "  1%|▏         | 400/31230 [06:05<56:36,  9.08it/s]Saving model checkpoint to .models/summarization/t5-small/ver2-large\\checkpoint-400\n",
            "Configuration saved in .models/summarization/t5-small/ver2-large\\checkpoint-400\\config.json\n"
          ]
        },
        {
          "name": "stdout",
          "output_type": "stream",
          "text": [
            "{'eval_loss': 2.5025405883789062, 'eval_rouge1': 23.213, 'eval_rouge2': 10.5611, 'eval_rougeL': 19.0343, 'eval_rougeLsum': 21.8325, 'eval_gen_len': 19.0, 'eval_runtime': 82.1622, 'eval_samples_per_second': 60.807, 'eval_steps_per_second': 3.81, 'epoch': 0.13}\n"
          ]
        },
        {
          "name": "stderr",
          "output_type": "stream",
          "text": [
            "Model weights saved in .models/summarization/t5-small/ver2-large\\checkpoint-400\\pytorch_model.bin\n",
            "tokenizer config file saved in .models/summarization/t5-small/ver2-large\\checkpoint-400\\tokenizer_config.json\n",
            "Special tokens file saved in .models/summarization/t5-small/ver2-large\\checkpoint-400\\special_tokens_map.json\n",
            "Copy vocab file to .models/summarization/t5-small/ver2-large\\checkpoint-400\\spiece.model\n",
            "  2%|▏         | 500/31230 [06:19<1:00:03,  8.53it/s]  The following columns in the evaluation set don't have a corresponding argument in `T5ForConditionalGeneration.forward` and have been ignored: article, highlights, id. If article, highlights, id are not expected by `T5ForConditionalGeneration.forward`,  you can safely ignore this message.\n",
            "***** Running Evaluation *****\n",
            "  Num examples = 4996\n",
            "  Batch size = 16\n"
          ]
        },
        {
          "name": "stdout",
          "output_type": "stream",
          "text": [
            "{'loss': 2.9573, 'learning_rate': 1.9680435478706374e-05, 'epoch': 0.16}\n"
          ]
        },
        {
          "name": "stderr",
          "output_type": "stream",
          "text": [
            "                                                     \n",
            "  2%|▏         | 500/31230 [07:43<1:00:03,  8.53it/s]"
          ]
        },
        {
          "name": "stdout",
          "output_type": "stream",
          "text": [
            "{'eval_loss': 2.4955034255981445, 'eval_rouge1': 23.3028, 'eval_rouge2': 10.6502, 'eval_rougeL': 19.1194, 'eval_rougeLsum': 21.9144, 'eval_gen_len': 19.0, 'eval_runtime': 83.9464, 'eval_samples_per_second': 59.514, 'eval_steps_per_second': 3.729, 'epoch': 0.16}\n"
          ]
        },
        {
          "name": "stderr",
          "output_type": "stream",
          "text": [
            "  2%|▏         | 600/31230 [07:55<1:00:33,  8.43it/s]  The following columns in the evaluation set don't have a corresponding argument in `T5ForConditionalGeneration.forward` and have been ignored: article, highlights, id. If article, highlights, id are not expected by `T5ForConditionalGeneration.forward`,  you can safely ignore this message.\n",
            "***** Running Evaluation *****\n",
            "  Num examples = 4996\n",
            "  Batch size = 16\n",
            "                                                     \n",
            "  2%|▏         | 600/31230 [09:11<1:00:33,  8.43it/s]Saving model checkpoint to .models/summarization/t5-small/ver2-large\\checkpoint-600\n",
            "Configuration saved in .models/summarization/t5-small/ver2-large\\checkpoint-600\\config.json\n"
          ]
        },
        {
          "name": "stdout",
          "output_type": "stream",
          "text": [
            "{'eval_loss': 2.4903407096862793, 'eval_rouge1': 23.3307, 'eval_rouge2': 10.6228, 'eval_rougeL': 19.1479, 'eval_rougeLsum': 21.9425, 'eval_gen_len': 19.0, 'eval_runtime': 75.4308, 'eval_samples_per_second': 66.233, 'eval_steps_per_second': 4.149, 'epoch': 0.19}\n"
          ]
        },
        {
          "name": "stderr",
          "output_type": "stream",
          "text": [
            "Model weights saved in .models/summarization/t5-small/ver2-large\\checkpoint-600\\pytorch_model.bin\n",
            "tokenizer config file saved in .models/summarization/t5-small/ver2-large\\checkpoint-600\\tokenizer_config.json\n",
            "Special tokens file saved in .models/summarization/t5-small/ver2-large\\checkpoint-600\\special_tokens_map.json\n",
            "Copy vocab file to .models/summarization/t5-small/ver2-large\\checkpoint-600\\spiece.model\n",
            "  2%|▏         | 700/31230 [09:25<1:00:12,  8.45it/s]  The following columns in the evaluation set don't have a corresponding argument in `T5ForConditionalGeneration.forward` and have been ignored: article, highlights, id. If article, highlights, id are not expected by `T5ForConditionalGeneration.forward`,  you can safely ignore this message.\n",
            "***** Running Evaluation *****\n",
            "  Num examples = 4996\n",
            "  Batch size = 16\n",
            "                                                     \n",
            "  2%|▏         | 700/31230 [10:48<1:00:12,  8.45it/s]"
          ]
        },
        {
          "name": "stdout",
          "output_type": "stream",
          "text": [
            "{'eval_loss': 2.4852030277252197, 'eval_rouge1': 23.33, 'eval_rouge2': 10.6544, 'eval_rougeL': 19.1626, 'eval_rougeLsum': 21.9547, 'eval_gen_len': 18.9996, 'eval_runtime': 82.8037, 'eval_samples_per_second': 60.335, 'eval_steps_per_second': 3.78, 'epoch': 0.22}\n"
          ]
        },
        {
          "name": "stderr",
          "output_type": "stream",
          "text": [
            "  3%|▎         | 799/31230 [10:59<54:37,  9.29it/s]    The following columns in the evaluation set don't have a corresponding argument in `T5ForConditionalGeneration.forward` and have been ignored: article, highlights, id. If article, highlights, id are not expected by `T5ForConditionalGeneration.forward`,  you can safely ignore this message.\n",
            "***** Running Evaluation *****\n",
            "  Num examples = 4996\n",
            "  Batch size = 16\n",
            "                                                   \n",
            "  3%|▎         | 800/31230 [12:14<54:37,  9.29it/s]Saving model checkpoint to .models/summarization/t5-small/ver2-large\\checkpoint-800\n",
            "Configuration saved in .models/summarization/t5-small/ver2-large\\checkpoint-800\\config.json\n"
          ]
        },
        {
          "name": "stdout",
          "output_type": "stream",
          "text": [
            "{'eval_loss': 2.4811301231384277, 'eval_rouge1': 23.3043, 'eval_rouge2': 10.5984, 'eval_rougeL': 19.1258, 'eval_rougeLsum': 21.9016, 'eval_gen_len': 19.0, 'eval_runtime': 75.1664, 'eval_samples_per_second': 66.466, 'eval_steps_per_second': 4.164, 'epoch': 0.26}\n"
          ]
        },
        {
          "name": "stderr",
          "output_type": "stream",
          "text": [
            "Model weights saved in .models/summarization/t5-small/ver2-large\\checkpoint-800\\pytorch_model.bin\n",
            "tokenizer config file saved in .models/summarization/t5-small/ver2-large\\checkpoint-800\\tokenizer_config.json\n",
            "Special tokens file saved in .models/summarization/t5-small/ver2-large\\checkpoint-800\\special_tokens_map.json\n",
            "Copy vocab file to .models/summarization/t5-small/ver2-large\\checkpoint-800\\spiece.model\n",
            "Deleting older checkpoint [.models\\summarization\\t5-small\\ver2-large\\checkpoint-200] due to args.save_total_limit\n",
            "  3%|▎         | 900/31230 [12:27<54:12,  9.33it/s]    The following columns in the evaluation set don't have a corresponding argument in `T5ForConditionalGeneration.forward` and have been ignored: article, highlights, id. If article, highlights, id are not expected by `T5ForConditionalGeneration.forward`,  you can safely ignore this message.\n",
            "***** Running Evaluation *****\n",
            "  Num examples = 4996\n",
            "  Batch size = 16\n",
            "                                                   \n",
            "  3%|▎         | 900/31230 [13:42<54:12,  9.33it/s]"
          ]
        },
        {
          "name": "stdout",
          "output_type": "stream",
          "text": [
            "{'eval_loss': 2.4773170948028564, 'eval_rouge1': 23.3093, 'eval_rouge2': 10.6215, 'eval_rougeL': 19.1236, 'eval_rougeLsum': 21.9289, 'eval_gen_len': 18.9998, 'eval_runtime': 74.8656, 'eval_samples_per_second': 66.733, 'eval_steps_per_second': 4.181, 'epoch': 0.29}\n"
          ]
        },
        {
          "name": "stderr",
          "output_type": "stream",
          "text": [
            "  3%|▎         | 1000/31230 [13:53<52:43,  9.56it/s]   The following columns in the evaluation set don't have a corresponding argument in `T5ForConditionalGeneration.forward` and have been ignored: article, highlights, id. If article, highlights, id are not expected by `T5ForConditionalGeneration.forward`,  you can safely ignore this message.\n",
            "***** Running Evaluation *****\n",
            "  Num examples = 4996\n",
            "  Batch size = 16\n"
          ]
        },
        {
          "name": "stdout",
          "output_type": "stream",
          "text": [
            "{'loss': 2.8672, 'learning_rate': 1.9360230547550432e-05, 'epoch': 0.32}\n"
          ]
        },
        {
          "name": "stderr",
          "output_type": "stream",
          "text": [
            "                                                    \n",
            "  3%|▎         | 1000/31230 [15:06<52:43,  9.56it/s]Saving model checkpoint to .models/summarization/t5-small/ver2-large\\checkpoint-1000\n",
            "Configuration saved in .models/summarization/t5-small/ver2-large\\checkpoint-1000\\config.json\n"
          ]
        },
        {
          "name": "stdout",
          "output_type": "stream",
          "text": [
            "{'eval_loss': 2.475889205932617, 'eval_rouge1': 23.3523, 'eval_rouge2': 10.6528, 'eval_rougeL': 19.1659, 'eval_rougeLsum': 21.959, 'eval_gen_len': 18.9984, 'eval_runtime': 73.6347, 'eval_samples_per_second': 67.848, 'eval_steps_per_second': 4.251, 'epoch': 0.32}\n"
          ]
        },
        {
          "name": "stderr",
          "output_type": "stream",
          "text": [
            "Model weights saved in .models/summarization/t5-small/ver2-large\\checkpoint-1000\\pytorch_model.bin\n",
            "tokenizer config file saved in .models/summarization/t5-small/ver2-large\\checkpoint-1000\\tokenizer_config.json\n",
            "Special tokens file saved in .models/summarization/t5-small/ver2-large\\checkpoint-1000\\special_tokens_map.json\n",
            "Copy vocab file to .models/summarization/t5-small/ver2-large\\checkpoint-1000\\spiece.model\n",
            "Deleting older checkpoint [.models\\summarization\\t5-small\\ver2-large\\checkpoint-400] due to args.save_total_limit\n",
            "  4%|▎         | 1100/31230 [15:19<52:31,  9.56it/s]    The following columns in the evaluation set don't have a corresponding argument in `T5ForConditionalGeneration.forward` and have been ignored: article, highlights, id. If article, highlights, id are not expected by `T5ForConditionalGeneration.forward`,  you can safely ignore this message.\n",
            "***** Running Evaluation *****\n",
            "  Num examples = 4996\n",
            "  Batch size = 16\n",
            "                                                    \n",
            "  4%|▎         | 1100/31230 [16:34<52:31,  9.56it/s]"
          ]
        },
        {
          "name": "stdout",
          "output_type": "stream",
          "text": [
            "{'eval_loss': 2.4735445976257324, 'eval_rouge1': 23.3294, 'eval_rouge2': 10.6361, 'eval_rougeL': 19.1374, 'eval_rougeLsum': 21.9389, 'eval_gen_len': 18.9984, 'eval_runtime': 74.5945, 'eval_samples_per_second': 66.975, 'eval_steps_per_second': 4.196, 'epoch': 0.35}\n"
          ]
        },
        {
          "name": "stderr",
          "output_type": "stream",
          "text": [
            "  4%|▍         | 1200/31230 [16:45<52:33,  9.52it/s]    The following columns in the evaluation set don't have a corresponding argument in `T5ForConditionalGeneration.forward` and have been ignored: article, highlights, id. If article, highlights, id are not expected by `T5ForConditionalGeneration.forward`,  you can safely ignore this message.\n",
            "***** Running Evaluation *****\n",
            "  Num examples = 4996\n",
            "  Batch size = 16\n",
            "                                                    \n",
            "  4%|▍         | 1200/31230 [17:59<52:33,  9.52it/s]Saving model checkpoint to .models/summarization/t5-small/ver2-large\\checkpoint-1200\n",
            "Configuration saved in .models/summarization/t5-small/ver2-large\\checkpoint-1200\\config.json\n"
          ]
        },
        {
          "name": "stdout",
          "output_type": "stream",
          "text": [
            "{'eval_loss': 2.471742868423462, 'eval_rouge1': 23.3223, 'eval_rouge2': 10.6258, 'eval_rougeL': 19.1248, 'eval_rougeLsum': 21.9351, 'eval_gen_len': 18.9984, 'eval_runtime': 73.8784, 'eval_samples_per_second': 67.625, 'eval_steps_per_second': 4.237, 'epoch': 0.38}\n"
          ]
        },
        {
          "name": "stderr",
          "output_type": "stream",
          "text": [
            "Model weights saved in .models/summarization/t5-small/ver2-large\\checkpoint-1200\\pytorch_model.bin\n",
            "tokenizer config file saved in .models/summarization/t5-small/ver2-large\\checkpoint-1200\\tokenizer_config.json\n",
            "Special tokens file saved in .models/summarization/t5-small/ver2-large\\checkpoint-1200\\special_tokens_map.json\n",
            "Copy vocab file to .models/summarization/t5-small/ver2-large\\checkpoint-1200\\spiece.model\n",
            "Deleting older checkpoint [.models\\summarization\\t5-small\\ver2-large\\checkpoint-600] due to args.save_total_limit\n",
            "  4%|▍         | 1300/31230 [18:13<59:39,  8.36it/s]    The following columns in the evaluation set don't have a corresponding argument in `T5ForConditionalGeneration.forward` and have been ignored: article, highlights, id. If article, highlights, id are not expected by `T5ForConditionalGeneration.forward`,  you can safely ignore this message.\n",
            "***** Running Evaluation *****\n",
            "  Num examples = 4996\n",
            "  Batch size = 16\n",
            "                                                    \n",
            "  4%|▍         | 1300/31230 [19:35<59:39,  8.36it/s]"
          ]
        },
        {
          "name": "stdout",
          "output_type": "stream",
          "text": [
            "{'eval_loss': 2.468858242034912, 'eval_rouge1': 23.2657, 'eval_rouge2': 10.6454, 'eval_rougeL': 19.112, 'eval_rougeLsum': 21.9056, 'eval_gen_len': 18.998, 'eval_runtime': 81.8497, 'eval_samples_per_second': 61.039, 'eval_steps_per_second': 3.824, 'epoch': 0.42}\n"
          ]
        },
        {
          "name": "stderr",
          "output_type": "stream",
          "text": [
            "  4%|▍         | 1400/31230 [19:46<55:57,  8.88it/s]    The following columns in the evaluation set don't have a corresponding argument in `T5ForConditionalGeneration.forward` and have been ignored: article, highlights, id. If article, highlights, id are not expected by `T5ForConditionalGeneration.forward`,  you can safely ignore this message.\n",
            "***** Running Evaluation *****\n",
            "  Num examples = 4996\n",
            "  Batch size = 16\n",
            "                                                    \n",
            "  4%|▍         | 1400/31230 [21:03<55:57,  8.88it/s]Saving model checkpoint to .models/summarization/t5-small/ver2-large\\checkpoint-1400\n",
            "Configuration saved in .models/summarization/t5-small/ver2-large\\checkpoint-1400\\config.json\n"
          ]
        },
        {
          "name": "stdout",
          "output_type": "stream",
          "text": [
            "{'eval_loss': 2.467694044113159, 'eval_rouge1': 23.2915, 'eval_rouge2': 10.6462, 'eval_rougeL': 19.1028, 'eval_rougeLsum': 21.9306, 'eval_gen_len': 18.9994, 'eval_runtime': 77.3481, 'eval_samples_per_second': 64.591, 'eval_steps_per_second': 4.047, 'epoch': 0.45}\n"
          ]
        },
        {
          "name": "stderr",
          "output_type": "stream",
          "text": [
            "Model weights saved in .models/summarization/t5-small/ver2-large\\checkpoint-1400\\pytorch_model.bin\n",
            "tokenizer config file saved in .models/summarization/t5-small/ver2-large\\checkpoint-1400\\tokenizer_config.json\n",
            "Special tokens file saved in .models/summarization/t5-small/ver2-large\\checkpoint-1400\\special_tokens_map.json\n",
            "Copy vocab file to .models/summarization/t5-small/ver2-large\\checkpoint-1400\\spiece.model\n",
            "Deleting older checkpoint [.models\\summarization\\t5-small\\ver2-large\\checkpoint-800] due to args.save_total_limit\n",
            "  5%|▍         | 1500/31230 [21:17<53:31,  9.26it/s]    The following columns in the evaluation set don't have a corresponding argument in `T5ForConditionalGeneration.forward` and have been ignored: article, highlights, id. If article, highlights, id are not expected by `T5ForConditionalGeneration.forward`,  you can safely ignore this message.\n",
            "***** Running Evaluation *****\n",
            "  Num examples = 4996\n",
            "  Batch size = 16\n"
          ]
        },
        {
          "name": "stdout",
          "output_type": "stream",
          "text": [
            "{'loss': 2.854, 'learning_rate': 1.9040666026256808e-05, 'epoch': 0.48}\n"
          ]
        },
        {
          "name": "stderr",
          "output_type": "stream",
          "text": [
            "                                                    \n",
            "  5%|▍         | 1500/31230 [22:36<53:31,  9.26it/s]"
          ]
        },
        {
          "name": "stdout",
          "output_type": "stream",
          "text": [
            "{'eval_loss': 2.4644572734832764, 'eval_rouge1': 23.2764, 'eval_rouge2': 10.551, 'eval_rougeL': 19.0969, 'eval_rougeLsum': 21.9032, 'eval_gen_len': 18.9994, 'eval_runtime': 79.2756, 'eval_samples_per_second': 63.021, 'eval_steps_per_second': 3.948, 'epoch': 0.48}\n"
          ]
        },
        {
          "name": "stderr",
          "output_type": "stream",
          "text": [
            "  5%|▌         | 1600/31230 [22:47<52:43,  9.37it/s]    The following columns in the evaluation set don't have a corresponding argument in `T5ForConditionalGeneration.forward` and have been ignored: article, highlights, id. If article, highlights, id are not expected by `T5ForConditionalGeneration.forward`,  you can safely ignore this message.\n",
            "***** Running Evaluation *****\n",
            "  Num examples = 4996\n",
            "  Batch size = 16\n",
            "                                                    \n",
            "  5%|▌         | 1600/31230 [24:01<52:43,  9.37it/s]Saving model checkpoint to .models/summarization/t5-small/ver2-large\\checkpoint-1600\n",
            "Configuration saved in .models/summarization/t5-small/ver2-large\\checkpoint-1600\\config.json\n"
          ]
        },
        {
          "name": "stdout",
          "output_type": "stream",
          "text": [
            "{'eval_loss': 2.464177370071411, 'eval_rouge1': 23.2814, 'eval_rouge2': 10.6235, 'eval_rougeL': 19.1152, 'eval_rougeLsum': 21.9094, 'eval_gen_len': 18.9994, 'eval_runtime': 74.058, 'eval_samples_per_second': 67.461, 'eval_steps_per_second': 4.226, 'epoch': 0.51}\n"
          ]
        },
        {
          "name": "stderr",
          "output_type": "stream",
          "text": [
            "Model weights saved in .models/summarization/t5-small/ver2-large\\checkpoint-1600\\pytorch_model.bin\n",
            "tokenizer config file saved in .models/summarization/t5-small/ver2-large\\checkpoint-1600\\tokenizer_config.json\n",
            "Special tokens file saved in .models/summarization/t5-small/ver2-large\\checkpoint-1600\\special_tokens_map.json\n",
            "Copy vocab file to .models/summarization/t5-small/ver2-large\\checkpoint-1600\\spiece.model\n",
            "Deleting older checkpoint [.models\\summarization\\t5-small\\ver2-large\\checkpoint-1200] due to args.save_total_limit\n",
            "  5%|▌         | 1699/31230 [24:14<52:13,  9.42it/s]    The following columns in the evaluation set don't have a corresponding argument in `T5ForConditionalGeneration.forward` and have been ignored: article, highlights, id. If article, highlights, id are not expected by `T5ForConditionalGeneration.forward`,  you can safely ignore this message.\n",
            "***** Running Evaluation *****\n",
            "  Num examples = 4996\n",
            "  Batch size = 16\n",
            "                                                    \n",
            "  5%|▌         | 1700/31230 [25:28<52:13,  9.42it/s]"
          ]
        },
        {
          "name": "stdout",
          "output_type": "stream",
          "text": [
            "{'eval_loss': 2.4629597663879395, 'eval_rouge1': 23.277, 'eval_rouge2': 10.6429, 'eval_rougeL': 19.1268, 'eval_rougeLsum': 21.9001, 'eval_gen_len': 18.9994, 'eval_runtime': 73.9538, 'eval_samples_per_second': 67.556, 'eval_steps_per_second': 4.232, 'epoch': 0.54}\n"
          ]
        },
        {
          "name": "stderr",
          "output_type": "stream",
          "text": [
            "  6%|▌         | 1800/31230 [25:39<51:23,  9.54it/s]    The following columns in the evaluation set don't have a corresponding argument in `T5ForConditionalGeneration.forward` and have been ignored: article, highlights, id. If article, highlights, id are not expected by `T5ForConditionalGeneration.forward`,  you can safely ignore this message.\n",
            "***** Running Evaluation *****\n",
            "  Num examples = 4996\n",
            "  Batch size = 16\n",
            "                                                    \n",
            "  6%|▌         | 1800/31230 [26:53<51:23,  9.54it/s]Saving model checkpoint to .models/summarization/t5-small/ver2-large\\checkpoint-1800\n",
            "Configuration saved in .models/summarization/t5-small/ver2-large\\checkpoint-1800\\config.json\n"
          ]
        },
        {
          "name": "stdout",
          "output_type": "stream",
          "text": [
            "{'eval_loss': 2.461076259613037, 'eval_rouge1': 23.3329, 'eval_rouge2': 10.6345, 'eval_rougeL': 19.1421, 'eval_rougeLsum': 21.9273, 'eval_gen_len': 18.9994, 'eval_runtime': 73.8964, 'eval_samples_per_second': 67.608, 'eval_steps_per_second': 4.236, 'epoch': 0.58}\n"
          ]
        },
        {
          "name": "stderr",
          "output_type": "stream",
          "text": [
            "Model weights saved in .models/summarization/t5-small/ver2-large\\checkpoint-1800\\pytorch_model.bin\n",
            "tokenizer config file saved in .models/summarization/t5-small/ver2-large\\checkpoint-1800\\tokenizer_config.json\n",
            "Special tokens file saved in .models/summarization/t5-small/ver2-large\\checkpoint-1800\\special_tokens_map.json\n",
            "Copy vocab file to .models/summarization/t5-small/ver2-large\\checkpoint-1800\\spiece.model\n",
            "Deleting older checkpoint [.models\\summarization\\t5-small\\ver2-large\\checkpoint-1400] due to args.save_total_limit\n",
            "  6%|▌         | 1899/31230 [27:06<50:27,  9.69it/s]    The following columns in the evaluation set don't have a corresponding argument in `T5ForConditionalGeneration.forward` and have been ignored: article, highlights, id. If article, highlights, id are not expected by `T5ForConditionalGeneration.forward`,  you can safely ignore this message.\n",
            "***** Running Evaluation *****\n",
            "  Num examples = 4996\n",
            "  Batch size = 16\n",
            "                                                    \n",
            "  6%|▌         | 1900/31230 [28:20<50:26,  9.69it/s]"
          ]
        },
        {
          "name": "stdout",
          "output_type": "stream",
          "text": [
            "{'eval_loss': 2.457615852355957, 'eval_rouge1': 23.357, 'eval_rouge2': 10.6366, 'eval_rougeL': 19.1586, 'eval_rougeLsum': 21.9543, 'eval_gen_len': 18.9994, 'eval_runtime': 74.2411, 'eval_samples_per_second': 67.294, 'eval_steps_per_second': 4.216, 'epoch': 0.61}\n"
          ]
        },
        {
          "name": "stderr",
          "output_type": "stream",
          "text": [
            "  6%|▋         | 2000/31230 [28:32<54:33,  8.93it/s]    The following columns in the evaluation set don't have a corresponding argument in `T5ForConditionalGeneration.forward` and have been ignored: article, highlights, id. If article, highlights, id are not expected by `T5ForConditionalGeneration.forward`,  you can safely ignore this message.\n",
            "***** Running Evaluation *****\n",
            "  Num examples = 4996\n",
            "  Batch size = 16\n"
          ]
        },
        {
          "name": "stdout",
          "output_type": "stream",
          "text": [
            "{'loss': 2.848, 'learning_rate': 1.8720461095100866e-05, 'epoch': 0.64}\n"
          ]
        },
        {
          "name": "stderr",
          "output_type": "stream",
          "text": [
            "                                                    \n",
            "  6%|▋         | 2000/31230 [29:47<54:33,  8.93it/s]Saving model checkpoint to .models/summarization/t5-small/ver2-large\\checkpoint-2000\n",
            "Configuration saved in .models/summarization/t5-small/ver2-large\\checkpoint-2000\\config.json\n"
          ]
        },
        {
          "name": "stdout",
          "output_type": "stream",
          "text": [
            "{'eval_loss': 2.45906138420105, 'eval_rouge1': 23.2913, 'eval_rouge2': 10.6071, 'eval_rougeL': 19.1065, 'eval_rougeLsum': 21.9124, 'eval_gen_len': 18.9994, 'eval_runtime': 75.6837, 'eval_samples_per_second': 66.012, 'eval_steps_per_second': 4.136, 'epoch': 0.64}\n"
          ]
        },
        {
          "name": "stderr",
          "output_type": "stream",
          "text": [
            "Model weights saved in .models/summarization/t5-small/ver2-large\\checkpoint-2000\\pytorch_model.bin\n",
            "tokenizer config file saved in .models/summarization/t5-small/ver2-large\\checkpoint-2000\\tokenizer_config.json\n",
            "Special tokens file saved in .models/summarization/t5-small/ver2-large\\checkpoint-2000\\special_tokens_map.json\n",
            "Copy vocab file to .models/summarization/t5-small/ver2-large\\checkpoint-2000\\spiece.model\n",
            "Deleting older checkpoint [.models\\summarization\\t5-small\\ver2-large\\checkpoint-1600] due to args.save_total_limit\n",
            "  7%|▋         | 2100/31230 [30:02<51:17,  9.47it/s]    The following columns in the evaluation set don't have a corresponding argument in `T5ForConditionalGeneration.forward` and have been ignored: article, highlights, id. If article, highlights, id are not expected by `T5ForConditionalGeneration.forward`,  you can safely ignore this message.\n",
            "***** Running Evaluation *****\n",
            "  Num examples = 4996\n",
            "  Batch size = 16\n",
            "                                                    \n",
            "  7%|▋         | 2100/31230 [31:23<51:17,  9.47it/s]"
          ]
        },
        {
          "name": "stdout",
          "output_type": "stream",
          "text": [
            "{'eval_loss': 2.4573071002960205, 'eval_rouge1': 23.3679, 'eval_rouge2': 10.6332, 'eval_rougeL': 19.1705, 'eval_rougeLsum': 21.9924, 'eval_gen_len': 18.9994, 'eval_runtime': 81.375, 'eval_samples_per_second': 61.395, 'eval_steps_per_second': 3.846, 'epoch': 0.67}\n"
          ]
        },
        {
          "name": "stderr",
          "output_type": "stream",
          "text": [
            "  7%|▋         | 2200/31230 [31:34<51:59,  9.31it/s]    The following columns in the evaluation set don't have a corresponding argument in `T5ForConditionalGeneration.forward` and have been ignored: article, highlights, id. If article, highlights, id are not expected by `T5ForConditionalGeneration.forward`,  you can safely ignore this message.\n",
            "***** Running Evaluation *****\n",
            "  Num examples = 4996\n",
            "  Batch size = 16\n",
            "                                                    \n",
            "  7%|▋         | 2200/31230 [32:47<51:59,  9.31it/s]Saving model checkpoint to .models/summarization/t5-small/ver2-large\\checkpoint-2200\n",
            "Configuration saved in .models/summarization/t5-small/ver2-large\\checkpoint-2200\\config.json\n"
          ]
        },
        {
          "name": "stdout",
          "output_type": "stream",
          "text": [
            "{'eval_loss': 2.4552130699157715, 'eval_rouge1': 23.3633, 'eval_rouge2': 10.6049, 'eval_rougeL': 19.1559, 'eval_rougeLsum': 21.9682, 'eval_gen_len': 18.9994, 'eval_runtime': 73.4178, 'eval_samples_per_second': 68.049, 'eval_steps_per_second': 4.263, 'epoch': 0.7}\n"
          ]
        },
        {
          "name": "stderr",
          "output_type": "stream",
          "text": [
            "Model weights saved in .models/summarization/t5-small/ver2-large\\checkpoint-2200\\pytorch_model.bin\n",
            "tokenizer config file saved in .models/summarization/t5-small/ver2-large\\checkpoint-2200\\tokenizer_config.json\n",
            "Special tokens file saved in .models/summarization/t5-small/ver2-large\\checkpoint-2200\\special_tokens_map.json\n",
            "Copy vocab file to .models/summarization/t5-small/ver2-large\\checkpoint-2200\\spiece.model\n",
            "Deleting older checkpoint [.models\\summarization\\t5-small\\ver2-large\\checkpoint-1000] due to args.save_total_limit\n",
            "  7%|▋         | 2300/31230 [33:00<49:31,  9.74it/s]    The following columns in the evaluation set don't have a corresponding argument in `T5ForConditionalGeneration.forward` and have been ignored: article, highlights, id. If article, highlights, id are not expected by `T5ForConditionalGeneration.forward`,  you can safely ignore this message.\n",
            "***** Running Evaluation *****\n",
            "  Num examples = 4996\n",
            "  Batch size = 16\n",
            "                                                    \n",
            "  7%|▋         | 2300/31230 [34:14<49:31,  9.74it/s]"
          ]
        },
        {
          "name": "stdout",
          "output_type": "stream",
          "text": [
            "{'eval_loss': 2.453495979309082, 'eval_rouge1': 23.3343, 'eval_rouge2': 10.6165, 'eval_rougeL': 19.1376, 'eval_rougeLsum': 21.9438, 'eval_gen_len': 18.9994, 'eval_runtime': 74.3799, 'eval_samples_per_second': 67.169, 'eval_steps_per_second': 4.208, 'epoch': 0.74}\n"
          ]
        },
        {
          "name": "stderr",
          "output_type": "stream",
          "text": [
            "  8%|▊         | 2400/31230 [34:25<50:01,  9.61it/s]    The following columns in the evaluation set don't have a corresponding argument in `T5ForConditionalGeneration.forward` and have been ignored: article, highlights, id. If article, highlights, id are not expected by `T5ForConditionalGeneration.forward`,  you can safely ignore this message.\n",
            "***** Running Evaluation *****\n",
            "  Num examples = 4996\n",
            "  Batch size = 16\n",
            "                                                    \n",
            "  8%|▊         | 2400/31230 [35:39<50:01,  9.61it/s]Saving model checkpoint to .models/summarization/t5-small/ver2-large\\checkpoint-2400\n",
            "Configuration saved in .models/summarization/t5-small/ver2-large\\checkpoint-2400\\config.json\n"
          ]
        },
        {
          "name": "stdout",
          "output_type": "stream",
          "text": [
            "{'eval_loss': 2.453961133956909, 'eval_rouge1': 23.3815, 'eval_rouge2': 10.6903, 'eval_rougeL': 19.1794, 'eval_rougeLsum': 21.9986, 'eval_gen_len': 18.998, 'eval_runtime': 74.2693, 'eval_samples_per_second': 67.269, 'eval_steps_per_second': 4.214, 'epoch': 0.77}\n"
          ]
        },
        {
          "name": "stderr",
          "output_type": "stream",
          "text": [
            "Model weights saved in .models/summarization/t5-small/ver2-large\\checkpoint-2400\\pytorch_model.bin\n",
            "tokenizer config file saved in .models/summarization/t5-small/ver2-large\\checkpoint-2400\\tokenizer_config.json\n",
            "Special tokens file saved in .models/summarization/t5-small/ver2-large\\checkpoint-2400\\special_tokens_map.json\n",
            "Copy vocab file to .models/summarization/t5-small/ver2-large\\checkpoint-2400\\spiece.model\n",
            "Deleting older checkpoint [.models\\summarization\\t5-small\\ver2-large\\checkpoint-1800] due to args.save_total_limit\n",
            "  8%|▊         | 2500/31230 [35:54<51:13,  9.35it/s]    The following columns in the evaluation set don't have a corresponding argument in `T5ForConditionalGeneration.forward` and have been ignored: article, highlights, id. If article, highlights, id are not expected by `T5ForConditionalGeneration.forward`,  you can safely ignore this message.\n",
            "***** Running Evaluation *****\n",
            "  Num examples = 4996\n",
            "  Batch size = 16\n"
          ]
        },
        {
          "name": "stdout",
          "output_type": "stream",
          "text": [
            "{'loss': 2.8447, 'learning_rate': 1.8400256163944928e-05, 'epoch': 0.8}\n"
          ]
        },
        {
          "name": "stderr",
          "output_type": "stream",
          "text": [
            "                                                    \n",
            "  8%|▊         | 2500/31230 [37:16<51:13,  9.35it/s]"
          ]
        },
        {
          "name": "stdout",
          "output_type": "stream",
          "text": [
            "{'eval_loss': 2.4537665843963623, 'eval_rouge1': 23.3674, 'eval_rouge2': 10.6843, 'eval_rougeL': 19.1773, 'eval_rougeLsum': 21.9667, 'eval_gen_len': 18.998, 'eval_runtime': 82.6651, 'eval_samples_per_second': 60.437, 'eval_steps_per_second': 3.786, 'epoch': 0.8}\n"
          ]
        },
        {
          "name": "stderr",
          "output_type": "stream",
          "text": [
            "  8%|▊         | 2600/31230 [37:28<51:45,  9.22it/s]    The following columns in the evaluation set don't have a corresponding argument in `T5ForConditionalGeneration.forward` and have been ignored: article, highlights, id. If article, highlights, id are not expected by `T5ForConditionalGeneration.forward`,  you can safely ignore this message.\n",
            "***** Running Evaluation *****\n",
            "  Num examples = 4996\n",
            "  Batch size = 16\n",
            "                                                    \n",
            "  8%|▊         | 2600/31230 [38:43<51:45,  9.22it/s]Saving model checkpoint to .models/summarization/t5-small/ver2-large\\checkpoint-2600\n",
            "Configuration saved in .models/summarization/t5-small/ver2-large\\checkpoint-2600\\config.json\n"
          ]
        },
        {
          "name": "stdout",
          "output_type": "stream",
          "text": [
            "{'eval_loss': 2.4508891105651855, 'eval_rouge1': 23.3876, 'eval_rouge2': 10.6538, 'eval_rougeL': 19.1613, 'eval_rougeLsum': 21.9674, 'eval_gen_len': 18.9994, 'eval_runtime': 74.8413, 'eval_samples_per_second': 66.755, 'eval_steps_per_second': 4.182, 'epoch': 0.83}\n"
          ]
        },
        {
          "name": "stderr",
          "output_type": "stream",
          "text": [
            "Model weights saved in .models/summarization/t5-small/ver2-large\\checkpoint-2600\\pytorch_model.bin\n",
            "tokenizer config file saved in .models/summarization/t5-small/ver2-large\\checkpoint-2600\\tokenizer_config.json\n",
            "Special tokens file saved in .models/summarization/t5-small/ver2-large\\checkpoint-2600\\special_tokens_map.json\n",
            "Copy vocab file to .models/summarization/t5-small/ver2-large\\checkpoint-2600\\spiece.model\n",
            "Deleting older checkpoint [.models\\summarization\\t5-small\\ver2-large\\checkpoint-2000] due to args.save_total_limit\n",
            "  9%|▊         | 2699/31230 [38:56<53:20,  8.91it/s]    The following columns in the evaluation set don't have a corresponding argument in `T5ForConditionalGeneration.forward` and have been ignored: article, highlights, id. If article, highlights, id are not expected by `T5ForConditionalGeneration.forward`,  you can safely ignore this message.\n",
            "***** Running Evaluation *****\n",
            "  Num examples = 4996\n",
            "  Batch size = 16\n",
            "                                                    \n",
            "  9%|▊         | 2700/31230 [40:13<53:20,  8.91it/s]"
          ]
        },
        {
          "name": "stdout",
          "output_type": "stream",
          "text": [
            "{'eval_loss': 2.4496912956237793, 'eval_rouge1': 23.4314, 'eval_rouge2': 10.7211, 'eval_rougeL': 19.2214, 'eval_rougeLsum': 22.0261, 'eval_gen_len': 18.9994, 'eval_runtime': 77.0088, 'eval_samples_per_second': 64.876, 'eval_steps_per_second': 4.064, 'epoch': 0.86}\n"
          ]
        },
        {
          "name": "stderr",
          "output_type": "stream",
          "text": [
            "  9%|▉         | 2800/31230 [40:24<51:12,  9.25it/s]    The following columns in the evaluation set don't have a corresponding argument in `T5ForConditionalGeneration.forward` and have been ignored: article, highlights, id. If article, highlights, id are not expected by `T5ForConditionalGeneration.forward`,  you can safely ignore this message.\n",
            "***** Running Evaluation *****\n",
            "  Num examples = 4996\n",
            "  Batch size = 16\n",
            "                                                    \n",
            "  9%|▉         | 2800/31230 [41:43<51:12,  9.25it/s]Saving model checkpoint to .models/summarization/t5-small/ver2-large\\checkpoint-2800\n",
            "Configuration saved in .models/summarization/t5-small/ver2-large\\checkpoint-2800\\config.json\n"
          ]
        },
        {
          "name": "stdout",
          "output_type": "stream",
          "text": [
            "{'eval_loss': 2.450338363647461, 'eval_rouge1': 23.3871, 'eval_rouge2': 10.705, 'eval_rougeL': 19.1916, 'eval_rougeLsum': 21.9902, 'eval_gen_len': 18.9994, 'eval_runtime': 78.9753, 'eval_samples_per_second': 63.26, 'eval_steps_per_second': 3.963, 'epoch': 0.9}\n"
          ]
        },
        {
          "name": "stderr",
          "output_type": "stream",
          "text": [
            "Model weights saved in .models/summarization/t5-small/ver2-large\\checkpoint-2800\\pytorch_model.bin\n",
            "tokenizer config file saved in .models/summarization/t5-small/ver2-large\\checkpoint-2800\\tokenizer_config.json\n",
            "Special tokens file saved in .models/summarization/t5-small/ver2-large\\checkpoint-2800\\special_tokens_map.json\n",
            "Copy vocab file to .models/summarization/t5-small/ver2-large\\checkpoint-2800\\spiece.model\n",
            "Deleting older checkpoint [.models\\summarization\\t5-small\\ver2-large\\checkpoint-2200] due to args.save_total_limit\n",
            "  9%|▉         | 2899/31230 [41:57<52:30,  8.99it/s]    The following columns in the evaluation set don't have a corresponding argument in `T5ForConditionalGeneration.forward` and have been ignored: article, highlights, id. If article, highlights, id are not expected by `T5ForConditionalGeneration.forward`,  you can safely ignore this message.\n",
            "***** Running Evaluation *****\n",
            "  Num examples = 4996\n",
            "  Batch size = 16\n",
            "                                                    \n",
            "  9%|▉         | 2900/31230 [43:15<52:30,  8.99it/s]"
          ]
        },
        {
          "name": "stdout",
          "output_type": "stream",
          "text": [
            "{'eval_loss': 2.447277069091797, 'eval_rouge1': 23.4007, 'eval_rouge2': 10.6807, 'eval_rougeL': 19.1933, 'eval_rougeLsum': 21.9981, 'eval_gen_len': 18.9994, 'eval_runtime': 78.2022, 'eval_samples_per_second': 63.886, 'eval_steps_per_second': 4.002, 'epoch': 0.93}\n"
          ]
        },
        {
          "name": "stderr",
          "output_type": "stream",
          "text": [
            " 10%|▉         | 3000/31230 [43:26<50:50,  9.25it/s]    The following columns in the evaluation set don't have a corresponding argument in `T5ForConditionalGeneration.forward` and have been ignored: article, highlights, id. If article, highlights, id are not expected by `T5ForConditionalGeneration.forward`,  you can safely ignore this message.\n",
            "***** Running Evaluation *****\n",
            "  Num examples = 4996\n",
            "  Batch size = 16\n"
          ]
        },
        {
          "name": "stdout",
          "output_type": "stream",
          "text": [
            "{'loss': 2.8304, 'learning_rate': 1.8080051232788987e-05, 'epoch': 0.96}\n"
          ]
        },
        {
          "name": "stderr",
          "output_type": "stream",
          "text": [
            "                                                    \n",
            " 10%|▉         | 3000/31230 [44:42<50:50,  9.25it/s]Saving model checkpoint to .models/summarization/t5-small/ver2-large\\checkpoint-3000\n",
            "Configuration saved in .models/summarization/t5-small/ver2-large\\checkpoint-3000\\config.json\n"
          ]
        },
        {
          "name": "stdout",
          "output_type": "stream",
          "text": [
            "{'eval_loss': 2.446946144104004, 'eval_rouge1': 23.3865, 'eval_rouge2': 10.6573, 'eval_rougeL': 19.1731, 'eval_rougeLsum': 21.9884, 'eval_gen_len': 18.9994, 'eval_runtime': 75.5758, 'eval_samples_per_second': 66.106, 'eval_steps_per_second': 4.142, 'epoch': 0.96}\n"
          ]
        },
        {
          "name": "stderr",
          "output_type": "stream",
          "text": [
            "Model weights saved in .models/summarization/t5-small/ver2-large\\checkpoint-3000\\pytorch_model.bin\n",
            "tokenizer config file saved in .models/summarization/t5-small/ver2-large\\checkpoint-3000\\tokenizer_config.json\n",
            "Special tokens file saved in .models/summarization/t5-small/ver2-large\\checkpoint-3000\\special_tokens_map.json\n",
            "Copy vocab file to .models/summarization/t5-small/ver2-large\\checkpoint-3000\\spiece.model\n",
            "Deleting older checkpoint [.models\\summarization\\t5-small\\ver2-large\\checkpoint-2400] due to args.save_total_limit\n",
            " 10%|▉         | 3100/31230 [44:56<56:49,  8.25it/s]    The following columns in the evaluation set don't have a corresponding argument in `T5ForConditionalGeneration.forward` and have been ignored: article, highlights, id. If article, highlights, id are not expected by `T5ForConditionalGeneration.forward`,  you can safely ignore this message.\n",
            "***** Running Evaluation *****\n",
            "  Num examples = 4996\n",
            "  Batch size = 16\n",
            "                                                    \n",
            " 10%|▉         | 3100/31230 [46:17<56:49,  8.25it/s]"
          ]
        },
        {
          "name": "stdout",
          "output_type": "stream",
          "text": [
            "{'eval_loss': 2.447068691253662, 'eval_rouge1': 23.3831, 'eval_rouge2': 10.6505, 'eval_rougeL': 19.1544, 'eval_rougeLsum': 21.9657, 'eval_gen_len': 18.9994, 'eval_runtime': 81.2732, 'eval_samples_per_second': 61.472, 'eval_steps_per_second': 3.851, 'epoch': 0.99}\n"
          ]
        },
        {
          "name": "stderr",
          "output_type": "stream",
          "text": [
            " 10%|█         | 3199/31230 [46:28<49:09,  9.50it/s]    The following columns in the evaluation set don't have a corresponding argument in `T5ForConditionalGeneration.forward` and have been ignored: article, highlights, id. If article, highlights, id are not expected by `T5ForConditionalGeneration.forward`,  you can safely ignore this message.\n",
            "***** Running Evaluation *****\n",
            "  Num examples = 4996\n",
            "  Batch size = 16\n",
            "                                                    \n",
            " 10%|█         | 3200/31230 [47:41<49:09,  9.50it/s]Saving model checkpoint to .models/summarization/t5-small/ver2-large\\checkpoint-3200\n",
            "Configuration saved in .models/summarization/t5-small/ver2-large\\checkpoint-3200\\config.json\n"
          ]
        },
        {
          "name": "stdout",
          "output_type": "stream",
          "text": [
            "{'eval_loss': 2.4466819763183594, 'eval_rouge1': 23.372, 'eval_rouge2': 10.6677, 'eval_rougeL': 19.1973, 'eval_rougeLsum': 21.978, 'eval_gen_len': 18.998, 'eval_runtime': 73.3148, 'eval_samples_per_second': 68.144, 'eval_steps_per_second': 4.269, 'epoch': 1.02}\n"
          ]
        },
        {
          "name": "stderr",
          "output_type": "stream",
          "text": [
            "Model weights saved in .models/summarization/t5-small/ver2-large\\checkpoint-3200\\pytorch_model.bin\n",
            "tokenizer config file saved in .models/summarization/t5-small/ver2-large\\checkpoint-3200\\tokenizer_config.json\n",
            "Special tokens file saved in .models/summarization/t5-small/ver2-large\\checkpoint-3200\\special_tokens_map.json\n",
            "Copy vocab file to .models/summarization/t5-small/ver2-large\\checkpoint-3200\\spiece.model\n",
            "Deleting older checkpoint [.models\\summarization\\t5-small\\ver2-large\\checkpoint-2800] due to args.save_total_limit\n",
            " 11%|█         | 3300/31230 [47:54<50:45,  9.17it/s]    The following columns in the evaluation set don't have a corresponding argument in `T5ForConditionalGeneration.forward` and have been ignored: article, highlights, id. If article, highlights, id are not expected by `T5ForConditionalGeneration.forward`,  you can safely ignore this message.\n",
            "***** Running Evaluation *****\n",
            "  Num examples = 4996\n",
            "  Batch size = 16\n",
            "                                                    \n",
            " 11%|█         | 3300/31230 [49:09<50:45,  9.17it/s]"
          ]
        },
        {
          "name": "stdout",
          "output_type": "stream",
          "text": [
            "{'eval_loss': 2.445462942123413, 'eval_rouge1': 23.4192, 'eval_rouge2': 10.7037, 'eval_rougeL': 19.2159, 'eval_rougeLsum': 22.028, 'eval_gen_len': 18.9994, 'eval_runtime': 74.8007, 'eval_samples_per_second': 66.791, 'eval_steps_per_second': 4.184, 'epoch': 1.06}\n"
          ]
        },
        {
          "name": "stderr",
          "output_type": "stream",
          "text": [
            " 11%|█         | 3400/31230 [49:20<51:38,  8.98it/s]    The following columns in the evaluation set don't have a corresponding argument in `T5ForConditionalGeneration.forward` and have been ignored: article, highlights, id. If article, highlights, id are not expected by `T5ForConditionalGeneration.forward`,  you can safely ignore this message.\n",
            "***** Running Evaluation *****\n",
            "  Num examples = 4996\n",
            "  Batch size = 16\n",
            "                                                    \n",
            " 11%|█         | 3400/31230 [50:37<51:38,  8.98it/s]Saving model checkpoint to .models/summarization/t5-small/ver2-large\\checkpoint-3400\n",
            "Configuration saved in .models/summarization/t5-small/ver2-large\\checkpoint-3400\\config.json\n"
          ]
        },
        {
          "name": "stdout",
          "output_type": "stream",
          "text": [
            "{'eval_loss': 2.444723129272461, 'eval_rouge1': 23.3683, 'eval_rouge2': 10.6361, 'eval_rougeL': 19.1412, 'eval_rougeLsum': 21.9566, 'eval_gen_len': 18.9976, 'eval_runtime': 76.5315, 'eval_samples_per_second': 65.28, 'eval_steps_per_second': 4.09, 'epoch': 1.09}\n"
          ]
        },
        {
          "name": "stderr",
          "output_type": "stream",
          "text": [
            "Model weights saved in .models/summarization/t5-small/ver2-large\\checkpoint-3400\\pytorch_model.bin\n",
            "tokenizer config file saved in .models/summarization/t5-small/ver2-large\\checkpoint-3400\\tokenizer_config.json\n",
            "Special tokens file saved in .models/summarization/t5-small/ver2-large\\checkpoint-3400\\special_tokens_map.json\n",
            "Copy vocab file to .models/summarization/t5-small/ver2-large\\checkpoint-3400\\spiece.model\n",
            "Deleting older checkpoint [.models\\summarization\\t5-small\\ver2-large\\checkpoint-3000] due to args.save_total_limit\n",
            " 11%|█         | 3500/31230 [50:50<52:28,  8.81it/s]    The following columns in the evaluation set don't have a corresponding argument in `T5ForConditionalGeneration.forward` and have been ignored: article, highlights, id. If article, highlights, id are not expected by `T5ForConditionalGeneration.forward`,  you can safely ignore this message.\n",
            "***** Running Evaluation *****\n",
            "  Num examples = 4996\n",
            "  Batch size = 16\n"
          ]
        },
        {
          "name": "stdout",
          "output_type": "stream",
          "text": [
            "{'loss': 2.8223, 'learning_rate': 1.776048671149536e-05, 'epoch': 1.12}\n"
          ]
        },
        {
          "name": "stderr",
          "output_type": "stream",
          "text": [
            "                                                    \n",
            " 11%|█         | 3500/31230 [52:06<52:28,  8.81it/s]"
          ]
        },
        {
          "name": "stdout",
          "output_type": "stream",
          "text": [
            "{'eval_loss': 2.4440064430236816, 'eval_rouge1': 23.3332, 'eval_rouge2': 10.6142, 'eval_rougeL': 19.1142, 'eval_rougeLsum': 21.9414, 'eval_gen_len': 18.9978, 'eval_runtime': 75.9389, 'eval_samples_per_second': 65.79, 'eval_steps_per_second': 4.122, 'epoch': 1.12}\n"
          ]
        },
        {
          "name": "stderr",
          "output_type": "stream",
          "text": [
            " 12%|█▏        | 3600/31230 [52:17<49:41,  9.27it/s]    The following columns in the evaluation set don't have a corresponding argument in `T5ForConditionalGeneration.forward` and have been ignored: article, highlights, id. If article, highlights, id are not expected by `T5ForConditionalGeneration.forward`,  you can safely ignore this message.\n",
            "***** Running Evaluation *****\n",
            "  Num examples = 4996\n",
            "  Batch size = 16\n",
            "                                                    \n",
            " 12%|█▏        | 3600/31230 [53:31<49:41,  9.27it/s]Saving model checkpoint to .models/summarization/t5-small/ver2-large\\checkpoint-3600\n",
            "Configuration saved in .models/summarization/t5-small/ver2-large\\checkpoint-3600\\config.json\n"
          ]
        },
        {
          "name": "stdout",
          "output_type": "stream",
          "text": [
            "{'eval_loss': 2.44478178024292, 'eval_rouge1': 23.3618, 'eval_rouge2': 10.6492, 'eval_rougeL': 19.153, 'eval_rougeLsum': 21.9606, 'eval_gen_len': 18.999, 'eval_runtime': 74.5733, 'eval_samples_per_second': 66.994, 'eval_steps_per_second': 4.197, 'epoch': 1.15}\n"
          ]
        },
        {
          "name": "stderr",
          "output_type": "stream",
          "text": [
            "Model weights saved in .models/summarization/t5-small/ver2-large\\checkpoint-3600\\pytorch_model.bin\n",
            "tokenizer config file saved in .models/summarization/t5-small/ver2-large\\checkpoint-3600\\tokenizer_config.json\n",
            "Special tokens file saved in .models/summarization/t5-small/ver2-large\\checkpoint-3600\\special_tokens_map.json\n",
            "Copy vocab file to .models/summarization/t5-small/ver2-large\\checkpoint-3600\\spiece.model\n",
            "Deleting older checkpoint [.models\\summarization\\t5-small\\ver2-large\\checkpoint-3200] due to args.save_total_limit\n",
            " 12%|█▏        | 3700/31230 [53:45<50:16,  9.13it/s]    The following columns in the evaluation set don't have a corresponding argument in `T5ForConditionalGeneration.forward` and have been ignored: article, highlights, id. If article, highlights, id are not expected by `T5ForConditionalGeneration.forward`,  you can safely ignore this message.\n",
            "***** Running Evaluation *****\n",
            "  Num examples = 4996\n",
            "  Batch size = 16\n",
            "                                                    \n",
            " 12%|█▏        | 3700/31230 [55:04<50:16,  9.13it/s]"
          ]
        },
        {
          "name": "stdout",
          "output_type": "stream",
          "text": [
            "{'eval_loss': 2.442099094390869, 'eval_rouge1': 23.3501, 'eval_rouge2': 10.6345, 'eval_rougeL': 19.1342, 'eval_rougeLsum': 21.9516, 'eval_gen_len': 18.999, 'eval_runtime': 78.6224, 'eval_samples_per_second': 63.544, 'eval_steps_per_second': 3.981, 'epoch': 1.18}\n"
          ]
        },
        {
          "name": "stderr",
          "output_type": "stream",
          "text": [
            " 12%|█▏        | 3800/31230 [55:15<50:19,  9.08it/s]    The following columns in the evaluation set don't have a corresponding argument in `T5ForConditionalGeneration.forward` and have been ignored: article, highlights, id. If article, highlights, id are not expected by `T5ForConditionalGeneration.forward`,  you can safely ignore this message.\n",
            "***** Running Evaluation *****\n",
            "  Num examples = 4996\n",
            "  Batch size = 16\n",
            "                                                    \n",
            " 12%|█▏        | 3800/31230 [56:33<50:19,  9.08it/s]Saving model checkpoint to .models/summarization/t5-small/ver2-large\\checkpoint-3800\n",
            "Configuration saved in .models/summarization/t5-small/ver2-large\\checkpoint-3800\\config.json\n"
          ]
        },
        {
          "name": "stdout",
          "output_type": "stream",
          "text": [
            "{'eval_loss': 2.4418277740478516, 'eval_rouge1': 23.3246, 'eval_rouge2': 10.5936, 'eval_rougeL': 19.0845, 'eval_rougeLsum': 21.9019, 'eval_gen_len': 18.999, 'eval_runtime': 77.4121, 'eval_samples_per_second': 64.538, 'eval_steps_per_second': 4.043, 'epoch': 1.22}\n"
          ]
        },
        {
          "name": "stderr",
          "output_type": "stream",
          "text": [
            "Model weights saved in .models/summarization/t5-small/ver2-large\\checkpoint-3800\\pytorch_model.bin\n",
            "tokenizer config file saved in .models/summarization/t5-small/ver2-large\\checkpoint-3800\\tokenizer_config.json\n",
            "Special tokens file saved in .models/summarization/t5-small/ver2-large\\checkpoint-3800\\special_tokens_map.json\n",
            "Copy vocab file to .models/summarization/t5-small/ver2-large\\checkpoint-3800\\spiece.model\n",
            "Deleting older checkpoint [.models\\summarization\\t5-small\\ver2-large\\checkpoint-3400] due to args.save_total_limit\n",
            " 12%|█▏        | 3900/31230 [56:46<50:16,  9.06it/s]    The following columns in the evaluation set don't have a corresponding argument in `T5ForConditionalGeneration.forward` and have been ignored: article, highlights, id. If article, highlights, id are not expected by `T5ForConditionalGeneration.forward`,  you can safely ignore this message.\n",
            "***** Running Evaluation *****\n",
            "  Num examples = 4996\n",
            "  Batch size = 16\n",
            "                                                    \n",
            " 12%|█▏        | 3900/31230 [58:02<50:16,  9.06it/s]"
          ]
        },
        {
          "name": "stdout",
          "output_type": "stream",
          "text": [
            "{'eval_loss': 2.4421188831329346, 'eval_rouge1': 23.3232, 'eval_rouge2': 10.5939, 'eval_rougeL': 19.0847, 'eval_rougeLsum': 21.8842, 'eval_gen_len': 18.9976, 'eval_runtime': 75.5393, 'eval_samples_per_second': 66.138, 'eval_steps_per_second': 4.144, 'epoch': 1.25}\n"
          ]
        },
        {
          "name": "stderr",
          "output_type": "stream",
          "text": [
            " 13%|█▎        | 4000/31230 [58:13<50:06,  9.06it/s]    The following columns in the evaluation set don't have a corresponding argument in `T5ForConditionalGeneration.forward` and have been ignored: article, highlights, id. If article, highlights, id are not expected by `T5ForConditionalGeneration.forward`,  you can safely ignore this message.\n",
            "***** Running Evaluation *****\n",
            "  Num examples = 4996\n",
            "  Batch size = 16\n"
          ]
        },
        {
          "name": "stdout",
          "output_type": "stream",
          "text": [
            "{'loss': 2.8108, 'learning_rate': 1.744092219020173e-05, 'epoch': 1.28}\n"
          ]
        },
        {
          "name": "stderr",
          "output_type": "stream",
          "text": [
            "                                                    \n",
            " 13%|█▎        | 4000/31230 [59:28<50:06,  9.06it/s]Saving model checkpoint to .models/summarization/t5-small/ver2-large\\checkpoint-4000\n",
            "Configuration saved in .models/summarization/t5-small/ver2-large\\checkpoint-4000\\config.json\n"
          ]
        },
        {
          "name": "stdout",
          "output_type": "stream",
          "text": [
            "{'eval_loss': 2.4407362937927246, 'eval_rouge1': 23.3534, 'eval_rouge2': 10.6042, 'eval_rougeL': 19.1272, 'eval_rougeLsum': 21.9161, 'eval_gen_len': 18.9976, 'eval_runtime': 75.1018, 'eval_samples_per_second': 66.523, 'eval_steps_per_second': 4.168, 'epoch': 1.28}\n"
          ]
        },
        {
          "name": "stderr",
          "output_type": "stream",
          "text": [
            "Model weights saved in .models/summarization/t5-small/ver2-large\\checkpoint-4000\\pytorch_model.bin\n",
            "tokenizer config file saved in .models/summarization/t5-small/ver2-large\\checkpoint-4000\\tokenizer_config.json\n",
            "Special tokens file saved in .models/summarization/t5-small/ver2-large\\checkpoint-4000\\special_tokens_map.json\n",
            "Copy vocab file to .models/summarization/t5-small/ver2-large\\checkpoint-4000\\spiece.model\n",
            "Deleting older checkpoint [.models\\summarization\\t5-small\\ver2-large\\checkpoint-3600] due to args.save_total_limit\n",
            " 13%|█▎        | 4100/31230 [59:41<49:33,  9.12it/s]    The following columns in the evaluation set don't have a corresponding argument in `T5ForConditionalGeneration.forward` and have been ignored: article, highlights, id. If article, highlights, id are not expected by `T5ForConditionalGeneration.forward`,  you can safely ignore this message.\n",
            "***** Running Evaluation *****\n",
            "  Num examples = 4996\n",
            "  Batch size = 16\n",
            "                                                    \n",
            " 13%|█▎        | 4100/31230 [1:00:56<49:33,  9.12it/s]"
          ]
        },
        {
          "name": "stdout",
          "output_type": "stream",
          "text": [
            "{'eval_loss': 2.4402482509613037, 'eval_rouge1': 23.3456, 'eval_rouge2': 10.6016, 'eval_rougeL': 19.1035, 'eval_rougeLsum': 21.905, 'eval_gen_len': 18.9976, 'eval_runtime': 75.1441, 'eval_samples_per_second': 66.486, 'eval_steps_per_second': 4.165, 'epoch': 1.31}\n"
          ]
        },
        {
          "name": "stderr",
          "output_type": "stream",
          "text": [
            " 13%|█▎        | 4200/31230 [1:01:08<48:18,  9.33it/s]    The following columns in the evaluation set don't have a corresponding argument in `T5ForConditionalGeneration.forward` and have been ignored: article, highlights, id. If article, highlights, id are not expected by `T5ForConditionalGeneration.forward`,  you can safely ignore this message.\n",
            "***** Running Evaluation *****\n",
            "  Num examples = 4996\n",
            "  Batch size = 16\n",
            "                                                      \n",
            " 13%|█▎        | 4200/31230 [1:02:23<48:18,  9.33it/s]Saving model checkpoint to .models/summarization/t5-small/ver2-large\\checkpoint-4200\n",
            "Configuration saved in .models/summarization/t5-small/ver2-large\\checkpoint-4200\\config.json\n"
          ]
        },
        {
          "name": "stdout",
          "output_type": "stream",
          "text": [
            "{'eval_loss': 2.4395828247070312, 'eval_rouge1': 23.3262, 'eval_rouge2': 10.6078, 'eval_rougeL': 19.1309, 'eval_rougeLsum': 21.9209, 'eval_gen_len': 18.9976, 'eval_runtime': 75.2894, 'eval_samples_per_second': 66.357, 'eval_steps_per_second': 4.157, 'epoch': 1.34}\n"
          ]
        },
        {
          "name": "stderr",
          "output_type": "stream",
          "text": [
            "Model weights saved in .models/summarization/t5-small/ver2-large\\checkpoint-4200\\pytorch_model.bin\n",
            "tokenizer config file saved in .models/summarization/t5-small/ver2-large\\checkpoint-4200\\tokenizer_config.json\n",
            "Special tokens file saved in .models/summarization/t5-small/ver2-large\\checkpoint-4200\\special_tokens_map.json\n",
            "Copy vocab file to .models/summarization/t5-small/ver2-large\\checkpoint-4200\\spiece.model\n",
            "Deleting older checkpoint [.models\\summarization\\t5-small\\ver2-large\\checkpoint-3800] due to args.save_total_limit\n",
            " 14%|█▍        | 4300/31230 [1:02:36<51:33,  8.71it/s]    The following columns in the evaluation set don't have a corresponding argument in `T5ForConditionalGeneration.forward` and have been ignored: article, highlights, id. If article, highlights, id are not expected by `T5ForConditionalGeneration.forward`,  you can safely ignore this message.\n",
            "***** Running Evaluation *****\n",
            "  Num examples = 4996\n",
            "  Batch size = 16\n",
            "                                                      \n",
            " 14%|█▍        | 4300/31230 [1:03:52<51:33,  8.71it/s]"
          ]
        },
        {
          "name": "stdout",
          "output_type": "stream",
          "text": [
            "{'eval_loss': 2.4394850730895996, 'eval_rouge1': 23.3966, 'eval_rouge2': 10.6466, 'eval_rougeL': 19.1583, 'eval_rougeLsum': 21.9946, 'eval_gen_len': 18.9976, 'eval_runtime': 75.4138, 'eval_samples_per_second': 66.248, 'eval_steps_per_second': 4.15, 'epoch': 1.38}\n"
          ]
        },
        {
          "name": "stderr",
          "output_type": "stream",
          "text": [
            " 14%|█▍        | 4400/31230 [1:04:03<50:17,  8.89it/s]    The following columns in the evaluation set don't have a corresponding argument in `T5ForConditionalGeneration.forward` and have been ignored: article, highlights, id. If article, highlights, id are not expected by `T5ForConditionalGeneration.forward`,  you can safely ignore this message.\n",
            "***** Running Evaluation *****\n",
            "  Num examples = 4996\n",
            "  Batch size = 16\n",
            "                                                      \n",
            " 14%|█▍        | 4400/31230 [1:05:19<50:17,  8.89it/s]Saving model checkpoint to .models/summarization/t5-small/ver2-large\\checkpoint-4400\n",
            "Configuration saved in .models/summarization/t5-small/ver2-large\\checkpoint-4400\\config.json\n"
          ]
        },
        {
          "name": "stdout",
          "output_type": "stream",
          "text": [
            "{'eval_loss': 2.4381682872772217, 'eval_rouge1': 23.3937, 'eval_rouge2': 10.6326, 'eval_rougeL': 19.1453, 'eval_rougeLsum': 21.9847, 'eval_gen_len': 18.999, 'eval_runtime': 75.5852, 'eval_samples_per_second': 66.098, 'eval_steps_per_second': 4.141, 'epoch': 1.41}\n"
          ]
        },
        {
          "name": "stderr",
          "output_type": "stream",
          "text": [
            "Model weights saved in .models/summarization/t5-small/ver2-large\\checkpoint-4400\\pytorch_model.bin\n",
            "tokenizer config file saved in .models/summarization/t5-small/ver2-large\\checkpoint-4400\\tokenizer_config.json\n",
            "Special tokens file saved in .models/summarization/t5-small/ver2-large\\checkpoint-4400\\special_tokens_map.json\n",
            "Copy vocab file to .models/summarization/t5-small/ver2-large\\checkpoint-4400\\spiece.model\n",
            "Deleting older checkpoint [.models\\summarization\\t5-small\\ver2-large\\checkpoint-2600] due to args.save_total_limit\n",
            " 14%|█▍        | 4500/31230 [1:05:32<52:52,  8.43it/s]    The following columns in the evaluation set don't have a corresponding argument in `T5ForConditionalGeneration.forward` and have been ignored: article, highlights, id. If article, highlights, id are not expected by `T5ForConditionalGeneration.forward`,  you can safely ignore this message.\n",
            "***** Running Evaluation *****\n",
            "  Num examples = 4996\n",
            "  Batch size = 16\n"
          ]
        },
        {
          "name": "stdout",
          "output_type": "stream",
          "text": [
            "{'loss': 2.8081, 'learning_rate': 1.7120717259045793e-05, 'epoch': 1.44}\n"
          ]
        },
        {
          "name": "stderr",
          "output_type": "stream",
          "text": [
            "                                                      \n",
            " 14%|█▍        | 4500/31230 [1:06:48<52:52,  8.43it/s]"
          ]
        },
        {
          "name": "stdout",
          "output_type": "stream",
          "text": [
            "{'eval_loss': 2.437708854675293, 'eval_rouge1': 23.3569, 'eval_rouge2': 10.6264, 'eval_rougeL': 19.1452, 'eval_rougeLsum': 21.9263, 'eval_gen_len': 18.9976, 'eval_runtime': 75.3015, 'eval_samples_per_second': 66.347, 'eval_steps_per_second': 4.157, 'epoch': 1.44}\n"
          ]
        },
        {
          "name": "stderr",
          "output_type": "stream",
          "text": [
            " 15%|█▍        | 4600/31230 [1:06:59<48:48,  9.09it/s]    The following columns in the evaluation set don't have a corresponding argument in `T5ForConditionalGeneration.forward` and have been ignored: article, highlights, id. If article, highlights, id are not expected by `T5ForConditionalGeneration.forward`,  you can safely ignore this message.\n",
            "***** Running Evaluation *****\n",
            "  Num examples = 4996\n",
            "  Batch size = 16\n",
            "                                                      \n",
            " 15%|█▍        | 4600/31230 [1:08:15<48:48,  9.09it/s]Saving model checkpoint to .models/summarization/t5-small/ver2-large\\checkpoint-4600\n",
            "Configuration saved in .models/summarization/t5-small/ver2-large\\checkpoint-4600\\config.json\n"
          ]
        },
        {
          "name": "stdout",
          "output_type": "stream",
          "text": [
            "{'eval_loss': 2.437077522277832, 'eval_rouge1': 23.3621, 'eval_rouge2': 10.6456, 'eval_rougeL': 19.1464, 'eval_rougeLsum': 21.9453, 'eval_gen_len': 18.9976, 'eval_runtime': 75.4568, 'eval_samples_per_second': 66.21, 'eval_steps_per_second': 4.148, 'epoch': 1.47}\n"
          ]
        },
        {
          "name": "stderr",
          "output_type": "stream",
          "text": [
            "Model weights saved in .models/summarization/t5-small/ver2-large\\checkpoint-4600\\pytorch_model.bin\n",
            "tokenizer config file saved in .models/summarization/t5-small/ver2-large\\checkpoint-4600\\tokenizer_config.json\n",
            "Special tokens file saved in .models/summarization/t5-small/ver2-large\\checkpoint-4600\\special_tokens_map.json\n",
            "Copy vocab file to .models/summarization/t5-small/ver2-large\\checkpoint-4600\\spiece.model\n",
            "Deleting older checkpoint [.models\\summarization\\t5-small\\ver2-large\\checkpoint-4000] due to args.save_total_limit\n",
            " 15%|█▌        | 4700/31230 [1:08:28<49:25,  8.95it/s]    The following columns in the evaluation set don't have a corresponding argument in `T5ForConditionalGeneration.forward` and have been ignored: article, highlights, id. If article, highlights, id are not expected by `T5ForConditionalGeneration.forward`,  you can safely ignore this message.\n",
            "***** Running Evaluation *****\n",
            "  Num examples = 4996\n",
            "  Batch size = 16\n",
            "                                                      \n",
            " 15%|█▌        | 4700/31230 [1:09:43<49:25,  8.95it/s]"
          ]
        },
        {
          "name": "stdout",
          "output_type": "stream",
          "text": [
            "{'eval_loss': 2.4363417625427246, 'eval_rouge1': 23.3328, 'eval_rouge2': 10.6333, 'eval_rougeL': 19.1334, 'eval_rougeLsum': 21.9181, 'eval_gen_len': 18.999, 'eval_runtime': 75.2315, 'eval_samples_per_second': 66.408, 'eval_steps_per_second': 4.16, 'epoch': 1.5}\n"
          ]
        },
        {
          "name": "stderr",
          "output_type": "stream",
          "text": [
            " 15%|█▌        | 4800/31230 [1:09:55<49:16,  8.94it/s]    The following columns in the evaluation set don't have a corresponding argument in `T5ForConditionalGeneration.forward` and have been ignored: article, highlights, id. If article, highlights, id are not expected by `T5ForConditionalGeneration.forward`,  you can safely ignore this message.\n",
            "***** Running Evaluation *****\n",
            "  Num examples = 4996\n",
            "  Batch size = 16\n",
            "                                                      \n",
            " 15%|█▌        | 4800/31230 [1:11:11<49:16,  8.94it/s]Saving model checkpoint to .models/summarization/t5-small/ver2-large\\checkpoint-4800\n",
            "Configuration saved in .models/summarization/t5-small/ver2-large\\checkpoint-4800\\config.json\n"
          ]
        },
        {
          "name": "stdout",
          "output_type": "stream",
          "text": [
            "{'eval_loss': 2.4354898929595947, 'eval_rouge1': 23.4121, 'eval_rouge2': 10.6724, 'eval_rougeL': 19.1958, 'eval_rougeLsum': 21.9811, 'eval_gen_len': 18.999, 'eval_runtime': 76.3266, 'eval_samples_per_second': 65.456, 'eval_steps_per_second': 4.101, 'epoch': 1.54}\n"
          ]
        },
        {
          "name": "stderr",
          "output_type": "stream",
          "text": [
            "Model weights saved in .models/summarization/t5-small/ver2-large\\checkpoint-4800\\pytorch_model.bin\n",
            "tokenizer config file saved in .models/summarization/t5-small/ver2-large\\checkpoint-4800\\tokenizer_config.json\n",
            "Special tokens file saved in .models/summarization/t5-small/ver2-large\\checkpoint-4800\\special_tokens_map.json\n",
            "Copy vocab file to .models/summarization/t5-small/ver2-large\\checkpoint-4800\\spiece.model\n",
            "Deleting older checkpoint [.models\\summarization\\t5-small\\ver2-large\\checkpoint-4200] due to args.save_total_limit\n",
            " 16%|█▌        | 4900/31230 [1:11:24<48:00,  9.14it/s]    The following columns in the evaluation set don't have a corresponding argument in `T5ForConditionalGeneration.forward` and have been ignored: article, highlights, id. If article, highlights, id are not expected by `T5ForConditionalGeneration.forward`,  you can safely ignore this message.\n",
            "***** Running Evaluation *****\n",
            "  Num examples = 4996\n",
            "  Batch size = 16\n",
            "                                                      \n",
            " 16%|█▌        | 4900/31230 [1:12:42<48:00,  9.14it/s]"
          ]
        },
        {
          "name": "stdout",
          "output_type": "stream",
          "text": [
            "{'eval_loss': 2.433790683746338, 'eval_rouge1': 23.4348, 'eval_rouge2': 10.68, 'eval_rougeL': 19.2098, 'eval_rougeLsum': 22.0167, 'eval_gen_len': 18.999, 'eval_runtime': 77.5055, 'eval_samples_per_second': 64.46, 'eval_steps_per_second': 4.038, 'epoch': 1.57}\n"
          ]
        },
        {
          "name": "stderr",
          "output_type": "stream",
          "text": [
            " 16%|█▌        | 5000/31230 [1:12:53<48:50,  8.95it/s]    The following columns in the evaluation set don't have a corresponding argument in `T5ForConditionalGeneration.forward` and have been ignored: article, highlights, id. If article, highlights, id are not expected by `T5ForConditionalGeneration.forward`,  you can safely ignore this message.\n",
            "***** Running Evaluation *****\n",
            "  Num examples = 4996\n",
            "  Batch size = 16\n"
          ]
        },
        {
          "name": "stdout",
          "output_type": "stream",
          "text": [
            "{'loss': 2.8028, 'learning_rate': 1.680051232788985e-05, 'epoch': 1.6}\n"
          ]
        },
        {
          "name": "stderr",
          "output_type": "stream",
          "text": [
            "                                                      \n",
            " 16%|█▌        | 5000/31230 [1:14:09<48:50,  8.95it/s]Saving model checkpoint to .models/summarization/t5-small/ver2-large\\checkpoint-5000\n",
            "Configuration saved in .models/summarization/t5-small/ver2-large\\checkpoint-5000\\config.json\n"
          ]
        },
        {
          "name": "stdout",
          "output_type": "stream",
          "text": [
            "{'eval_loss': 2.4350156784057617, 'eval_rouge1': 23.4571, 'eval_rouge2': 10.7131, 'eval_rougeL': 19.2315, 'eval_rougeLsum': 22.0499, 'eval_gen_len': 18.999, 'eval_runtime': 75.0405, 'eval_samples_per_second': 66.577, 'eval_steps_per_second': 4.171, 'epoch': 1.6}\n"
          ]
        },
        {
          "name": "stderr",
          "output_type": "stream",
          "text": [
            "Model weights saved in .models/summarization/t5-small/ver2-large\\checkpoint-5000\\pytorch_model.bin\n",
            "tokenizer config file saved in .models/summarization/t5-small/ver2-large\\checkpoint-5000\\tokenizer_config.json\n",
            "Special tokens file saved in .models/summarization/t5-small/ver2-large\\checkpoint-5000\\special_tokens_map.json\n",
            "Copy vocab file to .models/summarization/t5-small/ver2-large\\checkpoint-5000\\spiece.model\n",
            "Deleting older checkpoint [.models\\summarization\\t5-small\\ver2-large\\checkpoint-4400] due to args.save_total_limit\n",
            " 16%|█▋        | 5100/31230 [1:14:22<47:13,  9.22it/s]    The following columns in the evaluation set don't have a corresponding argument in `T5ForConditionalGeneration.forward` and have been ignored: article, highlights, id. If article, highlights, id are not expected by `T5ForConditionalGeneration.forward`,  you can safely ignore this message.\n",
            "***** Running Evaluation *****\n",
            "  Num examples = 4996\n",
            "  Batch size = 16\n",
            "                                                      \n",
            " 16%|█▋        | 5100/31230 [1:15:38<47:13,  9.22it/s]"
          ]
        },
        {
          "name": "stdout",
          "output_type": "stream",
          "text": [
            "{'eval_loss': 2.4338762760162354, 'eval_rouge1': 23.4248, 'eval_rouge2': 10.6929, 'eval_rougeL': 19.1996, 'eval_rougeLsum': 22.0293, 'eval_gen_len': 18.9988, 'eval_runtime': 76.3716, 'eval_samples_per_second': 65.417, 'eval_steps_per_second': 4.098, 'epoch': 1.63}\n"
          ]
        },
        {
          "name": "stderr",
          "output_type": "stream",
          "text": [
            " 17%|█▋        | 5200/31230 [1:15:50<47:35,  9.12it/s]    The following columns in the evaluation set don't have a corresponding argument in `T5ForConditionalGeneration.forward` and have been ignored: article, highlights, id. If article, highlights, id are not expected by `T5ForConditionalGeneration.forward`,  you can safely ignore this message.\n",
            "***** Running Evaluation *****\n",
            "  Num examples = 4996\n",
            "  Batch size = 16\n",
            "                                                      \n",
            " 17%|█▋        | 5200/31230 [1:17:05<47:35,  9.12it/s]Saving model checkpoint to .models/summarization/t5-small/ver2-large\\checkpoint-5200\n",
            "Configuration saved in .models/summarization/t5-small/ver2-large\\checkpoint-5200\\config.json\n"
          ]
        },
        {
          "name": "stdout",
          "output_type": "stream",
          "text": [
            "{'eval_loss': 2.4338057041168213, 'eval_rouge1': 23.4059, 'eval_rouge2': 10.6803, 'eval_rougeL': 19.1949, 'eval_rougeLsum': 22.002, 'eval_gen_len': 18.999, 'eval_runtime': 75.0382, 'eval_samples_per_second': 66.579, 'eval_steps_per_second': 4.171, 'epoch': 1.67}\n"
          ]
        },
        {
          "name": "stderr",
          "output_type": "stream",
          "text": [
            "Model weights saved in .models/summarization/t5-small/ver2-large\\checkpoint-5200\\pytorch_model.bin\n",
            "tokenizer config file saved in .models/summarization/t5-small/ver2-large\\checkpoint-5200\\tokenizer_config.json\n",
            "Special tokens file saved in .models/summarization/t5-small/ver2-large\\checkpoint-5200\\special_tokens_map.json\n",
            "Copy vocab file to .models/summarization/t5-small/ver2-large\\checkpoint-5200\\spiece.model\n",
            "Deleting older checkpoint [.models\\summarization\\t5-small\\ver2-large\\checkpoint-4600] due to args.save_total_limit\n",
            " 17%|█▋        | 5300/31230 [1:17:18<49:33,  8.72it/s]    The following columns in the evaluation set don't have a corresponding argument in `T5ForConditionalGeneration.forward` and have been ignored: article, highlights, id. If article, highlights, id are not expected by `T5ForConditionalGeneration.forward`,  you can safely ignore this message.\n",
            "***** Running Evaluation *****\n",
            "  Num examples = 4996\n",
            "  Batch size = 16\n",
            "                                                      \n",
            " 17%|█▋        | 5300/31230 [1:18:33<49:33,  8.72it/s]"
          ]
        },
        {
          "name": "stdout",
          "output_type": "stream",
          "text": [
            "{'eval_loss': 2.4325897693634033, 'eval_rouge1': 23.3799, 'eval_rouge2': 10.6777, 'eval_rougeL': 19.187, 'eval_rougeLsum': 21.996, 'eval_gen_len': 18.9994, 'eval_runtime': 74.8464, 'eval_samples_per_second': 66.75, 'eval_steps_per_second': 4.182, 'epoch': 1.7}\n"
          ]
        },
        {
          "name": "stderr",
          "output_type": "stream",
          "text": [
            " 17%|█▋        | 5399/31230 [1:18:44<45:54,  9.38it/s]    The following columns in the evaluation set don't have a corresponding argument in `T5ForConditionalGeneration.forward` and have been ignored: article, highlights, id. If article, highlights, id are not expected by `T5ForConditionalGeneration.forward`,  you can safely ignore this message.\n",
            "***** Running Evaluation *****\n",
            "  Num examples = 4996\n",
            "  Batch size = 16\n",
            "                                                      \n",
            " 17%|█▋        | 5400/31230 [1:20:00<45:54,  9.38it/s]Saving model checkpoint to .models/summarization/t5-small/ver2-large\\checkpoint-5400\n",
            "Configuration saved in .models/summarization/t5-small/ver2-large\\checkpoint-5400\\config.json\n"
          ]
        },
        {
          "name": "stdout",
          "output_type": "stream",
          "text": [
            "{'eval_loss': 2.43222713470459, 'eval_rouge1': 23.3866, 'eval_rouge2': 10.6455, 'eval_rougeL': 19.1741, 'eval_rougeLsum': 21.9916, 'eval_gen_len': 18.9994, 'eval_runtime': 75.9004, 'eval_samples_per_second': 65.823, 'eval_steps_per_second': 4.124, 'epoch': 1.73}\n"
          ]
        },
        {
          "name": "stderr",
          "output_type": "stream",
          "text": [
            "Model weights saved in .models/summarization/t5-small/ver2-large\\checkpoint-5400\\pytorch_model.bin\n",
            "tokenizer config file saved in .models/summarization/t5-small/ver2-large\\checkpoint-5400\\tokenizer_config.json\n",
            "Special tokens file saved in .models/summarization/t5-small/ver2-large\\checkpoint-5400\\special_tokens_map.json\n",
            "Copy vocab file to .models/summarization/t5-small/ver2-large\\checkpoint-5400\\spiece.model\n",
            "Deleting older checkpoint [.models\\summarization\\t5-small\\ver2-large\\checkpoint-4800] due to args.save_total_limit\n",
            " 18%|█▊        | 5500/31230 [1:20:14<45:20,  9.46it/s]    The following columns in the evaluation set don't have a corresponding argument in `T5ForConditionalGeneration.forward` and have been ignored: article, highlights, id. If article, highlights, id are not expected by `T5ForConditionalGeneration.forward`,  you can safely ignore this message.\n",
            "***** Running Evaluation *****\n",
            "  Num examples = 4996\n",
            "  Batch size = 16\n"
          ]
        },
        {
          "name": "stdout",
          "output_type": "stream",
          "text": [
            "{'loss': 2.8095, 'learning_rate': 1.648030739673391e-05, 'epoch': 1.76}\n"
          ]
        },
        {
          "name": "stderr",
          "output_type": "stream",
          "text": [
            "                                                      \n",
            " 18%|█▊        | 5500/31230 [1:21:29<45:20,  9.46it/s]"
          ]
        },
        {
          "name": "stdout",
          "output_type": "stream",
          "text": [
            "{'eval_loss': 2.431809186935425, 'eval_rouge1': 23.3684, 'eval_rouge2': 10.6196, 'eval_rougeL': 19.1338, 'eval_rougeLsum': 21.9647, 'eval_gen_len': 18.9994, 'eval_runtime': 75.0771, 'eval_samples_per_second': 66.545, 'eval_steps_per_second': 4.169, 'epoch': 1.76}\n"
          ]
        },
        {
          "name": "stderr",
          "output_type": "stream",
          "text": [
            " 18%|█▊        | 5600/31230 [1:21:40<49:40,  8.60it/s]    The following columns in the evaluation set don't have a corresponding argument in `T5ForConditionalGeneration.forward` and have been ignored: article, highlights, id. If article, highlights, id are not expected by `T5ForConditionalGeneration.forward`,  you can safely ignore this message.\n",
            "***** Running Evaluation *****\n",
            "  Num examples = 4996\n",
            "  Batch size = 16\n",
            "                                                      \n",
            " 18%|█▊        | 5600/31230 [1:22:56<49:40,  8.60it/s]Saving model checkpoint to .models/summarization/t5-small/ver2-large\\checkpoint-5600\n",
            "Configuration saved in .models/summarization/t5-small/ver2-large\\checkpoint-5600\\config.json\n"
          ]
        },
        {
          "name": "stdout",
          "output_type": "stream",
          "text": [
            "{'eval_loss': 2.4320642948150635, 'eval_rouge1': 23.3626, 'eval_rouge2': 10.6166, 'eval_rougeL': 19.1417, 'eval_rougeLsum': 21.9593, 'eval_gen_len': 18.999, 'eval_runtime': 75.4318, 'eval_samples_per_second': 66.232, 'eval_steps_per_second': 4.149, 'epoch': 1.79}\n"
          ]
        },
        {
          "name": "stderr",
          "output_type": "stream",
          "text": [
            "Model weights saved in .models/summarization/t5-small/ver2-large\\checkpoint-5600\\pytorch_model.bin\n",
            "tokenizer config file saved in .models/summarization/t5-small/ver2-large\\checkpoint-5600\\tokenizer_config.json\n",
            "Special tokens file saved in .models/summarization/t5-small/ver2-large\\checkpoint-5600\\special_tokens_map.json\n",
            "Copy vocab file to .models/summarization/t5-small/ver2-large\\checkpoint-5600\\spiece.model\n",
            "Deleting older checkpoint [.models\\summarization\\t5-small\\ver2-large\\checkpoint-5200] due to args.save_total_limit\n",
            " 18%|█▊        | 5700/31230 [1:23:09<50:22,  8.45it/s]    The following columns in the evaluation set don't have a corresponding argument in `T5ForConditionalGeneration.forward` and have been ignored: article, highlights, id. If article, highlights, id are not expected by `T5ForConditionalGeneration.forward`,  you can safely ignore this message.\n",
            "***** Running Evaluation *****\n",
            "  Num examples = 4996\n",
            "  Batch size = 16\n",
            "                                                      \n",
            " 18%|█▊        | 5700/31230 [1:24:25<50:22,  8.45it/s]"
          ]
        },
        {
          "name": "stdout",
          "output_type": "stream",
          "text": [
            "{'eval_loss': 2.4319136142730713, 'eval_rouge1': 23.3767, 'eval_rouge2': 10.6355, 'eval_rougeL': 19.1522, 'eval_rougeLsum': 21.9656, 'eval_gen_len': 18.999, 'eval_runtime': 75.1263, 'eval_samples_per_second': 66.501, 'eval_steps_per_second': 4.166, 'epoch': 1.83}\n"
          ]
        },
        {
          "name": "stderr",
          "output_type": "stream",
          "text": [
            " 19%|█▊        | 5800/31230 [1:24:36<50:45,  8.35it/s]    The following columns in the evaluation set don't have a corresponding argument in `T5ForConditionalGeneration.forward` and have been ignored: article, highlights, id. If article, highlights, id are not expected by `T5ForConditionalGeneration.forward`,  you can safely ignore this message.\n",
            "***** Running Evaluation *****\n",
            "  Num examples = 4996\n",
            "  Batch size = 16\n",
            "                                                      \n",
            " 19%|█▊        | 5800/31230 [1:25:52<50:45,  8.35it/s]Saving model checkpoint to .models/summarization/t5-small/ver2-large\\checkpoint-5800\n",
            "Configuration saved in .models/summarization/t5-small/ver2-large\\checkpoint-5800\\config.json\n"
          ]
        },
        {
          "name": "stdout",
          "output_type": "stream",
          "text": [
            "{'eval_loss': 2.4316961765289307, 'eval_rouge1': 23.339, 'eval_rouge2': 10.6986, 'eval_rougeL': 19.1517, 'eval_rougeLsum': 21.9535, 'eval_gen_len': 18.999, 'eval_runtime': 75.5613, 'eval_samples_per_second': 66.119, 'eval_steps_per_second': 4.142, 'epoch': 1.86}\n"
          ]
        },
        {
          "name": "stderr",
          "output_type": "stream",
          "text": [
            "Model weights saved in .models/summarization/t5-small/ver2-large\\checkpoint-5800\\pytorch_model.bin\n",
            "tokenizer config file saved in .models/summarization/t5-small/ver2-large\\checkpoint-5800\\tokenizer_config.json\n",
            "Special tokens file saved in .models/summarization/t5-small/ver2-large\\checkpoint-5800\\special_tokens_map.json\n",
            "Copy vocab file to .models/summarization/t5-small/ver2-large\\checkpoint-5800\\spiece.model\n",
            "Deleting older checkpoint [.models\\summarization\\t5-small\\ver2-large\\checkpoint-5400] due to args.save_total_limit\n",
            " 19%|█▉        | 5900/31230 [1:26:05<46:20,  9.11it/s]    The following columns in the evaluation set don't have a corresponding argument in `T5ForConditionalGeneration.forward` and have been ignored: article, highlights, id. If article, highlights, id are not expected by `T5ForConditionalGeneration.forward`,  you can safely ignore this message.\n",
            "***** Running Evaluation *****\n",
            "  Num examples = 4996\n",
            "  Batch size = 16\n",
            "                                                      \n",
            " 19%|█▉        | 5900/31230 [1:27:19<46:20,  9.11it/s]"
          ]
        },
        {
          "name": "stdout",
          "output_type": "stream",
          "text": [
            "{'eval_loss': 2.4302382469177246, 'eval_rouge1': 23.3886, 'eval_rouge2': 10.6645, 'eval_rougeL': 19.153, 'eval_rougeLsum': 21.9831, 'eval_gen_len': 18.999, 'eval_runtime': 74.5353, 'eval_samples_per_second': 67.029, 'eval_steps_per_second': 4.199, 'epoch': 1.89}\n"
          ]
        },
        {
          "name": "stderr",
          "output_type": "stream",
          "text": [
            " 19%|█▉        | 6000/31230 [1:27:31<45:23,  9.26it/s]    The following columns in the evaluation set don't have a corresponding argument in `T5ForConditionalGeneration.forward` and have been ignored: article, highlights, id. If article, highlights, id are not expected by `T5ForConditionalGeneration.forward`,  you can safely ignore this message.\n",
            "***** Running Evaluation *****\n",
            "  Num examples = 4996\n",
            "  Batch size = 16\n"
          ]
        },
        {
          "name": "stdout",
          "output_type": "stream",
          "text": [
            "{'loss': 2.8036, 'learning_rate': 1.616010246557797e-05, 'epoch': 1.92}\n"
          ]
        },
        {
          "name": "stderr",
          "output_type": "stream",
          "text": [
            "                                                      \n",
            " 19%|█▉        | 6000/31230 [1:28:46<45:23,  9.26it/s]Saving model checkpoint to .models/summarization/t5-small/ver2-large\\checkpoint-6000\n",
            "Configuration saved in .models/summarization/t5-small/ver2-large\\checkpoint-6000\\config.json\n"
          ]
        },
        {
          "name": "stdout",
          "output_type": "stream",
          "text": [
            "{'eval_loss': 2.4304356575012207, 'eval_rouge1': 23.4191, 'eval_rouge2': 10.6841, 'eval_rougeL': 19.1825, 'eval_rougeLsum': 21.9877, 'eval_gen_len': 18.9994, 'eval_runtime': 75.4992, 'eval_samples_per_second': 66.173, 'eval_steps_per_second': 4.146, 'epoch': 1.92}\n"
          ]
        },
        {
          "name": "stderr",
          "output_type": "stream",
          "text": [
            "Model weights saved in .models/summarization/t5-small/ver2-large\\checkpoint-6000\\pytorch_model.bin\n",
            "tokenizer config file saved in .models/summarization/t5-small/ver2-large\\checkpoint-6000\\tokenizer_config.json\n",
            "Special tokens file saved in .models/summarization/t5-small/ver2-large\\checkpoint-6000\\special_tokens_map.json\n",
            "Copy vocab file to .models/summarization/t5-small/ver2-large\\checkpoint-6000\\spiece.model\n",
            "Deleting older checkpoint [.models\\summarization\\t5-small\\ver2-large\\checkpoint-5600] due to args.save_total_limit\n",
            " 20%|█▉        | 6100/31230 [1:29:00<46:10,  9.07it/s]    The following columns in the evaluation set don't have a corresponding argument in `T5ForConditionalGeneration.forward` and have been ignored: article, highlights, id. If article, highlights, id are not expected by `T5ForConditionalGeneration.forward`,  you can safely ignore this message.\n",
            "***** Running Evaluation *****\n",
            "  Num examples = 4996\n",
            "  Batch size = 16\n",
            "                                                      \n",
            " 20%|█▉        | 6100/31230 [1:30:15<46:10,  9.07it/s]"
          ]
        },
        {
          "name": "stdout",
          "output_type": "stream",
          "text": [
            "{'eval_loss': 2.4290788173675537, 'eval_rouge1': 23.4137, 'eval_rouge2': 10.6639, 'eval_rougeL': 19.1736, 'eval_rougeLsum': 21.9823, 'eval_gen_len': 18.9996, 'eval_runtime': 75.1893, 'eval_samples_per_second': 66.446, 'eval_steps_per_second': 4.163, 'epoch': 1.95}\n"
          ]
        },
        {
          "name": "stderr",
          "output_type": "stream",
          "text": [
            " 20%|█▉        | 6200/31230 [1:30:26<45:25,  9.18it/s]    The following columns in the evaluation set don't have a corresponding argument in `T5ForConditionalGeneration.forward` and have been ignored: article, highlights, id. If article, highlights, id are not expected by `T5ForConditionalGeneration.forward`,  you can safely ignore this message.\n",
            "***** Running Evaluation *****\n",
            "  Num examples = 4996\n",
            "  Batch size = 16\n",
            "                                                      \n",
            " 20%|█▉        | 6200/31230 [1:31:41<45:25,  9.18it/s]Saving model checkpoint to .models/summarization/t5-small/ver2-large\\checkpoint-6200\n",
            "Configuration saved in .models/summarization/t5-small/ver2-large\\checkpoint-6200\\config.json\n"
          ]
        },
        {
          "name": "stdout",
          "output_type": "stream",
          "text": [
            "{'eval_loss': 2.428899049758911, 'eval_rouge1': 23.4339, 'eval_rouge2': 10.7253, 'eval_rougeL': 19.2173, 'eval_rougeLsum': 22.0162, 'eval_gen_len': 18.999, 'eval_runtime': 74.809, 'eval_samples_per_second': 66.783, 'eval_steps_per_second': 4.184, 'epoch': 1.99}\n"
          ]
        },
        {
          "name": "stderr",
          "output_type": "stream",
          "text": [
            "Model weights saved in .models/summarization/t5-small/ver2-large\\checkpoint-6200\\pytorch_model.bin\n",
            "tokenizer config file saved in .models/summarization/t5-small/ver2-large\\checkpoint-6200\\tokenizer_config.json\n",
            "Special tokens file saved in .models/summarization/t5-small/ver2-large\\checkpoint-6200\\special_tokens_map.json\n",
            "Copy vocab file to .models/summarization/t5-small/ver2-large\\checkpoint-6200\\spiece.model\n",
            "Deleting older checkpoint [.models\\summarization\\t5-small\\ver2-large\\checkpoint-5800] due to args.save_total_limit\n",
            " 20%|██        | 6300/31230 [1:31:54<45:59,  9.03it/s]    The following columns in the evaluation set don't have a corresponding argument in `T5ForConditionalGeneration.forward` and have been ignored: article, highlights, id. If article, highlights, id are not expected by `T5ForConditionalGeneration.forward`,  you can safely ignore this message.\n",
            "***** Running Evaluation *****\n",
            "  Num examples = 4996\n",
            "  Batch size = 16\n",
            "                                                      \n",
            " 20%|██        | 6300/31230 [1:33:10<45:59,  9.03it/s]"
          ]
        },
        {
          "name": "stdout",
          "output_type": "stream",
          "text": [
            "{'eval_loss': 2.4309470653533936, 'eval_rouge1': 23.4279, 'eval_rouge2': 10.7273, 'eval_rougeL': 19.1974, 'eval_rougeLsum': 22.0151, 'eval_gen_len': 18.999, 'eval_runtime': 75.7999, 'eval_samples_per_second': 65.91, 'eval_steps_per_second': 4.129, 'epoch': 2.02}\n"
          ]
        },
        {
          "name": "stderr",
          "output_type": "stream",
          "text": [
            " 20%|██        | 6400/31230 [1:33:21<46:26,  8.91it/s]    The following columns in the evaluation set don't have a corresponding argument in `T5ForConditionalGeneration.forward` and have been ignored: article, highlights, id. If article, highlights, id are not expected by `T5ForConditionalGeneration.forward`,  you can safely ignore this message.\n",
            "***** Running Evaluation *****\n",
            "  Num examples = 4996\n",
            "  Batch size = 16\n",
            "                                                      \n",
            " 20%|██        | 6400/31230 [1:34:37<46:26,  8.91it/s]Saving model checkpoint to .models/summarization/t5-small/ver2-large\\checkpoint-6400\n",
            "Configuration saved in .models/summarization/t5-small/ver2-large\\checkpoint-6400\\config.json\n"
          ]
        },
        {
          "name": "stdout",
          "output_type": "stream",
          "text": [
            "{'eval_loss': 2.4281375408172607, 'eval_rouge1': 23.5011, 'eval_rouge2': 10.729, 'eval_rougeL': 19.2137, 'eval_rougeLsum': 22.0892, 'eval_gen_len': 18.9994, 'eval_runtime': 75.6988, 'eval_samples_per_second': 65.998, 'eval_steps_per_second': 4.135, 'epoch': 2.05}\n"
          ]
        },
        {
          "name": "stderr",
          "output_type": "stream",
          "text": [
            "Model weights saved in .models/summarization/t5-small/ver2-large\\checkpoint-6400\\pytorch_model.bin\n",
            "tokenizer config file saved in .models/summarization/t5-small/ver2-large\\checkpoint-6400\\tokenizer_config.json\n",
            "Special tokens file saved in .models/summarization/t5-small/ver2-large\\checkpoint-6400\\special_tokens_map.json\n",
            "Copy vocab file to .models/summarization/t5-small/ver2-large\\checkpoint-6400\\spiece.model\n",
            "Deleting older checkpoint [.models\\summarization\\t5-small\\ver2-large\\checkpoint-5000] due to args.save_total_limit\n",
            " 21%|██        | 6500/31230 [1:34:50<43:43,  9.43it/s]    The following columns in the evaluation set don't have a corresponding argument in `T5ForConditionalGeneration.forward` and have been ignored: article, highlights, id. If article, highlights, id are not expected by `T5ForConditionalGeneration.forward`,  you can safely ignore this message.\n",
            "***** Running Evaluation *****\n",
            "  Num examples = 4996\n",
            "  Batch size = 16\n"
          ]
        },
        {
          "name": "stdout",
          "output_type": "stream",
          "text": [
            "{'loss': 2.7891, 'learning_rate': 1.583989753442203e-05, 'epoch': 2.08}\n"
          ]
        },
        {
          "name": "stderr",
          "output_type": "stream",
          "text": [
            "                                                      \n",
            " 21%|██        | 6500/31230 [1:36:05<43:43,  9.43it/s]"
          ]
        },
        {
          "name": "stdout",
          "output_type": "stream",
          "text": [
            "{'eval_loss': 2.4293880462646484, 'eval_rouge1': 23.4173, 'eval_rouge2': 10.7057, 'eval_rougeL': 19.1616, 'eval_rougeLsum': 22.0151, 'eval_gen_len': 18.9998, 'eval_runtime': 74.8719, 'eval_samples_per_second': 66.727, 'eval_steps_per_second': 4.18, 'epoch': 2.08}\n"
          ]
        },
        {
          "name": "stderr",
          "output_type": "stream",
          "text": [
            " 21%|██        | 6600/31230 [1:36:17<42:08,  9.74it/s]    The following columns in the evaluation set don't have a corresponding argument in `T5ForConditionalGeneration.forward` and have been ignored: article, highlights, id. If article, highlights, id are not expected by `T5ForConditionalGeneration.forward`,  you can safely ignore this message.\n",
            "***** Running Evaluation *****\n",
            "  Num examples = 4996\n",
            "  Batch size = 16\n",
            "                                                      \n",
            " 21%|██        | 6600/31230 [1:37:31<42:08,  9.74it/s]Saving model checkpoint to .models/summarization/t5-small/ver2-large\\checkpoint-6600\n",
            "Configuration saved in .models/summarization/t5-small/ver2-large\\checkpoint-6600\\config.json\n"
          ]
        },
        {
          "name": "stdout",
          "output_type": "stream",
          "text": [
            "{'eval_loss': 2.428192615509033, 'eval_rouge1': 23.4435, 'eval_rouge2': 10.6984, 'eval_rougeL': 19.183, 'eval_rougeLsum': 22.0459, 'eval_gen_len': 18.999, 'eval_runtime': 74.1858, 'eval_samples_per_second': 67.344, 'eval_steps_per_second': 4.219, 'epoch': 2.11}\n"
          ]
        },
        {
          "name": "stderr",
          "output_type": "stream",
          "text": [
            "Model weights saved in .models/summarization/t5-small/ver2-large\\checkpoint-6600\\pytorch_model.bin\n",
            "tokenizer config file saved in .models/summarization/t5-small/ver2-large\\checkpoint-6600\\tokenizer_config.json\n",
            "Special tokens file saved in .models/summarization/t5-small/ver2-large\\checkpoint-6600\\special_tokens_map.json\n",
            "Copy vocab file to .models/summarization/t5-small/ver2-large\\checkpoint-6600\\spiece.model\n",
            "Deleting older checkpoint [.models\\summarization\\t5-small\\ver2-large\\checkpoint-6000] due to args.save_total_limit\n",
            " 21%|██▏       | 6700/31230 [1:37:44<43:01,  9.50it/s]    The following columns in the evaluation set don't have a corresponding argument in `T5ForConditionalGeneration.forward` and have been ignored: article, highlights, id. If article, highlights, id are not expected by `T5ForConditionalGeneration.forward`,  you can safely ignore this message.\n",
            "***** Running Evaluation *****\n",
            "  Num examples = 4996\n",
            "  Batch size = 16\n",
            "                                                      \n",
            " 21%|██▏       | 6700/31230 [1:38:59<43:01,  9.50it/s]"
          ]
        },
        {
          "name": "stdout",
          "output_type": "stream",
          "text": [
            "{'eval_loss': 2.429060935974121, 'eval_rouge1': 23.4386, 'eval_rouge2': 10.7211, 'eval_rougeL': 19.1883, 'eval_rougeLsum': 22.0372, 'eval_gen_len': 18.9994, 'eval_runtime': 74.4408, 'eval_samples_per_second': 67.114, 'eval_steps_per_second': 4.205, 'epoch': 2.15}\n"
          ]
        },
        {
          "name": "stderr",
          "output_type": "stream",
          "text": [
            " 22%|██▏       | 6800/31230 [1:39:10<43:58,  9.26it/s]    The following columns in the evaluation set don't have a corresponding argument in `T5ForConditionalGeneration.forward` and have been ignored: article, highlights, id. If article, highlights, id are not expected by `T5ForConditionalGeneration.forward`,  you can safely ignore this message.\n",
            "***** Running Evaluation *****\n",
            "  Num examples = 4996\n",
            "  Batch size = 16\n",
            "                                                      \n",
            " 22%|██▏       | 6800/31230 [1:40:25<43:58,  9.26it/s]Saving model checkpoint to .models/summarization/t5-small/ver2-large\\checkpoint-6800\n",
            "Configuration saved in .models/summarization/t5-small/ver2-large\\checkpoint-6800\\config.json\n"
          ]
        },
        {
          "name": "stdout",
          "output_type": "stream",
          "text": [
            "{'eval_loss': 2.4284818172454834, 'eval_rouge1': 23.3788, 'eval_rouge2': 10.6999, 'eval_rougeL': 19.1399, 'eval_rougeLsum': 21.9781, 'eval_gen_len': 18.9992, 'eval_runtime': 74.0642, 'eval_samples_per_second': 67.455, 'eval_steps_per_second': 4.226, 'epoch': 2.18}\n"
          ]
        },
        {
          "name": "stderr",
          "output_type": "stream",
          "text": [
            "Model weights saved in .models/summarization/t5-small/ver2-large\\checkpoint-6800\\pytorch_model.bin\n",
            "tokenizer config file saved in .models/summarization/t5-small/ver2-large\\checkpoint-6800\\tokenizer_config.json\n",
            "Special tokens file saved in .models/summarization/t5-small/ver2-large\\checkpoint-6800\\special_tokens_map.json\n",
            "Copy vocab file to .models/summarization/t5-small/ver2-large\\checkpoint-6800\\spiece.model\n",
            "Deleting older checkpoint [.models\\summarization\\t5-small\\ver2-large\\checkpoint-6200] due to args.save_total_limit\n",
            " 22%|██▏       | 6900/31230 [1:40:38<43:08,  9.40it/s]    The following columns in the evaluation set don't have a corresponding argument in `T5ForConditionalGeneration.forward` and have been ignored: article, highlights, id. If article, highlights, id are not expected by `T5ForConditionalGeneration.forward`,  you can safely ignore this message.\n",
            "***** Running Evaluation *****\n",
            "  Num examples = 4996\n",
            "  Batch size = 16\n",
            "                                                      \n",
            " 22%|██▏       | 6900/31230 [1:41:54<43:08,  9.40it/s]"
          ]
        },
        {
          "name": "stdout",
          "output_type": "stream",
          "text": [
            "{'eval_loss': 2.428677558898926, 'eval_rouge1': 23.3975, 'eval_rouge2': 10.6956, 'eval_rougeL': 19.1607, 'eval_rougeLsum': 21.9905, 'eval_gen_len': 18.9992, 'eval_runtime': 76.2745, 'eval_samples_per_second': 65.5, 'eval_steps_per_second': 4.104, 'epoch': 2.21}\n"
          ]
        },
        {
          "name": "stderr",
          "output_type": "stream",
          "text": [
            " 22%|██▏       | 7000/31230 [1:42:06<42:56,  9.41it/s]    The following columns in the evaluation set don't have a corresponding argument in `T5ForConditionalGeneration.forward` and have been ignored: article, highlights, id. If article, highlights, id are not expected by `T5ForConditionalGeneration.forward`,  you can safely ignore this message.\n",
            "***** Running Evaluation *****\n",
            "  Num examples = 4996\n",
            "  Batch size = 16\n"
          ]
        },
        {
          "name": "stdout",
          "output_type": "stream",
          "text": [
            "{'loss': 2.7859, 'learning_rate': 1.5519692603266092e-05, 'epoch': 2.24}\n"
          ]
        },
        {
          "name": "stderr",
          "output_type": "stream",
          "text": [
            "                                                      \n",
            " 22%|██▏       | 7000/31230 [1:43:22<42:56,  9.41it/s]Saving model checkpoint to .models/summarization/t5-small/ver2-large\\checkpoint-7000\n",
            "Configuration saved in .models/summarization/t5-small/ver2-large\\checkpoint-7000\\config.json\n"
          ]
        },
        {
          "name": "stdout",
          "output_type": "stream",
          "text": [
            "{'eval_loss': 2.4266860485076904, 'eval_rouge1': 23.395, 'eval_rouge2': 10.7188, 'eval_rougeL': 19.1822, 'eval_rougeLsum': 22.0002, 'eval_gen_len': 18.9994, 'eval_runtime': 75.7964, 'eval_samples_per_second': 65.913, 'eval_steps_per_second': 4.129, 'epoch': 2.24}\n"
          ]
        },
        {
          "name": "stderr",
          "output_type": "stream",
          "text": [
            "Model weights saved in .models/summarization/t5-small/ver2-large\\checkpoint-7000\\pytorch_model.bin\n",
            "tokenizer config file saved in .models/summarization/t5-small/ver2-large\\checkpoint-7000\\tokenizer_config.json\n",
            "Special tokens file saved in .models/summarization/t5-small/ver2-large\\checkpoint-7000\\special_tokens_map.json\n",
            "Copy vocab file to .models/summarization/t5-small/ver2-large\\checkpoint-7000\\spiece.model\n",
            "Deleting older checkpoint [.models\\summarization\\t5-small\\ver2-large\\checkpoint-6600] due to args.save_total_limit\n",
            " 23%|██▎       | 7100/31230 [1:43:39<44:18,  9.08it/s]    The following columns in the evaluation set don't have a corresponding argument in `T5ForConditionalGeneration.forward` and have been ignored: article, highlights, id. If article, highlights, id are not expected by `T5ForConditionalGeneration.forward`,  you can safely ignore this message.\n",
            "***** Running Evaluation *****\n",
            "  Num examples = 4996\n",
            "  Batch size = 16\n",
            "                                                      \n",
            " 23%|██▎       | 7100/31230 [1:45:00<44:18,  9.08it/s]"
          ]
        },
        {
          "name": "stdout",
          "output_type": "stream",
          "text": [
            "{'eval_loss': 2.4273884296417236, 'eval_rouge1': 23.4208, 'eval_rouge2': 10.7232, 'eval_rougeL': 19.1969, 'eval_rougeLsum': 22.0153, 'eval_gen_len': 18.9996, 'eval_runtime': 81.5755, 'eval_samples_per_second': 61.244, 'eval_steps_per_second': 3.837, 'epoch': 2.27}\n"
          ]
        },
        {
          "name": "stderr",
          "output_type": "stream",
          "text": [
            " 23%|██▎       | 7200/31230 [1:45:12<44:39,  8.97it/s]    The following columns in the evaluation set don't have a corresponding argument in `T5ForConditionalGeneration.forward` and have been ignored: article, highlights, id. If article, highlights, id are not expected by `T5ForConditionalGeneration.forward`,  you can safely ignore this message.\n",
            "***** Running Evaluation *****\n",
            "  Num examples = 4996\n",
            "  Batch size = 16\n",
            "                                                      \n",
            " 23%|██▎       | 7200/31230 [1:46:27<44:39,  8.97it/s]Saving model checkpoint to .models/summarization/t5-small/ver2-large\\checkpoint-7200\n",
            "Configuration saved in .models/summarization/t5-small/ver2-large\\checkpoint-7200\\config.json\n"
          ]
        },
        {
          "name": "stdout",
          "output_type": "stream",
          "text": [
            "{'eval_loss': 2.427966356277466, 'eval_rouge1': 23.4267, 'eval_rouge2': 10.7296, 'eval_rougeL': 19.2094, 'eval_rougeLsum': 22.0258, 'eval_gen_len': 18.9996, 'eval_runtime': 75.7849, 'eval_samples_per_second': 65.923, 'eval_steps_per_second': 4.13, 'epoch': 2.31}\n"
          ]
        },
        {
          "name": "stderr",
          "output_type": "stream",
          "text": [
            "Model weights saved in .models/summarization/t5-small/ver2-large\\checkpoint-7200\\pytorch_model.bin\n",
            "tokenizer config file saved in .models/summarization/t5-small/ver2-large\\checkpoint-7200\\tokenizer_config.json\n",
            "Special tokens file saved in .models/summarization/t5-small/ver2-large\\checkpoint-7200\\special_tokens_map.json\n",
            "Copy vocab file to .models/summarization/t5-small/ver2-large\\checkpoint-7200\\spiece.model\n",
            "Deleting older checkpoint [.models\\summarization\\t5-small\\ver2-large\\checkpoint-6800] due to args.save_total_limit\n",
            " 23%|██▎       | 7299/31230 [1:46:41<44:35,  8.94it/s]    The following columns in the evaluation set don't have a corresponding argument in `T5ForConditionalGeneration.forward` and have been ignored: article, highlights, id. If article, highlights, id are not expected by `T5ForConditionalGeneration.forward`,  you can safely ignore this message.\n",
            "***** Running Evaluation *****\n",
            "  Num examples = 4996\n",
            "  Batch size = 16\n",
            "                                                      \n",
            " 23%|██▎       | 7300/31230 [1:47:56<44:35,  8.94it/s]"
          ]
        },
        {
          "name": "stdout",
          "output_type": "stream",
          "text": [
            "{'eval_loss': 2.4271602630615234, 'eval_rouge1': 23.4235, 'eval_rouge2': 10.7062, 'eval_rougeL': 19.1886, 'eval_rougeLsum': 21.9965, 'eval_gen_len': 18.9996, 'eval_runtime': 75.2054, 'eval_samples_per_second': 66.431, 'eval_steps_per_second': 4.162, 'epoch': 2.34}\n"
          ]
        },
        {
          "name": "stderr",
          "output_type": "stream",
          "text": [
            " 24%|██▎       | 7400/31230 [1:48:08<42:53,  9.26it/s]    The following columns in the evaluation set don't have a corresponding argument in `T5ForConditionalGeneration.forward` and have been ignored: article, highlights, id. If article, highlights, id are not expected by `T5ForConditionalGeneration.forward`,  you can safely ignore this message.\n",
            "***** Running Evaluation *****\n",
            "  Num examples = 4996\n",
            "  Batch size = 16\n",
            "                                                      \n",
            " 24%|██▎       | 7400/31230 [1:49:22<42:53,  9.26it/s]Saving model checkpoint to .models/summarization/t5-small/ver2-large\\checkpoint-7400\n",
            "Configuration saved in .models/summarization/t5-small/ver2-large\\checkpoint-7400\\config.json\n"
          ]
        },
        {
          "name": "stdout",
          "output_type": "stream",
          "text": [
            "{'eval_loss': 2.425076484680176, 'eval_rouge1': 23.4498, 'eval_rouge2': 10.7241, 'eval_rougeL': 19.2256, 'eval_rougeLsum': 22.0334, 'eval_gen_len': 18.9996, 'eval_runtime': 74.7687, 'eval_samples_per_second': 66.819, 'eval_steps_per_second': 4.186, 'epoch': 2.37}\n"
          ]
        },
        {
          "name": "stderr",
          "output_type": "stream",
          "text": [
            "Model weights saved in .models/summarization/t5-small/ver2-large\\checkpoint-7400\\pytorch_model.bin\n",
            "tokenizer config file saved in .models/summarization/t5-small/ver2-large\\checkpoint-7400\\tokenizer_config.json\n",
            "Special tokens file saved in .models/summarization/t5-small/ver2-large\\checkpoint-7400\\special_tokens_map.json\n",
            "Copy vocab file to .models/summarization/t5-small/ver2-large\\checkpoint-7400\\spiece.model\n",
            "Deleting older checkpoint [.models\\summarization\\t5-small\\ver2-large\\checkpoint-7000] due to args.save_total_limit\n",
            " 24%|██▍       | 7500/31230 [1:49:36<41:35,  9.51it/s]    The following columns in the evaluation set don't have a corresponding argument in `T5ForConditionalGeneration.forward` and have been ignored: article, highlights, id. If article, highlights, id are not expected by `T5ForConditionalGeneration.forward`,  you can safely ignore this message.\n",
            "***** Running Evaluation *****\n",
            "  Num examples = 4996\n",
            "  Batch size = 16\n"
          ]
        },
        {
          "name": "stdout",
          "output_type": "stream",
          "text": [
            "{'loss': 2.781, 'learning_rate': 1.519948767211015e-05, 'epoch': 2.4}\n"
          ]
        },
        {
          "name": "stderr",
          "output_type": "stream",
          "text": [
            "                                                      \n",
            " 24%|██▍       | 7500/31230 [1:50:51<41:35,  9.51it/s]"
          ]
        },
        {
          "name": "stdout",
          "output_type": "stream",
          "text": [
            "{'eval_loss': 2.426514148712158, 'eval_rouge1': 23.3891, 'eval_rouge2': 10.7316, 'eval_rougeL': 19.1909, 'eval_rougeLsum': 21.9777, 'eval_gen_len': 18.9996, 'eval_runtime': 74.3786, 'eval_samples_per_second': 67.17, 'eval_steps_per_second': 4.208, 'epoch': 2.4}\n"
          ]
        },
        {
          "name": "stderr",
          "output_type": "stream",
          "text": [
            " 24%|██▍       | 7600/31230 [1:51:02<40:54,  9.63it/s]    The following columns in the evaluation set don't have a corresponding argument in `T5ForConditionalGeneration.forward` and have been ignored: article, highlights, id. If article, highlights, id are not expected by `T5ForConditionalGeneration.forward`,  you can safely ignore this message.\n",
            "***** Running Evaluation *****\n",
            "  Num examples = 4996\n",
            "  Batch size = 16\n",
            "                                                      \n",
            " 24%|██▍       | 7600/31230 [1:52:17<40:54,  9.63it/s]Saving model checkpoint to .models/summarization/t5-small/ver2-large\\checkpoint-7600\n",
            "Configuration saved in .models/summarization/t5-small/ver2-large\\checkpoint-7600\\config.json\n"
          ]
        },
        {
          "name": "stdout",
          "output_type": "stream",
          "text": [
            "{'eval_loss': 2.4260127544403076, 'eval_rouge1': 23.3934, 'eval_rouge2': 10.7168, 'eval_rougeL': 19.1637, 'eval_rougeLsum': 21.9734, 'eval_gen_len': 18.9996, 'eval_runtime': 74.7408, 'eval_samples_per_second': 66.844, 'eval_steps_per_second': 4.188, 'epoch': 2.43}\n"
          ]
        },
        {
          "name": "stderr",
          "output_type": "stream",
          "text": [
            "Model weights saved in .models/summarization/t5-small/ver2-large\\checkpoint-7600\\pytorch_model.bin\n",
            "tokenizer config file saved in .models/summarization/t5-small/ver2-large\\checkpoint-7600\\tokenizer_config.json\n",
            "Special tokens file saved in .models/summarization/t5-small/ver2-large\\checkpoint-7600\\special_tokens_map.json\n",
            "Copy vocab file to .models/summarization/t5-small/ver2-large\\checkpoint-7600\\spiece.model\n",
            "Deleting older checkpoint [.models\\summarization\\t5-small\\ver2-large\\checkpoint-7200] due to args.save_total_limit\n",
            " 25%|██▍       | 7699/31230 [1:52:30<40:34,  9.67it/s]    The following columns in the evaluation set don't have a corresponding argument in `T5ForConditionalGeneration.forward` and have been ignored: article, highlights, id. If article, highlights, id are not expected by `T5ForConditionalGeneration.forward`,  you can safely ignore this message.\n",
            "***** Running Evaluation *****\n",
            "  Num examples = 4996\n",
            "  Batch size = 16\n",
            "                                                      \n",
            " 25%|██▍       | 7700/31230 [1:53:46<40:34,  9.67it/s]"
          ]
        },
        {
          "name": "stdout",
          "output_type": "stream",
          "text": [
            "{'eval_loss': 2.426008462905884, 'eval_rouge1': 23.3797, 'eval_rouge2': 10.7114, 'eval_rougeL': 19.1461, 'eval_rougeLsum': 21.9671, 'eval_gen_len': 18.9996, 'eval_runtime': 75.3511, 'eval_samples_per_second': 66.303, 'eval_steps_per_second': 4.154, 'epoch': 2.47}\n"
          ]
        },
        {
          "name": "stderr",
          "output_type": "stream",
          "text": [
            " 25%|██▍       | 7800/31230 [1:53:57<44:53,  8.70it/s]   The following columns in the evaluation set don't have a corresponding argument in `T5ForConditionalGeneration.forward` and have been ignored: article, highlights, id. If article, highlights, id are not expected by `T5ForConditionalGeneration.forward`,  you can safely ignore this message.\n",
            "***** Running Evaluation *****\n",
            "  Num examples = 4996\n",
            "  Batch size = 16\n",
            "                                                      \n",
            " 25%|██▍       | 7800/31230 [1:55:20<44:53,  8.70it/s]Saving model checkpoint to .models/summarization/t5-small/ver2-large\\checkpoint-7800\n",
            "Configuration saved in .models/summarization/t5-small/ver2-large\\checkpoint-7800\\config.json\n"
          ]
        },
        {
          "name": "stdout",
          "output_type": "stream",
          "text": [
            "{'eval_loss': 2.425372362136841, 'eval_rouge1': 23.3872, 'eval_rouge2': 10.6811, 'eval_rougeL': 19.1447, 'eval_rougeLsum': 21.9669, 'eval_gen_len': 19.0, 'eval_runtime': 83.0978, 'eval_samples_per_second': 60.122, 'eval_steps_per_second': 3.767, 'epoch': 2.5}\n"
          ]
        },
        {
          "name": "stderr",
          "output_type": "stream",
          "text": [
            "Model weights saved in .models/summarization/t5-small/ver2-large\\checkpoint-7800\\pytorch_model.bin\n",
            "tokenizer config file saved in .models/summarization/t5-small/ver2-large\\checkpoint-7800\\tokenizer_config.json\n",
            "Special tokens file saved in .models/summarization/t5-small/ver2-large\\checkpoint-7800\\special_tokens_map.json\n",
            "Copy vocab file to .models/summarization/t5-small/ver2-large\\checkpoint-7800\\spiece.model\n",
            "Deleting older checkpoint [.models\\summarization\\t5-small\\ver2-large\\checkpoint-7400] due to args.save_total_limit\n",
            " 25%|██▌       | 7899/31230 [1:55:34<43:04,  9.03it/s]    The following columns in the evaluation set don't have a corresponding argument in `T5ForConditionalGeneration.forward` and have been ignored: article, highlights, id. If article, highlights, id are not expected by `T5ForConditionalGeneration.forward`,  you can safely ignore this message.\n",
            "***** Running Evaluation *****\n",
            "  Num examples = 4996\n",
            "  Batch size = 16\n",
            "                                                      \n",
            " 25%|██▌       | 7900/31230 [1:56:50<43:04,  9.03it/s]"
          ]
        },
        {
          "name": "stdout",
          "output_type": "stream",
          "text": [
            "{'eval_loss': 2.424407482147217, 'eval_rouge1': 23.3353, 'eval_rouge2': 10.6661, 'eval_rougeL': 19.1087, 'eval_rougeLsum': 21.9224, 'eval_gen_len': 18.9994, 'eval_runtime': 75.8446, 'eval_samples_per_second': 65.872, 'eval_steps_per_second': 4.127, 'epoch': 2.53}\n"
          ]
        },
        {
          "name": "stderr",
          "output_type": "stream",
          "text": [
            " 26%|██▌       | 8000/31230 [1:57:01<42:15,  9.16it/s]    The following columns in the evaluation set don't have a corresponding argument in `T5ForConditionalGeneration.forward` and have been ignored: article, highlights, id. If article, highlights, id are not expected by `T5ForConditionalGeneration.forward`,  you can safely ignore this message.\n",
            "***** Running Evaluation *****\n",
            "  Num examples = 4996\n",
            "  Batch size = 16\n"
          ]
        },
        {
          "name": "stdout",
          "output_type": "stream",
          "text": [
            "{'loss': 2.784, 'learning_rate': 1.4879282740954213e-05, 'epoch': 2.56}\n"
          ]
        },
        {
          "name": "stderr",
          "output_type": "stream",
          "text": [
            "                                                      \n",
            " 26%|██▌       | 8000/31230 [1:58:16<42:15,  9.16it/s]Saving model checkpoint to .models/summarization/t5-small/ver2-large\\checkpoint-8000\n",
            "Configuration saved in .models/summarization/t5-small/ver2-large\\checkpoint-8000\\config.json\n"
          ]
        },
        {
          "name": "stdout",
          "output_type": "stream",
          "text": [
            "{'eval_loss': 2.424917697906494, 'eval_rouge1': 23.3434, 'eval_rouge2': 10.6954, 'eval_rougeL': 19.1244, 'eval_rougeLsum': 21.9198, 'eval_gen_len': 18.9992, 'eval_runtime': 74.543, 'eval_samples_per_second': 67.022, 'eval_steps_per_second': 4.199, 'epoch': 2.56}\n"
          ]
        },
        {
          "name": "stderr",
          "output_type": "stream",
          "text": [
            "Model weights saved in .models/summarization/t5-small/ver2-large\\checkpoint-8000\\pytorch_model.bin\n",
            "tokenizer config file saved in .models/summarization/t5-small/ver2-large\\checkpoint-8000\\tokenizer_config.json\n",
            "Special tokens file saved in .models/summarization/t5-small/ver2-large\\checkpoint-8000\\special_tokens_map.json\n",
            "Copy vocab file to .models/summarization/t5-small/ver2-large\\checkpoint-8000\\spiece.model\n",
            "Deleting older checkpoint [.models\\summarization\\t5-small\\ver2-large\\checkpoint-7600] due to args.save_total_limit\n",
            " 26%|██▌       | 8100/31230 [1:58:29<43:09,  8.93it/s]    The following columns in the evaluation set don't have a corresponding argument in `T5ForConditionalGeneration.forward` and have been ignored: article, highlights, id. If article, highlights, id are not expected by `T5ForConditionalGeneration.forward`,  you can safely ignore this message.\n",
            "***** Running Evaluation *****\n",
            "  Num examples = 4996\n",
            "  Batch size = 16\n",
            "                                                      \n",
            " 26%|██▌       | 8100/31230 [1:59:45<43:09,  8.93it/s]"
          ]
        },
        {
          "name": "stdout",
          "output_type": "stream",
          "text": [
            "{'eval_loss': 2.4235122203826904, 'eval_rouge1': 23.4326, 'eval_rouge2': 10.7501, 'eval_rougeL': 19.2066, 'eval_rougeLsum': 22.018, 'eval_gen_len': 18.9992, 'eval_runtime': 75.529, 'eval_samples_per_second': 66.147, 'eval_steps_per_second': 4.144, 'epoch': 2.59}\n"
          ]
        },
        {
          "name": "stderr",
          "output_type": "stream",
          "text": [
            " 26%|██▋       | 8200/31230 [1:59:56<40:46,  9.41it/s]    The following columns in the evaluation set don't have a corresponding argument in `T5ForConditionalGeneration.forward` and have been ignored: article, highlights, id. If article, highlights, id are not expected by `T5ForConditionalGeneration.forward`,  you can safely ignore this message.\n",
            "***** Running Evaluation *****\n",
            "  Num examples = 4996\n",
            "  Batch size = 16\n",
            "                                                      \n",
            " 26%|██▋       | 8200/31230 [2:01:12<40:46,  9.41it/s]Saving model checkpoint to .models/summarization/t5-small/ver2-large\\checkpoint-8200\n",
            "Configuration saved in .models/summarization/t5-small/ver2-large\\checkpoint-8200\\config.json\n"
          ]
        },
        {
          "name": "stdout",
          "output_type": "stream",
          "text": [
            "{'eval_loss': 2.4248523712158203, 'eval_rouge1': 23.4281, 'eval_rouge2': 10.7309, 'eval_rougeL': 19.2054, 'eval_rougeLsum': 22.0123, 'eval_gen_len': 18.9998, 'eval_runtime': 75.3503, 'eval_samples_per_second': 66.304, 'eval_steps_per_second': 4.154, 'epoch': 2.63}\n"
          ]
        },
        {
          "name": "stderr",
          "output_type": "stream",
          "text": [
            "Model weights saved in .models/summarization/t5-small/ver2-large\\checkpoint-8200\\pytorch_model.bin\n",
            "tokenizer config file saved in .models/summarization/t5-small/ver2-large\\checkpoint-8200\\tokenizer_config.json\n",
            "Special tokens file saved in .models/summarization/t5-small/ver2-large\\checkpoint-8200\\special_tokens_map.json\n",
            "Copy vocab file to .models/summarization/t5-small/ver2-large\\checkpoint-8200\\spiece.model\n",
            "Deleting older checkpoint [.models\\summarization\\t5-small\\ver2-large\\checkpoint-7800] due to args.save_total_limit\n",
            " 27%|██▋       | 8300/31230 [2:01:25<42:05,  9.08it/s]    The following columns in the evaluation set don't have a corresponding argument in `T5ForConditionalGeneration.forward` and have been ignored: article, highlights, id. If article, highlights, id are not expected by `T5ForConditionalGeneration.forward`,  you can safely ignore this message.\n",
            "***** Running Evaluation *****\n",
            "  Num examples = 4996\n",
            "  Batch size = 16\n",
            "                                                      \n",
            " 27%|██▋       | 8300/31230 [2:02:40<42:05,  9.08it/s]"
          ]
        },
        {
          "name": "stdout",
          "output_type": "stream",
          "text": [
            "{'eval_loss': 2.4219601154327393, 'eval_rouge1': 23.4492, 'eval_rouge2': 10.687, 'eval_rougeL': 19.2054, 'eval_rougeLsum': 22.0256, 'eval_gen_len': 18.9996, 'eval_runtime': 75.1341, 'eval_samples_per_second': 66.494, 'eval_steps_per_second': 4.166, 'epoch': 2.66}\n"
          ]
        },
        {
          "name": "stderr",
          "output_type": "stream",
          "text": [
            " 27%|██▋       | 8400/31230 [2:02:52<41:38,  9.14it/s]    The following columns in the evaluation set don't have a corresponding argument in `T5ForConditionalGeneration.forward` and have been ignored: article, highlights, id. If article, highlights, id are not expected by `T5ForConditionalGeneration.forward`,  you can safely ignore this message.\n",
            "***** Running Evaluation *****\n",
            "  Num examples = 4996\n",
            "  Batch size = 16\n",
            "                                                      \n",
            " 27%|██▋       | 8400/31230 [2:04:06<41:38,  9.14it/s]Saving model checkpoint to .models/summarization/t5-small/ver2-large\\checkpoint-8400\n",
            "Configuration saved in .models/summarization/t5-small/ver2-large\\checkpoint-8400\\config.json\n"
          ]
        },
        {
          "name": "stdout",
          "output_type": "stream",
          "text": [
            "{'eval_loss': 2.4236743450164795, 'eval_rouge1': 23.3721, 'eval_rouge2': 10.7043, 'eval_rougeL': 19.1479, 'eval_rougeLsum': 21.9503, 'eval_gen_len': 18.9994, 'eval_runtime': 74.4215, 'eval_samples_per_second': 67.131, 'eval_steps_per_second': 4.206, 'epoch': 2.69}\n"
          ]
        },
        {
          "name": "stderr",
          "output_type": "stream",
          "text": [
            "Model weights saved in .models/summarization/t5-small/ver2-large\\checkpoint-8400\\pytorch_model.bin\n",
            "tokenizer config file saved in .models/summarization/t5-small/ver2-large\\checkpoint-8400\\tokenizer_config.json\n",
            "Special tokens file saved in .models/summarization/t5-small/ver2-large\\checkpoint-8400\\special_tokens_map.json\n",
            "Copy vocab file to .models/summarization/t5-small/ver2-large\\checkpoint-8400\\spiece.model\n",
            "Deleting older checkpoint [.models\\summarization\\t5-small\\ver2-large\\checkpoint-8000] due to args.save_total_limit\n",
            " 27%|██▋       | 8500/31230 [2:04:19<40:48,  9.28it/s]    The following columns in the evaluation set don't have a corresponding argument in `T5ForConditionalGeneration.forward` and have been ignored: article, highlights, id. If article, highlights, id are not expected by `T5ForConditionalGeneration.forward`,  you can safely ignore this message.\n",
            "***** Running Evaluation *****\n",
            "  Num examples = 4996\n",
            "  Batch size = 16\n"
          ]
        },
        {
          "name": "stdout",
          "output_type": "stream",
          "text": [
            "{'loss': 2.787, 'learning_rate': 1.4559077809798271e-05, 'epoch': 2.72}\n"
          ]
        },
        {
          "name": "stderr",
          "output_type": "stream",
          "text": [
            "                                                      \n",
            " 27%|██▋       | 8500/31230 [2:05:34<40:48,  9.28it/s]"
          ]
        },
        {
          "name": "stdout",
          "output_type": "stream",
          "text": [
            "{'eval_loss': 2.4234564304351807, 'eval_rouge1': 23.3583, 'eval_rouge2': 10.6802, 'eval_rougeL': 19.1388, 'eval_rougeLsum': 21.947, 'eval_gen_len': 18.9998, 'eval_runtime': 74.6449, 'eval_samples_per_second': 66.93, 'eval_steps_per_second': 4.193, 'epoch': 2.72}\n"
          ]
        },
        {
          "name": "stderr",
          "output_type": "stream",
          "text": [
            " 28%|██▊       | 8600/31230 [2:05:45<42:16,  8.92it/s]    The following columns in the evaluation set don't have a corresponding argument in `T5ForConditionalGeneration.forward` and have been ignored: article, highlights, id. If article, highlights, id are not expected by `T5ForConditionalGeneration.forward`,  you can safely ignore this message.\n",
            "***** Running Evaluation *****\n",
            "  Num examples = 4996\n",
            "  Batch size = 16\n",
            "                                                      \n",
            " 28%|██▊       | 8600/31230 [2:07:00<42:16,  8.92it/s]Saving model checkpoint to .models/summarization/t5-small/ver2-large\\checkpoint-8600\n",
            "Configuration saved in .models/summarization/t5-small/ver2-large\\checkpoint-8600\\config.json\n"
          ]
        },
        {
          "name": "stdout",
          "output_type": "stream",
          "text": [
            "{'eval_loss': 2.423109531402588, 'eval_rouge1': 23.3823, 'eval_rouge2': 10.686, 'eval_rougeL': 19.1658, 'eval_rougeLsum': 21.9801, 'eval_gen_len': 18.9998, 'eval_runtime': 74.5254, 'eval_samples_per_second': 67.038, 'eval_steps_per_second': 4.2, 'epoch': 2.75}\n"
          ]
        },
        {
          "name": "stderr",
          "output_type": "stream",
          "text": [
            "Model weights saved in .models/summarization/t5-small/ver2-large\\checkpoint-8600\\pytorch_model.bin\n",
            "tokenizer config file saved in .models/summarization/t5-small/ver2-large\\checkpoint-8600\\tokenizer_config.json\n",
            "Special tokens file saved in .models/summarization/t5-small/ver2-large\\checkpoint-8600\\special_tokens_map.json\n",
            "Copy vocab file to .models/summarization/t5-small/ver2-large\\checkpoint-8600\\spiece.model\n",
            "Deleting older checkpoint [.models\\summarization\\t5-small\\ver2-large\\checkpoint-8200] due to args.save_total_limit\n",
            " 28%|██▊       | 8700/31230 [2:07:14<38:56,  9.64it/s]    The following columns in the evaluation set don't have a corresponding argument in `T5ForConditionalGeneration.forward` and have been ignored: article, highlights, id. If article, highlights, id are not expected by `T5ForConditionalGeneration.forward`,  you can safely ignore this message.\n",
            "***** Running Evaluation *****\n",
            "  Num examples = 4996\n",
            "  Batch size = 16\n",
            "                                                      \n",
            " 28%|██▊       | 8700/31230 [2:08:29<38:56,  9.64it/s]"
          ]
        },
        {
          "name": "stdout",
          "output_type": "stream",
          "text": [
            "{'eval_loss': 2.4221978187561035, 'eval_rouge1': 23.4487, 'eval_rouge2': 10.7373, 'eval_rougeL': 19.207, 'eval_rougeLsum': 22.0463, 'eval_gen_len': 19.0, 'eval_runtime': 75.1878, 'eval_samples_per_second': 66.447, 'eval_steps_per_second': 4.163, 'epoch': 2.79}\n"
          ]
        },
        {
          "name": "stderr",
          "output_type": "stream",
          "text": [
            " 28%|██▊       | 8800/31230 [2:08:40<39:21,  9.50it/s]    The following columns in the evaluation set don't have a corresponding argument in `T5ForConditionalGeneration.forward` and have been ignored: article, highlights, id. If article, highlights, id are not expected by `T5ForConditionalGeneration.forward`,  you can safely ignore this message.\n",
            "***** Running Evaluation *****\n",
            "  Num examples = 4996\n",
            "  Batch size = 16\n",
            "                                                      \n",
            " 28%|██▊       | 8800/31230 [2:09:55<39:21,  9.50it/s]Saving model checkpoint to .models/summarization/t5-small/ver2-large\\checkpoint-8800\n",
            "Configuration saved in .models/summarization/t5-small/ver2-large\\checkpoint-8800\\config.json\n"
          ]
        },
        {
          "name": "stdout",
          "output_type": "stream",
          "text": [
            "{'eval_loss': 2.4218451976776123, 'eval_rouge1': 23.3959, 'eval_rouge2': 10.6838, 'eval_rougeL': 19.1714, 'eval_rougeLsum': 21.9834, 'eval_gen_len': 19.0, 'eval_runtime': 74.8507, 'eval_samples_per_second': 66.746, 'eval_steps_per_second': 4.182, 'epoch': 2.82}\n"
          ]
        },
        {
          "name": "stderr",
          "output_type": "stream",
          "text": [
            "Model weights saved in .models/summarization/t5-small/ver2-large\\checkpoint-8800\\pytorch_model.bin\n",
            "tokenizer config file saved in .models/summarization/t5-small/ver2-large\\checkpoint-8800\\tokenizer_config.json\n",
            "Special tokens file saved in .models/summarization/t5-small/ver2-large\\checkpoint-8800\\special_tokens_map.json\n",
            "Copy vocab file to .models/summarization/t5-small/ver2-large\\checkpoint-8800\\spiece.model\n",
            "Deleting older checkpoint [.models\\summarization\\t5-small\\ver2-large\\checkpoint-8400] due to args.save_total_limit\n",
            " 28%|██▊       | 8900/31230 [2:10:09<41:45,  8.91it/s]    The following columns in the evaluation set don't have a corresponding argument in `T5ForConditionalGeneration.forward` and have been ignored: article, highlights, id. If article, highlights, id are not expected by `T5ForConditionalGeneration.forward`,  you can safely ignore this message.\n",
            "***** Running Evaluation *****\n",
            "  Num examples = 4996\n",
            "  Batch size = 16\n",
            "                                                      \n",
            " 28%|██▊       | 8900/31230 [2:11:24<41:45,  8.91it/s]"
          ]
        },
        {
          "name": "stdout",
          "output_type": "stream",
          "text": [
            "{'eval_loss': 2.421704053878784, 'eval_rouge1': 23.4332, 'eval_rouge2': 10.7405, 'eval_rougeL': 19.2049, 'eval_rougeLsum': 22.0098, 'eval_gen_len': 19.0, 'eval_runtime': 75.5209, 'eval_samples_per_second': 66.154, 'eval_steps_per_second': 4.145, 'epoch': 2.85}\n"
          ]
        },
        {
          "name": "stderr",
          "output_type": "stream",
          "text": [
            " 29%|██▉       | 9000/31230 [2:11:36<40:44,  9.10it/s]    The following columns in the evaluation set don't have a corresponding argument in `T5ForConditionalGeneration.forward` and have been ignored: article, highlights, id. If article, highlights, id are not expected by `T5ForConditionalGeneration.forward`,  you can safely ignore this message.\n",
            "***** Running Evaluation *****\n",
            "  Num examples = 4996\n",
            "  Batch size = 16\n"
          ]
        },
        {
          "name": "stdout",
          "output_type": "stream",
          "text": [
            "{'loss': 2.797, 'learning_rate': 1.4238872878642332e-05, 'epoch': 2.88}\n"
          ]
        },
        {
          "name": "stderr",
          "output_type": "stream",
          "text": [
            "                                                      \n",
            " 29%|██▉       | 9000/31230 [2:12:51<40:44,  9.10it/s]Saving model checkpoint to .models/summarization/t5-small/ver2-large\\checkpoint-9000\n",
            "Configuration saved in .models/summarization/t5-small/ver2-large\\checkpoint-9000\\config.json\n"
          ]
        },
        {
          "name": "stdout",
          "output_type": "stream",
          "text": [
            "{'eval_loss': 2.422104597091675, 'eval_rouge1': 23.4061, 'eval_rouge2': 10.7071, 'eval_rougeL': 19.1819, 'eval_rougeLsum': 21.9889, 'eval_gen_len': 19.0, 'eval_runtime': 75.0868, 'eval_samples_per_second': 66.536, 'eval_steps_per_second': 4.169, 'epoch': 2.88}\n"
          ]
        },
        {
          "name": "stderr",
          "output_type": "stream",
          "text": [
            "Model weights saved in .models/summarization/t5-small/ver2-large\\checkpoint-9000\\pytorch_model.bin\n",
            "tokenizer config file saved in .models/summarization/t5-small/ver2-large\\checkpoint-9000\\tokenizer_config.json\n",
            "Special tokens file saved in .models/summarization/t5-small/ver2-large\\checkpoint-9000\\special_tokens_map.json\n",
            "Copy vocab file to .models/summarization/t5-small/ver2-large\\checkpoint-9000\\spiece.model\n",
            "Deleting older checkpoint [.models\\summarization\\t5-small\\ver2-large\\checkpoint-8600] due to args.save_total_limit\n",
            " 29%|██▉       | 9100/31230 [2:13:04<41:27,  8.90it/s]    The following columns in the evaluation set don't have a corresponding argument in `T5ForConditionalGeneration.forward` and have been ignored: article, highlights, id. If article, highlights, id are not expected by `T5ForConditionalGeneration.forward`,  you can safely ignore this message.\n",
            "***** Running Evaluation *****\n",
            "  Num examples = 4996\n",
            "  Batch size = 16\n",
            "                                                      \n",
            " 29%|██▉       | 9100/31230 [2:14:19<41:27,  8.90it/s]"
          ]
        },
        {
          "name": "stdout",
          "output_type": "stream",
          "text": [
            "{'eval_loss': 2.4210572242736816, 'eval_rouge1': 23.4312, 'eval_rouge2': 10.7155, 'eval_rougeL': 19.2104, 'eval_rougeLsum': 22.0432, 'eval_gen_len': 19.0, 'eval_runtime': 74.4209, 'eval_samples_per_second': 67.132, 'eval_steps_per_second': 4.206, 'epoch': 2.91}\n"
          ]
        },
        {
          "name": "stderr",
          "output_type": "stream",
          "text": [
            " 29%|██▉       | 9200/31230 [2:14:30<40:16,  9.12it/s]    The following columns in the evaluation set don't have a corresponding argument in `T5ForConditionalGeneration.forward` and have been ignored: article, highlights, id. If article, highlights, id are not expected by `T5ForConditionalGeneration.forward`,  you can safely ignore this message.\n",
            "***** Running Evaluation *****\n",
            "  Num examples = 4996\n",
            "  Batch size = 16\n",
            "                                                      \n",
            " 29%|██▉       | 9200/31230 [2:15:45<40:16,  9.12it/s]Saving model checkpoint to .models/summarization/t5-small/ver2-large\\checkpoint-9200\n",
            "Configuration saved in .models/summarization/t5-small/ver2-large\\checkpoint-9200\\config.json\n"
          ]
        },
        {
          "name": "stdout",
          "output_type": "stream",
          "text": [
            "{'eval_loss': 2.4212076663970947, 'eval_rouge1': 23.4072, 'eval_rouge2': 10.7466, 'eval_rougeL': 19.2292, 'eval_rougeLsum': 22.0066, 'eval_gen_len': 18.9998, 'eval_runtime': 74.9332, 'eval_samples_per_second': 66.673, 'eval_steps_per_second': 4.177, 'epoch': 2.95}\n"
          ]
        },
        {
          "name": "stderr",
          "output_type": "stream",
          "text": [
            "Model weights saved in .models/summarization/t5-small/ver2-large\\checkpoint-9200\\pytorch_model.bin\n",
            "tokenizer config file saved in .models/summarization/t5-small/ver2-large\\checkpoint-9200\\tokenizer_config.json\n",
            "Special tokens file saved in .models/summarization/t5-small/ver2-large\\checkpoint-9200\\special_tokens_map.json\n",
            "Copy vocab file to .models/summarization/t5-small/ver2-large\\checkpoint-9200\\spiece.model\n",
            "Deleting older checkpoint [.models\\summarization\\t5-small\\ver2-large\\checkpoint-8800] due to args.save_total_limit\n",
            " 30%|██▉       | 9300/31230 [2:15:58<41:15,  8.86it/s]    The following columns in the evaluation set don't have a corresponding argument in `T5ForConditionalGeneration.forward` and have been ignored: article, highlights, id. If article, highlights, id are not expected by `T5ForConditionalGeneration.forward`,  you can safely ignore this message.\n",
            "***** Running Evaluation *****\n",
            "  Num examples = 4996\n",
            "  Batch size = 16\n",
            "                                                      \n",
            " 30%|██▉       | 9300/31230 [2:17:14<41:15,  8.86it/s]"
          ]
        },
        {
          "name": "stdout",
          "output_type": "stream",
          "text": [
            "{'eval_loss': 2.419158458709717, 'eval_rouge1': 23.3881, 'eval_rouge2': 10.7093, 'eval_rougeL': 19.2036, 'eval_rougeLsum': 21.9814, 'eval_gen_len': 18.9998, 'eval_runtime': 75.2491, 'eval_samples_per_second': 66.393, 'eval_steps_per_second': 4.16, 'epoch': 2.98}\n"
          ]
        },
        {
          "name": "stderr",
          "output_type": "stream",
          "text": [
            " 30%|███       | 9400/31230 [2:17:25<41:21,  8.80it/s]    The following columns in the evaluation set don't have a corresponding argument in `T5ForConditionalGeneration.forward` and have been ignored: article, highlights, id. If article, highlights, id are not expected by `T5ForConditionalGeneration.forward`,  you can safely ignore this message.\n",
            "***** Running Evaluation *****\n",
            "  Num examples = 4996\n",
            "  Batch size = 16\n",
            "                                                      \n",
            " 30%|███       | 9400/31230 [2:18:40<41:21,  8.80it/s]Saving model checkpoint to .models/summarization/t5-small/ver2-large\\checkpoint-9400\n",
            "Configuration saved in .models/summarization/t5-small/ver2-large\\checkpoint-9400\\config.json\n"
          ]
        },
        {
          "name": "stdout",
          "output_type": "stream",
          "text": [
            "{'eval_loss': 2.4208054542541504, 'eval_rouge1': 23.3773, 'eval_rouge2': 10.7326, 'eval_rougeL': 19.2001, 'eval_rougeLsum': 21.9784, 'eval_gen_len': 18.9998, 'eval_runtime': 75.33, 'eval_samples_per_second': 66.322, 'eval_steps_per_second': 4.155, 'epoch': 3.01}\n"
          ]
        },
        {
          "name": "stderr",
          "output_type": "stream",
          "text": [
            "Model weights saved in .models/summarization/t5-small/ver2-large\\checkpoint-9400\\pytorch_model.bin\n",
            "tokenizer config file saved in .models/summarization/t5-small/ver2-large\\checkpoint-9400\\tokenizer_config.json\n",
            "Special tokens file saved in .models/summarization/t5-small/ver2-large\\checkpoint-9400\\special_tokens_map.json\n",
            "Copy vocab file to .models/summarization/t5-small/ver2-large\\checkpoint-9400\\spiece.model\n",
            "Deleting older checkpoint [.models\\summarization\\t5-small\\ver2-large\\checkpoint-9000] due to args.save_total_limit\n",
            " 30%|███       | 9500/31230 [2:18:54<44:05,  8.21it/s]    The following columns in the evaluation set don't have a corresponding argument in `T5ForConditionalGeneration.forward` and have been ignored: article, highlights, id. If article, highlights, id are not expected by `T5ForConditionalGeneration.forward`,  you can safely ignore this message.\n",
            "***** Running Evaluation *****\n",
            "  Num examples = 4996\n",
            "  Batch size = 16\n"
          ]
        },
        {
          "name": "stdout",
          "output_type": "stream",
          "text": [
            "{'loss': 2.7869, 'learning_rate': 1.3919308357348704e-05, 'epoch': 3.04}\n"
          ]
        },
        {
          "name": "stderr",
          "output_type": "stream",
          "text": [
            "                                                      \n",
            " 30%|███       | 9500/31230 [2:20:10<44:05,  8.21it/s]"
          ]
        },
        {
          "name": "stdout",
          "output_type": "stream",
          "text": [
            "{'eval_loss': 2.4213194847106934, 'eval_rouge1': 23.3521, 'eval_rouge2': 10.7234, 'eval_rougeL': 19.1613, 'eval_rougeLsum': 21.956, 'eval_gen_len': 19.0, 'eval_runtime': 75.7533, 'eval_samples_per_second': 65.951, 'eval_steps_per_second': 4.132, 'epoch': 3.04}\n"
          ]
        },
        {
          "name": "stderr",
          "output_type": "stream",
          "text": [
            " 31%|███       | 9599/31230 [2:20:21<40:59,  8.79it/s]    The following columns in the evaluation set don't have a corresponding argument in `T5ForConditionalGeneration.forward` and have been ignored: article, highlights, id. If article, highlights, id are not expected by `T5ForConditionalGeneration.forward`,  you can safely ignore this message.\n",
            "***** Running Evaluation *****\n",
            "  Num examples = 4996\n",
            "  Batch size = 16\n",
            "                                                      \n",
            " 31%|███       | 9600/31230 [2:21:36<40:59,  8.79it/s]Saving model checkpoint to .models/summarization/t5-small/ver2-large\\checkpoint-9600\n",
            "Configuration saved in .models/summarization/t5-small/ver2-large\\checkpoint-9600\\config.json\n"
          ]
        },
        {
          "name": "stdout",
          "output_type": "stream",
          "text": [
            "{'eval_loss': 2.4208974838256836, 'eval_rouge1': 23.3713, 'eval_rouge2': 10.7222, 'eval_rougeL': 19.1557, 'eval_rougeLsum': 21.96, 'eval_gen_len': 19.0, 'eval_runtime': 74.7054, 'eval_samples_per_second': 66.876, 'eval_steps_per_second': 4.19, 'epoch': 3.07}\n"
          ]
        },
        {
          "name": "stderr",
          "output_type": "stream",
          "text": [
            "Model weights saved in .models/summarization/t5-small/ver2-large\\checkpoint-9600\\pytorch_model.bin\n",
            "tokenizer config file saved in .models/summarization/t5-small/ver2-large\\checkpoint-9600\\tokenizer_config.json\n",
            "Special tokens file saved in .models/summarization/t5-small/ver2-large\\checkpoint-9600\\special_tokens_map.json\n",
            "Copy vocab file to .models/summarization/t5-small/ver2-large\\checkpoint-9600\\spiece.model\n",
            "Deleting older checkpoint [.models\\summarization\\t5-small\\ver2-large\\checkpoint-9200] due to args.save_total_limit\n",
            " 31%|███       | 9700/31230 [2:21:50<41:59,  8.55it/s]    The following columns in the evaluation set don't have a corresponding argument in `T5ForConditionalGeneration.forward` and have been ignored: article, highlights, id. If article, highlights, id are not expected by `T5ForConditionalGeneration.forward`,  you can safely ignore this message.\n",
            "***** Running Evaluation *****\n",
            "  Num examples = 4996\n",
            "  Batch size = 16\n",
            "                                                      \n",
            " 31%|███       | 9700/31230 [2:23:04<41:59,  8.55it/s]"
          ]
        },
        {
          "name": "stdout",
          "output_type": "stream",
          "text": [
            "{'eval_loss': 2.420668125152588, 'eval_rouge1': 23.3654, 'eval_rouge2': 10.7405, 'eval_rougeL': 19.1769, 'eval_rougeLsum': 21.9637, 'eval_gen_len': 18.9998, 'eval_runtime': 74.8858, 'eval_samples_per_second': 66.715, 'eval_steps_per_second': 4.18, 'epoch': 3.11}\n"
          ]
        },
        {
          "name": "stderr",
          "output_type": "stream",
          "text": [
            " 31%|███▏      | 9800/31230 [2:23:16<41:10,  8.67it/s]    The following columns in the evaluation set don't have a corresponding argument in `T5ForConditionalGeneration.forward` and have been ignored: article, highlights, id. If article, highlights, id are not expected by `T5ForConditionalGeneration.forward`,  you can safely ignore this message.\n",
            "***** Running Evaluation *****\n",
            "  Num examples = 4996\n",
            "  Batch size = 16\n",
            "                                                      \n",
            " 31%|███▏      | 9800/31230 [2:24:30<41:10,  8.67it/s]Saving model checkpoint to .models/summarization/t5-small/ver2-large\\checkpoint-9800\n",
            "Configuration saved in .models/summarization/t5-small/ver2-large\\checkpoint-9800\\config.json\n"
          ]
        },
        {
          "name": "stdout",
          "output_type": "stream",
          "text": [
            "{'eval_loss': 2.420955181121826, 'eval_rouge1': 23.3836, 'eval_rouge2': 10.767, 'eval_rougeL': 19.1981, 'eval_rougeLsum': 21.9991, 'eval_gen_len': 18.9998, 'eval_runtime': 74.3312, 'eval_samples_per_second': 67.213, 'eval_steps_per_second': 4.211, 'epoch': 3.14}\n"
          ]
        },
        {
          "name": "stderr",
          "output_type": "stream",
          "text": [
            "Model weights saved in .models/summarization/t5-small/ver2-large\\checkpoint-9800\\pytorch_model.bin\n",
            "tokenizer config file saved in .models/summarization/t5-small/ver2-large\\checkpoint-9800\\tokenizer_config.json\n",
            "Special tokens file saved in .models/summarization/t5-small/ver2-large\\checkpoint-9800\\special_tokens_map.json\n",
            "Copy vocab file to .models/summarization/t5-small/ver2-large\\checkpoint-9800\\spiece.model\n",
            "Deleting older checkpoint [.models\\summarization\\t5-small\\ver2-large\\checkpoint-9400] due to args.save_total_limit\n",
            " 32%|███▏      | 9900/31230 [2:24:44<37:49,  9.40it/s]    The following columns in the evaluation set don't have a corresponding argument in `T5ForConditionalGeneration.forward` and have been ignored: article, highlights, id. If article, highlights, id are not expected by `T5ForConditionalGeneration.forward`,  you can safely ignore this message.\n",
            "***** Running Evaluation *****\n",
            "  Num examples = 4996\n",
            "  Batch size = 16\n",
            "                                                      \n",
            " 32%|███▏      | 9900/31230 [2:26:00<37:49,  9.40it/s]"
          ]
        },
        {
          "name": "stdout",
          "output_type": "stream",
          "text": [
            "{'eval_loss': 2.42134952545166, 'eval_rouge1': 23.3433, 'eval_rouge2': 10.7105, 'eval_rougeL': 19.1628, 'eval_rougeLsum': 21.9491, 'eval_gen_len': 18.9998, 'eval_runtime': 75.9407, 'eval_samples_per_second': 65.788, 'eval_steps_per_second': 4.122, 'epoch': 3.17}\n"
          ]
        },
        {
          "name": "stderr",
          "output_type": "stream",
          "text": [
            " 32%|███▏      | 10000/31230 [2:26:11<36:47,  9.62it/s]   The following columns in the evaluation set don't have a corresponding argument in `T5ForConditionalGeneration.forward` and have been ignored: article, highlights, id. If article, highlights, id are not expected by `T5ForConditionalGeneration.forward`,  you can safely ignore this message.\n",
            "***** Running Evaluation *****\n",
            "  Num examples = 4996\n",
            "  Batch size = 16\n"
          ]
        },
        {
          "name": "stdout",
          "output_type": "stream",
          "text": [
            "{'loss': 2.7693, 'learning_rate': 1.3599103426192764e-05, 'epoch': 3.2}\n"
          ]
        },
        {
          "name": "stderr",
          "output_type": "stream",
          "text": [
            "                                                       \n",
            " 32%|███▏      | 10000/31230 [2:27:25<36:47,  9.62it/s]Saving model checkpoint to .models/summarization/t5-small/ver2-large\\checkpoint-10000\n",
            "Configuration saved in .models/summarization/t5-small/ver2-large\\checkpoint-10000\\config.json\n"
          ]
        },
        {
          "name": "stdout",
          "output_type": "stream",
          "text": [
            "{'eval_loss': 2.419931173324585, 'eval_rouge1': 23.3723, 'eval_rouge2': 10.7331, 'eval_rougeL': 19.1891, 'eval_rougeLsum': 21.9747, 'eval_gen_len': 19.0, 'eval_runtime': 73.984, 'eval_samples_per_second': 67.528, 'eval_steps_per_second': 4.231, 'epoch': 3.2}\n"
          ]
        },
        {
          "name": "stderr",
          "output_type": "stream",
          "text": [
            "Model weights saved in .models/summarization/t5-small/ver2-large\\checkpoint-10000\\pytorch_model.bin\n",
            "tokenizer config file saved in .models/summarization/t5-small/ver2-large\\checkpoint-10000\\tokenizer_config.json\n",
            "Special tokens file saved in .models/summarization/t5-small/ver2-large\\checkpoint-10000\\special_tokens_map.json\n",
            "Copy vocab file to .models/summarization/t5-small/ver2-large\\checkpoint-10000\\spiece.model\n",
            "Deleting older checkpoint [.models\\summarization\\t5-small\\ver2-large\\checkpoint-9600] due to args.save_total_limit\n",
            " 32%|███▏      | 10100/31230 [2:27:39<39:01,  9.02it/s]    The following columns in the evaluation set don't have a corresponding argument in `T5ForConditionalGeneration.forward` and have been ignored: article, highlights, id. If article, highlights, id are not expected by `T5ForConditionalGeneration.forward`,  you can safely ignore this message.\n",
            "***** Running Evaluation *****\n",
            "  Num examples = 4996\n",
            "  Batch size = 16\n",
            "                                                       \n",
            " 32%|███▏      | 10100/31230 [2:28:57<39:01,  9.02it/s]"
          ]
        },
        {
          "name": "stdout",
          "output_type": "stream",
          "text": [
            "{'eval_loss': 2.419917583465576, 'eval_rouge1': 23.3801, 'eval_rouge2': 10.7215, 'eval_rougeL': 19.2175, 'eval_rougeLsum': 21.9835, 'eval_gen_len': 18.9996, 'eval_runtime': 77.2495, 'eval_samples_per_second': 64.674, 'eval_steps_per_second': 4.052, 'epoch': 3.23}\n"
          ]
        },
        {
          "name": "stderr",
          "output_type": "stream",
          "text": [
            " 33%|███▎      | 10200/31230 [2:29:08<36:16,  9.66it/s]    The following columns in the evaluation set don't have a corresponding argument in `T5ForConditionalGeneration.forward` and have been ignored: article, highlights, id. If article, highlights, id are not expected by `T5ForConditionalGeneration.forward`,  you can safely ignore this message.\n",
            "***** Running Evaluation *****\n",
            "  Num examples = 4996\n",
            "  Batch size = 16\n",
            "                                                       \n",
            " 33%|███▎      | 10200/31230 [2:30:22<36:16,  9.66it/s]Saving model checkpoint to .models/summarization/t5-small/ver2-large\\checkpoint-10200\n",
            "Configuration saved in .models/summarization/t5-small/ver2-large\\checkpoint-10200\\config.json\n"
          ]
        },
        {
          "name": "stdout",
          "output_type": "stream",
          "text": [
            "{'eval_loss': 2.4202780723571777, 'eval_rouge1': 23.4038, 'eval_rouge2': 10.7815, 'eval_rougeL': 19.1981, 'eval_rougeLsum': 22.007, 'eval_gen_len': 18.9994, 'eval_runtime': 73.9598, 'eval_samples_per_second': 67.55, 'eval_steps_per_second': 4.232, 'epoch': 3.27}\n"
          ]
        },
        {
          "name": "stderr",
          "output_type": "stream",
          "text": [
            "Model weights saved in .models/summarization/t5-small/ver2-large\\checkpoint-10200\\pytorch_model.bin\n",
            "tokenizer config file saved in .models/summarization/t5-small/ver2-large\\checkpoint-10200\\tokenizer_config.json\n",
            "Special tokens file saved in .models/summarization/t5-small/ver2-large\\checkpoint-10200\\special_tokens_map.json\n",
            "Copy vocab file to .models/summarization/t5-small/ver2-large\\checkpoint-10200\\spiece.model\n",
            "Deleting older checkpoint [.models\\summarization\\t5-small\\ver2-large\\checkpoint-9800] due to args.save_total_limit\n",
            " 33%|███▎      | 10300/31230 [2:30:36<37:28,  9.31it/s]    The following columns in the evaluation set don't have a corresponding argument in `T5ForConditionalGeneration.forward` and have been ignored: article, highlights, id. If article, highlights, id are not expected by `T5ForConditionalGeneration.forward`,  you can safely ignore this message.\n",
            "***** Running Evaluation *****\n",
            "  Num examples = 4996\n",
            "  Batch size = 16\n",
            "                                                       \n",
            " 33%|███▎      | 10300/31230 [2:31:50<37:28,  9.31it/s]"
          ]
        },
        {
          "name": "stdout",
          "output_type": "stream",
          "text": [
            "{'eval_loss': 2.4194157123565674, 'eval_rouge1': 23.4248, 'eval_rouge2': 10.7504, 'eval_rougeL': 19.2161, 'eval_rougeLsum': 22.0313, 'eval_gen_len': 18.9998, 'eval_runtime': 74.3333, 'eval_samples_per_second': 67.211, 'eval_steps_per_second': 4.211, 'epoch': 3.3}\n"
          ]
        },
        {
          "name": "stderr",
          "output_type": "stream",
          "text": [
            " 33%|███▎      | 10400/31230 [2:32:02<37:28,  9.26it/s]    The following columns in the evaluation set don't have a corresponding argument in `T5ForConditionalGeneration.forward` and have been ignored: article, highlights, id. If article, highlights, id are not expected by `T5ForConditionalGeneration.forward`,  you can safely ignore this message.\n",
            "***** Running Evaluation *****\n",
            "  Num examples = 4996\n",
            "  Batch size = 16\n",
            "                                                       \n",
            " 33%|███▎      | 10400/31230 [2:33:17<37:28,  9.26it/s]Saving model checkpoint to .models/summarization/t5-small/ver2-large\\checkpoint-10400\n",
            "Configuration saved in .models/summarization/t5-small/ver2-large\\checkpoint-10400\\config.json\n"
          ]
        },
        {
          "name": "stdout",
          "output_type": "stream",
          "text": [
            "{'eval_loss': 2.420013189315796, 'eval_rouge1': 23.4081, 'eval_rouge2': 10.75, 'eval_rougeL': 19.2075, 'eval_rougeLsum': 22.0091, 'eval_gen_len': 18.9998, 'eval_runtime': 75.164, 'eval_samples_per_second': 66.468, 'eval_steps_per_second': 4.164, 'epoch': 3.33}\n"
          ]
        },
        {
          "name": "stderr",
          "output_type": "stream",
          "text": [
            "Model weights saved in .models/summarization/t5-small/ver2-large\\checkpoint-10400\\pytorch_model.bin\n",
            "tokenizer config file saved in .models/summarization/t5-small/ver2-large\\checkpoint-10400\\tokenizer_config.json\n",
            "Special tokens file saved in .models/summarization/t5-small/ver2-large\\checkpoint-10400\\special_tokens_map.json\n",
            "Copy vocab file to .models/summarization/t5-small/ver2-large\\checkpoint-10400\\spiece.model\n",
            "Deleting older checkpoint [.models\\summarization\\t5-small\\ver2-large\\checkpoint-10000] due to args.save_total_limit\n",
            " 34%|███▎      | 10500/31230 [2:33:30<35:13,  9.81it/s]    The following columns in the evaluation set don't have a corresponding argument in `T5ForConditionalGeneration.forward` and have been ignored: article, highlights, id. If article, highlights, id are not expected by `T5ForConditionalGeneration.forward`,  you can safely ignore this message.\n",
            "***** Running Evaluation *****\n",
            "  Num examples = 4996\n",
            "  Batch size = 16\n"
          ]
        },
        {
          "name": "stdout",
          "output_type": "stream",
          "text": [
            "{'loss': 2.7811, 'learning_rate': 1.3279538904899136e-05, 'epoch': 3.36}\n"
          ]
        },
        {
          "name": "stderr",
          "output_type": "stream",
          "text": [
            "                                                       \n",
            " 34%|███▎      | 10500/31230 [2:34:46<35:13,  9.81it/s]"
          ]
        },
        {
          "name": "stdout",
          "output_type": "stream",
          "text": [
            "{'eval_loss': 2.4187841415405273, 'eval_rouge1': 23.4269, 'eval_rouge2': 10.7533, 'eval_rougeL': 19.2127, 'eval_rougeLsum': 22.0183, 'eval_gen_len': 18.9994, 'eval_runtime': 75.3634, 'eval_samples_per_second': 66.292, 'eval_steps_per_second': 4.153, 'epoch': 3.36}\n"
          ]
        },
        {
          "name": "stderr",
          "output_type": "stream",
          "text": [
            " 34%|███▍      | 10600/31230 [2:34:59<37:09,  9.25it/s]    The following columns in the evaluation set don't have a corresponding argument in `T5ForConditionalGeneration.forward` and have been ignored: article, highlights, id. If article, highlights, id are not expected by `T5ForConditionalGeneration.forward`,  you can safely ignore this message.\n",
            "***** Running Evaluation *****\n",
            "  Num examples = 4996\n",
            "  Batch size = 16\n",
            "                                                       \n",
            " 34%|███▍      | 10600/31230 [2:36:14<37:09,  9.25it/s]Saving model checkpoint to .models/summarization/t5-small/ver2-large\\checkpoint-10600\n",
            "Configuration saved in .models/summarization/t5-small/ver2-large\\checkpoint-10600\\config.json\n"
          ]
        },
        {
          "name": "stdout",
          "output_type": "stream",
          "text": [
            "{'eval_loss': 2.4190502166748047, 'eval_rouge1': 23.4313, 'eval_rouge2': 10.7366, 'eval_rougeL': 19.2256, 'eval_rougeLsum': 22.0325, 'eval_gen_len': 18.9996, 'eval_runtime': 74.8178, 'eval_samples_per_second': 66.776, 'eval_steps_per_second': 4.183, 'epoch': 3.39}\n"
          ]
        },
        {
          "name": "stderr",
          "output_type": "stream",
          "text": [
            "Model weights saved in .models/summarization/t5-small/ver2-large\\checkpoint-10600\\pytorch_model.bin\n",
            "tokenizer config file saved in .models/summarization/t5-small/ver2-large\\checkpoint-10600\\tokenizer_config.json\n",
            "Special tokens file saved in .models/summarization/t5-small/ver2-large\\checkpoint-10600\\special_tokens_map.json\n",
            "Copy vocab file to .models/summarization/t5-small/ver2-large\\checkpoint-10600\\spiece.model\n",
            "Deleting older checkpoint [.models\\summarization\\t5-small\\ver2-large\\checkpoint-10200] due to args.save_total_limit\n",
            " 34%|███▍      | 10700/31230 [2:36:27<38:19,  8.93it/s]    The following columns in the evaluation set don't have a corresponding argument in `T5ForConditionalGeneration.forward` and have been ignored: article, highlights, id. If article, highlights, id are not expected by `T5ForConditionalGeneration.forward`,  you can safely ignore this message.\n",
            "***** Running Evaluation *****\n",
            "  Num examples = 4996\n",
            "  Batch size = 16\n",
            "                                                       \n",
            " 34%|███▍      | 10700/31230 [2:37:42<38:19,  8.93it/s]"
          ]
        },
        {
          "name": "stdout",
          "output_type": "stream",
          "text": [
            "{'eval_loss': 2.4186220169067383, 'eval_rouge1': 23.4301, 'eval_rouge2': 10.7695, 'eval_rougeL': 19.2286, 'eval_rougeLsum': 22.0335, 'eval_gen_len': 18.9992, 'eval_runtime': 75.4364, 'eval_samples_per_second': 66.228, 'eval_steps_per_second': 4.149, 'epoch': 3.43}\n"
          ]
        },
        {
          "name": "stderr",
          "output_type": "stream",
          "text": [
            " 35%|███▍      | 10800/31230 [2:37:54<40:53,  8.33it/s]    The following columns in the evaluation set don't have a corresponding argument in `T5ForConditionalGeneration.forward` and have been ignored: article, highlights, id. If article, highlights, id are not expected by `T5ForConditionalGeneration.forward`,  you can safely ignore this message.\n",
            "***** Running Evaluation *****\n",
            "  Num examples = 4996\n",
            "  Batch size = 16\n",
            "                                                       \n",
            " 35%|███▍      | 10800/31230 [2:39:08<40:53,  8.33it/s]Saving model checkpoint to .models/summarization/t5-small/ver2-large\\checkpoint-10800\n",
            "Configuration saved in .models/summarization/t5-small/ver2-large\\checkpoint-10800\\config.json\n"
          ]
        },
        {
          "name": "stdout",
          "output_type": "stream",
          "text": [
            "{'eval_loss': 2.4185569286346436, 'eval_rouge1': 23.4064, 'eval_rouge2': 10.7473, 'eval_rougeL': 19.2203, 'eval_rougeLsum': 22.0326, 'eval_gen_len': 18.9996, 'eval_runtime': 74.4019, 'eval_samples_per_second': 67.149, 'eval_steps_per_second': 4.207, 'epoch': 3.46}\n"
          ]
        },
        {
          "name": "stderr",
          "output_type": "stream",
          "text": [
            "Model weights saved in .models/summarization/t5-small/ver2-large\\checkpoint-10800\\pytorch_model.bin\n",
            "tokenizer config file saved in .models/summarization/t5-small/ver2-large\\checkpoint-10800\\tokenizer_config.json\n",
            "Special tokens file saved in .models/summarization/t5-small/ver2-large\\checkpoint-10800\\special_tokens_map.json\n",
            "Copy vocab file to .models/summarization/t5-small/ver2-large\\checkpoint-10800\\spiece.model\n",
            "Deleting older checkpoint [.models\\summarization\\t5-small\\ver2-large\\checkpoint-10400] due to args.save_total_limit\n",
            " 35%|███▍      | 10900/31230 [2:39:21<41:49,  8.10it/s]    The following columns in the evaluation set don't have a corresponding argument in `T5ForConditionalGeneration.forward` and have been ignored: article, highlights, id. If article, highlights, id are not expected by `T5ForConditionalGeneration.forward`,  you can safely ignore this message.\n",
            "***** Running Evaluation *****\n",
            "  Num examples = 4996\n",
            "  Batch size = 16\n",
            "                                                       \n",
            " 35%|███▍      | 10900/31230 [2:40:36<41:49,  8.10it/s]"
          ]
        },
        {
          "name": "stdout",
          "output_type": "stream",
          "text": [
            "{'eval_loss': 2.417938709259033, 'eval_rouge1': 23.3557, 'eval_rouge2': 10.7105, 'eval_rougeL': 19.1761, 'eval_rougeLsum': 21.9652, 'eval_gen_len': 18.9996, 'eval_runtime': 74.6288, 'eval_samples_per_second': 66.945, 'eval_steps_per_second': 4.194, 'epoch': 3.49}\n"
          ]
        },
        {
          "name": "stderr",
          "output_type": "stream",
          "text": [
            " 35%|███▌      | 11000/31230 [2:40:47<37:46,  8.93it/s]    The following columns in the evaluation set don't have a corresponding argument in `T5ForConditionalGeneration.forward` and have been ignored: article, highlights, id. If article, highlights, id are not expected by `T5ForConditionalGeneration.forward`,  you can safely ignore this message.\n",
            "***** Running Evaluation *****\n",
            "  Num examples = 4996\n",
            "  Batch size = 16\n"
          ]
        },
        {
          "name": "stdout",
          "output_type": "stream",
          "text": [
            "{'loss': 2.7834, 'learning_rate': 1.2959333973743198e-05, 'epoch': 3.52}\n"
          ]
        },
        {
          "name": "stderr",
          "output_type": "stream",
          "text": [
            "                                                       \n",
            " 35%|███▌      | 11000/31230 [2:42:03<37:46,  8.93it/s]Saving model checkpoint to .models/summarization/t5-small/ver2-large\\checkpoint-11000\n",
            "Configuration saved in .models/summarization/t5-small/ver2-large\\checkpoint-11000\\config.json\n"
          ]
        },
        {
          "name": "stdout",
          "output_type": "stream",
          "text": [
            "{'eval_loss': 2.417717456817627, 'eval_rouge1': 23.3696, 'eval_rouge2': 10.7149, 'eval_rougeL': 19.1936, 'eval_rougeLsum': 21.9767, 'eval_gen_len': 18.9992, 'eval_runtime': 75.0518, 'eval_samples_per_second': 66.567, 'eval_steps_per_second': 4.17, 'epoch': 3.52}\n"
          ]
        },
        {
          "name": "stderr",
          "output_type": "stream",
          "text": [
            "Model weights saved in .models/summarization/t5-small/ver2-large\\checkpoint-11000\\pytorch_model.bin\n",
            "tokenizer config file saved in .models/summarization/t5-small/ver2-large\\checkpoint-11000\\tokenizer_config.json\n",
            "Special tokens file saved in .models/summarization/t5-small/ver2-large\\checkpoint-11000\\special_tokens_map.json\n",
            "Copy vocab file to .models/summarization/t5-small/ver2-large\\checkpoint-11000\\spiece.model\n",
            "Deleting older checkpoint [.models\\summarization\\t5-small\\ver2-large\\checkpoint-10600] due to args.save_total_limit\n",
            " 36%|███▌      | 11100/31230 [2:42:16<38:53,  8.63it/s]    The following columns in the evaluation set don't have a corresponding argument in `T5ForConditionalGeneration.forward` and have been ignored: article, highlights, id. If article, highlights, id are not expected by `T5ForConditionalGeneration.forward`,  you can safely ignore this message.\n",
            "***** Running Evaluation *****\n",
            "  Num examples = 4996\n",
            "  Batch size = 16\n",
            "                                                       \n",
            " 36%|███▌      | 11100/31230 [2:43:31<38:53,  8.63it/s]"
          ]
        },
        {
          "name": "stdout",
          "output_type": "stream",
          "text": [
            "{'eval_loss': 2.4181177616119385, 'eval_rouge1': 23.3295, 'eval_rouge2': 10.6824, 'eval_rougeL': 19.1581, 'eval_rougeLsum': 21.9405, 'eval_gen_len': 18.9992, 'eval_runtime': 74.7756, 'eval_samples_per_second': 66.813, 'eval_steps_per_second': 4.186, 'epoch': 3.55}\n"
          ]
        },
        {
          "name": "stderr",
          "output_type": "stream",
          "text": [
            " 36%|███▌      | 11200/31230 [2:43:42<36:53,  9.05it/s]    The following columns in the evaluation set don't have a corresponding argument in `T5ForConditionalGeneration.forward` and have been ignored: article, highlights, id. If article, highlights, id are not expected by `T5ForConditionalGeneration.forward`,  you can safely ignore this message.\n",
            "***** Running Evaluation *****\n",
            "  Num examples = 4996\n",
            "  Batch size = 16\n",
            "                                                       \n",
            " 36%|███▌      | 11200/31230 [2:44:56<36:53,  9.05it/s]Saving model checkpoint to .models/summarization/t5-small/ver2-large\\checkpoint-11200\n",
            "Configuration saved in .models/summarization/t5-small/ver2-large\\checkpoint-11200\\config.json\n"
          ]
        },
        {
          "name": "stdout",
          "output_type": "stream",
          "text": [
            "{'eval_loss': 2.418046712875366, 'eval_rouge1': 23.3204, 'eval_rouge2': 10.6904, 'eval_rougeL': 19.1413, 'eval_rougeLsum': 21.9292, 'eval_gen_len': 18.9992, 'eval_runtime': 74.2047, 'eval_samples_per_second': 67.327, 'eval_steps_per_second': 4.218, 'epoch': 3.59}\n"
          ]
        },
        {
          "name": "stderr",
          "output_type": "stream",
          "text": [
            "Model weights saved in .models/summarization/t5-small/ver2-large\\checkpoint-11200\\pytorch_model.bin\n",
            "tokenizer config file saved in .models/summarization/t5-small/ver2-large\\checkpoint-11200\\tokenizer_config.json\n",
            "Special tokens file saved in .models/summarization/t5-small/ver2-large\\checkpoint-11200\\special_tokens_map.json\n",
            "Copy vocab file to .models/summarization/t5-small/ver2-large\\checkpoint-11200\\spiece.model\n",
            "Deleting older checkpoint [.models\\summarization\\t5-small\\ver2-large\\checkpoint-10800] due to args.save_total_limit\n",
            " 36%|███▌      | 11300/31230 [2:45:10<38:55,  8.53it/s]    The following columns in the evaluation set don't have a corresponding argument in `T5ForConditionalGeneration.forward` and have been ignored: article, highlights, id. If article, highlights, id are not expected by `T5ForConditionalGeneration.forward`,  you can safely ignore this message.\n",
            "***** Running Evaluation *****\n",
            "  Num examples = 4996\n",
            "  Batch size = 16\n",
            "                                                       \n",
            " 36%|███▌      | 11300/31230 [2:46:25<38:55,  8.53it/s]"
          ]
        },
        {
          "name": "stdout",
          "output_type": "stream",
          "text": [
            "{'eval_loss': 2.418665885925293, 'eval_rouge1': 23.3224, 'eval_rouge2': 10.6932, 'eval_rougeL': 19.1384, 'eval_rougeLsum': 21.9256, 'eval_gen_len': 18.9992, 'eval_runtime': 75.0262, 'eval_samples_per_second': 66.59, 'eval_steps_per_second': 4.172, 'epoch': 3.62}\n"
          ]
        },
        {
          "name": "stderr",
          "output_type": "stream",
          "text": [
            " 37%|███▋      | 11400/31230 [2:46:36<37:37,  8.78it/s]    The following columns in the evaluation set don't have a corresponding argument in `T5ForConditionalGeneration.forward` and have been ignored: article, highlights, id. If article, highlights, id are not expected by `T5ForConditionalGeneration.forward`,  you can safely ignore this message.\n",
            "***** Running Evaluation *****\n",
            "  Num examples = 4996\n",
            "  Batch size = 16\n",
            "                                                       \n",
            " 37%|███▋      | 11400/31230 [2:47:51<37:37,  8.78it/s]Saving model checkpoint to .models/summarization/t5-small/ver2-large\\checkpoint-11400\n",
            "Configuration saved in .models/summarization/t5-small/ver2-large\\checkpoint-11400\\config.json\n"
          ]
        },
        {
          "name": "stdout",
          "output_type": "stream",
          "text": [
            "{'eval_loss': 2.4173526763916016, 'eval_rouge1': 23.3947, 'eval_rouge2': 10.7374, 'eval_rougeL': 19.2079, 'eval_rougeLsum': 22.0029, 'eval_gen_len': 18.9992, 'eval_runtime': 74.4405, 'eval_samples_per_second': 67.114, 'eval_steps_per_second': 4.205, 'epoch': 3.65}\n"
          ]
        },
        {
          "name": "stderr",
          "output_type": "stream",
          "text": [
            "Model weights saved in .models/summarization/t5-small/ver2-large\\checkpoint-11400\\pytorch_model.bin\n",
            "tokenizer config file saved in .models/summarization/t5-small/ver2-large\\checkpoint-11400\\tokenizer_config.json\n",
            "Special tokens file saved in .models/summarization/t5-small/ver2-large\\checkpoint-11400\\special_tokens_map.json\n",
            "Copy vocab file to .models/summarization/t5-small/ver2-large\\checkpoint-11400\\spiece.model\n",
            "Deleting older checkpoint [.models\\summarization\\t5-small\\ver2-large\\checkpoint-11000] due to args.save_total_limit\n",
            " 37%|███▋      | 11500/31230 [2:48:04<35:47,  9.19it/s]    The following columns in the evaluation set don't have a corresponding argument in `T5ForConditionalGeneration.forward` and have been ignored: article, highlights, id. If article, highlights, id are not expected by `T5ForConditionalGeneration.forward`,  you can safely ignore this message.\n",
            "***** Running Evaluation *****\n",
            "  Num examples = 4996\n",
            "  Batch size = 16\n"
          ]
        },
        {
          "name": "stdout",
          "output_type": "stream",
          "text": [
            "{'loss': 2.7848, 'learning_rate': 1.2639129042587256e-05, 'epoch': 3.68}\n"
          ]
        },
        {
          "name": "stderr",
          "output_type": "stream",
          "text": [
            "                                                       \n",
            " 37%|███▋      | 11500/31230 [2:49:21<35:47,  9.19it/s]"
          ]
        },
        {
          "name": "stdout",
          "output_type": "stream",
          "text": [
            "{'eval_loss': 2.4178578853607178, 'eval_rouge1': 23.3662, 'eval_rouge2': 10.7209, 'eval_rougeL': 19.1804, 'eval_rougeLsum': 21.9774, 'eval_gen_len': 18.9996, 'eval_runtime': 76.7139, 'eval_samples_per_second': 65.125, 'eval_steps_per_second': 4.08, 'epoch': 3.68}\n"
          ]
        },
        {
          "name": "stderr",
          "output_type": "stream",
          "text": [
            " 37%|███▋      | 11600/31230 [2:49:32<37:06,  8.82it/s]    The following columns in the evaluation set don't have a corresponding argument in `T5ForConditionalGeneration.forward` and have been ignored: article, highlights, id. If article, highlights, id are not expected by `T5ForConditionalGeneration.forward`,  you can safely ignore this message.\n",
            "***** Running Evaluation *****\n",
            "  Num examples = 4996\n",
            "  Batch size = 16\n",
            "                                                       \n",
            " 37%|███▋      | 11600/31230 [2:50:49<37:06,  8.82it/s]Saving model checkpoint to .models/summarization/t5-small/ver2-large\\checkpoint-11600\n",
            "Configuration saved in .models/summarization/t5-small/ver2-large\\checkpoint-11600\\config.json\n"
          ]
        },
        {
          "name": "stdout",
          "output_type": "stream",
          "text": [
            "{'eval_loss': 2.417165517807007, 'eval_rouge1': 23.4448, 'eval_rouge2': 10.7925, 'eval_rougeL': 19.2501, 'eval_rougeLsum': 22.0478, 'eval_gen_len': 18.9996, 'eval_runtime': 76.3052, 'eval_samples_per_second': 65.474, 'eval_steps_per_second': 4.102, 'epoch': 3.71}\n"
          ]
        },
        {
          "name": "stderr",
          "output_type": "stream",
          "text": [
            "Model weights saved in .models/summarization/t5-small/ver2-large\\checkpoint-11600\\pytorch_model.bin\n",
            "tokenizer config file saved in .models/summarization/t5-small/ver2-large\\checkpoint-11600\\tokenizer_config.json\n",
            "Special tokens file saved in .models/summarization/t5-small/ver2-large\\checkpoint-11600\\special_tokens_map.json\n",
            "Copy vocab file to .models/summarization/t5-small/ver2-large\\checkpoint-11600\\spiece.model\n",
            "Deleting older checkpoint [.models\\summarization\\t5-small\\ver2-large\\checkpoint-11200] due to args.save_total_limit\n",
            " 37%|███▋      | 11700/31230 [2:51:02<37:57,  8.58it/s]    The following columns in the evaluation set don't have a corresponding argument in `T5ForConditionalGeneration.forward` and have been ignored: article, highlights, id. If article, highlights, id are not expected by `T5ForConditionalGeneration.forward`,  you can safely ignore this message.\n",
            "***** Running Evaluation *****\n",
            "  Num examples = 4996\n",
            "  Batch size = 16\n",
            "                                                       \n",
            " 37%|███▋      | 11700/31230 [2:52:18<37:57,  8.58it/s]"
          ]
        },
        {
          "name": "stdout",
          "output_type": "stream",
          "text": [
            "{'eval_loss': 2.417724132537842, 'eval_rouge1': 23.4183, 'eval_rouge2': 10.7791, 'eval_rougeL': 19.2385, 'eval_rougeLsum': 22.0307, 'eval_gen_len': 18.9998, 'eval_runtime': 75.6648, 'eval_samples_per_second': 66.028, 'eval_steps_per_second': 4.137, 'epoch': 3.75}\n"
          ]
        },
        {
          "name": "stderr",
          "output_type": "stream",
          "text": [
            " 38%|███▊      | 11799/31230 [2:52:29<38:24,  8.43it/s]    The following columns in the evaluation set don't have a corresponding argument in `T5ForConditionalGeneration.forward` and have been ignored: article, highlights, id. If article, highlights, id are not expected by `T5ForConditionalGeneration.forward`,  you can safely ignore this message.\n",
            "***** Running Evaluation *****\n",
            "  Num examples = 4996\n",
            "  Batch size = 16\n",
            "                                                       \n",
            " 38%|███▊      | 11800/31230 [2:53:44<38:24,  8.43it/s]Saving model checkpoint to .models/summarization/t5-small/ver2-large\\checkpoint-11800\n",
            "Configuration saved in .models/summarization/t5-small/ver2-large\\checkpoint-11800\\config.json\n"
          ]
        },
        {
          "name": "stdout",
          "output_type": "stream",
          "text": [
            "{'eval_loss': 2.4157228469848633, 'eval_rouge1': 23.4197, 'eval_rouge2': 10.7434, 'eval_rougeL': 19.2165, 'eval_rougeLsum': 22.0211, 'eval_gen_len': 18.9994, 'eval_runtime': 74.5652, 'eval_samples_per_second': 67.002, 'eval_steps_per_second': 4.198, 'epoch': 3.78}\n"
          ]
        },
        {
          "name": "stderr",
          "output_type": "stream",
          "text": [
            "Model weights saved in .models/summarization/t5-small/ver2-large\\checkpoint-11800\\pytorch_model.bin\n",
            "tokenizer config file saved in .models/summarization/t5-small/ver2-large\\checkpoint-11800\\tokenizer_config.json\n",
            "Special tokens file saved in .models/summarization/t5-small/ver2-large\\checkpoint-11800\\special_tokens_map.json\n",
            "Copy vocab file to .models/summarization/t5-small/ver2-large\\checkpoint-11800\\spiece.model\n",
            "Deleting older checkpoint [.models\\summarization\\t5-small\\ver2-large\\checkpoint-11400] due to args.save_total_limit\n",
            " 38%|███▊      | 11900/31230 [2:53:57<36:38,  8.79it/s]   The following columns in the evaluation set don't have a corresponding argument in `T5ForConditionalGeneration.forward` and have been ignored: article, highlights, id. If article, highlights, id are not expected by `T5ForConditionalGeneration.forward`,  you can safely ignore this message.\n",
            "***** Running Evaluation *****\n",
            "  Num examples = 4996\n",
            "  Batch size = 16\n",
            "                                                       \n",
            " 38%|███▊      | 11900/31230 [2:55:12<36:38,  8.79it/s]"
          ]
        },
        {
          "name": "stdout",
          "output_type": "stream",
          "text": [
            "{'eval_loss': 2.416799783706665, 'eval_rouge1': 23.3935, 'eval_rouge2': 10.7584, 'eval_rougeL': 19.1914, 'eval_rougeLsum': 21.9862, 'eval_gen_len': 18.9998, 'eval_runtime': 74.7623, 'eval_samples_per_second': 66.825, 'eval_steps_per_second': 4.187, 'epoch': 3.81}\n"
          ]
        },
        {
          "name": "stderr",
          "output_type": "stream",
          "text": [
            " 38%|███▊      | 12000/31230 [2:55:23<36:00,  8.90it/s]    The following columns in the evaluation set don't have a corresponding argument in `T5ForConditionalGeneration.forward` and have been ignored: article, highlights, id. If article, highlights, id are not expected by `T5ForConditionalGeneration.forward`,  you can safely ignore this message.\n",
            "***** Running Evaluation *****\n",
            "  Num examples = 4996\n",
            "  Batch size = 16\n"
          ]
        },
        {
          "name": "stdout",
          "output_type": "stream",
          "text": [
            "{'loss': 2.7559, 'learning_rate': 1.2318924111431317e-05, 'epoch': 3.84}\n"
          ]
        },
        {
          "name": "stderr",
          "output_type": "stream",
          "text": [
            "                                                       \n",
            " 38%|███▊      | 12000/31230 [2:56:38<36:00,  8.90it/s]Saving model checkpoint to .models/summarization/t5-small/ver2-large\\checkpoint-12000\n",
            "Configuration saved in .models/summarization/t5-small/ver2-large\\checkpoint-12000\\config.json\n"
          ]
        },
        {
          "name": "stdout",
          "output_type": "stream",
          "text": [
            "{'eval_loss': 2.4166247844696045, 'eval_rouge1': 23.4208, 'eval_rouge2': 10.7565, 'eval_rougeL': 19.2136, 'eval_rougeLsum': 22.0006, 'eval_gen_len': 18.9992, 'eval_runtime': 75.0976, 'eval_samples_per_second': 66.527, 'eval_steps_per_second': 4.168, 'epoch': 3.84}\n"
          ]
        },
        {
          "name": "stderr",
          "output_type": "stream",
          "text": [
            "Model weights saved in .models/summarization/t5-small/ver2-large\\checkpoint-12000\\pytorch_model.bin\n",
            "tokenizer config file saved in .models/summarization/t5-small/ver2-large\\checkpoint-12000\\tokenizer_config.json\n",
            "Special tokens file saved in .models/summarization/t5-small/ver2-large\\checkpoint-12000\\special_tokens_map.json\n",
            "Copy vocab file to .models/summarization/t5-small/ver2-large\\checkpoint-12000\\spiece.model\n",
            "Deleting older checkpoint [.models\\summarization\\t5-small\\ver2-large\\checkpoint-11600] due to args.save_total_limit\n",
            " 39%|███▊      | 12100/31230 [2:56:52<37:31,  8.50it/s]   The following columns in the evaluation set don't have a corresponding argument in `T5ForConditionalGeneration.forward` and have been ignored: article, highlights, id. If article, highlights, id are not expected by `T5ForConditionalGeneration.forward`,  you can safely ignore this message.\n",
            "***** Running Evaluation *****\n",
            "  Num examples = 4996\n",
            "  Batch size = 16\n",
            "                                                       \n",
            " 39%|███▊      | 12100/31230 [2:58:07<37:31,  8.50it/s]"
          ]
        },
        {
          "name": "stdout",
          "output_type": "stream",
          "text": [
            "{'eval_loss': 2.4157209396362305, 'eval_rouge1': 23.4459, 'eval_rouge2': 10.7253, 'eval_rougeL': 19.2239, 'eval_rougeLsum': 22.0311, 'eval_gen_len': 18.9996, 'eval_runtime': 75.0546, 'eval_samples_per_second': 66.565, 'eval_steps_per_second': 4.17, 'epoch': 3.87}\n"
          ]
        },
        {
          "name": "stderr",
          "output_type": "stream",
          "text": [
            " 39%|███▉      | 12200/31230 [2:58:18<35:57,  8.82it/s]    The following columns in the evaluation set don't have a corresponding argument in `T5ForConditionalGeneration.forward` and have been ignored: article, highlights, id. If article, highlights, id are not expected by `T5ForConditionalGeneration.forward`,  you can safely ignore this message.\n",
            "***** Running Evaluation *****\n",
            "  Num examples = 4996\n",
            "  Batch size = 16\n",
            "                                                       \n",
            " 39%|███▉      | 12200/31230 [2:59:33<35:57,  8.82it/s]Saving model checkpoint to .models/summarization/t5-small/ver2-large\\checkpoint-12200\n",
            "Configuration saved in .models/summarization/t5-small/ver2-large\\checkpoint-12200\\config.json\n"
          ]
        },
        {
          "name": "stdout",
          "output_type": "stream",
          "text": [
            "{'eval_loss': 2.4153459072113037, 'eval_rouge1': 23.4375, 'eval_rouge2': 10.7319, 'eval_rougeL': 19.2301, 'eval_rougeLsum': 22.031, 'eval_gen_len': 18.9996, 'eval_runtime': 74.5542, 'eval_samples_per_second': 67.012, 'eval_steps_per_second': 4.198, 'epoch': 3.91}\n"
          ]
        },
        {
          "name": "stderr",
          "output_type": "stream",
          "text": [
            "Model weights saved in .models/summarization/t5-small/ver2-large\\checkpoint-12200\\pytorch_model.bin\n",
            "tokenizer config file saved in .models/summarization/t5-small/ver2-large\\checkpoint-12200\\tokenizer_config.json\n",
            "Special tokens file saved in .models/summarization/t5-small/ver2-large\\checkpoint-12200\\special_tokens_map.json\n",
            "Copy vocab file to .models/summarization/t5-small/ver2-large\\checkpoint-12200\\spiece.model\n",
            "Deleting older checkpoint [.models\\summarization\\t5-small\\ver2-large\\checkpoint-11800] due to args.save_total_limit\n",
            " 39%|███▉      | 12300/31230 [2:59:46<35:22,  8.92it/s]    The following columns in the evaluation set don't have a corresponding argument in `T5ForConditionalGeneration.forward` and have been ignored: article, highlights, id. If article, highlights, id are not expected by `T5ForConditionalGeneration.forward`,  you can safely ignore this message.\n",
            "***** Running Evaluation *****\n",
            "  Num examples = 4996\n",
            "  Batch size = 16\n",
            "                                                       \n",
            " 39%|███▉      | 12300/31230 [3:01:01<35:22,  8.92it/s]"
          ]
        },
        {
          "name": "stdout",
          "output_type": "stream",
          "text": [
            "{'eval_loss': 2.416050434112549, 'eval_rouge1': 23.4091, 'eval_rouge2': 10.7147, 'eval_rougeL': 19.2119, 'eval_rougeLsum': 21.9925, 'eval_gen_len': 18.9996, 'eval_runtime': 74.2765, 'eval_samples_per_second': 67.262, 'eval_steps_per_second': 4.214, 'epoch': 3.94}\n"
          ]
        },
        {
          "name": "stderr",
          "output_type": "stream",
          "text": [
            " 40%|███▉      | 12400/31230 [3:01:12<35:00,  8.96it/s]    The following columns in the evaluation set don't have a corresponding argument in `T5ForConditionalGeneration.forward` and have been ignored: article, highlights, id. If article, highlights, id are not expected by `T5ForConditionalGeneration.forward`,  you can safely ignore this message.\n",
            "***** Running Evaluation *****\n",
            "  Num examples = 4996\n",
            "  Batch size = 16\n",
            "                                                       \n",
            " 40%|███▉      | 12400/31230 [3:02:26<35:00,  8.96it/s]Saving model checkpoint to .models/summarization/t5-small/ver2-large\\checkpoint-12400\n",
            "Configuration saved in .models/summarization/t5-small/ver2-large\\checkpoint-12400\\config.json\n"
          ]
        },
        {
          "name": "stdout",
          "output_type": "stream",
          "text": [
            "{'eval_loss': 2.415639638900757, 'eval_rouge1': 23.4853, 'eval_rouge2': 10.7734, 'eval_rougeL': 19.2715, 'eval_rougeLsum': 22.0784, 'eval_gen_len': 18.9996, 'eval_runtime': 74.5735, 'eval_samples_per_second': 66.994, 'eval_steps_per_second': 4.197, 'epoch': 3.97}\n"
          ]
        },
        {
          "name": "stderr",
          "output_type": "stream",
          "text": [
            "Model weights saved in .models/summarization/t5-small/ver2-large\\checkpoint-12400\\pytorch_model.bin\n",
            "tokenizer config file saved in .models/summarization/t5-small/ver2-large\\checkpoint-12400\\tokenizer_config.json\n",
            "Special tokens file saved in .models/summarization/t5-small/ver2-large\\checkpoint-12400\\special_tokens_map.json\n",
            "Copy vocab file to .models/summarization/t5-small/ver2-large\\checkpoint-12400\\spiece.model\n",
            "Deleting older checkpoint [.models\\summarization\\t5-small\\ver2-large\\checkpoint-12000] due to args.save_total_limit\n",
            " 40%|████      | 12500/31230 [3:02:40<34:26,  9.06it/s]    The following columns in the evaluation set don't have a corresponding argument in `T5ForConditionalGeneration.forward` and have been ignored: article, highlights, id. If article, highlights, id are not expected by `T5ForConditionalGeneration.forward`,  you can safely ignore this message.\n",
            "***** Running Evaluation *****\n",
            "  Num examples = 4996\n",
            "  Batch size = 16\n"
          ]
        },
        {
          "name": "stdout",
          "output_type": "stream",
          "text": [
            "{'loss': 2.7683, 'learning_rate': 1.1998719180275379e-05, 'epoch': 4.0}\n"
          ]
        },
        {
          "name": "stderr",
          "output_type": "stream",
          "text": [
            "                                                       \n",
            " 40%|████      | 12500/31230 [3:03:55<34:26,  9.06it/s]"
          ]
        },
        {
          "name": "stdout",
          "output_type": "stream",
          "text": [
            "{'eval_loss': 2.4160804748535156, 'eval_rouge1': 23.4291, 'eval_rouge2': 10.7325, 'eval_rougeL': 19.2041, 'eval_rougeLsum': 22.0203, 'eval_gen_len': 18.9992, 'eval_runtime': 75.2935, 'eval_samples_per_second': 66.354, 'eval_steps_per_second': 4.157, 'epoch': 4.0}\n"
          ]
        },
        {
          "name": "stderr",
          "output_type": "stream",
          "text": [
            " 40%|████      | 12600/31230 [3:04:06<32:58,  9.42it/s]    The following columns in the evaluation set don't have a corresponding argument in `T5ForConditionalGeneration.forward` and have been ignored: article, highlights, id. If article, highlights, id are not expected by `T5ForConditionalGeneration.forward`,  you can safely ignore this message.\n",
            "***** Running Evaluation *****\n",
            "  Num examples = 4996\n",
            "  Batch size = 16\n",
            "                                                       \n",
            " 40%|████      | 12600/31230 [3:05:22<32:58,  9.42it/s]Saving model checkpoint to .models/summarization/t5-small/ver2-large\\checkpoint-12600\n",
            "Configuration saved in .models/summarization/t5-small/ver2-large\\checkpoint-12600\\config.json\n"
          ]
        },
        {
          "name": "stdout",
          "output_type": "stream",
          "text": [
            "{'eval_loss': 2.417102098464966, 'eval_rouge1': 23.3825, 'eval_rouge2': 10.7463, 'eval_rougeL': 19.2118, 'eval_rougeLsum': 21.9814, 'eval_gen_len': 18.9992, 'eval_runtime': 75.4587, 'eval_samples_per_second': 66.208, 'eval_steps_per_second': 4.148, 'epoch': 4.03}\n"
          ]
        },
        {
          "name": "stderr",
          "output_type": "stream",
          "text": [
            "Model weights saved in .models/summarization/t5-small/ver2-large\\checkpoint-12600\\pytorch_model.bin\n",
            "tokenizer config file saved in .models/summarization/t5-small/ver2-large\\checkpoint-12600\\tokenizer_config.json\n",
            "Special tokens file saved in .models/summarization/t5-small/ver2-large\\checkpoint-12600\\special_tokens_map.json\n",
            "Copy vocab file to .models/summarization/t5-small/ver2-large\\checkpoint-12600\\spiece.model\n",
            "Deleting older checkpoint [.models\\summarization\\t5-small\\ver2-large\\checkpoint-12200] due to args.save_total_limit\n",
            " 41%|████      | 12700/31230 [3:05:35<33:55,  9.10it/s]    The following columns in the evaluation set don't have a corresponding argument in `T5ForConditionalGeneration.forward` and have been ignored: article, highlights, id. If article, highlights, id are not expected by `T5ForConditionalGeneration.forward`,  you can safely ignore this message.\n",
            "***** Running Evaluation *****\n",
            "  Num examples = 4996\n",
            "  Batch size = 16\n",
            "                                                       \n",
            " 41%|████      | 12700/31230 [3:06:50<33:55,  9.10it/s]"
          ]
        },
        {
          "name": "stdout",
          "output_type": "stream",
          "text": [
            "{'eval_loss': 2.4158523082733154, 'eval_rouge1': 23.3928, 'eval_rouge2': 10.7341, 'eval_rougeL': 19.188, 'eval_rougeLsum': 21.9935, 'eval_gen_len': 18.9996, 'eval_runtime': 75.0446, 'eval_samples_per_second': 66.574, 'eval_steps_per_second': 4.171, 'epoch': 4.07}\n"
          ]
        },
        {
          "name": "stderr",
          "output_type": "stream",
          "text": [
            " 41%|████      | 12800/31230 [3:07:02<32:08,  9.56it/s]    The following columns in the evaluation set don't have a corresponding argument in `T5ForConditionalGeneration.forward` and have been ignored: article, highlights, id. If article, highlights, id are not expected by `T5ForConditionalGeneration.forward`,  you can safely ignore this message.\n",
            "***** Running Evaluation *****\n",
            "  Num examples = 4996\n",
            "  Batch size = 16\n",
            "                                                       \n",
            " 41%|████      | 12800/31230 [3:08:16<32:08,  9.56it/s]Saving model checkpoint to .models/summarization/t5-small/ver2-large\\checkpoint-12800\n",
            "Configuration saved in .models/summarization/t5-small/ver2-large\\checkpoint-12800\\config.json\n"
          ]
        },
        {
          "name": "stdout",
          "output_type": "stream",
          "text": [
            "{'eval_loss': 2.416578531265259, 'eval_rouge1': 23.3918, 'eval_rouge2': 10.7648, 'eval_rougeL': 19.2207, 'eval_rougeLsum': 21.9914, 'eval_gen_len': 18.9996, 'eval_runtime': 73.9736, 'eval_samples_per_second': 67.538, 'eval_steps_per_second': 4.231, 'epoch': 4.1}\n"
          ]
        },
        {
          "name": "stderr",
          "output_type": "stream",
          "text": [
            "Model weights saved in .models/summarization/t5-small/ver2-large\\checkpoint-12800\\pytorch_model.bin\n",
            "tokenizer config file saved in .models/summarization/t5-small/ver2-large\\checkpoint-12800\\tokenizer_config.json\n",
            "Special tokens file saved in .models/summarization/t5-small/ver2-large\\checkpoint-12800\\special_tokens_map.json\n",
            "Copy vocab file to .models/summarization/t5-small/ver2-large\\checkpoint-12800\\spiece.model\n",
            "Deleting older checkpoint [.models\\summarization\\t5-small\\ver2-large\\checkpoint-12400] due to args.save_total_limit\n",
            " 41%|████▏     | 12900/31230 [3:08:29<31:43,  9.63it/s]   The following columns in the evaluation set don't have a corresponding argument in `T5ForConditionalGeneration.forward` and have been ignored: article, highlights, id. If article, highlights, id are not expected by `T5ForConditionalGeneration.forward`,  you can safely ignore this message.\n",
            "***** Running Evaluation *****\n",
            "  Num examples = 4996\n",
            "  Batch size = 16\n",
            "                                                       \n",
            " 41%|████▏     | 12900/31230 [3:09:45<31:43,  9.63it/s]"
          ]
        },
        {
          "name": "stdout",
          "output_type": "stream",
          "text": [
            "{'eval_loss': 2.414971113204956, 'eval_rouge1': 23.4083, 'eval_rouge2': 10.7766, 'eval_rougeL': 19.2284, 'eval_rougeLsum': 22.0303, 'eval_gen_len': 18.9996, 'eval_runtime': 75.6727, 'eval_samples_per_second': 66.021, 'eval_steps_per_second': 4.136, 'epoch': 4.13}\n"
          ]
        },
        {
          "name": "stderr",
          "output_type": "stream",
          "text": [
            " 42%|████▏     | 13000/31230 [3:09:57<32:46,  9.27it/s]    The following columns in the evaluation set don't have a corresponding argument in `T5ForConditionalGeneration.forward` and have been ignored: article, highlights, id. If article, highlights, id are not expected by `T5ForConditionalGeneration.forward`,  you can safely ignore this message.\n",
            "***** Running Evaluation *****\n",
            "  Num examples = 4996\n",
            "  Batch size = 16\n"
          ]
        },
        {
          "name": "stdout",
          "output_type": "stream",
          "text": [
            "{'loss': 2.7648, 'learning_rate': 1.1678514249119437e-05, 'epoch': 4.16}\n"
          ]
        },
        {
          "name": "stderr",
          "output_type": "stream",
          "text": [
            "                                                       \n",
            " 42%|████▏     | 13000/31230 [3:11:13<32:46,  9.27it/s]Saving model checkpoint to .models/summarization/t5-small/ver2-large\\checkpoint-13000\n",
            "Configuration saved in .models/summarization/t5-small/ver2-large\\checkpoint-13000\\config.json\n"
          ]
        },
        {
          "name": "stdout",
          "output_type": "stream",
          "text": [
            "{'eval_loss': 2.4157116413116455, 'eval_rouge1': 23.463, 'eval_rouge2': 10.8085, 'eval_rougeL': 19.2678, 'eval_rougeLsum': 22.0667, 'eval_gen_len': 18.9992, 'eval_runtime': 75.761, 'eval_samples_per_second': 65.944, 'eval_steps_per_second': 4.131, 'epoch': 4.16}\n"
          ]
        },
        {
          "name": "stderr",
          "output_type": "stream",
          "text": [
            "Model weights saved in .models/summarization/t5-small/ver2-large\\checkpoint-13000\\pytorch_model.bin\n",
            "tokenizer config file saved in .models/summarization/t5-small/ver2-large\\checkpoint-13000\\tokenizer_config.json\n",
            "Special tokens file saved in .models/summarization/t5-small/ver2-large\\checkpoint-13000\\special_tokens_map.json\n",
            "Copy vocab file to .models/summarization/t5-small/ver2-large\\checkpoint-13000\\spiece.model\n",
            "Deleting older checkpoint [.models\\summarization\\t5-small\\ver2-large\\checkpoint-12600] due to args.save_total_limit\n",
            " 42%|████▏     | 13100/31230 [3:11:27<34:16,  8.82it/s]    The following columns in the evaluation set don't have a corresponding argument in `T5ForConditionalGeneration.forward` and have been ignored: article, highlights, id. If article, highlights, id are not expected by `T5ForConditionalGeneration.forward`,  you can safely ignore this message.\n",
            "***** Running Evaluation *****\n",
            "  Num examples = 4996\n",
            "  Batch size = 16\n",
            "                                                       \n",
            " 42%|████▏     | 13100/31230 [3:12:44<34:16,  8.82it/s]"
          ]
        },
        {
          "name": "stdout",
          "output_type": "stream",
          "text": [
            "{'eval_loss': 2.4159095287323, 'eval_rouge1': 23.4166, 'eval_rouge2': 10.7854, 'eval_rougeL': 19.2396, 'eval_rougeLsum': 22.036, 'eval_gen_len': 18.9996, 'eval_runtime': 77.4723, 'eval_samples_per_second': 64.488, 'eval_steps_per_second': 4.04, 'epoch': 4.19}\n"
          ]
        },
        {
          "name": "stderr",
          "output_type": "stream",
          "text": [
            " 42%|████▏     | 13200/31230 [3:12:56<32:04,  9.37it/s]    The following columns in the evaluation set don't have a corresponding argument in `T5ForConditionalGeneration.forward` and have been ignored: article, highlights, id. If article, highlights, id are not expected by `T5ForConditionalGeneration.forward`,  you can safely ignore this message.\n",
            "***** Running Evaluation *****\n",
            "  Num examples = 4996\n",
            "  Batch size = 16\n",
            "                                                       \n",
            " 42%|████▏     | 13200/31230 [3:14:11<32:04,  9.37it/s]Saving model checkpoint to .models/summarization/t5-small/ver2-large\\checkpoint-13200\n",
            "Configuration saved in .models/summarization/t5-small/ver2-large\\checkpoint-13200\\config.json\n"
          ]
        },
        {
          "name": "stdout",
          "output_type": "stream",
          "text": [
            "{'eval_loss': 2.4150779247283936, 'eval_rouge1': 23.4084, 'eval_rouge2': 10.7464, 'eval_rougeL': 19.2312, 'eval_rougeLsum': 22.0144, 'eval_gen_len': 18.9996, 'eval_runtime': 74.8466, 'eval_samples_per_second': 66.75, 'eval_steps_per_second': 4.182, 'epoch': 4.23}\n"
          ]
        },
        {
          "name": "stderr",
          "output_type": "stream",
          "text": [
            "Model weights saved in .models/summarization/t5-small/ver2-large\\checkpoint-13200\\pytorch_model.bin\n",
            "tokenizer config file saved in .models/summarization/t5-small/ver2-large\\checkpoint-13200\\tokenizer_config.json\n",
            "Special tokens file saved in .models/summarization/t5-small/ver2-large\\checkpoint-13200\\special_tokens_map.json\n",
            "Copy vocab file to .models/summarization/t5-small/ver2-large\\checkpoint-13200\\spiece.model\n",
            "Deleting older checkpoint [.models\\summarization\\t5-small\\ver2-large\\checkpoint-12800] due to args.save_total_limit\n",
            " 43%|████▎     | 13300/31230 [3:14:24<30:49,  9.69it/s]    The following columns in the evaluation set don't have a corresponding argument in `T5ForConditionalGeneration.forward` and have been ignored: article, highlights, id. If article, highlights, id are not expected by `T5ForConditionalGeneration.forward`,  you can safely ignore this message.\n",
            "***** Running Evaluation *****\n",
            "  Num examples = 4996\n",
            "  Batch size = 16\n",
            "                                                       \n",
            " 43%|████▎     | 13300/31230 [3:15:39<30:49,  9.69it/s]"
          ]
        },
        {
          "name": "stdout",
          "output_type": "stream",
          "text": [
            "{'eval_loss': 2.4163870811462402, 'eval_rouge1': 23.4809, 'eval_rouge2': 10.7935, 'eval_rougeL': 19.2679, 'eval_rougeLsum': 22.0555, 'eval_gen_len': 18.9992, 'eval_runtime': 74.8441, 'eval_samples_per_second': 66.752, 'eval_steps_per_second': 4.182, 'epoch': 4.26}\n"
          ]
        },
        {
          "name": "stderr",
          "output_type": "stream",
          "text": [
            " 43%|████▎     | 13399/31230 [3:15:50<31:12,  9.53it/s]   The following columns in the evaluation set don't have a corresponding argument in `T5ForConditionalGeneration.forward` and have been ignored: article, highlights, id. If article, highlights, id are not expected by `T5ForConditionalGeneration.forward`,  you can safely ignore this message.\n",
            "***** Running Evaluation *****\n",
            "  Num examples = 4996\n",
            "  Batch size = 16\n",
            "                                                       \n",
            " 43%|████▎     | 13400/31230 [3:17:05<31:11,  9.53it/s]Saving model checkpoint to .models/summarization/t5-small/ver2-large\\checkpoint-13400\n",
            "Configuration saved in .models/summarization/t5-small/ver2-large\\checkpoint-13400\\config.json\n"
          ]
        },
        {
          "name": "stdout",
          "output_type": "stream",
          "text": [
            "{'eval_loss': 2.4158401489257812, 'eval_rouge1': 23.4298, 'eval_rouge2': 10.753, 'eval_rougeL': 19.2271, 'eval_rougeLsum': 22.0347, 'eval_gen_len': 18.9996, 'eval_runtime': 74.5902, 'eval_samples_per_second': 66.979, 'eval_steps_per_second': 4.196, 'epoch': 4.29}\n"
          ]
        },
        {
          "name": "stderr",
          "output_type": "stream",
          "text": [
            "Model weights saved in .models/summarization/t5-small/ver2-large\\checkpoint-13400\\pytorch_model.bin\n",
            "tokenizer config file saved in .models/summarization/t5-small/ver2-large\\checkpoint-13400\\tokenizer_config.json\n",
            "Special tokens file saved in .models/summarization/t5-small/ver2-large\\checkpoint-13400\\special_tokens_map.json\n",
            "Copy vocab file to .models/summarization/t5-small/ver2-large\\checkpoint-13400\\spiece.model\n",
            "Deleting older checkpoint [.models\\summarization\\t5-small\\ver2-large\\checkpoint-13000] due to args.save_total_limit\n",
            " 43%|████▎     | 13500/31230 [3:17:19<31:57,  9.25it/s]   The following columns in the evaluation set don't have a corresponding argument in `T5ForConditionalGeneration.forward` and have been ignored: article, highlights, id. If article, highlights, id are not expected by `T5ForConditionalGeneration.forward`,  you can safely ignore this message.\n",
            "***** Running Evaluation *****\n",
            "  Num examples = 4996\n",
            "  Batch size = 16\n"
          ]
        },
        {
          "name": "stdout",
          "output_type": "stream",
          "text": [
            "{'loss': 2.7654, 'learning_rate': 1.1358309317963499e-05, 'epoch': 4.32}\n"
          ]
        },
        {
          "name": "stderr",
          "output_type": "stream",
          "text": [
            "                                                       \n",
            " 43%|████▎     | 13500/31230 [3:18:37<31:57,  9.25it/s]"
          ]
        },
        {
          "name": "stdout",
          "output_type": "stream",
          "text": [
            "{'eval_loss': 2.416301727294922, 'eval_rouge1': 23.3938, 'eval_rouge2': 10.723, 'eval_rougeL': 19.206, 'eval_rougeLsum': 21.9979, 'eval_gen_len': 18.9992, 'eval_runtime': 77.574, 'eval_samples_per_second': 64.403, 'eval_steps_per_second': 4.035, 'epoch': 4.32}\n"
          ]
        },
        {
          "name": "stderr",
          "output_type": "stream",
          "text": [
            " 44%|████▎     | 13600/31230 [3:18:49<32:32,  9.03it/s]    The following columns in the evaluation set don't have a corresponding argument in `T5ForConditionalGeneration.forward` and have been ignored: article, highlights, id. If article, highlights, id are not expected by `T5ForConditionalGeneration.forward`,  you can safely ignore this message.\n",
            "***** Running Evaluation *****\n",
            "  Num examples = 4996\n",
            "  Batch size = 16\n",
            "                                                       \n",
            " 44%|████▎     | 13600/31230 [3:20:06<32:32,  9.03it/s]Saving model checkpoint to .models/summarization/t5-small/ver2-large\\checkpoint-13600\n",
            "Configuration saved in .models/summarization/t5-small/ver2-large\\checkpoint-13600\\config.json\n"
          ]
        },
        {
          "name": "stdout",
          "output_type": "stream",
          "text": [
            "{'eval_loss': 2.4149181842803955, 'eval_rouge1': 23.4316, 'eval_rouge2': 10.7479, 'eval_rougeL': 19.2341, 'eval_rougeLsum': 22.0278, 'eval_gen_len': 18.9996, 'eval_runtime': 77.1286, 'eval_samples_per_second': 64.775, 'eval_steps_per_second': 4.058, 'epoch': 4.35}\n"
          ]
        },
        {
          "name": "stderr",
          "output_type": "stream",
          "text": [
            "Model weights saved in .models/summarization/t5-small/ver2-large\\checkpoint-13600\\pytorch_model.bin\n",
            "tokenizer config file saved in .models/summarization/t5-small/ver2-large\\checkpoint-13600\\tokenizer_config.json\n",
            "Special tokens file saved in .models/summarization/t5-small/ver2-large\\checkpoint-13600\\special_tokens_map.json\n",
            "Copy vocab file to .models/summarization/t5-small/ver2-large\\checkpoint-13600\\spiece.model\n",
            "Deleting older checkpoint [.models\\summarization\\t5-small\\ver2-large\\checkpoint-13200] due to args.save_total_limit\n",
            " 44%|████▍     | 13700/31230 [3:20:19<30:44,  9.50it/s]    The following columns in the evaluation set don't have a corresponding argument in `T5ForConditionalGeneration.forward` and have been ignored: article, highlights, id. If article, highlights, id are not expected by `T5ForConditionalGeneration.forward`,  you can safely ignore this message.\n",
            "***** Running Evaluation *****\n",
            "  Num examples = 4996\n",
            "  Batch size = 16\n",
            "                                                       \n",
            " 44%|████▍     | 13700/31230 [3:21:34<30:44,  9.50it/s]"
          ]
        },
        {
          "name": "stdout",
          "output_type": "stream",
          "text": [
            "{'eval_loss': 2.414872407913208, 'eval_rouge1': 23.4127, 'eval_rouge2': 10.7381, 'eval_rougeL': 19.2196, 'eval_rougeLsum': 22.011, 'eval_gen_len': 18.9996, 'eval_runtime': 74.9822, 'eval_samples_per_second': 66.629, 'eval_steps_per_second': 4.174, 'epoch': 4.39}\n"
          ]
        },
        {
          "name": "stderr",
          "output_type": "stream",
          "text": [
            " 44%|████▍     | 13800/31230 [3:21:46<29:22,  9.89it/s]   The following columns in the evaluation set don't have a corresponding argument in `T5ForConditionalGeneration.forward` and have been ignored: article, highlights, id. If article, highlights, id are not expected by `T5ForConditionalGeneration.forward`,  you can safely ignore this message.\n",
            "***** Running Evaluation *****\n",
            "  Num examples = 4996\n",
            "  Batch size = 16\n",
            "                                                       \n",
            " 44%|████▍     | 13800/31230 [3:23:01<29:22,  9.89it/s]Saving model checkpoint to .models/summarization/t5-small/ver2-large\\checkpoint-13800\n",
            "Configuration saved in .models/summarization/t5-small/ver2-large\\checkpoint-13800\\config.json\n"
          ]
        },
        {
          "name": "stdout",
          "output_type": "stream",
          "text": [
            "{'eval_loss': 2.4137117862701416, 'eval_rouge1': 23.4422, 'eval_rouge2': 10.7536, 'eval_rougeL': 19.2285, 'eval_rougeLsum': 22.0362, 'eval_gen_len': 18.9996, 'eval_runtime': 75.0999, 'eval_samples_per_second': 66.525, 'eval_steps_per_second': 4.168, 'epoch': 4.42}\n"
          ]
        },
        {
          "name": "stderr",
          "output_type": "stream",
          "text": [
            "Model weights saved in .models/summarization/t5-small/ver2-large\\checkpoint-13800\\pytorch_model.bin\n",
            "tokenizer config file saved in .models/summarization/t5-small/ver2-large\\checkpoint-13800\\tokenizer_config.json\n",
            "Special tokens file saved in .models/summarization/t5-small/ver2-large\\checkpoint-13800\\special_tokens_map.json\n",
            "Copy vocab file to .models/summarization/t5-small/ver2-large\\checkpoint-13800\\spiece.model\n",
            "Deleting older checkpoint [.models\\summarization\\t5-small\\ver2-large\\checkpoint-13400] due to args.save_total_limit\n",
            " 45%|████▍     | 13900/31230 [3:23:15<30:11,  9.57it/s]   The following columns in the evaluation set don't have a corresponding argument in `T5ForConditionalGeneration.forward` and have been ignored: article, highlights, id. If article, highlights, id are not expected by `T5ForConditionalGeneration.forward`,  you can safely ignore this message.\n",
            "***** Running Evaluation *****\n",
            "  Num examples = 4996\n",
            "  Batch size = 16\n",
            "                                                       \n",
            " 45%|████▍     | 13900/31230 [3:24:29<30:11,  9.57it/s]"
          ]
        },
        {
          "name": "stdout",
          "output_type": "stream",
          "text": [
            "{'eval_loss': 2.4130587577819824, 'eval_rouge1': 23.4362, 'eval_rouge2': 10.7423, 'eval_rougeL': 19.2242, 'eval_rougeLsum': 22.0346, 'eval_gen_len': 18.9996, 'eval_runtime': 74.4997, 'eval_samples_per_second': 67.061, 'eval_steps_per_second': 4.201, 'epoch': 4.45}\n"
          ]
        },
        {
          "name": "stderr",
          "output_type": "stream",
          "text": [
            " 45%|████▍     | 14000/31230 [3:24:41<30:54,  9.29it/s]   The following columns in the evaluation set don't have a corresponding argument in `T5ForConditionalGeneration.forward` and have been ignored: article, highlights, id. If article, highlights, id are not expected by `T5ForConditionalGeneration.forward`,  you can safely ignore this message.\n",
            "***** Running Evaluation *****\n",
            "  Num examples = 4996\n",
            "  Batch size = 16\n"
          ]
        },
        {
          "name": "stdout",
          "output_type": "stream",
          "text": [
            "{'loss': 2.7653, 'learning_rate': 1.1038104386807558e-05, 'epoch': 4.48}\n"
          ]
        },
        {
          "name": "stderr",
          "output_type": "stream",
          "text": [
            "                                                       \n",
            " 45%|████▍     | 14000/31230 [3:25:55<30:54,  9.29it/s]Saving model checkpoint to .models/summarization/t5-small/ver2-large\\checkpoint-14000\n",
            "Configuration saved in .models/summarization/t5-small/ver2-large\\checkpoint-14000\\config.json\n"
          ]
        },
        {
          "name": "stdout",
          "output_type": "stream",
          "text": [
            "{'eval_loss': 2.4131312370300293, 'eval_rouge1': 23.4078, 'eval_rouge2': 10.7373, 'eval_rougeL': 19.2097, 'eval_rougeLsum': 22.0019, 'eval_gen_len': 18.9996, 'eval_runtime': 73.9723, 'eval_samples_per_second': 67.539, 'eval_steps_per_second': 4.231, 'epoch': 4.48}\n"
          ]
        },
        {
          "name": "stderr",
          "output_type": "stream",
          "text": [
            "Model weights saved in .models/summarization/t5-small/ver2-large\\checkpoint-14000\\pytorch_model.bin\n",
            "tokenizer config file saved in .models/summarization/t5-small/ver2-large\\checkpoint-14000\\tokenizer_config.json\n",
            "Special tokens file saved in .models/summarization/t5-small/ver2-large\\checkpoint-14000\\special_tokens_map.json\n",
            "Copy vocab file to .models/summarization/t5-small/ver2-large\\checkpoint-14000\\spiece.model\n",
            "Deleting older checkpoint [.models\\summarization\\t5-small\\ver2-large\\checkpoint-13600] due to args.save_total_limit\n",
            " 45%|████▌     | 14100/31230 [3:26:08<28:54,  9.88it/s]    The following columns in the evaluation set don't have a corresponding argument in `T5ForConditionalGeneration.forward` and have been ignored: article, highlights, id. If article, highlights, id are not expected by `T5ForConditionalGeneration.forward`,  you can safely ignore this message.\n",
            "***** Running Evaluation *****\n",
            "  Num examples = 4996\n",
            "  Batch size = 16\n",
            "                                                       \n",
            " 45%|████▌     | 14100/31230 [3:27:23<28:54,  9.88it/s]"
          ]
        },
        {
          "name": "stdout",
          "output_type": "stream",
          "text": [
            "{'eval_loss': 2.414163827896118, 'eval_rouge1': 23.4225, 'eval_rouge2': 10.7564, 'eval_rougeL': 19.2162, 'eval_rougeLsum': 22.0138, 'eval_gen_len': 18.9996, 'eval_runtime': 74.3948, 'eval_samples_per_second': 67.155, 'eval_steps_per_second': 4.207, 'epoch': 4.51}\n"
          ]
        },
        {
          "name": "stderr",
          "output_type": "stream",
          "text": [
            " 45%|████▌     | 14200/31230 [3:27:35<32:25,  8.75it/s]   The following columns in the evaluation set don't have a corresponding argument in `T5ForConditionalGeneration.forward` and have been ignored: article, highlights, id. If article, highlights, id are not expected by `T5ForConditionalGeneration.forward`,  you can safely ignore this message.\n",
            "***** Running Evaluation *****\n",
            "  Num examples = 4996\n",
            "  Batch size = 16\n",
            "                                                       \n",
            " 45%|████▌     | 14200/31230 [3:28:52<32:25,  8.75it/s]Saving model checkpoint to .models/summarization/t5-small/ver2-large\\checkpoint-14200\n",
            "Configuration saved in .models/summarization/t5-small/ver2-large\\checkpoint-14200\\config.json\n"
          ]
        },
        {
          "name": "stdout",
          "output_type": "stream",
          "text": [
            "{'eval_loss': 2.4127066135406494, 'eval_rouge1': 23.4364, 'eval_rouge2': 10.7748, 'eval_rougeL': 19.2292, 'eval_rougeLsum': 22.0433, 'eval_gen_len': 18.9996, 'eval_runtime': 77.2594, 'eval_samples_per_second': 64.665, 'eval_steps_per_second': 4.051, 'epoch': 4.55}\n"
          ]
        },
        {
          "name": "stderr",
          "output_type": "stream",
          "text": [
            "Model weights saved in .models/summarization/t5-small/ver2-large\\checkpoint-14200\\pytorch_model.bin\n",
            "tokenizer config file saved in .models/summarization/t5-small/ver2-large\\checkpoint-14200\\tokenizer_config.json\n",
            "Special tokens file saved in .models/summarization/t5-small/ver2-large\\checkpoint-14200\\special_tokens_map.json\n",
            "Copy vocab file to .models/summarization/t5-small/ver2-large\\checkpoint-14200\\spiece.model\n",
            "Deleting older checkpoint [.models\\summarization\\t5-small\\ver2-large\\checkpoint-13800] due to args.save_total_limit\n",
            " 46%|████▌     | 14300/31230 [3:29:06<29:54,  9.43it/s]    The following columns in the evaluation set don't have a corresponding argument in `T5ForConditionalGeneration.forward` and have been ignored: article, highlights, id. If article, highlights, id are not expected by `T5ForConditionalGeneration.forward`,  you can safely ignore this message.\n",
            "***** Running Evaluation *****\n",
            "  Num examples = 4996\n",
            "  Batch size = 16\n",
            "                                                       \n",
            " 46%|████▌     | 14300/31230 [3:30:21<29:54,  9.43it/s]"
          ]
        },
        {
          "name": "stdout",
          "output_type": "stream",
          "text": [
            "{'eval_loss': 2.4139697551727295, 'eval_rouge1': 23.4169, 'eval_rouge2': 10.7775, 'eval_rougeL': 19.2141, 'eval_rougeLsum': 22.0105, 'eval_gen_len': 18.9996, 'eval_runtime': 75.321, 'eval_samples_per_second': 66.329, 'eval_steps_per_second': 4.156, 'epoch': 4.58}\n"
          ]
        },
        {
          "name": "stderr",
          "output_type": "stream",
          "text": [
            " 46%|████▌     | 14400/31230 [3:30:33<29:36,  9.48it/s]   The following columns in the evaluation set don't have a corresponding argument in `T5ForConditionalGeneration.forward` and have been ignored: article, highlights, id. If article, highlights, id are not expected by `T5ForConditionalGeneration.forward`,  you can safely ignore this message.\n",
            "***** Running Evaluation *****\n",
            "  Num examples = 4996\n",
            "  Batch size = 16\n",
            "                                                       \n",
            " 46%|████▌     | 14400/31230 [3:31:47<29:36,  9.48it/s]Saving model checkpoint to .models/summarization/t5-small/ver2-large\\checkpoint-14400\n",
            "Configuration saved in .models/summarization/t5-small/ver2-large\\checkpoint-14400\\config.json\n"
          ]
        },
        {
          "name": "stdout",
          "output_type": "stream",
          "text": [
            "{'eval_loss': 2.4128878116607666, 'eval_rouge1': 23.4046, 'eval_rouge2': 10.7751, 'eval_rougeL': 19.2102, 'eval_rougeLsum': 21.9972, 'eval_gen_len': 18.9996, 'eval_runtime': 74.0271, 'eval_samples_per_second': 67.489, 'eval_steps_per_second': 4.228, 'epoch': 4.61}\n"
          ]
        },
        {
          "name": "stderr",
          "output_type": "stream",
          "text": [
            "Model weights saved in .models/summarization/t5-small/ver2-large\\checkpoint-14400\\pytorch_model.bin\n",
            "tokenizer config file saved in .models/summarization/t5-small/ver2-large\\checkpoint-14400\\tokenizer_config.json\n",
            "Special tokens file saved in .models/summarization/t5-small/ver2-large\\checkpoint-14400\\special_tokens_map.json\n",
            "Copy vocab file to .models/summarization/t5-small/ver2-large\\checkpoint-14400\\spiece.model\n",
            "Deleting older checkpoint [.models\\summarization\\t5-small\\ver2-large\\checkpoint-14000] due to args.save_total_limit\n",
            " 46%|████▋     | 14500/31230 [3:32:00<29:12,  9.55it/s]    The following columns in the evaluation set don't have a corresponding argument in `T5ForConditionalGeneration.forward` and have been ignored: article, highlights, id. If article, highlights, id are not expected by `T5ForConditionalGeneration.forward`,  you can safely ignore this message.\n",
            "***** Running Evaluation *****\n",
            "  Num examples = 4996\n",
            "  Batch size = 16\n"
          ]
        },
        {
          "name": "stdout",
          "output_type": "stream",
          "text": [
            "{'loss': 2.765, 'learning_rate': 1.0717899455651616e-05, 'epoch': 4.64}\n"
          ]
        },
        {
          "name": "stderr",
          "output_type": "stream",
          "text": [
            "                                                       \n",
            " 46%|████▋     | 14500/31230 [3:33:15<29:12,  9.55it/s]"
          ]
        },
        {
          "name": "stdout",
          "output_type": "stream",
          "text": [
            "{'eval_loss': 2.4130311012268066, 'eval_rouge1': 23.3907, 'eval_rouge2': 10.7621, 'eval_rougeL': 19.2033, 'eval_rougeLsum': 21.992, 'eval_gen_len': 18.9996, 'eval_runtime': 74.2319, 'eval_samples_per_second': 67.303, 'eval_steps_per_second': 4.217, 'epoch': 4.64}\n"
          ]
        },
        {
          "name": "stderr",
          "output_type": "stream",
          "text": [
            " 47%|████▋     | 14600/31230 [3:33:26<29:51,  9.28it/s]   The following columns in the evaluation set don't have a corresponding argument in `T5ForConditionalGeneration.forward` and have been ignored: article, highlights, id. If article, highlights, id are not expected by `T5ForConditionalGeneration.forward`,  you can safely ignore this message.\n",
            "***** Running Evaluation *****\n",
            "  Num examples = 4996\n",
            "  Batch size = 16\n",
            "                                                       \n",
            " 47%|████▋     | 14600/31230 [3:34:42<29:51,  9.28it/s]Saving model checkpoint to .models/summarization/t5-small/ver2-large\\checkpoint-14600\n",
            "Configuration saved in .models/summarization/t5-small/ver2-large\\checkpoint-14600\\config.json\n"
          ]
        },
        {
          "name": "stdout",
          "output_type": "stream",
          "text": [
            "{'eval_loss': 2.41349720954895, 'eval_rouge1': 23.4067, 'eval_rouge2': 10.7688, 'eval_rougeL': 19.185, 'eval_rougeLsum': 22.0132, 'eval_gen_len': 18.9996, 'eval_runtime': 75.2244, 'eval_samples_per_second': 66.415, 'eval_steps_per_second': 4.161, 'epoch': 4.67}\n"
          ]
        },
        {
          "name": "stderr",
          "output_type": "stream",
          "text": [
            "Model weights saved in .models/summarization/t5-small/ver2-large\\checkpoint-14600\\pytorch_model.bin\n",
            "tokenizer config file saved in .models/summarization/t5-small/ver2-large\\checkpoint-14600\\tokenizer_config.json\n",
            "Special tokens file saved in .models/summarization/t5-small/ver2-large\\checkpoint-14600\\special_tokens_map.json\n",
            "Copy vocab file to .models/summarization/t5-small/ver2-large\\checkpoint-14600\\spiece.model\n",
            "Deleting older checkpoint [.models\\summarization\\t5-small\\ver2-large\\checkpoint-14200] due to args.save_total_limit\n",
            " 47%|████▋     | 14700/31230 [3:34:55<28:24,  9.70it/s]    The following columns in the evaluation set don't have a corresponding argument in `T5ForConditionalGeneration.forward` and have been ignored: article, highlights, id. If article, highlights, id are not expected by `T5ForConditionalGeneration.forward`,  you can safely ignore this message.\n",
            "***** Running Evaluation *****\n",
            "  Num examples = 4996\n",
            "  Batch size = 16\n",
            "                                                       \n",
            " 47%|████▋     | 14700/31230 [3:36:11<28:24,  9.70it/s]"
          ]
        },
        {
          "name": "stdout",
          "output_type": "stream",
          "text": [
            "{'eval_loss': 2.412407159805298, 'eval_rouge1': 23.3757, 'eval_rouge2': 10.718, 'eval_rougeL': 19.1711, 'eval_rougeLsum': 21.9747, 'eval_gen_len': 18.9992, 'eval_runtime': 75.3637, 'eval_samples_per_second': 66.292, 'eval_steps_per_second': 4.153, 'epoch': 4.71}\n"
          ]
        },
        {
          "name": "stderr",
          "output_type": "stream",
          "text": [
            " 47%|████▋     | 14800/31230 [3:36:22<28:11,  9.71it/s]   The following columns in the evaluation set don't have a corresponding argument in `T5ForConditionalGeneration.forward` and have been ignored: article, highlights, id. If article, highlights, id are not expected by `T5ForConditionalGeneration.forward`,  you can safely ignore this message.\n",
            "***** Running Evaluation *****\n",
            "  Num examples = 4996\n",
            "  Batch size = 16\n",
            "                                                       \n",
            " 47%|████▋     | 14800/31230 [3:37:36<28:11,  9.71it/s]Saving model checkpoint to .models/summarization/t5-small/ver2-large\\checkpoint-14800\n",
            "Configuration saved in .models/summarization/t5-small/ver2-large\\checkpoint-14800\\config.json\n"
          ]
        },
        {
          "name": "stdout",
          "output_type": "stream",
          "text": [
            "{'eval_loss': 2.4121298789978027, 'eval_rouge1': 23.3981, 'eval_rouge2': 10.753, 'eval_rougeL': 19.1996, 'eval_rougeLsum': 21.9884, 'eval_gen_len': 18.9996, 'eval_runtime': 73.7845, 'eval_samples_per_second': 67.711, 'eval_steps_per_second': 4.242, 'epoch': 4.74}\n"
          ]
        },
        {
          "name": "stderr",
          "output_type": "stream",
          "text": [
            "Model weights saved in .models/summarization/t5-small/ver2-large\\checkpoint-14800\\pytorch_model.bin\n",
            "tokenizer config file saved in .models/summarization/t5-small/ver2-large\\checkpoint-14800\\tokenizer_config.json\n",
            "Special tokens file saved in .models/summarization/t5-small/ver2-large\\checkpoint-14800\\special_tokens_map.json\n",
            "Copy vocab file to .models/summarization/t5-small/ver2-large\\checkpoint-14800\\spiece.model\n",
            "Deleting older checkpoint [.models\\summarization\\t5-small\\ver2-large\\checkpoint-14400] due to args.save_total_limit\n",
            " 48%|████▊     | 14899/31230 [3:37:49<28:15,  9.63it/s]   The following columns in the evaluation set don't have a corresponding argument in `T5ForConditionalGeneration.forward` and have been ignored: article, highlights, id. If article, highlights, id are not expected by `T5ForConditionalGeneration.forward`,  you can safely ignore this message.\n",
            "***** Running Evaluation *****\n",
            "  Num examples = 4996\n",
            "  Batch size = 16\n",
            "                                                       \n",
            " 48%|████▊     | 14900/31230 [3:39:04<28:15,  9.63it/s]"
          ]
        },
        {
          "name": "stdout",
          "output_type": "stream",
          "text": [
            "{'eval_loss': 2.4126429557800293, 'eval_rouge1': 23.3439, 'eval_rouge2': 10.7404, 'eval_rougeL': 19.1779, 'eval_rougeLsum': 21.9487, 'eval_gen_len': 18.9996, 'eval_runtime': 74.9628, 'eval_samples_per_second': 66.646, 'eval_steps_per_second': 4.175, 'epoch': 4.77}\n"
          ]
        },
        {
          "name": "stderr",
          "output_type": "stream",
          "text": [
            " 48%|████▊     | 15000/31230 [3:39:16<27:46,  9.74it/s]   The following columns in the evaluation set don't have a corresponding argument in `T5ForConditionalGeneration.forward` and have been ignored: article, highlights, id. If article, highlights, id are not expected by `T5ForConditionalGeneration.forward`,  you can safely ignore this message.\n",
            "***** Running Evaluation *****\n",
            "  Num examples = 4996\n",
            "  Batch size = 16\n"
          ]
        },
        {
          "name": "stdout",
          "output_type": "stream",
          "text": [
            "{'loss': 2.7642, 'learning_rate': 1.0397694524495678e-05, 'epoch': 4.8}\n"
          ]
        },
        {
          "name": "stderr",
          "output_type": "stream",
          "text": [
            "                                                       \n",
            " 48%|████▊     | 15000/31230 [3:40:30<27:46,  9.74it/s]Saving model checkpoint to .models/summarization/t5-small/ver2-large\\checkpoint-15000\n",
            "Configuration saved in .models/summarization/t5-small/ver2-large\\checkpoint-15000\\config.json\n"
          ]
        },
        {
          "name": "stdout",
          "output_type": "stream",
          "text": [
            "{'eval_loss': 2.4109113216400146, 'eval_rouge1': 23.3975, 'eval_rouge2': 10.7372, 'eval_rougeL': 19.1899, 'eval_rougeLsum': 22.0028, 'eval_gen_len': 18.9996, 'eval_runtime': 73.8891, 'eval_samples_per_second': 67.615, 'eval_steps_per_second': 4.236, 'epoch': 4.8}\n"
          ]
        },
        {
          "name": "stderr",
          "output_type": "stream",
          "text": [
            "Model weights saved in .models/summarization/t5-small/ver2-large\\checkpoint-15000\\pytorch_model.bin\n",
            "tokenizer config file saved in .models/summarization/t5-small/ver2-large\\checkpoint-15000\\tokenizer_config.json\n",
            "Special tokens file saved in .models/summarization/t5-small/ver2-large\\checkpoint-15000\\special_tokens_map.json\n",
            "Copy vocab file to .models/summarization/t5-small/ver2-large\\checkpoint-15000\\spiece.model\n",
            "Deleting older checkpoint [.models\\summarization\\t5-small\\ver2-large\\checkpoint-14600] due to args.save_total_limit\n",
            " 48%|████▊     | 15100/31230 [3:40:43<27:28,  9.78it/s]   The following columns in the evaluation set don't have a corresponding argument in `T5ForConditionalGeneration.forward` and have been ignored: article, highlights, id. If article, highlights, id are not expected by `T5ForConditionalGeneration.forward`,  you can safely ignore this message.\n",
            "***** Running Evaluation *****\n",
            "  Num examples = 4996\n",
            "  Batch size = 16\n",
            "                                                       \n",
            " 48%|████▊     | 15100/31230 [3:42:00<27:28,  9.78it/s]"
          ]
        },
        {
          "name": "stdout",
          "output_type": "stream",
          "text": [
            "{'eval_loss': 2.4117724895477295, 'eval_rouge1': 23.3822, 'eval_rouge2': 10.7075, 'eval_rougeL': 19.1597, 'eval_rougeLsum': 21.9714, 'eval_gen_len': 18.9996, 'eval_runtime': 76.5005, 'eval_samples_per_second': 65.307, 'eval_steps_per_second': 4.091, 'epoch': 4.84}\n"
          ]
        },
        {
          "name": "stderr",
          "output_type": "stream",
          "text": [
            " 49%|████▊     | 15200/31230 [3:42:11<28:01,  9.53it/s]   The following columns in the evaluation set don't have a corresponding argument in `T5ForConditionalGeneration.forward` and have been ignored: article, highlights, id. If article, highlights, id are not expected by `T5ForConditionalGeneration.forward`,  you can safely ignore this message.\n",
            "***** Running Evaluation *****\n",
            "  Num examples = 4996\n",
            "  Batch size = 16\n",
            "                                                       \n",
            " 49%|████▊     | 15200/31230 [3:43:26<28:01,  9.53it/s]Saving model checkpoint to .models/summarization/t5-small/ver2-large\\checkpoint-15200\n",
            "Configuration saved in .models/summarization/t5-small/ver2-large\\checkpoint-15200\\config.json\n"
          ]
        },
        {
          "name": "stdout",
          "output_type": "stream",
          "text": [
            "{'eval_loss': 2.41119122505188, 'eval_rouge1': 23.4156, 'eval_rouge2': 10.7173, 'eval_rougeL': 19.1951, 'eval_rougeLsum': 22.0116, 'eval_gen_len': 18.9996, 'eval_runtime': 75.1469, 'eval_samples_per_second': 66.483, 'eval_steps_per_second': 4.165, 'epoch': 4.87}\n"
          ]
        },
        {
          "name": "stderr",
          "output_type": "stream",
          "text": [
            "Model weights saved in .models/summarization/t5-small/ver2-large\\checkpoint-15200\\pytorch_model.bin\n",
            "tokenizer config file saved in .models/summarization/t5-small/ver2-large\\checkpoint-15200\\tokenizer_config.json\n",
            "Special tokens file saved in .models/summarization/t5-small/ver2-large\\checkpoint-15200\\special_tokens_map.json\n",
            "Copy vocab file to .models/summarization/t5-small/ver2-large\\checkpoint-15200\\spiece.model\n",
            "Deleting older checkpoint [.models\\summarization\\t5-small\\ver2-large\\checkpoint-14800] due to args.save_total_limit\n",
            " 49%|████▉     | 15300/31230 [3:43:40<28:17,  9.39it/s]    The following columns in the evaluation set don't have a corresponding argument in `T5ForConditionalGeneration.forward` and have been ignored: article, highlights, id. If article, highlights, id are not expected by `T5ForConditionalGeneration.forward`,  you can safely ignore this message.\n",
            "***** Running Evaluation *****\n",
            "  Num examples = 4996\n",
            "  Batch size = 16\n",
            "                                                       \n",
            " 49%|████▉     | 15300/31230 [3:44:58<28:17,  9.39it/s]"
          ]
        },
        {
          "name": "stdout",
          "output_type": "stream",
          "text": [
            "{'eval_loss': 2.4116172790527344, 'eval_rouge1': 23.4158, 'eval_rouge2': 10.764, 'eval_rougeL': 19.2063, 'eval_rougeLsum': 22.0257, 'eval_gen_len': 18.9996, 'eval_runtime': 77.4822, 'eval_samples_per_second': 64.479, 'eval_steps_per_second': 4.04, 'epoch': 4.9}\n"
          ]
        },
        {
          "name": "stderr",
          "output_type": "stream",
          "text": [
            " 49%|████▉     | 15400/31230 [3:45:09<28:03,  9.40it/s]    The following columns in the evaluation set don't have a corresponding argument in `T5ForConditionalGeneration.forward` and have been ignored: article, highlights, id. If article, highlights, id are not expected by `T5ForConditionalGeneration.forward`,  you can safely ignore this message.\n",
            "***** Running Evaluation *****\n",
            "  Num examples = 4996\n",
            "  Batch size = 16\n",
            "                                                       \n",
            " 49%|████▉     | 15400/31230 [3:46:23<28:03,  9.40it/s]Saving model checkpoint to .models/summarization/t5-small/ver2-large\\checkpoint-15400\n",
            "Configuration saved in .models/summarization/t5-small/ver2-large\\checkpoint-15400\\config.json\n"
          ]
        },
        {
          "name": "stdout",
          "output_type": "stream",
          "text": [
            "{'eval_loss': 2.411891460418701, 'eval_rouge1': 23.3971, 'eval_rouge2': 10.7761, 'eval_rougeL': 19.2087, 'eval_rougeLsum': 22.0074, 'eval_gen_len': 18.9992, 'eval_runtime': 73.9739, 'eval_samples_per_second': 67.537, 'eval_steps_per_second': 4.231, 'epoch': 4.93}\n"
          ]
        },
        {
          "name": "stderr",
          "output_type": "stream",
          "text": [
            "Model weights saved in .models/summarization/t5-small/ver2-large\\checkpoint-15400\\pytorch_model.bin\n",
            "tokenizer config file saved in .models/summarization/t5-small/ver2-large\\checkpoint-15400\\tokenizer_config.json\n",
            "Special tokens file saved in .models/summarization/t5-small/ver2-large\\checkpoint-15400\\special_tokens_map.json\n",
            "Copy vocab file to .models/summarization/t5-small/ver2-large\\checkpoint-15400\\spiece.model\n",
            "Deleting older checkpoint [.models\\summarization\\t5-small\\ver2-large\\checkpoint-15000] due to args.save_total_limit\n",
            " 50%|████▉     | 15500/31230 [3:46:37<29:06,  9.01it/s]   The following columns in the evaluation set don't have a corresponding argument in `T5ForConditionalGeneration.forward` and have been ignored: article, highlights, id. If article, highlights, id are not expected by `T5ForConditionalGeneration.forward`,  you can safely ignore this message.\n",
            "***** Running Evaluation *****\n",
            "  Num examples = 4996\n",
            "  Batch size = 16\n"
          ]
        },
        {
          "name": "stdout",
          "output_type": "stream",
          "text": [
            "{'loss': 2.7611, 'learning_rate': 1.0077489593339738e-05, 'epoch': 4.96}\n"
          ]
        },
        {
          "name": "stderr",
          "output_type": "stream",
          "text": [
            "                                                       \n",
            " 50%|████▉     | 15500/31230 [3:47:54<29:06,  9.01it/s]"
          ]
        },
        {
          "name": "stdout",
          "output_type": "stream",
          "text": [
            "{'eval_loss': 2.4118754863739014, 'eval_rouge1': 23.4232, 'eval_rouge2': 10.7895, 'eval_rougeL': 19.2568, 'eval_rougeLsum': 22.0415, 'eval_gen_len': 18.9992, 'eval_runtime': 76.9207, 'eval_samples_per_second': 64.95, 'eval_steps_per_second': 4.069, 'epoch': 4.96}\n"
          ]
        },
        {
          "name": "stderr",
          "output_type": "stream",
          "text": [
            " 50%|████▉     | 15599/31230 [3:48:06<27:10,  9.59it/s]   The following columns in the evaluation set don't have a corresponding argument in `T5ForConditionalGeneration.forward` and have been ignored: article, highlights, id. If article, highlights, id are not expected by `T5ForConditionalGeneration.forward`,  you can safely ignore this message.\n",
            "***** Running Evaluation *****\n",
            "  Num examples = 4996\n",
            "  Batch size = 16\n",
            "                                                       \n",
            " 50%|████▉     | 15600/31230 [3:49:20<27:10,  9.59it/s]Saving model checkpoint to .models/summarization/t5-small/ver2-large\\checkpoint-15600\n",
            "Configuration saved in .models/summarization/t5-small/ver2-large\\checkpoint-15600\\config.json\n"
          ]
        },
        {
          "name": "stdout",
          "output_type": "stream",
          "text": [
            "{'eval_loss': 2.4115023612976074, 'eval_rouge1': 23.4048, 'eval_rouge2': 10.7815, 'eval_rougeL': 19.2517, 'eval_rougeLsum': 22.0322, 'eval_gen_len': 18.9992, 'eval_runtime': 73.9338, 'eval_samples_per_second': 67.574, 'eval_steps_per_second': 4.234, 'epoch': 5.0}\n"
          ]
        },
        {
          "name": "stderr",
          "output_type": "stream",
          "text": [
            "Model weights saved in .models/summarization/t5-small/ver2-large\\checkpoint-15600\\pytorch_model.bin\n",
            "tokenizer config file saved in .models/summarization/t5-small/ver2-large\\checkpoint-15600\\tokenizer_config.json\n",
            "Special tokens file saved in .models/summarization/t5-small/ver2-large\\checkpoint-15600\\special_tokens_map.json\n",
            "Copy vocab file to .models/summarization/t5-small/ver2-large\\checkpoint-15600\\spiece.model\n",
            "Deleting older checkpoint [.models\\summarization\\t5-small\\ver2-large\\checkpoint-15200] due to args.save_total_limit\n",
            " 50%|█████     | 15700/31230 [3:49:33<27:20,  9.47it/s]   The following columns in the evaluation set don't have a corresponding argument in `T5ForConditionalGeneration.forward` and have been ignored: article, highlights, id. If article, highlights, id are not expected by `T5ForConditionalGeneration.forward`,  you can safely ignore this message.\n",
            "***** Running Evaluation *****\n",
            "  Num examples = 4996\n",
            "  Batch size = 16\n",
            "                                                       \n",
            " 50%|█████     | 15700/31230 [3:50:47<27:20,  9.47it/s]"
          ]
        },
        {
          "name": "stdout",
          "output_type": "stream",
          "text": [
            "{'eval_loss': 2.411471366882324, 'eval_rouge1': 23.4262, 'eval_rouge2': 10.7794, 'eval_rougeL': 19.2446, 'eval_rougeLsum': 22.0231, 'eval_gen_len': 18.9996, 'eval_runtime': 73.7145, 'eval_samples_per_second': 67.775, 'eval_steps_per_second': 4.246, 'epoch': 5.03}\n"
          ]
        },
        {
          "name": "stderr",
          "output_type": "stream",
          "text": [
            " 51%|█████     | 15800/31230 [3:50:58<27:22,  9.39it/s]   The following columns in the evaluation set don't have a corresponding argument in `T5ForConditionalGeneration.forward` and have been ignored: article, highlights, id. If article, highlights, id are not expected by `T5ForConditionalGeneration.forward`,  you can safely ignore this message.\n",
            "***** Running Evaluation *****\n",
            "  Num examples = 4996\n",
            "  Batch size = 16\n",
            "                                                       \n",
            " 51%|█████     | 15800/31230 [3:52:14<27:22,  9.39it/s]Saving model checkpoint to .models/summarization/t5-small/ver2-large\\checkpoint-15800\n",
            "Configuration saved in .models/summarization/t5-small/ver2-large\\checkpoint-15800\\config.json\n"
          ]
        },
        {
          "name": "stdout",
          "output_type": "stream",
          "text": [
            "{'eval_loss': 2.4119389057159424, 'eval_rouge1': 23.4405, 'eval_rouge2': 10.8015, 'eval_rougeL': 19.253, 'eval_rougeLsum': 22.0381, 'eval_gen_len': 18.9992, 'eval_runtime': 75.1341, 'eval_samples_per_second': 66.494, 'eval_steps_per_second': 4.166, 'epoch': 5.06}\n"
          ]
        },
        {
          "name": "stderr",
          "output_type": "stream",
          "text": [
            "Model weights saved in .models/summarization/t5-small/ver2-large\\checkpoint-15800\\pytorch_model.bin\n",
            "tokenizer config file saved in .models/summarization/t5-small/ver2-large\\checkpoint-15800\\tokenizer_config.json\n",
            "Special tokens file saved in .models/summarization/t5-small/ver2-large\\checkpoint-15800\\special_tokens_map.json\n",
            "Copy vocab file to .models/summarization/t5-small/ver2-large\\checkpoint-15800\\spiece.model\n",
            "Deleting older checkpoint [.models\\summarization\\t5-small\\ver2-large\\checkpoint-15400] due to args.save_total_limit\n",
            " 51%|█████     | 15900/31230 [3:52:27<27:27,  9.31it/s]   The following columns in the evaluation set don't have a corresponding argument in `T5ForConditionalGeneration.forward` and have been ignored: article, highlights, id. If article, highlights, id are not expected by `T5ForConditionalGeneration.forward`,  you can safely ignore this message.\n",
            "***** Running Evaluation *****\n",
            "  Num examples = 4996\n",
            "  Batch size = 16\n",
            "                                                       \n",
            " 51%|█████     | 15900/31230 [3:53:42<27:27,  9.31it/s]"
          ]
        },
        {
          "name": "stdout",
          "output_type": "stream",
          "text": [
            "{'eval_loss': 2.412238836288452, 'eval_rouge1': 23.4011, 'eval_rouge2': 10.7773, 'eval_rougeL': 19.2467, 'eval_rougeLsum': 22.0038, 'eval_gen_len': 18.9992, 'eval_runtime': 74.8943, 'eval_samples_per_second': 66.707, 'eval_steps_per_second': 4.179, 'epoch': 5.09}\n"
          ]
        },
        {
          "name": "stderr",
          "output_type": "stream",
          "text": [
            " 51%|█████     | 16000/31230 [3:53:54<27:17,  9.30it/s]   The following columns in the evaluation set don't have a corresponding argument in `T5ForConditionalGeneration.forward` and have been ignored: article, highlights, id. If article, highlights, id are not expected by `T5ForConditionalGeneration.forward`,  you can safely ignore this message.\n",
            "***** Running Evaluation *****\n",
            "  Num examples = 4996\n",
            "  Batch size = 16\n"
          ]
        },
        {
          "name": "stdout",
          "output_type": "stream",
          "text": [
            "{'loss': 2.7585, 'learning_rate': 9.757284662183799e-06, 'epoch': 5.12}\n"
          ]
        },
        {
          "name": "stderr",
          "output_type": "stream",
          "text": [
            "                                                       \n",
            " 51%|█████     | 16000/31230 [3:55:09<27:17,  9.30it/s]Saving model checkpoint to .models/summarization/t5-small/ver2-large\\checkpoint-16000\n",
            "Configuration saved in .models/summarization/t5-small/ver2-large\\checkpoint-16000\\config.json\n"
          ]
        },
        {
          "name": "stdout",
          "output_type": "stream",
          "text": [
            "{'eval_loss': 2.411553144454956, 'eval_rouge1': 23.4073, 'eval_rouge2': 10.7411, 'eval_rougeL': 19.1987, 'eval_rougeLsum': 21.991, 'eval_gen_len': 18.9998, 'eval_runtime': 75.0918, 'eval_samples_per_second': 66.532, 'eval_steps_per_second': 4.168, 'epoch': 5.12}\n"
          ]
        },
        {
          "name": "stderr",
          "output_type": "stream",
          "text": [
            "Model weights saved in .models/summarization/t5-small/ver2-large\\checkpoint-16000\\pytorch_model.bin\n",
            "tokenizer config file saved in .models/summarization/t5-small/ver2-large\\checkpoint-16000\\tokenizer_config.json\n",
            "Special tokens file saved in .models/summarization/t5-small/ver2-large\\checkpoint-16000\\special_tokens_map.json\n",
            "Copy vocab file to .models/summarization/t5-small/ver2-large\\checkpoint-16000\\spiece.model\n",
            "Deleting older checkpoint [.models\\summarization\\t5-small\\ver2-large\\checkpoint-15600] due to args.save_total_limit\n",
            " 52%|█████▏    | 16100/31230 [3:55:22<26:39,  9.46it/s]   The following columns in the evaluation set don't have a corresponding argument in `T5ForConditionalGeneration.forward` and have been ignored: article, highlights, id. If article, highlights, id are not expected by `T5ForConditionalGeneration.forward`,  you can safely ignore this message.\n",
            "***** Running Evaluation *****\n",
            "  Num examples = 4996\n",
            "  Batch size = 16\n",
            "                                                       \n",
            " 52%|█████▏    | 16100/31230 [3:56:37<26:39,  9.46it/s]"
          ]
        },
        {
          "name": "stdout",
          "output_type": "stream",
          "text": [
            "{'eval_loss': 2.4118919372558594, 'eval_rouge1': 23.4096, 'eval_rouge2': 10.7666, 'eval_rougeL': 19.1958, 'eval_rougeLsum': 21.9894, 'eval_gen_len': 18.9996, 'eval_runtime': 74.8461, 'eval_samples_per_second': 66.75, 'eval_steps_per_second': 4.182, 'epoch': 5.16}\n"
          ]
        },
        {
          "name": "stderr",
          "output_type": "stream",
          "text": [
            " 52%|█████▏    | 16200/31230 [3:56:49<25:57,  9.65it/s]   The following columns in the evaluation set don't have a corresponding argument in `T5ForConditionalGeneration.forward` and have been ignored: article, highlights, id. If article, highlights, id are not expected by `T5ForConditionalGeneration.forward`,  you can safely ignore this message.\n",
            "***** Running Evaluation *****\n",
            "  Num examples = 4996\n",
            "  Batch size = 16\n",
            "                                                       \n",
            " 52%|█████▏    | 16200/31230 [3:58:04<25:57,  9.65it/s]Saving model checkpoint to .models/summarization/t5-small/ver2-large\\checkpoint-16200\n",
            "Configuration saved in .models/summarization/t5-small/ver2-large\\checkpoint-16200\\config.json\n"
          ]
        },
        {
          "name": "stdout",
          "output_type": "stream",
          "text": [
            "{'eval_loss': 2.411689281463623, 'eval_rouge1': 23.3947, 'eval_rouge2': 10.7744, 'eval_rougeL': 19.1912, 'eval_rougeLsum': 21.9819, 'eval_gen_len': 18.9996, 'eval_runtime': 74.9509, 'eval_samples_per_second': 66.657, 'eval_steps_per_second': 4.176, 'epoch': 5.19}\n"
          ]
        },
        {
          "name": "stderr",
          "output_type": "stream",
          "text": [
            "Model weights saved in .models/summarization/t5-small/ver2-large\\checkpoint-16200\\pytorch_model.bin\n",
            "tokenizer config file saved in .models/summarization/t5-small/ver2-large\\checkpoint-16200\\tokenizer_config.json\n",
            "Special tokens file saved in .models/summarization/t5-small/ver2-large\\checkpoint-16200\\special_tokens_map.json\n",
            "Copy vocab file to .models/summarization/t5-small/ver2-large\\checkpoint-16200\\spiece.model\n",
            "Deleting older checkpoint [.models\\summarization\\t5-small\\ver2-large\\checkpoint-15800] due to args.save_total_limit\n",
            " 52%|█████▏    | 16300/31230 [3:58:17<26:03,  9.55it/s]   The following columns in the evaluation set don't have a corresponding argument in `T5ForConditionalGeneration.forward` and have been ignored: article, highlights, id. If article, highlights, id are not expected by `T5ForConditionalGeneration.forward`,  you can safely ignore this message.\n",
            "***** Running Evaluation *****\n",
            "  Num examples = 4996\n",
            "  Batch size = 16\n",
            "                                                       \n",
            " 52%|█████▏    | 16300/31230 [3:59:32<26:03,  9.55it/s]"
          ]
        },
        {
          "name": "stdout",
          "output_type": "stream",
          "text": [
            "{'eval_loss': 2.410391330718994, 'eval_rouge1': 23.4054, 'eval_rouge2': 10.7607, 'eval_rougeL': 19.2105, 'eval_rougeLsum': 21.9931, 'eval_gen_len': 18.9996, 'eval_runtime': 74.8221, 'eval_samples_per_second': 66.772, 'eval_steps_per_second': 4.183, 'epoch': 5.22}\n"
          ]
        },
        {
          "name": "stderr",
          "output_type": "stream",
          "text": [
            " 53%|█████▎    | 16400/31230 [3:59:44<26:06,  9.47it/s]   The following columns in the evaluation set don't have a corresponding argument in `T5ForConditionalGeneration.forward` and have been ignored: article, highlights, id. If article, highlights, id are not expected by `T5ForConditionalGeneration.forward`,  you can safely ignore this message.\n",
            "***** Running Evaluation *****\n",
            "  Num examples = 4996\n",
            "  Batch size = 16\n",
            "                                                       \n",
            " 53%|█████▎    | 16400/31230 [4:00:59<26:06,  9.47it/s]Saving model checkpoint to .models/summarization/t5-small/ver2-large\\checkpoint-16400\n",
            "Configuration saved in .models/summarization/t5-small/ver2-large\\checkpoint-16400\\config.json\n"
          ]
        },
        {
          "name": "stdout",
          "output_type": "stream",
          "text": [
            "{'eval_loss': 2.4114058017730713, 'eval_rouge1': 23.4244, 'eval_rouge2': 10.8011, 'eval_rougeL': 19.2369, 'eval_rougeLsum': 22.0224, 'eval_gen_len': 18.9994, 'eval_runtime': 74.9838, 'eval_samples_per_second': 66.628, 'eval_steps_per_second': 4.174, 'epoch': 5.25}\n"
          ]
        },
        {
          "name": "stderr",
          "output_type": "stream",
          "text": [
            "Model weights saved in .models/summarization/t5-small/ver2-large\\checkpoint-16400\\pytorch_model.bin\n",
            "tokenizer config file saved in .models/summarization/t5-small/ver2-large\\checkpoint-16400\\tokenizer_config.json\n",
            "Special tokens file saved in .models/summarization/t5-small/ver2-large\\checkpoint-16400\\special_tokens_map.json\n",
            "Copy vocab file to .models/summarization/t5-small/ver2-large\\checkpoint-16400\\spiece.model\n",
            "Deleting older checkpoint [.models\\summarization\\t5-small\\ver2-large\\checkpoint-16000] due to args.save_total_limit\n",
            " 53%|█████▎    | 16500/31230 [4:01:12<25:40,  9.56it/s]   The following columns in the evaluation set don't have a corresponding argument in `T5ForConditionalGeneration.forward` and have been ignored: article, highlights, id. If article, highlights, id are not expected by `T5ForConditionalGeneration.forward`,  you can safely ignore this message.\n",
            "***** Running Evaluation *****\n",
            "  Num examples = 4996\n",
            "  Batch size = 16\n"
          ]
        },
        {
          "name": "stdout",
          "output_type": "stream",
          "text": [
            "{'loss': 2.7663, 'learning_rate': 9.43772014089017e-06, 'epoch': 5.28}\n"
          ]
        },
        {
          "name": "stderr",
          "output_type": "stream",
          "text": [
            "                                                       \n",
            " 53%|█████▎    | 16500/31230 [4:02:27<25:40,  9.56it/s]"
          ]
        },
        {
          "name": "stdout",
          "output_type": "stream",
          "text": [
            "{'eval_loss': 2.41111159324646, 'eval_rouge1': 23.4112, 'eval_rouge2': 10.7849, 'eval_rougeL': 19.2217, 'eval_rougeLsum': 22.0078, 'eval_gen_len': 18.9994, 'eval_runtime': 75.2625, 'eval_samples_per_second': 66.381, 'eval_steps_per_second': 4.159, 'epoch': 5.28}\n"
          ]
        },
        {
          "name": "stderr",
          "output_type": "stream",
          "text": [
            " 53%|█████▎    | 16599/31230 [4:02:39<25:36,  9.52it/s]   The following columns in the evaluation set don't have a corresponding argument in `T5ForConditionalGeneration.forward` and have been ignored: article, highlights, id. If article, highlights, id are not expected by `T5ForConditionalGeneration.forward`,  you can safely ignore this message.\n",
            "***** Running Evaluation *****\n",
            "  Num examples = 4996\n",
            "  Batch size = 16\n",
            "                                                       \n",
            " 53%|█████▎    | 16600/31230 [4:03:53<25:36,  9.52it/s]Saving model checkpoint to .models/summarization/t5-small/ver2-large\\checkpoint-16600\n",
            "Configuration saved in .models/summarization/t5-small/ver2-large\\checkpoint-16600\\config.json\n"
          ]
        },
        {
          "name": "stdout",
          "output_type": "stream",
          "text": [
            "{'eval_loss': 2.4118552207946777, 'eval_rouge1': 23.4487, 'eval_rouge2': 10.7968, 'eval_rougeL': 19.245, 'eval_rougeLsum': 22.0458, 'eval_gen_len': 18.9996, 'eval_runtime': 73.7659, 'eval_samples_per_second': 67.728, 'eval_steps_per_second': 4.243, 'epoch': 5.32}\n"
          ]
        },
        {
          "name": "stderr",
          "output_type": "stream",
          "text": [
            "Model weights saved in .models/summarization/t5-small/ver2-large\\checkpoint-16600\\pytorch_model.bin\n",
            "tokenizer config file saved in .models/summarization/t5-small/ver2-large\\checkpoint-16600\\tokenizer_config.json\n",
            "Special tokens file saved in .models/summarization/t5-small/ver2-large\\checkpoint-16600\\special_tokens_map.json\n",
            "Copy vocab file to .models/summarization/t5-small/ver2-large\\checkpoint-16600\\spiece.model\n",
            "Deleting older checkpoint [.models\\summarization\\t5-small\\ver2-large\\checkpoint-16200] due to args.save_total_limit\n",
            " 53%|█████▎    | 16700/31230 [4:04:07<27:08,  8.92it/s]   The following columns in the evaluation set don't have a corresponding argument in `T5ForConditionalGeneration.forward` and have been ignored: article, highlights, id. If article, highlights, id are not expected by `T5ForConditionalGeneration.forward`,  you can safely ignore this message.\n",
            "***** Running Evaluation *****\n",
            "  Num examples = 4996\n",
            "  Batch size = 16\n",
            "                                                       \n",
            " 53%|█████▎    | 16700/31230 [4:05:24<27:08,  8.92it/s]"
          ]
        },
        {
          "name": "stdout",
          "output_type": "stream",
          "text": [
            "{'eval_loss': 2.412551164627075, 'eval_rouge1': 23.4147, 'eval_rouge2': 10.7727, 'eval_rougeL': 19.2073, 'eval_rougeLsum': 22.0152, 'eval_gen_len': 18.9996, 'eval_runtime': 77.3276, 'eval_samples_per_second': 64.608, 'eval_steps_per_second': 4.048, 'epoch': 5.35}\n"
          ]
        },
        {
          "name": "stderr",
          "output_type": "stream",
          "text": [
            " 54%|█████▍    | 16800/31230 [4:05:36<25:14,  9.53it/s]   The following columns in the evaluation set don't have a corresponding argument in `T5ForConditionalGeneration.forward` and have been ignored: article, highlights, id. If article, highlights, id are not expected by `T5ForConditionalGeneration.forward`,  you can safely ignore this message.\n",
            "***** Running Evaluation *****\n",
            "  Num examples = 4996\n",
            "  Batch size = 16\n",
            "                                                       \n",
            " 54%|█████▍    | 16800/31230 [4:06:50<25:14,  9.53it/s]Saving model checkpoint to .models/summarization/t5-small/ver2-large\\checkpoint-16800\n",
            "Configuration saved in .models/summarization/t5-small/ver2-large\\checkpoint-16800\\config.json\n"
          ]
        },
        {
          "name": "stdout",
          "output_type": "stream",
          "text": [
            "{'eval_loss': 2.4103803634643555, 'eval_rouge1': 23.4384, 'eval_rouge2': 10.8124, 'eval_rougeL': 19.2626, 'eval_rougeLsum': 22.0415, 'eval_gen_len': 18.9996, 'eval_runtime': 74.582, 'eval_samples_per_second': 66.987, 'eval_steps_per_second': 4.197, 'epoch': 5.38}\n"
          ]
        },
        {
          "name": "stderr",
          "output_type": "stream",
          "text": [
            "Model weights saved in .models/summarization/t5-small/ver2-large\\checkpoint-16800\\pytorch_model.bin\n",
            "tokenizer config file saved in .models/summarization/t5-small/ver2-large\\checkpoint-16800\\tokenizer_config.json\n",
            "Special tokens file saved in .models/summarization/t5-small/ver2-large\\checkpoint-16800\\special_tokens_map.json\n",
            "Copy vocab file to .models/summarization/t5-small/ver2-large\\checkpoint-16800\\spiece.model\n",
            "Deleting older checkpoint [.models\\summarization\\t5-small\\ver2-large\\checkpoint-16400] due to args.save_total_limit\n",
            " 54%|█████▍    | 16899/31230 [4:07:04<25:19,  9.43it/s]   The following columns in the evaluation set don't have a corresponding argument in `T5ForConditionalGeneration.forward` and have been ignored: article, highlights, id. If article, highlights, id are not expected by `T5ForConditionalGeneration.forward`,  you can safely ignore this message.\n",
            "***** Running Evaluation *****\n",
            "  Num examples = 4996\n",
            "  Batch size = 16\n",
            "                                                       \n",
            " 54%|█████▍    | 16900/31230 [4:08:19<25:19,  9.43it/s]"
          ]
        },
        {
          "name": "stdout",
          "output_type": "stream",
          "text": [
            "{'eval_loss': 2.410621166229248, 'eval_rouge1': 23.3954, 'eval_rouge2': 10.7807, 'eval_rougeL': 19.2172, 'eval_rougeLsum': 22.0058, 'eval_gen_len': 18.9996, 'eval_runtime': 75.2284, 'eval_samples_per_second': 66.411, 'eval_steps_per_second': 4.161, 'epoch': 5.41}\n"
          ]
        },
        {
          "name": "stderr",
          "output_type": "stream",
          "text": [
            " 54%|█████▍    | 17000/31230 [4:08:31<26:10,  9.06it/s]   The following columns in the evaluation set don't have a corresponding argument in `T5ForConditionalGeneration.forward` and have been ignored: article, highlights, id. If article, highlights, id are not expected by `T5ForConditionalGeneration.forward`,  you can safely ignore this message.\n",
            "***** Running Evaluation *****\n",
            "  Num examples = 4996\n",
            "  Batch size = 16\n"
          ]
        },
        {
          "name": "stdout",
          "output_type": "stream",
          "text": [
            "{'loss': 2.7509, 'learning_rate': 9.11751520973423e-06, 'epoch': 5.44}\n"
          ]
        },
        {
          "name": "stderr",
          "output_type": "stream",
          "text": [
            "                                                       \n",
            " 54%|█████▍    | 17000/31230 [4:09:46<26:10,  9.06it/s]Saving model checkpoint to .models/summarization/t5-small/ver2-large\\checkpoint-17000\n",
            "Configuration saved in .models/summarization/t5-small/ver2-large\\checkpoint-17000\\config.json\n"
          ]
        },
        {
          "name": "stdout",
          "output_type": "stream",
          "text": [
            "{'eval_loss': 2.410477638244629, 'eval_rouge1': 23.3986, 'eval_rouge2': 10.7894, 'eval_rougeL': 19.232, 'eval_rougeLsum': 22.0021, 'eval_gen_len': 18.9996, 'eval_runtime': 74.9373, 'eval_samples_per_second': 66.669, 'eval_steps_per_second': 4.177, 'epoch': 5.44}\n"
          ]
        },
        {
          "name": "stderr",
          "output_type": "stream",
          "text": [
            "Model weights saved in .models/summarization/t5-small/ver2-large\\checkpoint-17000\\pytorch_model.bin\n",
            "tokenizer config file saved in .models/summarization/t5-small/ver2-large\\checkpoint-17000\\tokenizer_config.json\n",
            "Special tokens file saved in .models/summarization/t5-small/ver2-large\\checkpoint-17000\\special_tokens_map.json\n",
            "Copy vocab file to .models/summarization/t5-small/ver2-large\\checkpoint-17000\\spiece.model\n",
            "Deleting older checkpoint [.models\\summarization\\t5-small\\ver2-large\\checkpoint-16600] due to args.save_total_limit\n",
            " 55%|█████▍    | 17100/31230 [4:09:59<24:13,  9.72it/s]   The following columns in the evaluation set don't have a corresponding argument in `T5ForConditionalGeneration.forward` and have been ignored: article, highlights, id. If article, highlights, id are not expected by `T5ForConditionalGeneration.forward`,  you can safely ignore this message.\n",
            "***** Running Evaluation *****\n",
            "  Num examples = 4996\n",
            "  Batch size = 16\n",
            "                                                       \n",
            " 55%|█████▍    | 17100/31230 [4:11:14<24:13,  9.72it/s]"
          ]
        },
        {
          "name": "stdout",
          "output_type": "stream",
          "text": [
            "{'eval_loss': 2.4106533527374268, 'eval_rouge1': 23.4359, 'eval_rouge2': 10.7902, 'eval_rougeL': 19.2565, 'eval_rougeLsum': 22.0308, 'eval_gen_len': 18.9998, 'eval_runtime': 75.1476, 'eval_samples_per_second': 66.482, 'eval_steps_per_second': 4.165, 'epoch': 5.48}\n"
          ]
        },
        {
          "name": "stderr",
          "output_type": "stream",
          "text": [
            " 55%|█████▌    | 17200/31230 [4:11:26<24:42,  9.47it/s]   The following columns in the evaluation set don't have a corresponding argument in `T5ForConditionalGeneration.forward` and have been ignored: article, highlights, id. If article, highlights, id are not expected by `T5ForConditionalGeneration.forward`,  you can safely ignore this message.\n",
            "***** Running Evaluation *****\n",
            "  Num examples = 4996\n",
            "  Batch size = 16\n",
            "                                                       \n",
            " 55%|█████▌    | 17200/31230 [4:12:39<24:42,  9.47it/s]Saving model checkpoint to .models/summarization/t5-small/ver2-large\\checkpoint-17200\n",
            "Configuration saved in .models/summarization/t5-small/ver2-large\\checkpoint-17200\\config.json\n"
          ]
        },
        {
          "name": "stdout",
          "output_type": "stream",
          "text": [
            "{'eval_loss': 2.4105515480041504, 'eval_rouge1': 23.4237, 'eval_rouge2': 10.7995, 'eval_rougeL': 19.253, 'eval_rougeLsum': 22.0163, 'eval_gen_len': 18.9996, 'eval_runtime': 73.6221, 'eval_samples_per_second': 67.86, 'eval_steps_per_second': 4.251, 'epoch': 5.51}\n"
          ]
        },
        {
          "name": "stderr",
          "output_type": "stream",
          "text": [
            "Model weights saved in .models/summarization/t5-small/ver2-large\\checkpoint-17200\\pytorch_model.bin\n",
            "tokenizer config file saved in .models/summarization/t5-small/ver2-large\\checkpoint-17200\\tokenizer_config.json\n",
            "Special tokens file saved in .models/summarization/t5-small/ver2-large\\checkpoint-17200\\special_tokens_map.json\n",
            "Copy vocab file to .models/summarization/t5-small/ver2-large\\checkpoint-17200\\spiece.model\n",
            "Deleting older checkpoint [.models\\summarization\\t5-small\\ver2-large\\checkpoint-16800] due to args.save_total_limit\n",
            " 55%|█████▌    | 17300/31230 [4:12:53<24:13,  9.59it/s]   The following columns in the evaluation set don't have a corresponding argument in `T5ForConditionalGeneration.forward` and have been ignored: article, highlights, id. If article, highlights, id are not expected by `T5ForConditionalGeneration.forward`,  you can safely ignore this message.\n",
            "***** Running Evaluation *****\n",
            "  Num examples = 4996\n",
            "  Batch size = 16\n",
            "                                                       \n",
            " 55%|█████▌    | 17300/31230 [4:14:07<24:13,  9.59it/s]"
          ]
        },
        {
          "name": "stdout",
          "output_type": "stream",
          "text": [
            "{'eval_loss': 2.4111387729644775, 'eval_rouge1': 23.4088, 'eval_rouge2': 10.7886, 'eval_rougeL': 19.2345, 'eval_rougeLsum': 22.0053, 'eval_gen_len': 18.9996, 'eval_runtime': 73.8904, 'eval_samples_per_second': 67.614, 'eval_steps_per_second': 4.236, 'epoch': 5.54}\n"
          ]
        },
        {
          "name": "stderr",
          "output_type": "stream",
          "text": [
            " 56%|█████▌    | 17400/31230 [4:14:18<23:49,  9.68it/s]   The following columns in the evaluation set don't have a corresponding argument in `T5ForConditionalGeneration.forward` and have been ignored: article, highlights, id. If article, highlights, id are not expected by `T5ForConditionalGeneration.forward`,  you can safely ignore this message.\n",
            "***** Running Evaluation *****\n",
            "  Num examples = 4996\n",
            "  Batch size = 16\n",
            "                                                       \n",
            " 56%|█████▌    | 17400/31230 [4:15:32<23:49,  9.68it/s]Saving model checkpoint to .models/summarization/t5-small/ver2-large\\checkpoint-17400\n",
            "Configuration saved in .models/summarization/t5-small/ver2-large\\checkpoint-17400\\config.json\n"
          ]
        },
        {
          "name": "stdout",
          "output_type": "stream",
          "text": [
            "{'eval_loss': 2.410118341445923, 'eval_rouge1': 23.3614, 'eval_rouge2': 10.7669, 'eval_rougeL': 19.2119, 'eval_rougeLsum': 21.983, 'eval_gen_len': 18.9996, 'eval_runtime': 73.9203, 'eval_samples_per_second': 67.586, 'eval_steps_per_second': 4.234, 'epoch': 5.57}\n"
          ]
        },
        {
          "name": "stderr",
          "output_type": "stream",
          "text": [
            "Model weights saved in .models/summarization/t5-small/ver2-large\\checkpoint-17400\\pytorch_model.bin\n",
            "tokenizer config file saved in .models/summarization/t5-small/ver2-large\\checkpoint-17400\\tokenizer_config.json\n",
            "Special tokens file saved in .models/summarization/t5-small/ver2-large\\checkpoint-17400\\special_tokens_map.json\n",
            "Copy vocab file to .models/summarization/t5-small/ver2-large\\checkpoint-17400\\spiece.model\n",
            "Deleting older checkpoint [.models\\summarization\\t5-small\\ver2-large\\checkpoint-17000] due to args.save_total_limit\n",
            " 56%|█████▌    | 17500/31230 [4:15:46<26:13,  8.73it/s]   The following columns in the evaluation set don't have a corresponding argument in `T5ForConditionalGeneration.forward` and have been ignored: article, highlights, id. If article, highlights, id are not expected by `T5ForConditionalGeneration.forward`,  you can safely ignore this message.\n",
            "***** Running Evaluation *****\n",
            "  Num examples = 4996\n",
            "  Batch size = 16\n"
          ]
        },
        {
          "name": "stdout",
          "output_type": "stream",
          "text": [
            "{'loss': 2.7643, 'learning_rate': 8.797310278578291e-06, 'epoch': 5.6}\n"
          ]
        },
        {
          "name": "stderr",
          "output_type": "stream",
          "text": [
            "                                                       \n",
            " 56%|█████▌    | 17500/31230 [4:17:04<26:13,  8.73it/s]"
          ]
        },
        {
          "name": "stdout",
          "output_type": "stream",
          "text": [
            "{'eval_loss': 2.4104251861572266, 'eval_rouge1': 23.4093, 'eval_rouge2': 10.785, 'eval_rougeL': 19.2346, 'eval_rougeLsum': 22.0189, 'eval_gen_len': 18.9996, 'eval_runtime': 77.3549, 'eval_samples_per_second': 64.585, 'eval_steps_per_second': 4.046, 'epoch': 5.6}\n"
          ]
        },
        {
          "name": "stderr",
          "output_type": "stream",
          "text": [
            " 56%|█████▋    | 17600/31230 [4:17:15<24:43,  9.19it/s]   The following columns in the evaluation set don't have a corresponding argument in `T5ForConditionalGeneration.forward` and have been ignored: article, highlights, id. If article, highlights, id are not expected by `T5ForConditionalGeneration.forward`,  you can safely ignore this message.\n",
            "***** Running Evaluation *****\n",
            "  Num examples = 4996\n",
            "  Batch size = 16\n",
            "                                                       \n",
            " 56%|█████▋    | 17600/31230 [4:18:29<24:43,  9.19it/s]Saving model checkpoint to .models/summarization/t5-small/ver2-large\\checkpoint-17600\n",
            "Configuration saved in .models/summarization/t5-small/ver2-large\\checkpoint-17600\\config.json\n"
          ]
        },
        {
          "name": "stdout",
          "output_type": "stream",
          "text": [
            "{'eval_loss': 2.4105544090270996, 'eval_rouge1': 23.3677, 'eval_rouge2': 10.7298, 'eval_rougeL': 19.1855, 'eval_rougeLsum': 21.9718, 'eval_gen_len': 18.9996, 'eval_runtime': 73.8135, 'eval_samples_per_second': 67.684, 'eval_steps_per_second': 4.24, 'epoch': 5.64}\n"
          ]
        },
        {
          "name": "stderr",
          "output_type": "stream",
          "text": [
            "Model weights saved in .models/summarization/t5-small/ver2-large\\checkpoint-17600\\pytorch_model.bin\n",
            "tokenizer config file saved in .models/summarization/t5-small/ver2-large\\checkpoint-17600\\tokenizer_config.json\n",
            "Special tokens file saved in .models/summarization/t5-small/ver2-large\\checkpoint-17600\\special_tokens_map.json\n",
            "Copy vocab file to .models/summarization/t5-small/ver2-large\\checkpoint-17600\\spiece.model\n",
            "Deleting older checkpoint [.models\\summarization\\t5-small\\ver2-large\\checkpoint-17200] due to args.save_total_limit\n",
            " 57%|█████▋    | 17700/31230 [4:18:42<23:23,  9.64it/s]   The following columns in the evaluation set don't have a corresponding argument in `T5ForConditionalGeneration.forward` and have been ignored: article, highlights, id. If article, highlights, id are not expected by `T5ForConditionalGeneration.forward`,  you can safely ignore this message.\n",
            "***** Running Evaluation *****\n",
            "  Num examples = 4996\n",
            "  Batch size = 16\n",
            "                                                       \n",
            " 57%|█████▋    | 17700/31230 [4:19:57<23:23,  9.64it/s]"
          ]
        },
        {
          "name": "stdout",
          "output_type": "stream",
          "text": [
            "{'eval_loss': 2.409982681274414, 'eval_rouge1': 23.3884, 'eval_rouge2': 10.7565, 'eval_rougeL': 19.2072, 'eval_rougeLsum': 21.9958, 'eval_gen_len': 18.9996, 'eval_runtime': 74.856, 'eval_samples_per_second': 66.741, 'eval_steps_per_second': 4.181, 'epoch': 5.67}\n"
          ]
        },
        {
          "name": "stderr",
          "output_type": "stream",
          "text": [
            " 57%|█████▋    | 17799/31230 [4:20:09<22:48,  9.81it/s]   The following columns in the evaluation set don't have a corresponding argument in `T5ForConditionalGeneration.forward` and have been ignored: article, highlights, id. If article, highlights, id are not expected by `T5ForConditionalGeneration.forward`,  you can safely ignore this message.\n",
            "***** Running Evaluation *****\n",
            "  Num examples = 4996\n",
            "  Batch size = 16\n",
            "                                                       \n",
            " 57%|█████▋    | 17800/31230 [4:21:23<22:48,  9.81it/s]Saving model checkpoint to .models/summarization/t5-small/ver2-large\\checkpoint-17800\n",
            "Configuration saved in .models/summarization/t5-small/ver2-large\\checkpoint-17800\\config.json\n"
          ]
        },
        {
          "name": "stdout",
          "output_type": "stream",
          "text": [
            "{'eval_loss': 2.4097437858581543, 'eval_rouge1': 23.4284, 'eval_rouge2': 10.7762, 'eval_rougeL': 19.2371, 'eval_rougeLsum': 22.0412, 'eval_gen_len': 18.9996, 'eval_runtime': 73.8356, 'eval_samples_per_second': 67.664, 'eval_steps_per_second': 4.239, 'epoch': 5.7}\n"
          ]
        },
        {
          "name": "stderr",
          "output_type": "stream",
          "text": [
            "Model weights saved in .models/summarization/t5-small/ver2-large\\checkpoint-17800\\pytorch_model.bin\n",
            "tokenizer config file saved in .models/summarization/t5-small/ver2-large\\checkpoint-17800\\tokenizer_config.json\n",
            "Special tokens file saved in .models/summarization/t5-small/ver2-large\\checkpoint-17800\\special_tokens_map.json\n",
            "Copy vocab file to .models/summarization/t5-small/ver2-large\\checkpoint-17800\\spiece.model\n",
            "Deleting older checkpoint [.models\\summarization\\t5-small\\ver2-large\\checkpoint-17400] due to args.save_total_limit\n",
            " 57%|█████▋    | 17900/31230 [4:21:37<23:38,  9.40it/s]   The following columns in the evaluation set don't have a corresponding argument in `T5ForConditionalGeneration.forward` and have been ignored: article, highlights, id. If article, highlights, id are not expected by `T5ForConditionalGeneration.forward`,  you can safely ignore this message.\n",
            "***** Running Evaluation *****\n",
            "  Num examples = 4996\n",
            "  Batch size = 16\n",
            "                                                       \n",
            " 57%|█████▋    | 17900/31230 [4:22:52<23:38,  9.40it/s]"
          ]
        },
        {
          "name": "stdout",
          "output_type": "stream",
          "text": [
            "{'eval_loss': 2.4100799560546875, 'eval_rouge1': 23.4491, 'eval_rouge2': 10.7908, 'eval_rougeL': 19.2439, 'eval_rougeLsum': 22.0657, 'eval_gen_len': 18.9996, 'eval_runtime': 74.8834, 'eval_samples_per_second': 66.717, 'eval_steps_per_second': 4.18, 'epoch': 5.73}\n"
          ]
        },
        {
          "name": "stderr",
          "output_type": "stream",
          "text": [
            " 58%|█████▊    | 18000/31230 [4:23:03<22:46,  9.68it/s]   The following columns in the evaluation set don't have a corresponding argument in `T5ForConditionalGeneration.forward` and have been ignored: article, highlights, id. If article, highlights, id are not expected by `T5ForConditionalGeneration.forward`,  you can safely ignore this message.\n",
            "***** Running Evaluation *****\n",
            "  Num examples = 4996\n",
            "  Batch size = 16\n"
          ]
        },
        {
          "name": "stdout",
          "output_type": "stream",
          "text": [
            "{'loss': 2.7548, 'learning_rate': 8.477105347422352e-06, 'epoch': 5.76}\n"
          ]
        },
        {
          "name": "stderr",
          "output_type": "stream",
          "text": [
            "                                                       \n",
            " 58%|█████▊    | 18000/31230 [4:24:18<22:46,  9.68it/s]Saving model checkpoint to .models/summarization/t5-small/ver2-large\\checkpoint-18000\n",
            "Configuration saved in .models/summarization/t5-small/ver2-large\\checkpoint-18000\\config.json\n"
          ]
        },
        {
          "name": "stdout",
          "output_type": "stream",
          "text": [
            "{'eval_loss': 2.4099557399749756, 'eval_rouge1': 23.4101, 'eval_rouge2': 10.7615, 'eval_rougeL': 19.2098, 'eval_rougeLsum': 22.0096, 'eval_gen_len': 18.9996, 'eval_runtime': 75.0472, 'eval_samples_per_second': 66.571, 'eval_steps_per_second': 4.171, 'epoch': 5.76}\n"
          ]
        },
        {
          "name": "stderr",
          "output_type": "stream",
          "text": [
            "Model weights saved in .models/summarization/t5-small/ver2-large\\checkpoint-18000\\pytorch_model.bin\n",
            "tokenizer config file saved in .models/summarization/t5-small/ver2-large\\checkpoint-18000\\tokenizer_config.json\n",
            "Special tokens file saved in .models/summarization/t5-small/ver2-large\\checkpoint-18000\\special_tokens_map.json\n",
            "Copy vocab file to .models/summarization/t5-small/ver2-large\\checkpoint-18000\\spiece.model\n",
            "Deleting older checkpoint [.models\\summarization\\t5-small\\ver2-large\\checkpoint-17600] due to args.save_total_limit\n",
            " 58%|█████▊    | 18100/31230 [4:24:33<24:35,  8.90it/s]   The following columns in the evaluation set don't have a corresponding argument in `T5ForConditionalGeneration.forward` and have been ignored: article, highlights, id. If article, highlights, id are not expected by `T5ForConditionalGeneration.forward`,  you can safely ignore this message.\n",
            "***** Running Evaluation *****\n",
            "  Num examples = 4996\n",
            "  Batch size = 16\n",
            "                                                       \n",
            " 58%|█████▊    | 18100/31230 [4:25:50<24:35,  8.90it/s]"
          ]
        },
        {
          "name": "stdout",
          "output_type": "stream",
          "text": [
            "{'eval_loss': 2.409595012664795, 'eval_rouge1': 23.379, 'eval_rouge2': 10.728, 'eval_rougeL': 19.162, 'eval_rougeLsum': 21.9693, 'eval_gen_len': 18.9998, 'eval_runtime': 77.2311, 'eval_samples_per_second': 64.689, 'eval_steps_per_second': 4.053, 'epoch': 5.8}\n"
          ]
        },
        {
          "name": "stderr",
          "output_type": "stream",
          "text": [
            " 58%|█████▊    | 18199/31230 [4:26:01<22:49,  9.51it/s]   The following columns in the evaluation set don't have a corresponding argument in `T5ForConditionalGeneration.forward` and have been ignored: article, highlights, id. If article, highlights, id are not expected by `T5ForConditionalGeneration.forward`,  you can safely ignore this message.\n",
            "***** Running Evaluation *****\n",
            "  Num examples = 4996\n",
            "  Batch size = 16\n",
            "                                                       \n",
            " 58%|█████▊    | 18200/31230 [4:27:15<22:49,  9.51it/s]Saving model checkpoint to .models/summarization/t5-small/ver2-large\\checkpoint-18200\n",
            "Configuration saved in .models/summarization/t5-small/ver2-large\\checkpoint-18200\\config.json\n"
          ]
        },
        {
          "name": "stdout",
          "output_type": "stream",
          "text": [
            "{'eval_loss': 2.409917116165161, 'eval_rouge1': 23.3738, 'eval_rouge2': 10.7295, 'eval_rougeL': 19.175, 'eval_rougeLsum': 21.967, 'eval_gen_len': 18.9996, 'eval_runtime': 73.6938, 'eval_samples_per_second': 67.794, 'eval_steps_per_second': 4.247, 'epoch': 5.83}\n"
          ]
        },
        {
          "name": "stderr",
          "output_type": "stream",
          "text": [
            "Model weights saved in .models/summarization/t5-small/ver2-large\\checkpoint-18200\\pytorch_model.bin\n",
            "tokenizer config file saved in .models/summarization/t5-small/ver2-large\\checkpoint-18200\\tokenizer_config.json\n",
            "Special tokens file saved in .models/summarization/t5-small/ver2-large\\checkpoint-18200\\special_tokens_map.json\n",
            "Copy vocab file to .models/summarization/t5-small/ver2-large\\checkpoint-18200\\spiece.model\n",
            "Deleting older checkpoint [.models\\summarization\\t5-small\\ver2-large\\checkpoint-17800] due to args.save_total_limit\n",
            " 59%|█████▊    | 18300/31230 [4:27:29<23:27,  9.19it/s]   The following columns in the evaluation set don't have a corresponding argument in `T5ForConditionalGeneration.forward` and have been ignored: article, highlights, id. If article, highlights, id are not expected by `T5ForConditionalGeneration.forward`,  you can safely ignore this message.\n",
            "***** Running Evaluation *****\n",
            "  Num examples = 4996\n",
            "  Batch size = 16\n",
            "                                                       \n",
            " 59%|█████▊    | 18300/31230 [4:28:46<23:27,  9.19it/s]"
          ]
        },
        {
          "name": "stdout",
          "output_type": "stream",
          "text": [
            "{'eval_loss': 2.4096827507019043, 'eval_rouge1': 23.4266, 'eval_rouge2': 10.7693, 'eval_rougeL': 19.2155, 'eval_rougeLsum': 22.0208, 'eval_gen_len': 18.9998, 'eval_runtime': 76.736, 'eval_samples_per_second': 65.106, 'eval_steps_per_second': 4.079, 'epoch': 5.86}\n"
          ]
        },
        {
          "name": "stderr",
          "output_type": "stream",
          "text": [
            " 59%|█████▉    | 18400/31230 [4:28:57<21:58,  9.73it/s]   The following columns in the evaluation set don't have a corresponding argument in `T5ForConditionalGeneration.forward` and have been ignored: article, highlights, id. If article, highlights, id are not expected by `T5ForConditionalGeneration.forward`,  you can safely ignore this message.\n",
            "***** Running Evaluation *****\n",
            "  Num examples = 4996\n",
            "  Batch size = 16\n",
            "                                                       \n",
            " 59%|█████▉    | 18400/31230 [4:30:11<21:58,  9.73it/s]Saving model checkpoint to .models/summarization/t5-small/ver2-large\\checkpoint-18400\n",
            "Configuration saved in .models/summarization/t5-small/ver2-large\\checkpoint-18400\\config.json\n"
          ]
        },
        {
          "name": "stdout",
          "output_type": "stream",
          "text": [
            "{'eval_loss': 2.4095494747161865, 'eval_rouge1': 23.3851, 'eval_rouge2': 10.7257, 'eval_rougeL': 19.1727, 'eval_rougeLsum': 21.9896, 'eval_gen_len': 18.9998, 'eval_runtime': 73.6561, 'eval_samples_per_second': 67.829, 'eval_steps_per_second': 4.249, 'epoch': 5.89}\n"
          ]
        },
        {
          "name": "stderr",
          "output_type": "stream",
          "text": [
            "Model weights saved in .models/summarization/t5-small/ver2-large\\checkpoint-18400\\pytorch_model.bin\n",
            "tokenizer config file saved in .models/summarization/t5-small/ver2-large\\checkpoint-18400\\tokenizer_config.json\n",
            "Special tokens file saved in .models/summarization/t5-small/ver2-large\\checkpoint-18400\\special_tokens_map.json\n",
            "Copy vocab file to .models/summarization/t5-small/ver2-large\\checkpoint-18400\\spiece.model\n",
            "Deleting older checkpoint [.models\\summarization\\t5-small\\ver2-large\\checkpoint-18000] due to args.save_total_limit\n",
            " 59%|█████▉    | 18500/31230 [4:30:24<21:43,  9.77it/s]   The following columns in the evaluation set don't have a corresponding argument in `T5ForConditionalGeneration.forward` and have been ignored: article, highlights, id. If article, highlights, id are not expected by `T5ForConditionalGeneration.forward`,  you can safely ignore this message.\n",
            "***** Running Evaluation *****\n",
            "  Num examples = 4996\n",
            "  Batch size = 16\n"
          ]
        },
        {
          "name": "stdout",
          "output_type": "stream",
          "text": [
            "{'loss': 2.7603, 'learning_rate': 8.156900416266412e-06, 'epoch': 5.92}\n"
          ]
        },
        {
          "name": "stderr",
          "output_type": "stream",
          "text": [
            "                                                       \n",
            " 59%|█████▉    | 18500/31230 [4:31:41<21:43,  9.77it/s]"
          ]
        },
        {
          "name": "stdout",
          "output_type": "stream",
          "text": [
            "{'eval_loss': 2.4106216430664062, 'eval_rouge1': 23.3462, 'eval_rouge2': 10.7354, 'eval_rougeL': 19.1565, 'eval_rougeLsum': 21.9581, 'eval_gen_len': 18.9996, 'eval_runtime': 76.5396, 'eval_samples_per_second': 65.273, 'eval_steps_per_second': 4.089, 'epoch': 5.92}\n"
          ]
        },
        {
          "name": "stderr",
          "output_type": "stream",
          "text": [
            " 60%|█████▉    | 18600/31230 [4:31:52<21:58,  9.58it/s]   The following columns in the evaluation set don't have a corresponding argument in `T5ForConditionalGeneration.forward` and have been ignored: article, highlights, id. If article, highlights, id are not expected by `T5ForConditionalGeneration.forward`,  you can safely ignore this message.\n",
            "***** Running Evaluation *****\n",
            "  Num examples = 4996\n",
            "  Batch size = 16\n",
            "                                                       \n",
            " 60%|█████▉    | 18600/31230 [4:33:08<21:58,  9.58it/s]Saving model checkpoint to .models/summarization/t5-small/ver2-large\\checkpoint-18600\n",
            "Configuration saved in .models/summarization/t5-small/ver2-large\\checkpoint-18600\\config.json\n"
          ]
        },
        {
          "name": "stdout",
          "output_type": "stream",
          "text": [
            "{'eval_loss': 2.4103293418884277, 'eval_rouge1': 23.4008, 'eval_rouge2': 10.7685, 'eval_rougeL': 19.1982, 'eval_rougeLsum': 22.001, 'eval_gen_len': 18.9996, 'eval_runtime': 75.1951, 'eval_samples_per_second': 66.441, 'eval_steps_per_second': 4.163, 'epoch': 5.96}\n"
          ]
        },
        {
          "name": "stderr",
          "output_type": "stream",
          "text": [
            "Model weights saved in .models/summarization/t5-small/ver2-large\\checkpoint-18600\\pytorch_model.bin\n",
            "tokenizer config file saved in .models/summarization/t5-small/ver2-large\\checkpoint-18600\\tokenizer_config.json\n",
            "Special tokens file saved in .models/summarization/t5-small/ver2-large\\checkpoint-18600\\special_tokens_map.json\n",
            "Copy vocab file to .models/summarization/t5-small/ver2-large\\checkpoint-18600\\spiece.model\n",
            "Deleting older checkpoint [.models\\summarization\\t5-small\\ver2-large\\checkpoint-18200] due to args.save_total_limit\n",
            " 60%|█████▉    | 18700/31230 [4:33:21<21:58,  9.50it/s]   The following columns in the evaluation set don't have a corresponding argument in `T5ForConditionalGeneration.forward` and have been ignored: article, highlights, id. If article, highlights, id are not expected by `T5ForConditionalGeneration.forward`,  you can safely ignore this message.\n",
            "***** Running Evaluation *****\n",
            "  Num examples = 4996\n",
            "  Batch size = 16\n",
            "                                                       \n",
            " 60%|█████▉    | 18700/31230 [4:34:37<21:58,  9.50it/s]"
          ]
        },
        {
          "name": "stdout",
          "output_type": "stream",
          "text": [
            "{'eval_loss': 2.4090957641601562, 'eval_rouge1': 23.4008, 'eval_rouge2': 10.775, 'eval_rougeL': 19.1982, 'eval_rougeLsum': 22.0123, 'eval_gen_len': 18.9992, 'eval_runtime': 75.4419, 'eval_samples_per_second': 66.223, 'eval_steps_per_second': 4.149, 'epoch': 5.99}\n"
          ]
        },
        {
          "name": "stderr",
          "output_type": "stream",
          "text": [
            " 60%|██████    | 18800/31230 [4:34:48<21:45,  9.52it/s]   The following columns in the evaluation set don't have a corresponding argument in `T5ForConditionalGeneration.forward` and have been ignored: article, highlights, id. If article, highlights, id are not expected by `T5ForConditionalGeneration.forward`,  you can safely ignore this message.\n",
            "***** Running Evaluation *****\n",
            "  Num examples = 4996\n",
            "  Batch size = 16\n",
            "                                                       \n",
            " 60%|██████    | 18800/31230 [4:36:04<21:45,  9.52it/s]Saving model checkpoint to .models/summarization/t5-small/ver2-large\\checkpoint-18800\n",
            "Configuration saved in .models/summarization/t5-small/ver2-large\\checkpoint-18800\\config.json\n"
          ]
        },
        {
          "name": "stdout",
          "output_type": "stream",
          "text": [
            "{'eval_loss': 2.4095916748046875, 'eval_rouge1': 23.4106, 'eval_rouge2': 10.7629, 'eval_rougeL': 19.2051, 'eval_rougeLsum': 22.0008, 'eval_gen_len': 18.9992, 'eval_runtime': 75.2483, 'eval_samples_per_second': 66.394, 'eval_steps_per_second': 4.16, 'epoch': 6.02}\n"
          ]
        },
        {
          "name": "stderr",
          "output_type": "stream",
          "text": [
            "Model weights saved in .models/summarization/t5-small/ver2-large\\checkpoint-18800\\pytorch_model.bin\n",
            "tokenizer config file saved in .models/summarization/t5-small/ver2-large\\checkpoint-18800\\tokenizer_config.json\n",
            "Special tokens file saved in .models/summarization/t5-small/ver2-large\\checkpoint-18800\\special_tokens_map.json\n",
            "Copy vocab file to .models/summarization/t5-small/ver2-large\\checkpoint-18800\\spiece.model\n",
            "Deleting older checkpoint [.models\\summarization\\t5-small\\ver2-large\\checkpoint-18400] due to args.save_total_limit\n",
            " 61%|██████    | 18900/31230 [4:36:17<22:11,  9.26it/s]   The following columns in the evaluation set don't have a corresponding argument in `T5ForConditionalGeneration.forward` and have been ignored: article, highlights, id. If article, highlights, id are not expected by `T5ForConditionalGeneration.forward`,  you can safely ignore this message.\n",
            "***** Running Evaluation *****\n",
            "  Num examples = 4996\n",
            "  Batch size = 16\n",
            "                                                       \n",
            " 61%|██████    | 18900/31230 [4:37:33<22:11,  9.26it/s]"
          ]
        },
        {
          "name": "stdout",
          "output_type": "stream",
          "text": [
            "{'eval_loss': 2.4092724323272705, 'eval_rouge1': 23.3998, 'eval_rouge2': 10.7502, 'eval_rougeL': 19.2161, 'eval_rougeLsum': 22.0002, 'eval_gen_len': 18.9996, 'eval_runtime': 76.171, 'eval_samples_per_second': 65.589, 'eval_steps_per_second': 4.109, 'epoch': 6.05}\n"
          ]
        },
        {
          "name": "stderr",
          "output_type": "stream",
          "text": [
            " 61%|██████    | 19000/31230 [4:37:45<20:52,  9.77it/s]   The following columns in the evaluation set don't have a corresponding argument in `T5ForConditionalGeneration.forward` and have been ignored: article, highlights, id. If article, highlights, id are not expected by `T5ForConditionalGeneration.forward`,  you can safely ignore this message.\n",
            "***** Running Evaluation *****\n",
            "  Num examples = 4996\n",
            "  Batch size = 16\n"
          ]
        },
        {
          "name": "stdout",
          "output_type": "stream",
          "text": [
            "{'loss': 2.7401, 'learning_rate': 7.836695485110472e-06, 'epoch': 6.08}\n"
          ]
        },
        {
          "name": "stderr",
          "output_type": "stream",
          "text": [
            "                                                       \n",
            " 61%|██████    | 19000/31230 [4:38:59<20:52,  9.77it/s]Saving model checkpoint to .models/summarization/t5-small/ver2-large\\checkpoint-19000\n",
            "Configuration saved in .models/summarization/t5-small/ver2-large\\checkpoint-19000\\config.json\n"
          ]
        },
        {
          "name": "stdout",
          "output_type": "stream",
          "text": [
            "{'eval_loss': 2.4095804691314697, 'eval_rouge1': 23.4317, 'eval_rouge2': 10.7882, 'eval_rougeL': 19.2311, 'eval_rougeLsum': 22.0218, 'eval_gen_len': 18.9994, 'eval_runtime': 73.7601, 'eval_samples_per_second': 67.733, 'eval_steps_per_second': 4.243, 'epoch': 6.08}\n"
          ]
        },
        {
          "name": "stderr",
          "output_type": "stream",
          "text": [
            "Model weights saved in .models/summarization/t5-small/ver2-large\\checkpoint-19000\\pytorch_model.bin\n",
            "tokenizer config file saved in .models/summarization/t5-small/ver2-large\\checkpoint-19000\\tokenizer_config.json\n",
            "Special tokens file saved in .models/summarization/t5-small/ver2-large\\checkpoint-19000\\special_tokens_map.json\n",
            "Copy vocab file to .models/summarization/t5-small/ver2-large\\checkpoint-19000\\spiece.model\n",
            "Deleting older checkpoint [.models\\summarization\\t5-small\\ver2-large\\checkpoint-18600] due to args.save_total_limit\n",
            " 61%|██████    | 19099/31230 [4:39:12<23:00,  8.79it/s]   The following columns in the evaluation set don't have a corresponding argument in `T5ForConditionalGeneration.forward` and have been ignored: article, highlights, id. If article, highlights, id are not expected by `T5ForConditionalGeneration.forward`,  you can safely ignore this message.\n",
            "***** Running Evaluation *****\n",
            "  Num examples = 4996\n",
            "  Batch size = 16\n",
            "                                                       \n",
            " 61%|██████    | 19100/31230 [4:40:30<23:00,  8.79it/s]"
          ]
        },
        {
          "name": "stdout",
          "output_type": "stream",
          "text": [
            "{'eval_loss': 2.409705400466919, 'eval_rouge1': 23.3942, 'eval_rouge2': 10.7658, 'eval_rougeL': 19.1886, 'eval_rougeLsum': 21.9822, 'eval_gen_len': 18.9992, 'eval_runtime': 77.175, 'eval_samples_per_second': 64.736, 'eval_steps_per_second': 4.056, 'epoch': 6.12}\n"
          ]
        },
        {
          "name": "stderr",
          "output_type": "stream",
          "text": [
            " 61%|██████▏   | 19200/31230 [4:40:41<21:28,  9.34it/s]   The following columns in the evaluation set don't have a corresponding argument in `T5ForConditionalGeneration.forward` and have been ignored: article, highlights, id. If article, highlights, id are not expected by `T5ForConditionalGeneration.forward`,  you can safely ignore this message.\n",
            "***** Running Evaluation *****\n",
            "  Num examples = 4996\n",
            "  Batch size = 16\n",
            "                                                       \n",
            " 61%|██████▏   | 19200/31230 [4:41:57<21:28,  9.34it/s]Saving model checkpoint to .models/summarization/t5-small/ver2-large\\checkpoint-19200\n",
            "Configuration saved in .models/summarization/t5-small/ver2-large\\checkpoint-19200\\config.json\n"
          ]
        },
        {
          "name": "stdout",
          "output_type": "stream",
          "text": [
            "{'eval_loss': 2.4101598262786865, 'eval_rouge1': 23.3607, 'eval_rouge2': 10.7494, 'eval_rougeL': 19.172, 'eval_rougeLsum': 21.9493, 'eval_gen_len': 18.9996, 'eval_runtime': 75.4165, 'eval_samples_per_second': 66.245, 'eval_steps_per_second': 4.15, 'epoch': 6.15}\n"
          ]
        },
        {
          "name": "stderr",
          "output_type": "stream",
          "text": [
            "Model weights saved in .models/summarization/t5-small/ver2-large\\checkpoint-19200\\pytorch_model.bin\n",
            "tokenizer config file saved in .models/summarization/t5-small/ver2-large\\checkpoint-19200\\tokenizer_config.json\n",
            "Special tokens file saved in .models/summarization/t5-small/ver2-large\\checkpoint-19200\\special_tokens_map.json\n",
            "Copy vocab file to .models/summarization/t5-small/ver2-large\\checkpoint-19200\\spiece.model\n",
            "Deleting older checkpoint [.models\\summarization\\t5-small\\ver2-large\\checkpoint-18800] due to args.save_total_limit\n",
            " 62%|██████▏   | 19300/31230 [4:42:10<21:43,  9.15it/s]   The following columns in the evaluation set don't have a corresponding argument in `T5ForConditionalGeneration.forward` and have been ignored: article, highlights, id. If article, highlights, id are not expected by `T5ForConditionalGeneration.forward`,  you can safely ignore this message.\n",
            "***** Running Evaluation *****\n",
            "  Num examples = 4996\n",
            "  Batch size = 16\n",
            "                                                       \n",
            " 62%|██████▏   | 19300/31230 [4:43:25<21:43,  9.15it/s]"
          ]
        },
        {
          "name": "stdout",
          "output_type": "stream",
          "text": [
            "{'eval_loss': 2.4091973304748535, 'eval_rouge1': 23.4137, 'eval_rouge2': 10.7977, 'eval_rougeL': 19.2257, 'eval_rougeLsum': 22.0103, 'eval_gen_len': 18.9996, 'eval_runtime': 75.0234, 'eval_samples_per_second': 66.593, 'eval_steps_per_second': 4.172, 'epoch': 6.18}\n"
          ]
        },
        {
          "name": "stderr",
          "output_type": "stream",
          "text": [
            " 62%|██████▏   | 19400/31230 [4:43:37<20:20,  9.70it/s]   The following columns in the evaluation set don't have a corresponding argument in `T5ForConditionalGeneration.forward` and have been ignored: article, highlights, id. If article, highlights, id are not expected by `T5ForConditionalGeneration.forward`,  you can safely ignore this message.\n",
            "***** Running Evaluation *****\n",
            "  Num examples = 4996\n",
            "  Batch size = 16\n",
            "                                                       \n",
            " 62%|██████▏   | 19400/31230 [4:44:51<20:20,  9.70it/s]Saving model checkpoint to .models/summarization/t5-small/ver2-large\\checkpoint-19400\n",
            "Configuration saved in .models/summarization/t5-small/ver2-large\\checkpoint-19400\\config.json\n"
          ]
        },
        {
          "name": "stdout",
          "output_type": "stream",
          "text": [
            "{'eval_loss': 2.408809185028076, 'eval_rouge1': 23.3784, 'eval_rouge2': 10.759, 'eval_rougeL': 19.1817, 'eval_rougeLsum': 21.9704, 'eval_gen_len': 18.9998, 'eval_runtime': 73.7241, 'eval_samples_per_second': 67.766, 'eval_steps_per_second': 4.246, 'epoch': 6.21}\n"
          ]
        },
        {
          "name": "stderr",
          "output_type": "stream",
          "text": [
            "Model weights saved in .models/summarization/t5-small/ver2-large\\checkpoint-19400\\pytorch_model.bin\n",
            "tokenizer config file saved in .models/summarization/t5-small/ver2-large\\checkpoint-19400\\tokenizer_config.json\n",
            "Special tokens file saved in .models/summarization/t5-small/ver2-large\\checkpoint-19400\\special_tokens_map.json\n",
            "Copy vocab file to .models/summarization/t5-small/ver2-large\\checkpoint-19400\\spiece.model\n",
            "Deleting older checkpoint [.models\\summarization\\t5-small\\ver2-large\\checkpoint-19000] due to args.save_total_limit\n",
            " 62%|██████▏   | 19500/31230 [4:45:04<20:39,  9.47it/s]   The following columns in the evaluation set don't have a corresponding argument in `T5ForConditionalGeneration.forward` and have been ignored: article, highlights, id. If article, highlights, id are not expected by `T5ForConditionalGeneration.forward`,  you can safely ignore this message.\n",
            "***** Running Evaluation *****\n",
            "  Num examples = 4996\n",
            "  Batch size = 16\n"
          ]
        },
        {
          "name": "stdout",
          "output_type": "stream",
          "text": [
            "{'loss': 2.7531, 'learning_rate': 7.5164905539545315e-06, 'epoch': 6.24}\n"
          ]
        },
        {
          "name": "stderr",
          "output_type": "stream",
          "text": [
            "                                                       \n",
            " 62%|██████▏   | 19500/31230 [4:46:20<20:39,  9.47it/s]"
          ]
        },
        {
          "name": "stdout",
          "output_type": "stream",
          "text": [
            "{'eval_loss': 2.4089338779449463, 'eval_rouge1': 23.396, 'eval_rouge2': 10.7878, 'eval_rougeL': 19.2002, 'eval_rougeLsum': 21.9957, 'eval_gen_len': 18.9996, 'eval_runtime': 75.6368, 'eval_samples_per_second': 66.053, 'eval_steps_per_second': 4.138, 'epoch': 6.24}\n"
          ]
        },
        {
          "name": "stderr",
          "output_type": "stream",
          "text": [
            " 63%|██████▎   | 19600/31230 [4:46:31<20:16,  9.56it/s]   The following columns in the evaluation set don't have a corresponding argument in `T5ForConditionalGeneration.forward` and have been ignored: article, highlights, id. If article, highlights, id are not expected by `T5ForConditionalGeneration.forward`,  you can safely ignore this message.\n",
            "***** Running Evaluation *****\n",
            "  Num examples = 4996\n",
            "  Batch size = 16\n",
            "                                                       \n",
            " 63%|██████▎   | 19600/31230 [4:47:46<20:16,  9.56it/s]Saving model checkpoint to .models/summarization/t5-small/ver2-large\\checkpoint-19600\n",
            "Configuration saved in .models/summarization/t5-small/ver2-large\\checkpoint-19600\\config.json\n"
          ]
        },
        {
          "name": "stdout",
          "output_type": "stream",
          "text": [
            "{'eval_loss': 2.4085476398468018, 'eval_rouge1': 23.4406, 'eval_rouge2': 10.7724, 'eval_rougeL': 19.2229, 'eval_rougeLsum': 22.0246, 'eval_gen_len': 18.9996, 'eval_runtime': 75.1067, 'eval_samples_per_second': 66.519, 'eval_steps_per_second': 4.167, 'epoch': 6.28}\n"
          ]
        },
        {
          "name": "stderr",
          "output_type": "stream",
          "text": [
            "Model weights saved in .models/summarization/t5-small/ver2-large\\checkpoint-19600\\pytorch_model.bin\n",
            "tokenizer config file saved in .models/summarization/t5-small/ver2-large\\checkpoint-19600\\tokenizer_config.json\n",
            "Special tokens file saved in .models/summarization/t5-small/ver2-large\\checkpoint-19600\\special_tokens_map.json\n",
            "Copy vocab file to .models/summarization/t5-small/ver2-large\\checkpoint-19600\\spiece.model\n",
            "Deleting older checkpoint [.models\\summarization\\t5-small\\ver2-large\\checkpoint-19200] due to args.save_total_limit\n",
            " 63%|██████▎   | 19700/31230 [4:48:00<20:34,  9.34it/s]   The following columns in the evaluation set don't have a corresponding argument in `T5ForConditionalGeneration.forward` and have been ignored: article, highlights, id. If article, highlights, id are not expected by `T5ForConditionalGeneration.forward`,  you can safely ignore this message.\n",
            "***** Running Evaluation *****\n",
            "  Num examples = 4996\n",
            "  Batch size = 16\n",
            "                                                       \n",
            " 63%|██████▎   | 19700/31230 [4:49:16<20:34,  9.34it/s]"
          ]
        },
        {
          "name": "stdout",
          "output_type": "stream",
          "text": [
            "{'eval_loss': 2.4089858531951904, 'eval_rouge1': 23.4359, 'eval_rouge2': 10.7939, 'eval_rougeL': 19.2087, 'eval_rougeLsum': 22.0204, 'eval_gen_len': 18.9998, 'eval_runtime': 76.0016, 'eval_samples_per_second': 65.735, 'eval_steps_per_second': 4.118, 'epoch': 6.31}\n"
          ]
        },
        {
          "name": "stderr",
          "output_type": "stream",
          "text": [
            " 63%|██████▎   | 19800/31230 [4:49:28<20:23,  9.35it/s]   The following columns in the evaluation set don't have a corresponding argument in `T5ForConditionalGeneration.forward` and have been ignored: article, highlights, id. If article, highlights, id are not expected by `T5ForConditionalGeneration.forward`,  you can safely ignore this message.\n",
            "***** Running Evaluation *****\n",
            "  Num examples = 4996\n",
            "  Batch size = 16\n",
            "                                                       \n",
            " 63%|██████▎   | 19800/31230 [4:50:43<20:23,  9.35it/s]Saving model checkpoint to .models/summarization/t5-small/ver2-large\\checkpoint-19800\n",
            "Configuration saved in .models/summarization/t5-small/ver2-large\\checkpoint-19800\\config.json\n"
          ]
        },
        {
          "name": "stdout",
          "output_type": "stream",
          "text": [
            "{'eval_loss': 2.4091999530792236, 'eval_rouge1': 23.3902, 'eval_rouge2': 10.7794, 'eval_rougeL': 19.1984, 'eval_rougeLsum': 21.9799, 'eval_gen_len': 18.9996, 'eval_runtime': 75.044, 'eval_samples_per_second': 66.574, 'eval_steps_per_second': 4.171, 'epoch': 6.34}\n"
          ]
        },
        {
          "name": "stderr",
          "output_type": "stream",
          "text": [
            "Model weights saved in .models/summarization/t5-small/ver2-large\\checkpoint-19800\\pytorch_model.bin\n",
            "tokenizer config file saved in .models/summarization/t5-small/ver2-large\\checkpoint-19800\\tokenizer_config.json\n",
            "Special tokens file saved in .models/summarization/t5-small/ver2-large\\checkpoint-19800\\special_tokens_map.json\n",
            "Copy vocab file to .models/summarization/t5-small/ver2-large\\checkpoint-19800\\spiece.model\n",
            "Deleting older checkpoint [.models\\summarization\\t5-small\\ver2-large\\checkpoint-19400] due to args.save_total_limit\n",
            " 64%|██████▎   | 19900/31230 [4:50:56<19:53,  9.49it/s]   The following columns in the evaluation set don't have a corresponding argument in `T5ForConditionalGeneration.forward` and have been ignored: article, highlights, id. If article, highlights, id are not expected by `T5ForConditionalGeneration.forward`,  you can safely ignore this message.\n",
            "***** Running Evaluation *****\n",
            "  Num examples = 4996\n",
            "  Batch size = 16\n",
            "                                                       \n",
            " 64%|██████▎   | 19900/31230 [4:52:12<19:53,  9.49it/s]"
          ]
        },
        {
          "name": "stdout",
          "output_type": "stream",
          "text": [
            "{'eval_loss': 2.4089415073394775, 'eval_rouge1': 23.4008, 'eval_rouge2': 10.8114, 'eval_rougeL': 19.2191, 'eval_rougeLsum': 21.9963, 'eval_gen_len': 18.9998, 'eval_runtime': 75.3862, 'eval_samples_per_second': 66.272, 'eval_steps_per_second': 4.152, 'epoch': 6.37}\n"
          ]
        },
        {
          "name": "stderr",
          "output_type": "stream",
          "text": [
            " 64%|██████▍   | 20000/31230 [4:52:23<19:41,  9.50it/s]   The following columns in the evaluation set don't have a corresponding argument in `T5ForConditionalGeneration.forward` and have been ignored: article, highlights, id. If article, highlights, id are not expected by `T5ForConditionalGeneration.forward`,  you can safely ignore this message.\n",
            "***** Running Evaluation *****\n",
            "  Num examples = 4996\n",
            "  Batch size = 16\n"
          ]
        },
        {
          "name": "stdout",
          "output_type": "stream",
          "text": [
            "{'loss': 2.7618, 'learning_rate': 7.196285622798593e-06, 'epoch': 6.4}\n"
          ]
        },
        {
          "name": "stderr",
          "output_type": "stream",
          "text": [
            "                                                       \n",
            " 64%|██████▍   | 20000/31230 [4:53:38<19:41,  9.50it/s]Saving model checkpoint to .models/summarization/t5-small/ver2-large\\checkpoint-20000\n",
            "Configuration saved in .models/summarization/t5-small/ver2-large\\checkpoint-20000\\config.json\n"
          ]
        },
        {
          "name": "stdout",
          "output_type": "stream",
          "text": [
            "{'eval_loss': 2.407784938812256, 'eval_rouge1': 23.3867, 'eval_rouge2': 10.7849, 'eval_rougeL': 19.1915, 'eval_rougeLsum': 21.9876, 'eval_gen_len': 18.9998, 'eval_runtime': 74.7979, 'eval_samples_per_second': 66.793, 'eval_steps_per_second': 4.185, 'epoch': 6.4}\n"
          ]
        },
        {
          "name": "stderr",
          "output_type": "stream",
          "text": [
            "Model weights saved in .models/summarization/t5-small/ver2-large\\checkpoint-20000\\pytorch_model.bin\n",
            "tokenizer config file saved in .models/summarization/t5-small/ver2-large\\checkpoint-20000\\tokenizer_config.json\n",
            "Special tokens file saved in .models/summarization/t5-small/ver2-large\\checkpoint-20000\\special_tokens_map.json\n",
            "Copy vocab file to .models/summarization/t5-small/ver2-large\\checkpoint-20000\\spiece.model\n",
            "Deleting older checkpoint [.models\\summarization\\t5-small\\ver2-large\\checkpoint-19600] due to args.save_total_limit\n",
            " 64%|██████▍   | 20100/31230 [4:53:52<19:14,  9.64it/s]   The following columns in the evaluation set don't have a corresponding argument in `T5ForConditionalGeneration.forward` and have been ignored: article, highlights, id. If article, highlights, id are not expected by `T5ForConditionalGeneration.forward`,  you can safely ignore this message.\n",
            "***** Running Evaluation *****\n",
            "  Num examples = 4996\n",
            "  Batch size = 16\n",
            "                                                       \n",
            " 64%|██████▍   | 20100/31230 [4:55:07<19:14,  9.64it/s]"
          ]
        },
        {
          "name": "stdout",
          "output_type": "stream",
          "text": [
            "{'eval_loss': 2.4090969562530518, 'eval_rouge1': 23.4174, 'eval_rouge2': 10.8081, 'eval_rougeL': 19.2127, 'eval_rougeLsum': 22.0084, 'eval_gen_len': 18.9996, 'eval_runtime': 75.1948, 'eval_samples_per_second': 66.441, 'eval_steps_per_second': 4.163, 'epoch': 6.44}\n"
          ]
        },
        {
          "name": "stderr",
          "output_type": "stream",
          "text": [
            " 65%|██████▍   | 20200/31230 [4:55:18<18:41,  9.83it/s]   The following columns in the evaluation set don't have a corresponding argument in `T5ForConditionalGeneration.forward` and have been ignored: article, highlights, id. If article, highlights, id are not expected by `T5ForConditionalGeneration.forward`,  you can safely ignore this message.\n",
            "***** Running Evaluation *****\n",
            "  Num examples = 4996\n",
            "  Batch size = 16\n",
            "                                                       \n",
            " 65%|██████▍   | 20200/31230 [4:56:32<18:41,  9.83it/s]Saving model checkpoint to .models/summarization/t5-small/ver2-large\\checkpoint-20200\n",
            "Configuration saved in .models/summarization/t5-small/ver2-large\\checkpoint-20200\\config.json\n"
          ]
        },
        {
          "name": "stdout",
          "output_type": "stream",
          "text": [
            "{'eval_loss': 2.4079041481018066, 'eval_rouge1': 23.4211, 'eval_rouge2': 10.7872, 'eval_rougeL': 19.2118, 'eval_rougeLsum': 21.9996, 'eval_gen_len': 18.9996, 'eval_runtime': 73.7136, 'eval_samples_per_second': 67.776, 'eval_steps_per_second': 4.246, 'epoch': 6.47}\n"
          ]
        },
        {
          "name": "stderr",
          "output_type": "stream",
          "text": [
            "Model weights saved in .models/summarization/t5-small/ver2-large\\checkpoint-20200\\pytorch_model.bin\n",
            "tokenizer config file saved in .models/summarization/t5-small/ver2-large\\checkpoint-20200\\tokenizer_config.json\n",
            "Special tokens file saved in .models/summarization/t5-small/ver2-large\\checkpoint-20200\\special_tokens_map.json\n",
            "Copy vocab file to .models/summarization/t5-small/ver2-large\\checkpoint-20200\\spiece.model\n",
            "Deleting older checkpoint [.models\\summarization\\t5-small\\ver2-large\\checkpoint-19800] due to args.save_total_limit\n",
            " 65%|██████▌   | 20300/31230 [4:56:46<18:59,  9.59it/s]   The following columns in the evaluation set don't have a corresponding argument in `T5ForConditionalGeneration.forward` and have been ignored: article, highlights, id. If article, highlights, id are not expected by `T5ForConditionalGeneration.forward`,  you can safely ignore this message.\n",
            "***** Running Evaluation *****\n",
            "  Num examples = 4996\n",
            "  Batch size = 16\n",
            "                                                       \n",
            " 65%|██████▌   | 20300/31230 [4:57:59<18:59,  9.59it/s]"
          ]
        },
        {
          "name": "stdout",
          "output_type": "stream",
          "text": [
            "{'eval_loss': 2.408127784729004, 'eval_rouge1': 23.3839, 'eval_rouge2': 10.7736, 'eval_rougeL': 19.1873, 'eval_rougeLsum': 21.978, 'eval_gen_len': 18.9998, 'eval_runtime': 73.7733, 'eval_samples_per_second': 67.721, 'eval_steps_per_second': 4.243, 'epoch': 6.5}\n"
          ]
        },
        {
          "name": "stderr",
          "output_type": "stream",
          "text": [
            " 65%|██████▌   | 20400/31230 [4:58:11<18:47,  9.60it/s]   The following columns in the evaluation set don't have a corresponding argument in `T5ForConditionalGeneration.forward` and have been ignored: article, highlights, id. If article, highlights, id are not expected by `T5ForConditionalGeneration.forward`,  you can safely ignore this message.\n",
            "***** Running Evaluation *****\n",
            "  Num examples = 4996\n",
            "  Batch size = 16\n",
            "                                                       \n",
            " 65%|██████▌   | 20400/31230 [4:59:25<18:47,  9.60it/s]Saving model checkpoint to .models/summarization/t5-small/ver2-large\\checkpoint-20400\n",
            "Configuration saved in .models/summarization/t5-small/ver2-large\\checkpoint-20400\\config.json\n"
          ]
        },
        {
          "name": "stdout",
          "output_type": "stream",
          "text": [
            "{'eval_loss': 2.4088191986083984, 'eval_rouge1': 23.4254, 'eval_rouge2': 10.8002, 'eval_rougeL': 19.2176, 'eval_rougeLsum': 22.0167, 'eval_gen_len': 18.9996, 'eval_runtime': 73.6715, 'eval_samples_per_second': 67.815, 'eval_steps_per_second': 4.249, 'epoch': 6.53}\n"
          ]
        },
        {
          "name": "stderr",
          "output_type": "stream",
          "text": [
            "Model weights saved in .models/summarization/t5-small/ver2-large\\checkpoint-20400\\pytorch_model.bin\n",
            "tokenizer config file saved in .models/summarization/t5-small/ver2-large\\checkpoint-20400\\tokenizer_config.json\n",
            "Special tokens file saved in .models/summarization/t5-small/ver2-large\\checkpoint-20400\\special_tokens_map.json\n",
            "Copy vocab file to .models/summarization/t5-small/ver2-large\\checkpoint-20400\\spiece.model\n",
            "Deleting older checkpoint [.models\\summarization\\t5-small\\ver2-large\\checkpoint-20000] due to args.save_total_limit\n",
            " 66%|██████▌   | 20500/31230 [4:59:38<19:03,  9.38it/s]   The following columns in the evaluation set don't have a corresponding argument in `T5ForConditionalGeneration.forward` and have been ignored: article, highlights, id. If article, highlights, id are not expected by `T5ForConditionalGeneration.forward`,  you can safely ignore this message.\n",
            "***** Running Evaluation *****\n",
            "  Num examples = 4996\n",
            "  Batch size = 16\n"
          ]
        },
        {
          "name": "stdout",
          "output_type": "stream",
          "text": [
            "{'loss': 2.7512, 'learning_rate': 6.876721101504964e-06, 'epoch': 6.56}\n"
          ]
        },
        {
          "name": "stderr",
          "output_type": "stream",
          "text": [
            "                                                       \n",
            " 66%|██████▌   | 20500/31230 [5:00:53<19:03,  9.38it/s]"
          ]
        },
        {
          "name": "stdout",
          "output_type": "stream",
          "text": [
            "{'eval_loss': 2.408571720123291, 'eval_rouge1': 23.3733, 'eval_rouge2': 10.7738, 'eval_rougeL': 19.1892, 'eval_rougeLsum': 21.9734, 'eval_gen_len': 18.9998, 'eval_runtime': 75.1542, 'eval_samples_per_second': 66.477, 'eval_steps_per_second': 4.165, 'epoch': 6.56}\n"
          ]
        },
        {
          "name": "stderr",
          "output_type": "stream",
          "text": [
            " 66%|██████▌   | 20600/31230 [5:01:05<18:24,  9.63it/s]   The following columns in the evaluation set don't have a corresponding argument in `T5ForConditionalGeneration.forward` and have been ignored: article, highlights, id. If article, highlights, id are not expected by `T5ForConditionalGeneration.forward`,  you can safely ignore this message.\n",
            "***** Running Evaluation *****\n",
            "  Num examples = 4996\n",
            "  Batch size = 16\n",
            "                                                       \n",
            " 66%|██████▌   | 20600/31230 [5:02:19<18:24,  9.63it/s]Saving model checkpoint to .models/summarization/t5-small/ver2-large\\checkpoint-20600\n",
            "Configuration saved in .models/summarization/t5-small/ver2-large\\checkpoint-20600\\config.json\n"
          ]
        },
        {
          "name": "stdout",
          "output_type": "stream",
          "text": [
            "{'eval_loss': 2.408421754837036, 'eval_rouge1': 23.345, 'eval_rouge2': 10.7548, 'eval_rougeL': 19.1549, 'eval_rougeLsum': 21.9496, 'eval_gen_len': 18.9998, 'eval_runtime': 73.8889, 'eval_samples_per_second': 67.615, 'eval_steps_per_second': 4.236, 'epoch': 6.6}\n"
          ]
        },
        {
          "name": "stderr",
          "output_type": "stream",
          "text": [
            "Model weights saved in .models/summarization/t5-small/ver2-large\\checkpoint-20600\\pytorch_model.bin\n",
            "tokenizer config file saved in .models/summarization/t5-small/ver2-large\\checkpoint-20600\\tokenizer_config.json\n",
            "Special tokens file saved in .models/summarization/t5-small/ver2-large\\checkpoint-20600\\special_tokens_map.json\n",
            "Copy vocab file to .models/summarization/t5-small/ver2-large\\checkpoint-20600\\spiece.model\n",
            "Deleting older checkpoint [.models\\summarization\\t5-small\\ver2-large\\checkpoint-20200] due to args.save_total_limit\n",
            " 66%|██████▋   | 20699/31230 [5:02:32<17:59,  9.76it/s]   The following columns in the evaluation set don't have a corresponding argument in `T5ForConditionalGeneration.forward` and have been ignored: article, highlights, id. If article, highlights, id are not expected by `T5ForConditionalGeneration.forward`,  you can safely ignore this message.\n",
            "***** Running Evaluation *****\n",
            "  Num examples = 4996\n",
            "  Batch size = 16\n",
            "                                                       \n",
            " 66%|██████▋   | 20700/31230 [5:03:47<17:59,  9.76it/s]"
          ]
        },
        {
          "name": "stdout",
          "output_type": "stream",
          "text": [
            "{'eval_loss': 2.408080816268921, 'eval_rouge1': 23.3985, 'eval_rouge2': 10.7784, 'eval_rougeL': 19.1875, 'eval_rougeLsum': 21.9951, 'eval_gen_len': 18.9998, 'eval_runtime': 75.0917, 'eval_samples_per_second': 66.532, 'eval_steps_per_second': 4.168, 'epoch': 6.63}\n"
          ]
        },
        {
          "name": "stderr",
          "output_type": "stream",
          "text": [
            " 67%|██████▋   | 20800/31230 [5:03:59<18:04,  9.62it/s]   The following columns in the evaluation set don't have a corresponding argument in `T5ForConditionalGeneration.forward` and have been ignored: article, highlights, id. If article, highlights, id are not expected by `T5ForConditionalGeneration.forward`,  you can safely ignore this message.\n",
            "***** Running Evaluation *****\n",
            "  Num examples = 4996\n",
            "  Batch size = 16\n",
            "                                                       \n",
            " 67%|██████▋   | 20800/31230 [5:05:13<18:04,  9.62it/s]Saving model checkpoint to .models/summarization/t5-small/ver2-large\\checkpoint-20800\n",
            "Configuration saved in .models/summarization/t5-small/ver2-large\\checkpoint-20800\\config.json\n"
          ]
        },
        {
          "name": "stdout",
          "output_type": "stream",
          "text": [
            "{'eval_loss': 2.408630132675171, 'eval_rouge1': 23.3758, 'eval_rouge2': 10.7288, 'eval_rougeL': 19.1536, 'eval_rougeLsum': 21.9822, 'eval_gen_len': 18.9998, 'eval_runtime': 74.0168, 'eval_samples_per_second': 67.498, 'eval_steps_per_second': 4.229, 'epoch': 6.66}\n"
          ]
        },
        {
          "name": "stderr",
          "output_type": "stream",
          "text": [
            "Model weights saved in .models/summarization/t5-small/ver2-large\\checkpoint-20800\\pytorch_model.bin\n",
            "tokenizer config file saved in .models/summarization/t5-small/ver2-large\\checkpoint-20800\\tokenizer_config.json\n",
            "Special tokens file saved in .models/summarization/t5-small/ver2-large\\checkpoint-20800\\special_tokens_map.json\n",
            "Copy vocab file to .models/summarization/t5-small/ver2-large\\checkpoint-20800\\spiece.model\n",
            "Deleting older checkpoint [.models\\summarization\\t5-small\\ver2-large\\checkpoint-20400] due to args.save_total_limit\n",
            " 67%|██████▋   | 20900/31230 [5:05:26<18:38,  9.23it/s]   The following columns in the evaluation set don't have a corresponding argument in `T5ForConditionalGeneration.forward` and have been ignored: article, highlights, id. If article, highlights, id are not expected by `T5ForConditionalGeneration.forward`,  you can safely ignore this message.\n",
            "***** Running Evaluation *****\n",
            "  Num examples = 4996\n",
            "  Batch size = 16\n",
            "                                                       \n",
            " 67%|██████▋   | 20900/31230 [5:06:42<18:38,  9.23it/s]"
          ]
        },
        {
          "name": "stdout",
          "output_type": "stream",
          "text": [
            "{'eval_loss': 2.4085142612457275, 'eval_rouge1': 23.3625, 'eval_rouge2': 10.7453, 'eval_rougeL': 19.1766, 'eval_rougeLsum': 21.9778, 'eval_gen_len': 18.9996, 'eval_runtime': 75.1477, 'eval_samples_per_second': 66.482, 'eval_steps_per_second': 4.165, 'epoch': 6.69}\n"
          ]
        },
        {
          "name": "stderr",
          "output_type": "stream",
          "text": [
            " 67%|██████▋   | 21000/31230 [5:06:53<18:32,  9.20it/s]   The following columns in the evaluation set don't have a corresponding argument in `T5ForConditionalGeneration.forward` and have been ignored: article, highlights, id. If article, highlights, id are not expected by `T5ForConditionalGeneration.forward`,  you can safely ignore this message.\n",
            "***** Running Evaluation *****\n",
            "  Num examples = 4996\n",
            "  Batch size = 16\n"
          ]
        },
        {
          "name": "stdout",
          "output_type": "stream",
          "text": [
            "{'loss': 2.7346, 'learning_rate': 6.557156580211336e-06, 'epoch': 6.72}\n"
          ]
        },
        {
          "name": "stderr",
          "output_type": "stream",
          "text": [
            "                                                       \n",
            " 67%|██████▋   | 21000/31230 [5:08:06<18:32,  9.20it/s]Saving model checkpoint to .models/summarization/t5-small/ver2-large\\checkpoint-21000\n",
            "Configuration saved in .models/summarization/t5-small/ver2-large\\checkpoint-21000\\config.json\n"
          ]
        },
        {
          "name": "stdout",
          "output_type": "stream",
          "text": [
            "{'eval_loss': 2.408597469329834, 'eval_rouge1': 23.3694, 'eval_rouge2': 10.7736, 'eval_rougeL': 19.1888, 'eval_rougeLsum': 21.9859, 'eval_gen_len': 18.9996, 'eval_runtime': 72.9588, 'eval_samples_per_second': 68.477, 'eval_steps_per_second': 4.29, 'epoch': 6.72}\n"
          ]
        },
        {
          "name": "stderr",
          "output_type": "stream",
          "text": [
            "Model weights saved in .models/summarization/t5-small/ver2-large\\checkpoint-21000\\pytorch_model.bin\n",
            "tokenizer config file saved in .models/summarization/t5-small/ver2-large\\checkpoint-21000\\tokenizer_config.json\n",
            "Special tokens file saved in .models/summarization/t5-small/ver2-large\\checkpoint-21000\\special_tokens_map.json\n",
            "Copy vocab file to .models/summarization/t5-small/ver2-large\\checkpoint-21000\\spiece.model\n",
            "Deleting older checkpoint [.models\\summarization\\t5-small\\ver2-large\\checkpoint-20600] due to args.save_total_limit\n",
            " 68%|██████▊   | 21099/31230 [5:08:19<18:05,  9.33it/s]   The following columns in the evaluation set don't have a corresponding argument in `T5ForConditionalGeneration.forward` and have been ignored: article, highlights, id. If article, highlights, id are not expected by `T5ForConditionalGeneration.forward`,  you can safely ignore this message.\n",
            "***** Running Evaluation *****\n",
            "  Num examples = 4996\n",
            "  Batch size = 16\n",
            "                                                       \n",
            " 68%|██████▊   | 21100/31230 [5:09:35<18:05,  9.33it/s]"
          ]
        },
        {
          "name": "stdout",
          "output_type": "stream",
          "text": [
            "{'eval_loss': 2.4084911346435547, 'eval_rouge1': 23.3834, 'eval_rouge2': 10.7622, 'eval_rougeL': 19.1727, 'eval_rougeLsum': 21.9815, 'eval_gen_len': 18.9998, 'eval_runtime': 75.0722, 'eval_samples_per_second': 66.549, 'eval_steps_per_second': 4.169, 'epoch': 6.76}\n"
          ]
        },
        {
          "name": "stderr",
          "output_type": "stream",
          "text": [
            " 68%|██████▊   | 21200/31230 [5:09:46<17:30,  9.55it/s]   The following columns in the evaluation set don't have a corresponding argument in `T5ForConditionalGeneration.forward` and have been ignored: article, highlights, id. If article, highlights, id are not expected by `T5ForConditionalGeneration.forward`,  you can safely ignore this message.\n",
            "***** Running Evaluation *****\n",
            "  Num examples = 4996\n",
            "  Batch size = 16\n",
            "                                                       \n",
            " 68%|██████▊   | 21200/31230 [5:11:02<17:30,  9.55it/s]Saving model checkpoint to .models/summarization/t5-small/ver2-large\\checkpoint-21200\n",
            "Configuration saved in .models/summarization/t5-small/ver2-large\\checkpoint-21200\\config.json\n"
          ]
        },
        {
          "name": "stdout",
          "output_type": "stream",
          "text": [
            "{'eval_loss': 2.408372402191162, 'eval_rouge1': 23.379, 'eval_rouge2': 10.764, 'eval_rougeL': 19.1791, 'eval_rougeLsum': 21.9752, 'eval_gen_len': 18.9998, 'eval_runtime': 75.8211, 'eval_samples_per_second': 65.892, 'eval_steps_per_second': 4.128, 'epoch': 6.79}\n"
          ]
        },
        {
          "name": "stderr",
          "output_type": "stream",
          "text": [
            "Model weights saved in .models/summarization/t5-small/ver2-large\\checkpoint-21200\\pytorch_model.bin\n",
            "tokenizer config file saved in .models/summarization/t5-small/ver2-large\\checkpoint-21200\\tokenizer_config.json\n",
            "Special tokens file saved in .models/summarization/t5-small/ver2-large\\checkpoint-21200\\special_tokens_map.json\n",
            "Copy vocab file to .models/summarization/t5-small/ver2-large\\checkpoint-21200\\spiece.model\n",
            "Deleting older checkpoint [.models\\summarization\\t5-small\\ver2-large\\checkpoint-20800] due to args.save_total_limit\n",
            " 68%|██████▊   | 21300/31230 [5:11:15<17:07,  9.67it/s]   The following columns in the evaluation set don't have a corresponding argument in `T5ForConditionalGeneration.forward` and have been ignored: article, highlights, id. If article, highlights, id are not expected by `T5ForConditionalGeneration.forward`,  you can safely ignore this message.\n",
            "***** Running Evaluation *****\n",
            "  Num examples = 4996\n",
            "  Batch size = 16\n",
            "                                                       \n",
            " 68%|██████▊   | 21300/31230 [5:12:29<17:07,  9.67it/s]"
          ]
        },
        {
          "name": "stdout",
          "output_type": "stream",
          "text": [
            "{'eval_loss': 2.4076449871063232, 'eval_rouge1': 23.374, 'eval_rouge2': 10.7887, 'eval_rougeL': 19.1818, 'eval_rougeLsum': 21.9936, 'eval_gen_len': 18.9998, 'eval_runtime': 73.722, 'eval_samples_per_second': 67.768, 'eval_steps_per_second': 4.246, 'epoch': 6.82}\n"
          ]
        },
        {
          "name": "stderr",
          "output_type": "stream",
          "text": [
            " 69%|██████▊   | 21400/31230 [5:12:41<16:53,  9.70it/s]   The following columns in the evaluation set don't have a corresponding argument in `T5ForConditionalGeneration.forward` and have been ignored: article, highlights, id. If article, highlights, id are not expected by `T5ForConditionalGeneration.forward`,  you can safely ignore this message.\n",
            "***** Running Evaluation *****\n",
            "  Num examples = 4996\n",
            "  Batch size = 16\n",
            "                                                       \n",
            " 69%|██████▊   | 21400/31230 [5:13:54<16:53,  9.70it/s]Saving model checkpoint to .models/summarization/t5-small/ver2-large\\checkpoint-21400\n",
            "Configuration saved in .models/summarization/t5-small/ver2-large\\checkpoint-21400\\config.json\n"
          ]
        },
        {
          "name": "stdout",
          "output_type": "stream",
          "text": [
            "{'eval_loss': 2.407634735107422, 'eval_rouge1': 23.3739, 'eval_rouge2': 10.7769, 'eval_rougeL': 19.1767, 'eval_rougeLsum': 21.9817, 'eval_gen_len': 18.9998, 'eval_runtime': 73.1416, 'eval_samples_per_second': 68.306, 'eval_steps_per_second': 4.279, 'epoch': 6.85}\n"
          ]
        },
        {
          "name": "stderr",
          "output_type": "stream",
          "text": [
            "Model weights saved in .models/summarization/t5-small/ver2-large\\checkpoint-21400\\pytorch_model.bin\n",
            "tokenizer config file saved in .models/summarization/t5-small/ver2-large\\checkpoint-21400\\tokenizer_config.json\n",
            "Special tokens file saved in .models/summarization/t5-small/ver2-large\\checkpoint-21400\\special_tokens_map.json\n",
            "Copy vocab file to .models/summarization/t5-small/ver2-large\\checkpoint-21400\\spiece.model\n",
            "Deleting older checkpoint [.models\\summarization\\t5-small\\ver2-large\\checkpoint-21000] due to args.save_total_limit\n",
            " 69%|██████▉   | 21500/31230 [5:14:07<17:19,  9.36it/s]   The following columns in the evaluation set don't have a corresponding argument in `T5ForConditionalGeneration.forward` and have been ignored: article, highlights, id. If article, highlights, id are not expected by `T5ForConditionalGeneration.forward`,  you can safely ignore this message.\n",
            "***** Running Evaluation *****\n",
            "  Num examples = 4996\n",
            "  Batch size = 16\n"
          ]
        },
        {
          "name": "stdout",
          "output_type": "stream",
          "text": [
            "{'loss': 2.7556, 'learning_rate': 6.236951649055396e-06, 'epoch': 6.88}\n"
          ]
        },
        {
          "name": "stderr",
          "output_type": "stream",
          "text": [
            "                                                       \n",
            " 69%|██████▉   | 21500/31230 [5:15:22<17:19,  9.36it/s]"
          ]
        },
        {
          "name": "stdout",
          "output_type": "stream",
          "text": [
            "{'eval_loss': 2.4076762199401855, 'eval_rouge1': 23.3632, 'eval_rouge2': 10.7668, 'eval_rougeL': 19.1663, 'eval_rougeLsum': 21.9702, 'eval_gen_len': 18.9996, 'eval_runtime': 74.88, 'eval_samples_per_second': 66.72, 'eval_steps_per_second': 4.18, 'epoch': 6.88}\n"
          ]
        },
        {
          "name": "stderr",
          "output_type": "stream",
          "text": [
            " 69%|██████▉   | 21600/31230 [5:15:34<16:32,  9.70it/s]   The following columns in the evaluation set don't have a corresponding argument in `T5ForConditionalGeneration.forward` and have been ignored: article, highlights, id. If article, highlights, id are not expected by `T5ForConditionalGeneration.forward`,  you can safely ignore this message.\n",
            "***** Running Evaluation *****\n",
            "  Num examples = 4996\n",
            "  Batch size = 16\n",
            "                                                       \n",
            " 69%|██████▉   | 21600/31230 [5:16:47<16:32,  9.70it/s]Saving model checkpoint to .models/summarization/t5-small/ver2-large\\checkpoint-21600\n",
            "Configuration saved in .models/summarization/t5-small/ver2-large\\checkpoint-21600\\config.json\n"
          ]
        },
        {
          "name": "stdout",
          "output_type": "stream",
          "text": [
            "{'eval_loss': 2.4078121185302734, 'eval_rouge1': 23.3467, 'eval_rouge2': 10.7537, 'eval_rougeL': 19.1646, 'eval_rougeLsum': 21.9632, 'eval_gen_len': 18.9996, 'eval_runtime': 73.3556, 'eval_samples_per_second': 68.107, 'eval_steps_per_second': 4.267, 'epoch': 6.92}\n"
          ]
        },
        {
          "name": "stderr",
          "output_type": "stream",
          "text": [
            "Model weights saved in .models/summarization/t5-small/ver2-large\\checkpoint-21600\\pytorch_model.bin\n",
            "tokenizer config file saved in .models/summarization/t5-small/ver2-large\\checkpoint-21600\\tokenizer_config.json\n",
            "Special tokens file saved in .models/summarization/t5-small/ver2-large\\checkpoint-21600\\special_tokens_map.json\n",
            "Copy vocab file to .models/summarization/t5-small/ver2-large\\checkpoint-21600\\spiece.model\n",
            "Deleting older checkpoint [.models\\summarization\\t5-small\\ver2-large\\checkpoint-21200] due to args.save_total_limit\n",
            " 69%|██████▉   | 21700/31230 [5:17:01<16:53,  9.41it/s]   The following columns in the evaluation set don't have a corresponding argument in `T5ForConditionalGeneration.forward` and have been ignored: article, highlights, id. If article, highlights, id are not expected by `T5ForConditionalGeneration.forward`,  you can safely ignore this message.\n",
            "***** Running Evaluation *****\n",
            "  Num examples = 4996\n",
            "  Batch size = 16\n",
            "                                                       \n",
            " 69%|██████▉   | 21700/31230 [5:18:15<16:53,  9.41it/s]"
          ]
        },
        {
          "name": "stdout",
          "output_type": "stream",
          "text": [
            "{'eval_loss': 2.4075520038604736, 'eval_rouge1': 23.3577, 'eval_rouge2': 10.7552, 'eval_rougeL': 19.165, 'eval_rougeLsum': 21.9735, 'eval_gen_len': 18.9998, 'eval_runtime': 74.3986, 'eval_samples_per_second': 67.152, 'eval_steps_per_second': 4.207, 'epoch': 6.95}\n"
          ]
        },
        {
          "name": "stderr",
          "output_type": "stream",
          "text": [
            " 70%|██████▉   | 21800/31230 [5:18:27<16:01,  9.81it/s]   The following columns in the evaluation set don't have a corresponding argument in `T5ForConditionalGeneration.forward` and have been ignored: article, highlights, id. If article, highlights, id are not expected by `T5ForConditionalGeneration.forward`,  you can safely ignore this message.\n",
            "***** Running Evaluation *****\n",
            "  Num examples = 4996\n",
            "  Batch size = 16\n",
            "                                                       \n",
            " 70%|██████▉   | 21800/31230 [5:19:40<16:01,  9.81it/s]Saving model checkpoint to .models/summarization/t5-small/ver2-large\\checkpoint-21800\n",
            "Configuration saved in .models/summarization/t5-small/ver2-large\\checkpoint-21800\\config.json\n"
          ]
        },
        {
          "name": "stdout",
          "output_type": "stream",
          "text": [
            "{'eval_loss': 2.407599449157715, 'eval_rouge1': 23.3631, 'eval_rouge2': 10.7717, 'eval_rougeL': 19.173, 'eval_rougeLsum': 21.9862, 'eval_gen_len': 18.9998, 'eval_runtime': 73.4047, 'eval_samples_per_second': 68.061, 'eval_steps_per_second': 4.264, 'epoch': 6.98}\n"
          ]
        },
        {
          "name": "stderr",
          "output_type": "stream",
          "text": [
            "Model weights saved in .models/summarization/t5-small/ver2-large\\checkpoint-21800\\pytorch_model.bin\n",
            "tokenizer config file saved in .models/summarization/t5-small/ver2-large\\checkpoint-21800\\tokenizer_config.json\n",
            "Special tokens file saved in .models/summarization/t5-small/ver2-large\\checkpoint-21800\\special_tokens_map.json\n",
            "Copy vocab file to .models/summarization/t5-small/ver2-large\\checkpoint-21800\\spiece.model\n",
            "Deleting older checkpoint [.models\\summarization\\t5-small\\ver2-large\\checkpoint-21400] due to args.save_total_limit\n",
            " 70%|███████   | 21900/31230 [5:19:53<16:43,  9.30it/s]   The following columns in the evaluation set don't have a corresponding argument in `T5ForConditionalGeneration.forward` and have been ignored: article, highlights, id. If article, highlights, id are not expected by `T5ForConditionalGeneration.forward`,  you can safely ignore this message.\n",
            "***** Running Evaluation *****\n",
            "  Num examples = 4996\n",
            "  Batch size = 16\n",
            "                                                       \n",
            " 70%|███████   | 21900/31230 [5:21:09<16:43,  9.30it/s]"
          ]
        },
        {
          "name": "stdout",
          "output_type": "stream",
          "text": [
            "{'eval_loss': 2.407351493835449, 'eval_rouge1': 23.371, 'eval_rouge2': 10.7551, 'eval_rougeL': 19.1597, 'eval_rougeLsum': 21.9663, 'eval_gen_len': 18.9998, 'eval_runtime': 75.9643, 'eval_samples_per_second': 65.768, 'eval_steps_per_second': 4.12, 'epoch': 7.01}\n"
          ]
        },
        {
          "name": "stderr",
          "output_type": "stream",
          "text": [
            " 70%|███████   | 22000/31230 [5:21:21<15:43,  9.78it/s]   The following columns in the evaluation set don't have a corresponding argument in `T5ForConditionalGeneration.forward` and have been ignored: article, highlights, id. If article, highlights, id are not expected by `T5ForConditionalGeneration.forward`,  you can safely ignore this message.\n",
            "***** Running Evaluation *****\n",
            "  Num examples = 4996\n",
            "  Batch size = 16\n"
          ]
        },
        {
          "name": "stdout",
          "output_type": "stream",
          "text": [
            "{'loss': 2.755, 'learning_rate': 5.916746717899456e-06, 'epoch': 7.04}\n"
          ]
        },
        {
          "name": "stderr",
          "output_type": "stream",
          "text": [
            "                                                       \n",
            " 70%|███████   | 22000/31230 [5:22:37<15:43,  9.78it/s]Saving model checkpoint to .models/summarization/t5-small/ver2-large\\checkpoint-22000\n",
            "Configuration saved in .models/summarization/t5-small/ver2-large\\checkpoint-22000\\config.json\n"
          ]
        },
        {
          "name": "stdout",
          "output_type": "stream",
          "text": [
            "{'eval_loss': 2.407228708267212, 'eval_rouge1': 23.3753, 'eval_rouge2': 10.7656, 'eval_rougeL': 19.1625, 'eval_rougeLsum': 21.9806, 'eval_gen_len': 18.9996, 'eval_runtime': 75.6902, 'eval_samples_per_second': 66.006, 'eval_steps_per_second': 4.135, 'epoch': 7.04}\n"
          ]
        },
        {
          "name": "stderr",
          "output_type": "stream",
          "text": [
            "Model weights saved in .models/summarization/t5-small/ver2-large\\checkpoint-22000\\pytorch_model.bin\n",
            "tokenizer config file saved in .models/summarization/t5-small/ver2-large\\checkpoint-22000\\tokenizer_config.json\n",
            "Special tokens file saved in .models/summarization/t5-small/ver2-large\\checkpoint-22000\\special_tokens_map.json\n",
            "Copy vocab file to .models/summarization/t5-small/ver2-large\\checkpoint-22000\\spiece.model\n",
            "Deleting older checkpoint [.models\\summarization\\t5-small\\ver2-large\\checkpoint-21600] due to args.save_total_limit\n",
            " 71%|███████   | 22100/31230 [5:22:50<16:33,  9.19it/s]   The following columns in the evaluation set don't have a corresponding argument in `T5ForConditionalGeneration.forward` and have been ignored: article, highlights, id. If article, highlights, id are not expected by `T5ForConditionalGeneration.forward`,  you can safely ignore this message.\n",
            "***** Running Evaluation *****\n",
            "  Num examples = 4996\n",
            "  Batch size = 16\n",
            "                                                       \n",
            " 71%|███████   | 22100/31230 [5:24:05<16:33,  9.19it/s]"
          ]
        },
        {
          "name": "stdout",
          "output_type": "stream",
          "text": [
            "{'eval_loss': 2.407454013824463, 'eval_rouge1': 23.4013, 'eval_rouge2': 10.777, 'eval_rougeL': 19.1898, 'eval_rougeLsum': 22.0155, 'eval_gen_len': 18.9996, 'eval_runtime': 74.5843, 'eval_samples_per_second': 66.985, 'eval_steps_per_second': 4.197, 'epoch': 7.08}\n"
          ]
        },
        {
          "name": "stderr",
          "output_type": "stream",
          "text": [
            " 71%|███████   | 22200/31230 [5:24:16<15:40,  9.60it/s]   The following columns in the evaluation set don't have a corresponding argument in `T5ForConditionalGeneration.forward` and have been ignored: article, highlights, id. If article, highlights, id are not expected by `T5ForConditionalGeneration.forward`,  you can safely ignore this message.\n",
            "***** Running Evaluation *****\n",
            "  Num examples = 4996\n",
            "  Batch size = 16\n",
            "                                                       \n",
            " 71%|███████   | 22200/31230 [5:25:33<15:40,  9.60it/s]Saving model checkpoint to .models/summarization/t5-small/ver2-large\\checkpoint-22200\n",
            "Configuration saved in .models/summarization/t5-small/ver2-large\\checkpoint-22200\\config.json\n"
          ]
        },
        {
          "name": "stdout",
          "output_type": "stream",
          "text": [
            "{'eval_loss': 2.4072377681732178, 'eval_rouge1': 23.404, 'eval_rouge2': 10.7714, 'eval_rougeL': 19.192, 'eval_rougeLsum': 22.006, 'eval_gen_len': 18.9998, 'eval_runtime': 76.3191, 'eval_samples_per_second': 65.462, 'eval_steps_per_second': 4.101, 'epoch': 7.11}\n"
          ]
        },
        {
          "name": "stderr",
          "output_type": "stream",
          "text": [
            "Model weights saved in .models/summarization/t5-small/ver2-large\\checkpoint-22200\\pytorch_model.bin\n",
            "tokenizer config file saved in .models/summarization/t5-small/ver2-large\\checkpoint-22200\\tokenizer_config.json\n",
            "Special tokens file saved in .models/summarization/t5-small/ver2-large\\checkpoint-22200\\special_tokens_map.json\n",
            "Copy vocab file to .models/summarization/t5-small/ver2-large\\checkpoint-22200\\spiece.model\n",
            "Deleting older checkpoint [.models\\summarization\\t5-small\\ver2-large\\checkpoint-21800] due to args.save_total_limit\n",
            " 71%|███████▏  | 22300/31230 [5:25:47<16:40,  8.93it/s]   The following columns in the evaluation set don't have a corresponding argument in `T5ForConditionalGeneration.forward` and have been ignored: article, highlights, id. If article, highlights, id are not expected by `T5ForConditionalGeneration.forward`,  you can safely ignore this message.\n",
            "***** Running Evaluation *****\n",
            "  Num examples = 4996\n",
            "  Batch size = 16\n",
            "                                                       \n",
            " 71%|███████▏  | 22300/31230 [5:27:04<16:40,  8.93it/s]"
          ]
        },
        {
          "name": "stdout",
          "output_type": "stream",
          "text": [
            "{'eval_loss': 2.406951427459717, 'eval_rouge1': 23.3946, 'eval_rouge2': 10.7917, 'eval_rougeL': 19.1855, 'eval_rougeLsum': 21.9928, 'eval_gen_len': 18.9998, 'eval_runtime': 77.3036, 'eval_samples_per_second': 64.628, 'eval_steps_per_second': 4.049, 'epoch': 7.14}\n"
          ]
        },
        {
          "name": "stderr",
          "output_type": "stream",
          "text": [
            " 72%|███████▏  | 22400/31230 [5:27:16<15:50,  9.29it/s]   The following columns in the evaluation set don't have a corresponding argument in `T5ForConditionalGeneration.forward` and have been ignored: article, highlights, id. If article, highlights, id are not expected by `T5ForConditionalGeneration.forward`,  you can safely ignore this message.\n",
            "***** Running Evaluation *****\n",
            "  Num examples = 4996\n",
            "  Batch size = 16\n",
            "                                                       \n",
            " 72%|███████▏  | 22400/31230 [5:28:30<15:50,  9.29it/s]Saving model checkpoint to .models/summarization/t5-small/ver2-large\\checkpoint-22400\n",
            "Configuration saved in .models/summarization/t5-small/ver2-large\\checkpoint-22400\\config.json\n"
          ]
        },
        {
          "name": "stdout",
          "output_type": "stream",
          "text": [
            "{'eval_loss': 2.406796455383301, 'eval_rouge1': 23.4134, 'eval_rouge2': 10.7668, 'eval_rougeL': 19.1973, 'eval_rougeLsum': 22.0118, 'eval_gen_len': 18.9998, 'eval_runtime': 74.4697, 'eval_samples_per_second': 67.088, 'eval_steps_per_second': 4.203, 'epoch': 7.17}\n"
          ]
        },
        {
          "name": "stderr",
          "output_type": "stream",
          "text": [
            "Model weights saved in .models/summarization/t5-small/ver2-large\\checkpoint-22400\\pytorch_model.bin\n",
            "tokenizer config file saved in .models/summarization/t5-small/ver2-large\\checkpoint-22400\\tokenizer_config.json\n",
            "Special tokens file saved in .models/summarization/t5-small/ver2-large\\checkpoint-22400\\special_tokens_map.json\n",
            "Copy vocab file to .models/summarization/t5-small/ver2-large\\checkpoint-22400\\spiece.model\n",
            "Deleting older checkpoint [.models\\summarization\\t5-small\\ver2-large\\checkpoint-22000] due to args.save_total_limit\n",
            " 72%|███████▏  | 22500/31230 [5:28:44<15:57,  9.12it/s]   The following columns in the evaluation set don't have a corresponding argument in `T5ForConditionalGeneration.forward` and have been ignored: article, highlights, id. If article, highlights, id are not expected by `T5ForConditionalGeneration.forward`,  you can safely ignore this message.\n",
            "***** Running Evaluation *****\n",
            "  Num examples = 4996\n",
            "  Batch size = 16\n"
          ]
        },
        {
          "name": "stdout",
          "output_type": "stream",
          "text": [
            "{'loss': 2.7414, 'learning_rate': 5.5965417867435165e-06, 'epoch': 7.2}\n"
          ]
        },
        {
          "name": "stderr",
          "output_type": "stream",
          "text": [
            "                                                       \n",
            " 72%|███████▏  | 22500/31230 [5:29:58<15:57,  9.12it/s]"
          ]
        },
        {
          "name": "stdout",
          "output_type": "stream",
          "text": [
            "{'eval_loss': 2.4074268341064453, 'eval_rouge1': 23.4237, 'eval_rouge2': 10.783, 'eval_rougeL': 19.1964, 'eval_rougeLsum': 22.0118, 'eval_gen_len': 18.9998, 'eval_runtime': 74.5984, 'eval_samples_per_second': 66.972, 'eval_steps_per_second': 4.196, 'epoch': 7.2}\n"
          ]
        },
        {
          "name": "stderr",
          "output_type": "stream",
          "text": [
            " 72%|███████▏  | 22600/31230 [5:30:10<14:56,  9.63it/s]   The following columns in the evaluation set don't have a corresponding argument in `T5ForConditionalGeneration.forward` and have been ignored: article, highlights, id. If article, highlights, id are not expected by `T5ForConditionalGeneration.forward`,  you can safely ignore this message.\n",
            "***** Running Evaluation *****\n",
            "  Num examples = 4996\n",
            "  Batch size = 16\n",
            "                                                       \n",
            " 72%|███████▏  | 22600/31230 [5:31:23<14:56,  9.63it/s]Saving model checkpoint to .models/summarization/t5-small/ver2-large\\checkpoint-22600\n",
            "Configuration saved in .models/summarization/t5-small/ver2-large\\checkpoint-22600\\config.json\n"
          ]
        },
        {
          "name": "stdout",
          "output_type": "stream",
          "text": [
            "{'eval_loss': 2.4076457023620605, 'eval_rouge1': 23.4299, 'eval_rouge2': 10.8053, 'eval_rougeL': 19.2029, 'eval_rougeLsum': 22.0263, 'eval_gen_len': 18.9998, 'eval_runtime': 73.1058, 'eval_samples_per_second': 68.339, 'eval_steps_per_second': 4.281, 'epoch': 7.24}\n"
          ]
        },
        {
          "name": "stderr",
          "output_type": "stream",
          "text": [
            "Model weights saved in .models/summarization/t5-small/ver2-large\\checkpoint-22600\\pytorch_model.bin\n",
            "tokenizer config file saved in .models/summarization/t5-small/ver2-large\\checkpoint-22600\\tokenizer_config.json\n",
            "Special tokens file saved in .models/summarization/t5-small/ver2-large\\checkpoint-22600\\special_tokens_map.json\n",
            "Copy vocab file to .models/summarization/t5-small/ver2-large\\checkpoint-22600\\spiece.model\n",
            "Deleting older checkpoint [.models\\summarization\\t5-small\\ver2-large\\checkpoint-22200] due to args.save_total_limit\n",
            " 73%|███████▎  | 22700/31230 [5:31:36<14:51,  9.57it/s]   The following columns in the evaluation set don't have a corresponding argument in `T5ForConditionalGeneration.forward` and have been ignored: article, highlights, id. If article, highlights, id are not expected by `T5ForConditionalGeneration.forward`,  you can safely ignore this message.\n",
            "***** Running Evaluation *****\n",
            "  Num examples = 4996\n",
            "  Batch size = 16\n",
            "                                                       \n",
            " 73%|███████▎  | 22700/31230 [5:32:51<14:51,  9.57it/s]"
          ]
        },
        {
          "name": "stdout",
          "output_type": "stream",
          "text": [
            "{'eval_loss': 2.4070024490356445, 'eval_rouge1': 23.3988, 'eval_rouge2': 10.7714, 'eval_rougeL': 19.1795, 'eval_rougeLsum': 22.0, 'eval_gen_len': 18.9998, 'eval_runtime': 74.7456, 'eval_samples_per_second': 66.84, 'eval_steps_per_second': 4.188, 'epoch': 7.27}\n"
          ]
        },
        {
          "name": "stderr",
          "output_type": "stream",
          "text": [
            " 73%|███████▎  | 22800/31230 [5:33:02<14:38,  9.59it/s]   The following columns in the evaluation set don't have a corresponding argument in `T5ForConditionalGeneration.forward` and have been ignored: article, highlights, id. If article, highlights, id are not expected by `T5ForConditionalGeneration.forward`,  you can safely ignore this message.\n",
            "***** Running Evaluation *****\n",
            "  Num examples = 4996\n",
            "  Batch size = 16\n",
            "                                                       \n",
            " 73%|███████▎  | 22800/31230 [5:34:17<14:38,  9.59it/s]Saving model checkpoint to .models/summarization/t5-small/ver2-large\\checkpoint-22800\n",
            "Configuration saved in .models/summarization/t5-small/ver2-large\\checkpoint-22800\\config.json\n"
          ]
        },
        {
          "name": "stdout",
          "output_type": "stream",
          "text": [
            "{'eval_loss': 2.4064481258392334, 'eval_rouge1': 23.4007, 'eval_rouge2': 10.7674, 'eval_rougeL': 19.1849, 'eval_rougeLsum': 21.9957, 'eval_gen_len': 18.9998, 'eval_runtime': 74.4506, 'eval_samples_per_second': 67.105, 'eval_steps_per_second': 4.204, 'epoch': 7.3}\n"
          ]
        },
        {
          "name": "stderr",
          "output_type": "stream",
          "text": [
            "Model weights saved in .models/summarization/t5-small/ver2-large\\checkpoint-22800\\pytorch_model.bin\n",
            "tokenizer config file saved in .models/summarization/t5-small/ver2-large\\checkpoint-22800\\tokenizer_config.json\n",
            "Special tokens file saved in .models/summarization/t5-small/ver2-large\\checkpoint-22800\\special_tokens_map.json\n",
            "Copy vocab file to .models/summarization/t5-small/ver2-large\\checkpoint-22800\\spiece.model\n",
            "Deleting older checkpoint [.models\\summarization\\t5-small\\ver2-large\\checkpoint-22400] due to args.save_total_limit\n",
            " 73%|███████▎  | 22900/31230 [5:34:30<14:35,  9.51it/s]   The following columns in the evaluation set don't have a corresponding argument in `T5ForConditionalGeneration.forward` and have been ignored: article, highlights, id. If article, highlights, id are not expected by `T5ForConditionalGeneration.forward`,  you can safely ignore this message.\n",
            "***** Running Evaluation *****\n",
            "  Num examples = 4996\n",
            "  Batch size = 16\n",
            "                                                       \n",
            " 73%|███████▎  | 22900/31230 [5:35:47<14:35,  9.51it/s]"
          ]
        },
        {
          "name": "stdout",
          "output_type": "stream",
          "text": [
            "{'eval_loss': 2.407022476196289, 'eval_rouge1': 23.407, 'eval_rouge2': 10.7859, 'eval_rougeL': 19.198, 'eval_rougeLsum': 22.0027, 'eval_gen_len': 18.9998, 'eval_runtime': 76.6811, 'eval_samples_per_second': 65.153, 'eval_steps_per_second': 4.082, 'epoch': 7.33}\n"
          ]
        },
        {
          "name": "stderr",
          "output_type": "stream",
          "text": [
            " 74%|███████▎  | 23000/31230 [5:35:58<14:12,  9.65it/s]   The following columns in the evaluation set don't have a corresponding argument in `T5ForConditionalGeneration.forward` and have been ignored: article, highlights, id. If article, highlights, id are not expected by `T5ForConditionalGeneration.forward`,  you can safely ignore this message.\n",
            "***** Running Evaluation *****\n",
            "  Num examples = 4996\n",
            "  Batch size = 16\n"
          ]
        },
        {
          "name": "stdout",
          "output_type": "stream",
          "text": [
            "{'loss': 2.7619, 'learning_rate': 5.276336855587576e-06, 'epoch': 7.36}\n"
          ]
        },
        {
          "name": "stderr",
          "output_type": "stream",
          "text": [
            "                                                       \n",
            " 74%|███████▎  | 23000/31230 [5:37:12<14:12,  9.65it/s]Saving model checkpoint to .models/summarization/t5-small/ver2-large\\checkpoint-23000\n",
            "Configuration saved in .models/summarization/t5-small/ver2-large\\checkpoint-23000\\config.json\n"
          ]
        },
        {
          "name": "stdout",
          "output_type": "stream",
          "text": [
            "{'eval_loss': 2.4062390327453613, 'eval_rouge1': 23.4082, 'eval_rouge2': 10.7647, 'eval_rougeL': 19.1901, 'eval_rougeLsum': 22.0017, 'eval_gen_len': 18.9998, 'eval_runtime': 73.3871, 'eval_samples_per_second': 68.077, 'eval_steps_per_second': 4.265, 'epoch': 7.36}\n"
          ]
        },
        {
          "name": "stderr",
          "output_type": "stream",
          "text": [
            "Model weights saved in .models/summarization/t5-small/ver2-large\\checkpoint-23000\\pytorch_model.bin\n",
            "tokenizer config file saved in .models/summarization/t5-small/ver2-large\\checkpoint-23000\\tokenizer_config.json\n",
            "Special tokens file saved in .models/summarization/t5-small/ver2-large\\checkpoint-23000\\special_tokens_map.json\n",
            "Copy vocab file to .models/summarization/t5-small/ver2-large\\checkpoint-23000\\spiece.model\n",
            "Deleting older checkpoint [.models\\summarization\\t5-small\\ver2-large\\checkpoint-22600] due to args.save_total_limit\n",
            " 74%|███████▍  | 23100/31230 [5:37:25<13:59,  9.68it/s]   The following columns in the evaluation set don't have a corresponding argument in `T5ForConditionalGeneration.forward` and have been ignored: article, highlights, id. If article, highlights, id are not expected by `T5ForConditionalGeneration.forward`,  you can safely ignore this message.\n",
            "***** Running Evaluation *****\n",
            "  Num examples = 4996\n",
            "  Batch size = 16\n",
            "                                                       \n",
            " 74%|███████▍  | 23100/31230 [5:38:40<13:59,  9.68it/s]"
          ]
        },
        {
          "name": "stdout",
          "output_type": "stream",
          "text": [
            "{'eval_loss': 2.4068667888641357, 'eval_rouge1': 23.3818, 'eval_rouge2': 10.7651, 'eval_rougeL': 19.1814, 'eval_rougeLsum': 21.9782, 'eval_gen_len': 18.9994, 'eval_runtime': 74.8111, 'eval_samples_per_second': 66.782, 'eval_steps_per_second': 4.184, 'epoch': 7.4}\n"
          ]
        },
        {
          "name": "stderr",
          "output_type": "stream",
          "text": [
            " 74%|███████▍  | 23200/31230 [5:38:52<13:50,  9.67it/s]   The following columns in the evaluation set don't have a corresponding argument in `T5ForConditionalGeneration.forward` and have been ignored: article, highlights, id. If article, highlights, id are not expected by `T5ForConditionalGeneration.forward`,  you can safely ignore this message.\n",
            "***** Running Evaluation *****\n",
            "  Num examples = 4996\n",
            "  Batch size = 16\n",
            "                                                       \n",
            " 74%|███████▍  | 23200/31230 [5:40:05<13:50,  9.67it/s]Saving model checkpoint to .models/summarization/t5-small/ver2-large\\checkpoint-23200\n",
            "Configuration saved in .models/summarization/t5-small/ver2-large\\checkpoint-23200\\config.json\n"
          ]
        },
        {
          "name": "stdout",
          "output_type": "stream",
          "text": [
            "{'eval_loss': 2.406593084335327, 'eval_rouge1': 23.3894, 'eval_rouge2': 10.7775, 'eval_rougeL': 19.1823, 'eval_rougeLsum': 21.9844, 'eval_gen_len': 18.9994, 'eval_runtime': 73.0268, 'eval_samples_per_second': 68.413, 'eval_steps_per_second': 4.286, 'epoch': 7.43}\n"
          ]
        },
        {
          "name": "stderr",
          "output_type": "stream",
          "text": [
            "Model weights saved in .models/summarization/t5-small/ver2-large\\checkpoint-23200\\pytorch_model.bin\n",
            "tokenizer config file saved in .models/summarization/t5-small/ver2-large\\checkpoint-23200\\tokenizer_config.json\n",
            "Special tokens file saved in .models/summarization/t5-small/ver2-large\\checkpoint-23200\\special_tokens_map.json\n",
            "Copy vocab file to .models/summarization/t5-small/ver2-large\\checkpoint-23200\\spiece.model\n",
            "Deleting older checkpoint [.models\\summarization\\t5-small\\ver2-large\\checkpoint-22800] due to args.save_total_limit\n",
            " 75%|███████▍  | 23300/31230 [5:40:18<13:44,  9.62it/s]   The following columns in the evaluation set don't have a corresponding argument in `T5ForConditionalGeneration.forward` and have been ignored: article, highlights, id. If article, highlights, id are not expected by `T5ForConditionalGeneration.forward`,  you can safely ignore this message.\n",
            "***** Running Evaluation *****\n",
            "  Num examples = 4996\n",
            "  Batch size = 16\n",
            "                                                       \n",
            " 75%|███████▍  | 23300/31230 [5:41:31<13:44,  9.62it/s]"
          ]
        },
        {
          "name": "stdout",
          "output_type": "stream",
          "text": [
            "{'eval_loss': 2.4068684577941895, 'eval_rouge1': 23.4254, 'eval_rouge2': 10.7872, 'eval_rougeL': 19.2091, 'eval_rougeLsum': 22.0197, 'eval_gen_len': 18.9998, 'eval_runtime': 73.5707, 'eval_samples_per_second': 67.907, 'eval_steps_per_second': 4.254, 'epoch': 7.46}\n"
          ]
        },
        {
          "name": "stderr",
          "output_type": "stream",
          "text": [
            " 75%|███████▍  | 23400/31230 [5:41:43<13:47,  9.46it/s]   The following columns in the evaluation set don't have a corresponding argument in `T5ForConditionalGeneration.forward` and have been ignored: article, highlights, id. If article, highlights, id are not expected by `T5ForConditionalGeneration.forward`,  you can safely ignore this message.\n",
            "***** Running Evaluation *****\n",
            "  Num examples = 4996\n",
            "  Batch size = 16\n",
            "                                                       \n",
            " 75%|███████▍  | 23400/31230 [5:42:56<13:47,  9.46it/s]Saving model checkpoint to .models/summarization/t5-small/ver2-large\\checkpoint-23400\n",
            "Configuration saved in .models/summarization/t5-small/ver2-large\\checkpoint-23400\\config.json\n"
          ]
        },
        {
          "name": "stdout",
          "output_type": "stream",
          "text": [
            "{'eval_loss': 2.4076664447784424, 'eval_rouge1': 23.4173, 'eval_rouge2': 10.7986, 'eval_rougeL': 19.2071, 'eval_rougeLsum': 22.0044, 'eval_gen_len': 18.9998, 'eval_runtime': 73.2901, 'eval_samples_per_second': 68.167, 'eval_steps_per_second': 4.271, 'epoch': 7.49}\n"
          ]
        },
        {
          "name": "stderr",
          "output_type": "stream",
          "text": [
            "Model weights saved in .models/summarization/t5-small/ver2-large\\checkpoint-23400\\pytorch_model.bin\n",
            "tokenizer config file saved in .models/summarization/t5-small/ver2-large\\checkpoint-23400\\tokenizer_config.json\n",
            "Special tokens file saved in .models/summarization/t5-small/ver2-large\\checkpoint-23400\\special_tokens_map.json\n",
            "Copy vocab file to .models/summarization/t5-small/ver2-large\\checkpoint-23400\\spiece.model\n",
            "Deleting older checkpoint [.models\\summarization\\t5-small\\ver2-large\\checkpoint-23000] due to args.save_total_limit\n",
            " 75%|███████▌  | 23500/31230 [5:43:10<13:20,  9.66it/s]   The following columns in the evaluation set don't have a corresponding argument in `T5ForConditionalGeneration.forward` and have been ignored: article, highlights, id. If article, highlights, id are not expected by `T5ForConditionalGeneration.forward`,  you can safely ignore this message.\n",
            "***** Running Evaluation *****\n",
            "  Num examples = 4996\n",
            "  Batch size = 16\n"
          ]
        },
        {
          "name": "stdout",
          "output_type": "stream",
          "text": [
            "{'loss': 2.7518, 'learning_rate': 4.956772334293949e-06, 'epoch': 7.52}\n"
          ]
        },
        {
          "name": "stderr",
          "output_type": "stream",
          "text": [
            "                                                       \n",
            " 75%|███████▌  | 23500/31230 [5:44:25<13:20,  9.66it/s]"
          ]
        },
        {
          "name": "stdout",
          "output_type": "stream",
          "text": [
            "{'eval_loss': 2.407407522201538, 'eval_rouge1': 23.4309, 'eval_rouge2': 10.8019, 'eval_rougeL': 19.2264, 'eval_rougeLsum': 22.0294, 'eval_gen_len': 18.9998, 'eval_runtime': 74.8197, 'eval_samples_per_second': 66.774, 'eval_steps_per_second': 4.183, 'epoch': 7.52}\n"
          ]
        },
        {
          "name": "stderr",
          "output_type": "stream",
          "text": [
            " 76%|███████▌  | 23600/31230 [5:44:36<13:18,  9.56it/s]   The following columns in the evaluation set don't have a corresponding argument in `T5ForConditionalGeneration.forward` and have been ignored: article, highlights, id. If article, highlights, id are not expected by `T5ForConditionalGeneration.forward`,  you can safely ignore this message.\n",
            "***** Running Evaluation *****\n",
            "  Num examples = 4996\n",
            "  Batch size = 16\n",
            "                                                       \n",
            " 76%|███████▌  | 23600/31230 [5:45:50<13:18,  9.56it/s]Saving model checkpoint to .models/summarization/t5-small/ver2-large\\checkpoint-23600\n",
            "Configuration saved in .models/summarization/t5-small/ver2-large\\checkpoint-23600\\config.json\n"
          ]
        },
        {
          "name": "stdout",
          "output_type": "stream",
          "text": [
            "{'eval_loss': 2.4074923992156982, 'eval_rouge1': 23.4267, 'eval_rouge2': 10.8065, 'eval_rougeL': 19.222, 'eval_rougeLsum': 22.0207, 'eval_gen_len': 18.9998, 'eval_runtime': 73.4706, 'eval_samples_per_second': 68.0, 'eval_steps_per_second': 4.26, 'epoch': 7.56}\n"
          ]
        },
        {
          "name": "stderr",
          "output_type": "stream",
          "text": [
            "Model weights saved in .models/summarization/t5-small/ver2-large\\checkpoint-23600\\pytorch_model.bin\n",
            "tokenizer config file saved in .models/summarization/t5-small/ver2-large\\checkpoint-23600\\tokenizer_config.json\n",
            "Special tokens file saved in .models/summarization/t5-small/ver2-large\\checkpoint-23600\\special_tokens_map.json\n",
            "Copy vocab file to .models/summarization/t5-small/ver2-large\\checkpoint-23600\\spiece.model\n",
            "Deleting older checkpoint [.models\\summarization\\t5-small\\ver2-large\\checkpoint-23200] due to args.save_total_limit\n",
            " 76%|███████▌  | 23700/31230 [5:46:03<13:09,  9.54it/s]   The following columns in the evaluation set don't have a corresponding argument in `T5ForConditionalGeneration.forward` and have been ignored: article, highlights, id. If article, highlights, id are not expected by `T5ForConditionalGeneration.forward`,  you can safely ignore this message.\n",
            "***** Running Evaluation *****\n",
            "  Num examples = 4996\n",
            "  Batch size = 16\n",
            "                                                       \n",
            " 76%|███████▌  | 23700/31230 [5:47:16<13:09,  9.54it/s]"
          ]
        },
        {
          "name": "stdout",
          "output_type": "stream",
          "text": [
            "{'eval_loss': 2.40769362449646, 'eval_rouge1': 23.4281, 'eval_rouge2': 10.8325, 'eval_rougeL': 19.2366, 'eval_rougeLsum': 22.0399, 'eval_gen_len': 18.9998, 'eval_runtime': 73.2396, 'eval_samples_per_second': 68.214, 'eval_steps_per_second': 4.274, 'epoch': 7.59}\n"
          ]
        },
        {
          "name": "stderr",
          "output_type": "stream",
          "text": [
            " 76%|███████▌  | 23800/31230 [5:47:28<12:57,  9.56it/s]   The following columns in the evaluation set don't have a corresponding argument in `T5ForConditionalGeneration.forward` and have been ignored: article, highlights, id. If article, highlights, id are not expected by `T5ForConditionalGeneration.forward`,  you can safely ignore this message.\n",
            "***** Running Evaluation *****\n",
            "  Num examples = 4996\n",
            "  Batch size = 16\n",
            "                                                       \n",
            " 76%|███████▌  | 23800/31230 [5:48:41<12:57,  9.56it/s]Saving model checkpoint to .models/summarization/t5-small/ver2-large\\checkpoint-23800\n",
            "Configuration saved in .models/summarization/t5-small/ver2-large\\checkpoint-23800\\config.json\n"
          ]
        },
        {
          "name": "stdout",
          "output_type": "stream",
          "text": [
            "{'eval_loss': 2.40706467628479, 'eval_rouge1': 23.3921, 'eval_rouge2': 10.7906, 'eval_rougeL': 19.1824, 'eval_rougeLsum': 21.9997, 'eval_gen_len': 18.9998, 'eval_runtime': 73.5456, 'eval_samples_per_second': 67.931, 'eval_steps_per_second': 4.256, 'epoch': 7.62}\n"
          ]
        },
        {
          "name": "stderr",
          "output_type": "stream",
          "text": [
            "Model weights saved in .models/summarization/t5-small/ver2-large\\checkpoint-23800\\pytorch_model.bin\n",
            "tokenizer config file saved in .models/summarization/t5-small/ver2-large\\checkpoint-23800\\tokenizer_config.json\n",
            "Special tokens file saved in .models/summarization/t5-small/ver2-large\\checkpoint-23800\\special_tokens_map.json\n",
            "Copy vocab file to .models/summarization/t5-small/ver2-large\\checkpoint-23800\\spiece.model\n",
            "Deleting older checkpoint [.models\\summarization\\t5-small\\ver2-large\\checkpoint-23400] due to args.save_total_limit\n",
            " 77%|███████▋  | 23900/31230 [5:48:55<13:07,  9.31it/s]   The following columns in the evaluation set don't have a corresponding argument in `T5ForConditionalGeneration.forward` and have been ignored: article, highlights, id. If article, highlights, id are not expected by `T5ForConditionalGeneration.forward`,  you can safely ignore this message.\n",
            "***** Running Evaluation *****\n",
            "  Num examples = 4996\n",
            "  Batch size = 16\n",
            "                                                       \n",
            " 77%|███████▋  | 23900/31230 [5:50:10<13:07,  9.31it/s]"
          ]
        },
        {
          "name": "stdout",
          "output_type": "stream",
          "text": [
            "{'eval_loss': 2.407320022583008, 'eval_rouge1': 23.4138, 'eval_rouge2': 10.7932, 'eval_rougeL': 19.1986, 'eval_rougeLsum': 22.0151, 'eval_gen_len': 18.9998, 'eval_runtime': 75.4012, 'eval_samples_per_second': 66.259, 'eval_steps_per_second': 4.151, 'epoch': 7.65}\n"
          ]
        },
        {
          "name": "stderr",
          "output_type": "stream",
          "text": [
            " 77%|███████▋  | 24000/31230 [5:50:22<12:49,  9.40it/s]   The following columns in the evaluation set don't have a corresponding argument in `T5ForConditionalGeneration.forward` and have been ignored: article, highlights, id. If article, highlights, id are not expected by `T5ForConditionalGeneration.forward`,  you can safely ignore this message.\n",
            "***** Running Evaluation *****\n",
            "  Num examples = 4996\n",
            "  Batch size = 16\n"
          ]
        },
        {
          "name": "stdout",
          "output_type": "stream",
          "text": [
            "{'loss': 2.7398, 'learning_rate': 4.636567403138009e-06, 'epoch': 7.68}\n"
          ]
        },
        {
          "name": "stderr",
          "output_type": "stream",
          "text": [
            "                                                       \n",
            " 77%|███████▋  | 24000/31230 [5:51:36<12:49,  9.40it/s]Saving model checkpoint to .models/summarization/t5-small/ver2-large\\checkpoint-24000\n",
            "Configuration saved in .models/summarization/t5-small/ver2-large\\checkpoint-24000\\config.json\n"
          ]
        },
        {
          "name": "stdout",
          "output_type": "stream",
          "text": [
            "{'eval_loss': 2.407010793685913, 'eval_rouge1': 23.4082, 'eval_rouge2': 10.7977, 'eval_rougeL': 19.1923, 'eval_rougeLsum': 22.0055, 'eval_gen_len': 18.9998, 'eval_runtime': 73.88, 'eval_samples_per_second': 67.623, 'eval_steps_per_second': 4.237, 'epoch': 7.68}\n"
          ]
        },
        {
          "name": "stderr",
          "output_type": "stream",
          "text": [
            "Model weights saved in .models/summarization/t5-small/ver2-large\\checkpoint-24000\\pytorch_model.bin\n",
            "tokenizer config file saved in .models/summarization/t5-small/ver2-large\\checkpoint-24000\\tokenizer_config.json\n",
            "Special tokens file saved in .models/summarization/t5-small/ver2-large\\checkpoint-24000\\special_tokens_map.json\n",
            "Copy vocab file to .models/summarization/t5-small/ver2-large\\checkpoint-24000\\spiece.model\n",
            "Deleting older checkpoint [.models\\summarization\\t5-small\\ver2-large\\checkpoint-23600] due to args.save_total_limit\n",
            " 77%|███████▋  | 24100/31230 [5:51:49<12:46,  9.30it/s]   The following columns in the evaluation set don't have a corresponding argument in `T5ForConditionalGeneration.forward` and have been ignored: article, highlights, id. If article, highlights, id are not expected by `T5ForConditionalGeneration.forward`,  you can safely ignore this message.\n",
            "***** Running Evaluation *****\n",
            "  Num examples = 4996\n",
            "  Batch size = 16\n",
            "                                                       \n",
            " 77%|███████▋  | 24100/31230 [5:53:06<12:46,  9.30it/s]"
          ]
        },
        {
          "name": "stdout",
          "output_type": "stream",
          "text": [
            "{'eval_loss': 2.4068570137023926, 'eval_rouge1': 23.3783, 'eval_rouge2': 10.7636, 'eval_rougeL': 19.169, 'eval_rougeLsum': 21.9859, 'eval_gen_len': 18.9998, 'eval_runtime': 76.9273, 'eval_samples_per_second': 64.944, 'eval_steps_per_second': 4.069, 'epoch': 7.72}\n"
          ]
        },
        {
          "name": "stderr",
          "output_type": "stream",
          "text": [
            " 77%|███████▋  | 24200/31230 [5:53:18<12:28,  9.40it/s]   The following columns in the evaluation set don't have a corresponding argument in `T5ForConditionalGeneration.forward` and have been ignored: article, highlights, id. If article, highlights, id are not expected by `T5ForConditionalGeneration.forward`,  you can safely ignore this message.\n",
            "***** Running Evaluation *****\n",
            "  Num examples = 4996\n",
            "  Batch size = 16\n",
            "                                                       \n",
            " 77%|███████▋  | 24200/31230 [5:54:33<12:28,  9.40it/s]Saving model checkpoint to .models/summarization/t5-small/ver2-large\\checkpoint-24200\n",
            "Configuration saved in .models/summarization/t5-small/ver2-large\\checkpoint-24200\\config.json\n"
          ]
        },
        {
          "name": "stdout",
          "output_type": "stream",
          "text": [
            "{'eval_loss': 2.4067273139953613, 'eval_rouge1': 23.3877, 'eval_rouge2': 10.7799, 'eval_rougeL': 19.1783, 'eval_rougeLsum': 21.9975, 'eval_gen_len': 18.9998, 'eval_runtime': 74.9591, 'eval_samples_per_second': 66.65, 'eval_steps_per_second': 4.176, 'epoch': 7.75}\n"
          ]
        },
        {
          "name": "stderr",
          "output_type": "stream",
          "text": [
            "Model weights saved in .models/summarization/t5-small/ver2-large\\checkpoint-24200\\pytorch_model.bin\n",
            "tokenizer config file saved in .models/summarization/t5-small/ver2-large\\checkpoint-24200\\tokenizer_config.json\n",
            "Special tokens file saved in .models/summarization/t5-small/ver2-large\\checkpoint-24200\\special_tokens_map.json\n",
            "Copy vocab file to .models/summarization/t5-small/ver2-large\\checkpoint-24200\\spiece.model\n",
            "Deleting older checkpoint [.models\\summarization\\t5-small\\ver2-large\\checkpoint-23800] due to args.save_total_limit\n",
            " 78%|███████▊  | 24300/31230 [5:54:47<12:27,  9.27it/s]   The following columns in the evaluation set don't have a corresponding argument in `T5ForConditionalGeneration.forward` and have been ignored: article, highlights, id. If article, highlights, id are not expected by `T5ForConditionalGeneration.forward`,  you can safely ignore this message.\n",
            "***** Running Evaluation *****\n",
            "  Num examples = 4996\n",
            "  Batch size = 16\n",
            "                                                       \n",
            " 78%|███████▊  | 24300/31230 [5:56:01<12:27,  9.27it/s]"
          ]
        },
        {
          "name": "stdout",
          "output_type": "stream",
          "text": [
            "{'eval_loss': 2.4066712856292725, 'eval_rouge1': 23.4057, 'eval_rouge2': 10.813, 'eval_rougeL': 19.2151, 'eval_rougeLsum': 22.0269, 'eval_gen_len': 18.9998, 'eval_runtime': 74.741, 'eval_samples_per_second': 66.844, 'eval_steps_per_second': 4.188, 'epoch': 7.78}\n"
          ]
        },
        {
          "name": "stderr",
          "output_type": "stream",
          "text": [
            " 78%|███████▊  | 24400/31230 [5:56:13<11:49,  9.63it/s]   The following columns in the evaluation set don't have a corresponding argument in `T5ForConditionalGeneration.forward` and have been ignored: article, highlights, id. If article, highlights, id are not expected by `T5ForConditionalGeneration.forward`,  you can safely ignore this message.\n",
            "***** Running Evaluation *****\n",
            "  Num examples = 4996\n",
            "  Batch size = 16\n",
            "                                                       \n",
            " 78%|███████▊  | 24400/31230 [5:57:28<11:49,  9.63it/s]Saving model checkpoint to .models/summarization/t5-small/ver2-large\\checkpoint-24400\n",
            "Configuration saved in .models/summarization/t5-small/ver2-large\\checkpoint-24400\\config.json\n"
          ]
        },
        {
          "name": "stdout",
          "output_type": "stream",
          "text": [
            "{'eval_loss': 2.4065425395965576, 'eval_rouge1': 23.4067, 'eval_rouge2': 10.8127, 'eval_rougeL': 19.2242, 'eval_rougeLsum': 22.0251, 'eval_gen_len': 18.9996, 'eval_runtime': 75.5238, 'eval_samples_per_second': 66.151, 'eval_steps_per_second': 4.144, 'epoch': 7.81}\n"
          ]
        },
        {
          "name": "stderr",
          "output_type": "stream",
          "text": [
            "Model weights saved in .models/summarization/t5-small/ver2-large\\checkpoint-24400\\pytorch_model.bin\n",
            "tokenizer config file saved in .models/summarization/t5-small/ver2-large\\checkpoint-24400\\tokenizer_config.json\n",
            "Special tokens file saved in .models/summarization/t5-small/ver2-large\\checkpoint-24400\\special_tokens_map.json\n",
            "Copy vocab file to .models/summarization/t5-small/ver2-large\\checkpoint-24400\\spiece.model\n",
            "Deleting older checkpoint [.models\\summarization\\t5-small\\ver2-large\\checkpoint-24000] due to args.save_total_limit\n",
            " 78%|███████▊  | 24500/31230 [5:57:42<12:34,  8.91it/s]   The following columns in the evaluation set don't have a corresponding argument in `T5ForConditionalGeneration.forward` and have been ignored: article, highlights, id. If article, highlights, id are not expected by `T5ForConditionalGeneration.forward`,  you can safely ignore this message.\n",
            "***** Running Evaluation *****\n",
            "  Num examples = 4996\n",
            "  Batch size = 16\n"
          ]
        },
        {
          "name": "stdout",
          "output_type": "stream",
          "text": [
            "{'loss': 2.7372, 'learning_rate': 4.316362471982069e-06, 'epoch': 7.85}\n"
          ]
        },
        {
          "name": "stderr",
          "output_type": "stream",
          "text": [
            "                                                       \n",
            " 78%|███████▊  | 24500/31230 [5:59:00<12:34,  8.91it/s]"
          ]
        },
        {
          "name": "stdout",
          "output_type": "stream",
          "text": [
            "{'eval_loss': 2.406125783920288, 'eval_rouge1': 23.4028, 'eval_rouge2': 10.7938, 'eval_rougeL': 19.2049, 'eval_rougeLsum': 22.0104, 'eval_gen_len': 18.9996, 'eval_runtime': 77.3284, 'eval_samples_per_second': 64.608, 'eval_steps_per_second': 4.048, 'epoch': 7.85}\n"
          ]
        },
        {
          "name": "stderr",
          "output_type": "stream",
          "text": [
            " 79%|███████▉  | 24599/31230 [5:59:11<11:33,  9.57it/s]   The following columns in the evaluation set don't have a corresponding argument in `T5ForConditionalGeneration.forward` and have been ignored: article, highlights, id. If article, highlights, id are not expected by `T5ForConditionalGeneration.forward`,  you can safely ignore this message.\n",
            "***** Running Evaluation *****\n",
            "  Num examples = 4996\n",
            "  Batch size = 16\n",
            "                                                       \n",
            " 79%|███████▉  | 24600/31230 [6:00:26<11:33,  9.57it/s]Saving model checkpoint to .models/summarization/t5-small/ver2-large\\checkpoint-24600\n",
            "Configuration saved in .models/summarization/t5-small/ver2-large\\checkpoint-24600\\config.json\n"
          ]
        },
        {
          "name": "stdout",
          "output_type": "stream",
          "text": [
            "{'eval_loss': 2.406101942062378, 'eval_rouge1': 23.4153, 'eval_rouge2': 10.8199, 'eval_rougeL': 19.2425, 'eval_rougeLsum': 22.0351, 'eval_gen_len': 18.9996, 'eval_runtime': 74.8861, 'eval_samples_per_second': 66.715, 'eval_steps_per_second': 4.18, 'epoch': 7.88}\n"
          ]
        },
        {
          "name": "stderr",
          "output_type": "stream",
          "text": [
            "Model weights saved in .models/summarization/t5-small/ver2-large\\checkpoint-24600\\pytorch_model.bin\n",
            "tokenizer config file saved in .models/summarization/t5-small/ver2-large\\checkpoint-24600\\tokenizer_config.json\n",
            "Special tokens file saved in .models/summarization/t5-small/ver2-large\\checkpoint-24600\\special_tokens_map.json\n",
            "Copy vocab file to .models/summarization/t5-small/ver2-large\\checkpoint-24600\\spiece.model\n",
            "Deleting older checkpoint [.models\\summarization\\t5-small\\ver2-large\\checkpoint-24200] due to args.save_total_limit\n",
            " 79%|███████▉  | 24700/31230 [6:00:40<11:34,  9.40it/s]   The following columns in the evaluation set don't have a corresponding argument in `T5ForConditionalGeneration.forward` and have been ignored: article, highlights, id. If article, highlights, id are not expected by `T5ForConditionalGeneration.forward`,  you can safely ignore this message.\n",
            "***** Running Evaluation *****\n",
            "  Num examples = 4996\n",
            "  Batch size = 16\n",
            "                                                       \n",
            " 79%|███████▉  | 24700/31230 [6:01:55<11:34,  9.40it/s]"
          ]
        },
        {
          "name": "stdout",
          "output_type": "stream",
          "text": [
            "{'eval_loss': 2.4062962532043457, 'eval_rouge1': 23.4127, 'eval_rouge2': 10.8186, 'eval_rougeL': 19.2245, 'eval_rougeLsum': 22.0313, 'eval_gen_len': 18.9996, 'eval_runtime': 75.1155, 'eval_samples_per_second': 66.511, 'eval_steps_per_second': 4.167, 'epoch': 7.91}\n"
          ]
        },
        {
          "name": "stderr",
          "output_type": "stream",
          "text": [
            " 79%|███████▉  | 24800/31230 [6:02:07<11:42,  9.16it/s]   The following columns in the evaluation set don't have a corresponding argument in `T5ForConditionalGeneration.forward` and have been ignored: article, highlights, id. If article, highlights, id are not expected by `T5ForConditionalGeneration.forward`,  you can safely ignore this message.\n",
            "***** Running Evaluation *****\n",
            "  Num examples = 4996\n",
            "  Batch size = 16\n",
            "                                                       \n",
            " 79%|███████▉  | 24800/31230 [6:03:23<11:42,  9.16it/s]Saving model checkpoint to .models/summarization/t5-small/ver2-large\\checkpoint-24800\n",
            "Configuration saved in .models/summarization/t5-small/ver2-large\\checkpoint-24800\\config.json\n"
          ]
        },
        {
          "name": "stdout",
          "output_type": "stream",
          "text": [
            "{'eval_loss': 2.4062001705169678, 'eval_rouge1': 23.4113, 'eval_rouge2': 10.8189, 'eval_rougeL': 19.2226, 'eval_rougeLsum': 22.0247, 'eval_gen_len': 18.9996, 'eval_runtime': 76.5836, 'eval_samples_per_second': 65.236, 'eval_steps_per_second': 4.087, 'epoch': 7.94}\n"
          ]
        },
        {
          "name": "stderr",
          "output_type": "stream",
          "text": [
            "Model weights saved in .models/summarization/t5-small/ver2-large\\checkpoint-24800\\pytorch_model.bin\n",
            "tokenizer config file saved in .models/summarization/t5-small/ver2-large\\checkpoint-24800\\tokenizer_config.json\n",
            "Special tokens file saved in .models/summarization/t5-small/ver2-large\\checkpoint-24800\\special_tokens_map.json\n",
            "Copy vocab file to .models/summarization/t5-small/ver2-large\\checkpoint-24800\\spiece.model\n",
            "Deleting older checkpoint [.models\\summarization\\t5-small\\ver2-large\\checkpoint-24400] due to args.save_total_limit\n",
            " 80%|███████▉  | 24899/31230 [6:03:37<11:04,  9.53it/s]   The following columns in the evaluation set don't have a corresponding argument in `T5ForConditionalGeneration.forward` and have been ignored: article, highlights, id. If article, highlights, id are not expected by `T5ForConditionalGeneration.forward`,  you can safely ignore this message.\n",
            "***** Running Evaluation *****\n",
            "  Num examples = 4996\n",
            "  Batch size = 16\n",
            "                                                       \n",
            " 80%|███████▉  | 24900/31230 [6:04:52<11:04,  9.53it/s]"
          ]
        },
        {
          "name": "stdout",
          "output_type": "stream",
          "text": [
            "{'eval_loss': 2.4057745933532715, 'eval_rouge1': 23.3984, 'eval_rouge2': 10.7924, 'eval_rougeL': 19.1945, 'eval_rougeLsum': 22.0009, 'eval_gen_len': 18.9996, 'eval_runtime': 75.2169, 'eval_samples_per_second': 66.421, 'eval_steps_per_second': 4.161, 'epoch': 7.97}\n"
          ]
        },
        {
          "name": "stderr",
          "output_type": "stream",
          "text": [
            " 80%|████████  | 25000/31230 [6:05:04<10:44,  9.67it/s]   The following columns in the evaluation set don't have a corresponding argument in `T5ForConditionalGeneration.forward` and have been ignored: article, highlights, id. If article, highlights, id are not expected by `T5ForConditionalGeneration.forward`,  you can safely ignore this message.\n",
            "***** Running Evaluation *****\n",
            "  Num examples = 4996\n",
            "  Batch size = 16\n"
          ]
        },
        {
          "name": "stdout",
          "output_type": "stream",
          "text": [
            "{'loss': 2.7479, 'learning_rate': 3.996157540826129e-06, 'epoch': 8.01}\n"
          ]
        },
        {
          "name": "stderr",
          "output_type": "stream",
          "text": [
            "                                                       \n",
            " 80%|████████  | 25000/31230 [6:06:19<10:44,  9.67it/s]Saving model checkpoint to .models/summarization/t5-small/ver2-large\\checkpoint-25000\n",
            "Configuration saved in .models/summarization/t5-small/ver2-large\\checkpoint-25000\\config.json\n"
          ]
        },
        {
          "name": "stdout",
          "output_type": "stream",
          "text": [
            "{'eval_loss': 2.406176805496216, 'eval_rouge1': 23.3722, 'eval_rouge2': 10.7918, 'eval_rougeL': 19.1928, 'eval_rougeLsum': 21.9866, 'eval_gen_len': 18.9996, 'eval_runtime': 75.3496, 'eval_samples_per_second': 66.304, 'eval_steps_per_second': 4.154, 'epoch': 8.01}\n"
          ]
        },
        {
          "name": "stderr",
          "output_type": "stream",
          "text": [
            "Model weights saved in .models/summarization/t5-small/ver2-large\\checkpoint-25000\\pytorch_model.bin\n",
            "tokenizer config file saved in .models/summarization/t5-small/ver2-large\\checkpoint-25000\\tokenizer_config.json\n",
            "Special tokens file saved in .models/summarization/t5-small/ver2-large\\checkpoint-25000\\special_tokens_map.json\n",
            "Copy vocab file to .models/summarization/t5-small/ver2-large\\checkpoint-25000\\spiece.model\n",
            "Deleting older checkpoint [.models\\summarization\\t5-small\\ver2-large\\checkpoint-24600] due to args.save_total_limit\n",
            " 80%|████████  | 25100/31230 [6:06:33<10:48,  9.45it/s]   The following columns in the evaluation set don't have a corresponding argument in `T5ForConditionalGeneration.forward` and have been ignored: article, highlights, id. If article, highlights, id are not expected by `T5ForConditionalGeneration.forward`,  you can safely ignore this message.\n",
            "***** Running Evaluation *****\n",
            "  Num examples = 4996\n",
            "  Batch size = 16\n",
            "                                                       \n",
            " 80%|████████  | 25100/31230 [6:07:48<10:48,  9.45it/s]"
          ]
        },
        {
          "name": "stdout",
          "output_type": "stream",
          "text": [
            "{'eval_loss': 2.405881404876709, 'eval_rouge1': 23.3708, 'eval_rouge2': 10.7795, 'eval_rougeL': 19.1812, 'eval_rougeLsum': 21.9799, 'eval_gen_len': 18.9996, 'eval_runtime': 74.8145, 'eval_samples_per_second': 66.778, 'eval_steps_per_second': 4.184, 'epoch': 8.04}\n"
          ]
        },
        {
          "name": "stderr",
          "output_type": "stream",
          "text": [
            " 81%|████████  | 25200/31230 [6:07:59<10:34,  9.50it/s]   The following columns in the evaluation set don't have a corresponding argument in `T5ForConditionalGeneration.forward` and have been ignored: article, highlights, id. If article, highlights, id are not expected by `T5ForConditionalGeneration.forward`,  you can safely ignore this message.\n",
            "***** Running Evaluation *****\n",
            "  Num examples = 4996\n",
            "  Batch size = 16\n",
            "                                                       \n",
            " 81%|████████  | 25200/31230 [6:09:14<10:34,  9.50it/s]Saving model checkpoint to .models/summarization/t5-small/ver2-large\\checkpoint-25200\n",
            "Configuration saved in .models/summarization/t5-small/ver2-large\\checkpoint-25200\\config.json\n"
          ]
        },
        {
          "name": "stdout",
          "output_type": "stream",
          "text": [
            "{'eval_loss': 2.405839204788208, 'eval_rouge1': 23.3411, 'eval_rouge2': 10.7538, 'eval_rougeL': 19.1503, 'eval_rougeLsum': 21.9572, 'eval_gen_len': 18.9996, 'eval_runtime': 74.9976, 'eval_samples_per_second': 66.615, 'eval_steps_per_second': 4.173, 'epoch': 8.07}\n"
          ]
        },
        {
          "name": "stderr",
          "output_type": "stream",
          "text": [
            "Model weights saved in .models/summarization/t5-small/ver2-large\\checkpoint-25200\\pytorch_model.bin\n",
            "tokenizer config file saved in .models/summarization/t5-small/ver2-large\\checkpoint-25200\\tokenizer_config.json\n",
            "Special tokens file saved in .models/summarization/t5-small/ver2-large\\checkpoint-25200\\special_tokens_map.json\n",
            "Copy vocab file to .models/summarization/t5-small/ver2-large\\checkpoint-25200\\spiece.model\n",
            "Deleting older checkpoint [.models\\summarization\\t5-small\\ver2-large\\checkpoint-24800] due to args.save_total_limit\n",
            " 81%|████████  | 25300/31230 [6:09:28<10:37,  9.30it/s]   The following columns in the evaluation set don't have a corresponding argument in `T5ForConditionalGeneration.forward` and have been ignored: article, highlights, id. If article, highlights, id are not expected by `T5ForConditionalGeneration.forward`,  you can safely ignore this message.\n",
            "***** Running Evaluation *****\n",
            "  Num examples = 4996\n",
            "  Batch size = 16\n",
            "                                                       \n",
            " 81%|████████  | 25300/31230 [6:10:43<10:37,  9.30it/s]"
          ]
        },
        {
          "name": "stdout",
          "output_type": "stream",
          "text": [
            "{'eval_loss': 2.4063713550567627, 'eval_rouge1': 23.3725, 'eval_rouge2': 10.7978, 'eval_rougeL': 19.1816, 'eval_rougeLsum': 22.0014, 'eval_gen_len': 18.9996, 'eval_runtime': 75.4959, 'eval_samples_per_second': 66.176, 'eval_steps_per_second': 4.146, 'epoch': 8.1}\n"
          ]
        },
        {
          "name": "stderr",
          "output_type": "stream",
          "text": [
            " 81%|████████▏ | 25400/31230 [6:10:56<10:55,  8.89it/s]   The following columns in the evaluation set don't have a corresponding argument in `T5ForConditionalGeneration.forward` and have been ignored: article, highlights, id. If article, highlights, id are not expected by `T5ForConditionalGeneration.forward`,  you can safely ignore this message.\n",
            "***** Running Evaluation *****\n",
            "  Num examples = 4996\n",
            "  Batch size = 16\n",
            "                                                       \n",
            " 81%|████████▏ | 25400/31230 [6:12:13<10:55,  8.89it/s]Saving model checkpoint to .models/summarization/t5-small/ver2-large\\checkpoint-25400\n",
            "Configuration saved in .models/summarization/t5-small/ver2-large\\checkpoint-25400\\config.json\n"
          ]
        },
        {
          "name": "stdout",
          "output_type": "stream",
          "text": [
            "{'eval_loss': 2.406020402908325, 'eval_rouge1': 23.3748, 'eval_rouge2': 10.7982, 'eval_rougeL': 19.1869, 'eval_rougeLsum': 21.9897, 'eval_gen_len': 18.9996, 'eval_runtime': 77.1203, 'eval_samples_per_second': 64.782, 'eval_steps_per_second': 4.059, 'epoch': 8.13}\n"
          ]
        },
        {
          "name": "stderr",
          "output_type": "stream",
          "text": [
            "Model weights saved in .models/summarization/t5-small/ver2-large\\checkpoint-25400\\pytorch_model.bin\n",
            "tokenizer config file saved in .models/summarization/t5-small/ver2-large\\checkpoint-25400\\tokenizer_config.json\n",
            "Special tokens file saved in .models/summarization/t5-small/ver2-large\\checkpoint-25400\\special_tokens_map.json\n",
            "Copy vocab file to .models/summarization/t5-small/ver2-large\\checkpoint-25400\\spiece.model\n",
            "Deleting older checkpoint [.models\\summarization\\t5-small\\ver2-large\\checkpoint-25000] due to args.save_total_limit\n",
            " 82%|████████▏ | 25500/31230 [6:12:27<10:17,  9.27it/s]   The following columns in the evaluation set don't have a corresponding argument in `T5ForConditionalGeneration.forward` and have been ignored: article, highlights, id. If article, highlights, id are not expected by `T5ForConditionalGeneration.forward`,  you can safely ignore this message.\n",
            "***** Running Evaluation *****\n",
            "  Num examples = 4996\n",
            "  Batch size = 16\n"
          ]
        },
        {
          "name": "stdout",
          "output_type": "stream",
          "text": [
            "{'loss': 2.7612, 'learning_rate': 3.6759526096701894e-06, 'epoch': 8.17}\n"
          ]
        },
        {
          "name": "stderr",
          "output_type": "stream",
          "text": [
            "                                                       \n",
            " 82%|████████▏ | 25500/31230 [6:13:45<10:17,  9.27it/s]"
          ]
        },
        {
          "name": "stdout",
          "output_type": "stream",
          "text": [
            "{'eval_loss': 2.406404495239258, 'eval_rouge1': 23.3776, 'eval_rouge2': 10.8153, 'eval_rougeL': 19.1967, 'eval_rougeLsum': 21.9904, 'eval_gen_len': 18.9996, 'eval_runtime': 78.6006, 'eval_samples_per_second': 63.562, 'eval_steps_per_second': 3.982, 'epoch': 8.17}\n"
          ]
        },
        {
          "name": "stderr",
          "output_type": "stream",
          "text": [
            " 82%|████████▏ | 25600/31230 [6:13:57<10:00,  9.37it/s]   The following columns in the evaluation set don't have a corresponding argument in `T5ForConditionalGeneration.forward` and have been ignored: article, highlights, id. If article, highlights, id are not expected by `T5ForConditionalGeneration.forward`,  you can safely ignore this message.\n",
            "***** Running Evaluation *****\n",
            "  Num examples = 4996\n",
            "  Batch size = 16\n",
            "                                                       \n",
            " 82%|████████▏ | 25600/31230 [6:15:10<10:00,  9.37it/s]Saving model checkpoint to .models/summarization/t5-small/ver2-large\\checkpoint-25600\n",
            "Configuration saved in .models/summarization/t5-small/ver2-large\\checkpoint-25600\\config.json\n"
          ]
        },
        {
          "name": "stdout",
          "output_type": "stream",
          "text": [
            "{'eval_loss': 2.406571626663208, 'eval_rouge1': 23.3864, 'eval_rouge2': 10.8159, 'eval_rougeL': 19.1946, 'eval_rougeLsum': 21.9985, 'eval_gen_len': 18.9996, 'eval_runtime': 73.4796, 'eval_samples_per_second': 67.992, 'eval_steps_per_second': 4.26, 'epoch': 8.2}\n"
          ]
        },
        {
          "name": "stderr",
          "output_type": "stream",
          "text": [
            "Model weights saved in .models/summarization/t5-small/ver2-large\\checkpoint-25600\\pytorch_model.bin\n",
            "tokenizer config file saved in .models/summarization/t5-small/ver2-large\\checkpoint-25600\\tokenizer_config.json\n",
            "Special tokens file saved in .models/summarization/t5-small/ver2-large\\checkpoint-25600\\special_tokens_map.json\n",
            "Copy vocab file to .models/summarization/t5-small/ver2-large\\checkpoint-25600\\spiece.model\n",
            "Deleting older checkpoint [.models\\summarization\\t5-small\\ver2-large\\checkpoint-25200] due to args.save_total_limit\n",
            " 82%|████████▏ | 25700/31230 [6:15:24<09:45,  9.44it/s]   The following columns in the evaluation set don't have a corresponding argument in `T5ForConditionalGeneration.forward` and have been ignored: article, highlights, id. If article, highlights, id are not expected by `T5ForConditionalGeneration.forward`,  you can safely ignore this message.\n",
            "***** Running Evaluation *****\n",
            "  Num examples = 4996\n",
            "  Batch size = 16\n",
            "                                                       \n",
            " 82%|████████▏ | 25700/31230 [6:16:39<09:45,  9.44it/s]"
          ]
        },
        {
          "name": "stdout",
          "output_type": "stream",
          "text": [
            "{'eval_loss': 2.406414270401001, 'eval_rouge1': 23.4125, 'eval_rouge2': 10.8207, 'eval_rougeL': 19.1991, 'eval_rougeLsum': 22.0137, 'eval_gen_len': 18.9996, 'eval_runtime': 75.0035, 'eval_samples_per_second': 66.61, 'eval_steps_per_second': 4.173, 'epoch': 8.23}\n"
          ]
        },
        {
          "name": "stderr",
          "output_type": "stream",
          "text": [
            " 83%|████████▎ | 25800/31230 [6:16:50<09:36,  9.42it/s]   The following columns in the evaluation set don't have a corresponding argument in `T5ForConditionalGeneration.forward` and have been ignored: article, highlights, id. If article, highlights, id are not expected by `T5ForConditionalGeneration.forward`,  you can safely ignore this message.\n",
            "***** Running Evaluation *****\n",
            "  Num examples = 4996\n",
            "  Batch size = 16\n",
            "                                                       \n",
            " 83%|████████▎ | 25800/31230 [6:18:07<09:36,  9.42it/s]Saving model checkpoint to .models/summarization/t5-small/ver2-large\\checkpoint-25800\n",
            "Configuration saved in .models/summarization/t5-small/ver2-large\\checkpoint-25800\\config.json\n"
          ]
        },
        {
          "name": "stdout",
          "output_type": "stream",
          "text": [
            "{'eval_loss': 2.4058926105499268, 'eval_rouge1': 23.3998, 'eval_rouge2': 10.7988, 'eval_rougeL': 19.1884, 'eval_rougeLsum': 21.9915, 'eval_gen_len': 18.9996, 'eval_runtime': 77.1847, 'eval_samples_per_second': 64.728, 'eval_steps_per_second': 4.055, 'epoch': 8.26}\n"
          ]
        },
        {
          "name": "stderr",
          "output_type": "stream",
          "text": [
            "Model weights saved in .models/summarization/t5-small/ver2-large\\checkpoint-25800\\pytorch_model.bin\n",
            "tokenizer config file saved in .models/summarization/t5-small/ver2-large\\checkpoint-25800\\tokenizer_config.json\n",
            "Special tokens file saved in .models/summarization/t5-small/ver2-large\\checkpoint-25800\\special_tokens_map.json\n",
            "Copy vocab file to .models/summarization/t5-small/ver2-large\\checkpoint-25800\\spiece.model\n",
            "Deleting older checkpoint [.models\\summarization\\t5-small\\ver2-large\\checkpoint-25400] due to args.save_total_limit\n",
            " 83%|████████▎ | 25900/31230 [6:18:21<10:14,  8.67it/s]   The following columns in the evaluation set don't have a corresponding argument in `T5ForConditionalGeneration.forward` and have been ignored: article, highlights, id. If article, highlights, id are not expected by `T5ForConditionalGeneration.forward`,  you can safely ignore this message.\n",
            "***** Running Evaluation *****\n",
            "  Num examples = 4996\n",
            "  Batch size = 16\n",
            "                                                       \n",
            " 83%|████████▎ | 25900/31230 [6:19:39<10:14,  8.67it/s]"
          ]
        },
        {
          "name": "stdout",
          "output_type": "stream",
          "text": [
            "{'eval_loss': 2.405893087387085, 'eval_rouge1': 23.3993, 'eval_rouge2': 10.814, 'eval_rougeL': 19.2023, 'eval_rougeLsum': 21.9988, 'eval_gen_len': 18.9996, 'eval_runtime': 77.4037, 'eval_samples_per_second': 64.545, 'eval_steps_per_second': 4.044, 'epoch': 8.29}\n"
          ]
        },
        {
          "name": "stderr",
          "output_type": "stream",
          "text": [
            " 83%|████████▎ | 26000/31230 [6:19:50<09:00,  9.68it/s]   The following columns in the evaluation set don't have a corresponding argument in `T5ForConditionalGeneration.forward` and have been ignored: article, highlights, id. If article, highlights, id are not expected by `T5ForConditionalGeneration.forward`,  you can safely ignore this message.\n",
            "***** Running Evaluation *****\n",
            "  Num examples = 4996\n",
            "  Batch size = 16\n"
          ]
        },
        {
          "name": "stdout",
          "output_type": "stream",
          "text": [
            "{'loss': 2.7262, 'learning_rate': 3.3557476785142496e-06, 'epoch': 8.33}\n"
          ]
        },
        {
          "name": "stderr",
          "output_type": "stream",
          "text": [
            "                                                       \n",
            " 83%|████████▎ | 26000/31230 [6:21:04<09:00,  9.68it/s]Saving model checkpoint to .models/summarization/t5-small/ver2-large\\checkpoint-26000\n",
            "Configuration saved in .models/summarization/t5-small/ver2-large\\checkpoint-26000\\config.json\n"
          ]
        },
        {
          "name": "stdout",
          "output_type": "stream",
          "text": [
            "{'eval_loss': 2.4059925079345703, 'eval_rouge1': 23.3847, 'eval_rouge2': 10.8096, 'eval_rougeL': 19.1865, 'eval_rougeLsum': 21.9976, 'eval_gen_len': 18.9996, 'eval_runtime': 73.3272, 'eval_samples_per_second': 68.133, 'eval_steps_per_second': 4.269, 'epoch': 8.33}\n"
          ]
        },
        {
          "name": "stderr",
          "output_type": "stream",
          "text": [
            "Model weights saved in .models/summarization/t5-small/ver2-large\\checkpoint-26000\\pytorch_model.bin\n",
            "tokenizer config file saved in .models/summarization/t5-small/ver2-large\\checkpoint-26000\\tokenizer_config.json\n",
            "Special tokens file saved in .models/summarization/t5-small/ver2-large\\checkpoint-26000\\special_tokens_map.json\n",
            "Copy vocab file to .models/summarization/t5-small/ver2-large\\checkpoint-26000\\spiece.model\n",
            "Deleting older checkpoint [.models\\summarization\\t5-small\\ver2-large\\checkpoint-25600] due to args.save_total_limit\n",
            " 84%|████████▎ | 26099/31230 [6:21:17<08:46,  9.74it/s]   The following columns in the evaluation set don't have a corresponding argument in `T5ForConditionalGeneration.forward` and have been ignored: article, highlights, id. If article, highlights, id are not expected by `T5ForConditionalGeneration.forward`,  you can safely ignore this message.\n",
            "***** Running Evaluation *****\n",
            "  Num examples = 4996\n",
            "  Batch size = 16\n",
            "                                                       \n",
            " 84%|████████▎ | 26100/31230 [6:22:31<08:46,  9.74it/s]"
          ]
        },
        {
          "name": "stdout",
          "output_type": "stream",
          "text": [
            "{'eval_loss': 2.405421495437622, 'eval_rouge1': 23.3984, 'eval_rouge2': 10.8053, 'eval_rougeL': 19.185, 'eval_rougeLsum': 22.0063, 'eval_gen_len': 18.9998, 'eval_runtime': 74.1455, 'eval_samples_per_second': 67.381, 'eval_steps_per_second': 4.221, 'epoch': 8.36}\n"
          ]
        },
        {
          "name": "stderr",
          "output_type": "stream",
          "text": [
            " 84%|████████▍ | 26200/31230 [6:22:43<08:44,  9.58it/s]   The following columns in the evaluation set don't have a corresponding argument in `T5ForConditionalGeneration.forward` and have been ignored: article, highlights, id. If article, highlights, id are not expected by `T5ForConditionalGeneration.forward`,  you can safely ignore this message.\n",
            "***** Running Evaluation *****\n",
            "  Num examples = 4996\n",
            "  Batch size = 16\n",
            "                                                       \n",
            " 84%|████████▍ | 26200/31230 [6:23:56<08:44,  9.58it/s]Saving model checkpoint to .models/summarization/t5-small/ver2-large\\checkpoint-26200\n",
            "Configuration saved in .models/summarization/t5-small/ver2-large\\checkpoint-26200\\config.json\n"
          ]
        },
        {
          "name": "stdout",
          "output_type": "stream",
          "text": [
            "{'eval_loss': 2.405393123626709, 'eval_rouge1': 23.429, 'eval_rouge2': 10.8087, 'eval_rougeL': 19.197, 'eval_rougeLsum': 22.029, 'eval_gen_len': 18.9998, 'eval_runtime': 73.2328, 'eval_samples_per_second': 68.221, 'eval_steps_per_second': 4.274, 'epoch': 8.39}\n"
          ]
        },
        {
          "name": "stderr",
          "output_type": "stream",
          "text": [
            "Model weights saved in .models/summarization/t5-small/ver2-large\\checkpoint-26200\\pytorch_model.bin\n",
            "tokenizer config file saved in .models/summarization/t5-small/ver2-large\\checkpoint-26200\\tokenizer_config.json\n",
            "Special tokens file saved in .models/summarization/t5-small/ver2-large\\checkpoint-26200\\special_tokens_map.json\n",
            "Copy vocab file to .models/summarization/t5-small/ver2-large\\checkpoint-26200\\spiece.model\n",
            "Deleting older checkpoint [.models\\summarization\\t5-small\\ver2-large\\checkpoint-25800] due to args.save_total_limit\n",
            " 84%|████████▍ | 26300/31230 [6:24:10<08:48,  9.33it/s]   The following columns in the evaluation set don't have a corresponding argument in `T5ForConditionalGeneration.forward` and have been ignored: article, highlights, id. If article, highlights, id are not expected by `T5ForConditionalGeneration.forward`,  you can safely ignore this message.\n",
            "***** Running Evaluation *****\n",
            "  Num examples = 4996\n",
            "  Batch size = 16\n",
            "                                                       \n",
            " 84%|████████▍ | 26300/31230 [6:25:27<08:48,  9.33it/s]"
          ]
        },
        {
          "name": "stdout",
          "output_type": "stream",
          "text": [
            "{'eval_loss': 2.405564546585083, 'eval_rouge1': 23.4213, 'eval_rouge2': 10.8075, 'eval_rougeL': 19.1964, 'eval_rougeLsum': 22.0236, 'eval_gen_len': 18.9998, 'eval_runtime': 77.5683, 'eval_samples_per_second': 64.408, 'eval_steps_per_second': 4.035, 'epoch': 8.42}\n"
          ]
        },
        {
          "name": "stderr",
          "output_type": "stream",
          "text": [
            " 85%|████████▍ | 26400/31230 [6:25:39<08:35,  9.36it/s]   The following columns in the evaluation set don't have a corresponding argument in `T5ForConditionalGeneration.forward` and have been ignored: article, highlights, id. If article, highlights, id are not expected by `T5ForConditionalGeneration.forward`,  you can safely ignore this message.\n",
            "***** Running Evaluation *****\n",
            "  Num examples = 4996\n",
            "  Batch size = 16\n",
            "                                                       \n",
            " 85%|████████▍ | 26400/31230 [6:26:52<08:35,  9.36it/s]Saving model checkpoint to .models/summarization/t5-small/ver2-large\\checkpoint-26400\n",
            "Configuration saved in .models/summarization/t5-small/ver2-large\\checkpoint-26400\\config.json\n"
          ]
        },
        {
          "name": "stdout",
          "output_type": "stream",
          "text": [
            "{'eval_loss': 2.4053361415863037, 'eval_rouge1': 23.4321, 'eval_rouge2': 10.803, 'eval_rougeL': 19.1934, 'eval_rougeLsum': 22.0251, 'eval_gen_len': 18.9998, 'eval_runtime': 73.2229, 'eval_samples_per_second': 68.23, 'eval_steps_per_second': 4.275, 'epoch': 8.45}\n"
          ]
        },
        {
          "name": "stderr",
          "output_type": "stream",
          "text": [
            "Model weights saved in .models/summarization/t5-small/ver2-large\\checkpoint-26400\\pytorch_model.bin\n",
            "tokenizer config file saved in .models/summarization/t5-small/ver2-large\\checkpoint-26400\\tokenizer_config.json\n",
            "Special tokens file saved in .models/summarization/t5-small/ver2-large\\checkpoint-26400\\special_tokens_map.json\n",
            "Copy vocab file to .models/summarization/t5-small/ver2-large\\checkpoint-26400\\spiece.model\n",
            "Deleting older checkpoint [.models\\summarization\\t5-small\\ver2-large\\checkpoint-26000] due to args.save_total_limit\n",
            " 85%|████████▍ | 26500/31230 [6:27:05<08:14,  9.57it/s]   The following columns in the evaluation set don't have a corresponding argument in `T5ForConditionalGeneration.forward` and have been ignored: article, highlights, id. If article, highlights, id are not expected by `T5ForConditionalGeneration.forward`,  you can safely ignore this message.\n",
            "***** Running Evaluation *****\n",
            "  Num examples = 4996\n",
            "  Batch size = 16\n"
          ]
        },
        {
          "name": "stdout",
          "output_type": "stream",
          "text": [
            "{'loss': 2.7508, 'learning_rate': 3.0355427473583095e-06, 'epoch': 8.49}\n"
          ]
        },
        {
          "name": "stderr",
          "output_type": "stream",
          "text": [
            "                                                       \n",
            " 85%|████████▍ | 26500/31230 [6:28:19<08:14,  9.57it/s]"
          ]
        },
        {
          "name": "stdout",
          "output_type": "stream",
          "text": [
            "{'eval_loss': 2.405426025390625, 'eval_rouge1': 23.4091, 'eval_rouge2': 10.7892, 'eval_rougeL': 19.1852, 'eval_rougeLsum': 22.0108, 'eval_gen_len': 18.9998, 'eval_runtime': 73.6105, 'eval_samples_per_second': 67.871, 'eval_steps_per_second': 4.252, 'epoch': 8.49}\n"
          ]
        },
        {
          "name": "stderr",
          "output_type": "stream",
          "text": [
            " 85%|████████▌ | 26599/31230 [6:28:30<08:07,  9.49it/s]   The following columns in the evaluation set don't have a corresponding argument in `T5ForConditionalGeneration.forward` and have been ignored: article, highlights, id. If article, highlights, id are not expected by `T5ForConditionalGeneration.forward`,  you can safely ignore this message.\n",
            "***** Running Evaluation *****\n",
            "  Num examples = 4996\n",
            "  Batch size = 16\n",
            "                                                       \n",
            " 85%|████████▌ | 26600/31230 [6:29:44<08:07,  9.49it/s]Saving model checkpoint to .models/summarization/t5-small/ver2-large\\checkpoint-26600\n",
            "Configuration saved in .models/summarization/t5-small/ver2-large\\checkpoint-26600\\config.json\n"
          ]
        },
        {
          "name": "stdout",
          "output_type": "stream",
          "text": [
            "{'eval_loss': 2.405432939529419, 'eval_rouge1': 23.4238, 'eval_rouge2': 10.7854, 'eval_rougeL': 19.1752, 'eval_rougeLsum': 22.0198, 'eval_gen_len': 18.9998, 'eval_runtime': 73.1871, 'eval_samples_per_second': 68.263, 'eval_steps_per_second': 4.277, 'epoch': 8.52}\n"
          ]
        },
        {
          "name": "stderr",
          "output_type": "stream",
          "text": [
            "Model weights saved in .models/summarization/t5-small/ver2-large\\checkpoint-26600\\pytorch_model.bin\n",
            "tokenizer config file saved in .models/summarization/t5-small/ver2-large\\checkpoint-26600\\tokenizer_config.json\n",
            "Special tokens file saved in .models/summarization/t5-small/ver2-large\\checkpoint-26600\\special_tokens_map.json\n",
            "Copy vocab file to .models/summarization/t5-small/ver2-large\\checkpoint-26600\\spiece.model\n",
            "Deleting older checkpoint [.models\\summarization\\t5-small\\ver2-large\\checkpoint-26200] due to args.save_total_limit\n",
            " 85%|████████▌ | 26700/31230 [6:29:57<07:48,  9.66it/s]   The following columns in the evaluation set don't have a corresponding argument in `T5ForConditionalGeneration.forward` and have been ignored: article, highlights, id. If article, highlights, id are not expected by `T5ForConditionalGeneration.forward`,  you can safely ignore this message.\n",
            "***** Running Evaluation *****\n",
            "  Num examples = 4996\n",
            "  Batch size = 16\n",
            "                                                       \n",
            " 85%|████████▌ | 26700/31230 [6:31:13<07:48,  9.66it/s]"
          ]
        },
        {
          "name": "stdout",
          "output_type": "stream",
          "text": [
            "{'eval_loss': 2.4058902263641357, 'eval_rouge1': 23.4116, 'eval_rouge2': 10.7924, 'eval_rougeL': 19.1781, 'eval_rougeLsum': 22.0075, 'eval_gen_len': 18.9998, 'eval_runtime': 76.1951, 'eval_samples_per_second': 65.569, 'eval_steps_per_second': 4.108, 'epoch': 8.55}\n"
          ]
        },
        {
          "name": "stderr",
          "output_type": "stream",
          "text": [
            " 86%|████████▌ | 26800/31230 [6:31:25<07:33,  9.77it/s]   The following columns in the evaluation set don't have a corresponding argument in `T5ForConditionalGeneration.forward` and have been ignored: article, highlights, id. If article, highlights, id are not expected by `T5ForConditionalGeneration.forward`,  you can safely ignore this message.\n",
            "***** Running Evaluation *****\n",
            "  Num examples = 4996\n",
            "  Batch size = 16\n",
            "                                                       \n",
            " 86%|████████▌ | 26800/31230 [6:32:41<07:33,  9.77it/s]Saving model checkpoint to .models/summarization/t5-small/ver2-large\\checkpoint-26800\n",
            "Configuration saved in .models/summarization/t5-small/ver2-large\\checkpoint-26800\\config.json\n"
          ]
        },
        {
          "name": "stdout",
          "output_type": "stream",
          "text": [
            "{'eval_loss': 2.4058587551116943, 'eval_rouge1': 23.3977, 'eval_rouge2': 10.7896, 'eval_rougeL': 19.1827, 'eval_rougeLsum': 21.9981, 'eval_gen_len': 18.9996, 'eval_runtime': 75.8833, 'eval_samples_per_second': 65.838, 'eval_steps_per_second': 4.125, 'epoch': 8.58}\n"
          ]
        },
        {
          "name": "stderr",
          "output_type": "stream",
          "text": [
            "Model weights saved in .models/summarization/t5-small/ver2-large\\checkpoint-26800\\pytorch_model.bin\n",
            "tokenizer config file saved in .models/summarization/t5-small/ver2-large\\checkpoint-26800\\tokenizer_config.json\n",
            "Special tokens file saved in .models/summarization/t5-small/ver2-large\\checkpoint-26800\\special_tokens_map.json\n",
            "Copy vocab file to .models/summarization/t5-small/ver2-large\\checkpoint-26800\\spiece.model\n",
            "Deleting older checkpoint [.models\\summarization\\t5-small\\ver2-large\\checkpoint-26400] due to args.save_total_limit\n",
            " 86%|████████▌ | 26900/31230 [6:32:54<07:30,  9.61it/s]   The following columns in the evaluation set don't have a corresponding argument in `T5ForConditionalGeneration.forward` and have been ignored: article, highlights, id. If article, highlights, id are not expected by `T5ForConditionalGeneration.forward`,  you can safely ignore this message.\n",
            "***** Running Evaluation *****\n",
            "  Num examples = 4996\n",
            "  Batch size = 16\n",
            "                                                       \n",
            " 86%|████████▌ | 26900/31230 [6:34:07<07:30,  9.61it/s]"
          ]
        },
        {
          "name": "stdout",
          "output_type": "stream",
          "text": [
            "{'eval_loss': 2.406205415725708, 'eval_rouge1': 23.378, 'eval_rouge2': 10.7772, 'eval_rougeL': 19.1685, 'eval_rougeLsum': 21.977, 'eval_gen_len': 18.9996, 'eval_runtime': 73.3934, 'eval_samples_per_second': 68.072, 'eval_steps_per_second': 4.265, 'epoch': 8.61}\n"
          ]
        },
        {
          "name": "stderr",
          "output_type": "stream",
          "text": [
            " 86%|████████▋ | 27000/31230 [6:34:19<07:26,  9.47it/s]   The following columns in the evaluation set don't have a corresponding argument in `T5ForConditionalGeneration.forward` and have been ignored: article, highlights, id. If article, highlights, id are not expected by `T5ForConditionalGeneration.forward`,  you can safely ignore this message.\n",
            "***** Running Evaluation *****\n",
            "  Num examples = 4996\n",
            "  Batch size = 16\n"
          ]
        },
        {
          "name": "stdout",
          "output_type": "stream",
          "text": [
            "{'loss': 2.7357, 'learning_rate': 2.7153378162023698e-06, 'epoch': 8.65}\n"
          ]
        },
        {
          "name": "stderr",
          "output_type": "stream",
          "text": [
            "                                                       \n",
            " 86%|████████▋ | 27000/31230 [6:35:35<07:26,  9.47it/s]Saving model checkpoint to .models/summarization/t5-small/ver2-large\\checkpoint-27000\n",
            "Configuration saved in .models/summarization/t5-small/ver2-large\\checkpoint-27000\\config.json\n"
          ]
        },
        {
          "name": "stdout",
          "output_type": "stream",
          "text": [
            "{'eval_loss': 2.4061520099639893, 'eval_rouge1': 23.3882, 'eval_rouge2': 10.7934, 'eval_rougeL': 19.1787, 'eval_rougeLsum': 21.9939, 'eval_gen_len': 18.9996, 'eval_runtime': 76.1855, 'eval_samples_per_second': 65.577, 'eval_steps_per_second': 4.108, 'epoch': 8.65}\n"
          ]
        },
        {
          "name": "stderr",
          "output_type": "stream",
          "text": [
            "Model weights saved in .models/summarization/t5-small/ver2-large\\checkpoint-27000\\pytorch_model.bin\n",
            "tokenizer config file saved in .models/summarization/t5-small/ver2-large\\checkpoint-27000\\tokenizer_config.json\n",
            "Special tokens file saved in .models/summarization/t5-small/ver2-large\\checkpoint-27000\\special_tokens_map.json\n",
            "Copy vocab file to .models/summarization/t5-small/ver2-large\\checkpoint-27000\\spiece.model\n",
            "Deleting older checkpoint [.models\\summarization\\t5-small\\ver2-large\\checkpoint-26600] due to args.save_total_limit\n",
            " 87%|████████▋ | 27100/31230 [6:35:49<07:16,  9.46it/s]   The following columns in the evaluation set don't have a corresponding argument in `T5ForConditionalGeneration.forward` and have been ignored: article, highlights, id. If article, highlights, id are not expected by `T5ForConditionalGeneration.forward`,  you can safely ignore this message.\n",
            "***** Running Evaluation *****\n",
            "  Num examples = 4996\n",
            "  Batch size = 16\n",
            "                                                       \n",
            " 87%|████████▋ | 27100/31230 [6:37:06<07:16,  9.46it/s]"
          ]
        },
        {
          "name": "stdout",
          "output_type": "stream",
          "text": [
            "{'eval_loss': 2.4060068130493164, 'eval_rouge1': 23.382, 'eval_rouge2': 10.7846, 'eval_rougeL': 19.1773, 'eval_rougeLsum': 21.9921, 'eval_gen_len': 18.9996, 'eval_runtime': 77.1388, 'eval_samples_per_second': 64.766, 'eval_steps_per_second': 4.058, 'epoch': 8.68}\n"
          ]
        },
        {
          "name": "stderr",
          "output_type": "stream",
          "text": [
            " 87%|████████▋ | 27200/31230 [6:37:17<06:56,  9.68it/s]   The following columns in the evaluation set don't have a corresponding argument in `T5ForConditionalGeneration.forward` and have been ignored: article, highlights, id. If article, highlights, id are not expected by `T5ForConditionalGeneration.forward`,  you can safely ignore this message.\n",
            "***** Running Evaluation *****\n",
            "  Num examples = 4996\n",
            "  Batch size = 16\n",
            "                                                       \n",
            " 87%|████████▋ | 27200/31230 [6:38:32<06:56,  9.68it/s]Saving model checkpoint to .models/summarization/t5-small/ver2-large\\checkpoint-27200\n",
            "Configuration saved in .models/summarization/t5-small/ver2-large\\checkpoint-27200\\config.json\n"
          ]
        },
        {
          "name": "stdout",
          "output_type": "stream",
          "text": [
            "{'eval_loss': 2.4060420989990234, 'eval_rouge1': 23.3815, 'eval_rouge2': 10.7696, 'eval_rougeL': 19.1702, 'eval_rougeLsum': 21.9889, 'eval_gen_len': 18.9996, 'eval_runtime': 74.8131, 'eval_samples_per_second': 66.78, 'eval_steps_per_second': 4.184, 'epoch': 8.71}\n"
          ]
        },
        {
          "name": "stderr",
          "output_type": "stream",
          "text": [
            "Model weights saved in .models/summarization/t5-small/ver2-large\\checkpoint-27200\\pytorch_model.bin\n",
            "tokenizer config file saved in .models/summarization/t5-small/ver2-large\\checkpoint-27200\\tokenizer_config.json\n",
            "Special tokens file saved in .models/summarization/t5-small/ver2-large\\checkpoint-27200\\special_tokens_map.json\n",
            "Copy vocab file to .models/summarization/t5-small/ver2-large\\checkpoint-27200\\spiece.model\n",
            "Deleting older checkpoint [.models\\summarization\\t5-small\\ver2-large\\checkpoint-26800] due to args.save_total_limit\n",
            " 87%|████████▋ | 27300/31230 [6:38:46<06:45,  9.70it/s]   The following columns in the evaluation set don't have a corresponding argument in `T5ForConditionalGeneration.forward` and have been ignored: article, highlights, id. If article, highlights, id are not expected by `T5ForConditionalGeneration.forward`,  you can safely ignore this message.\n",
            "***** Running Evaluation *****\n",
            "  Num examples = 4996\n",
            "  Batch size = 16\n",
            "                                                       \n",
            " 87%|████████▋ | 27300/31230 [6:40:02<06:45,  9.70it/s]"
          ]
        },
        {
          "name": "stdout",
          "output_type": "stream",
          "text": [
            "{'eval_loss': 2.4062201976776123, 'eval_rouge1': 23.3447, 'eval_rouge2': 10.7536, 'eval_rougeL': 19.1422, 'eval_rougeLsum': 21.9571, 'eval_gen_len': 18.9996, 'eval_runtime': 75.978, 'eval_samples_per_second': 65.756, 'eval_steps_per_second': 4.12, 'epoch': 8.74}\n"
          ]
        },
        {
          "name": "stderr",
          "output_type": "stream",
          "text": [
            " 88%|████████▊ | 27400/31230 [6:40:13<06:35,  9.68it/s]   The following columns in the evaluation set don't have a corresponding argument in `T5ForConditionalGeneration.forward` and have been ignored: article, highlights, id. If article, highlights, id are not expected by `T5ForConditionalGeneration.forward`,  you can safely ignore this message.\n",
            "***** Running Evaluation *****\n",
            "  Num examples = 4996\n",
            "  Batch size = 16\n",
            "                                                       \n",
            " 88%|████████▊ | 27400/31230 [6:41:27<06:35,  9.68it/s]Saving model checkpoint to .models/summarization/t5-small/ver2-large\\checkpoint-27400\n",
            "Configuration saved in .models/summarization/t5-small/ver2-large\\checkpoint-27400\\config.json\n"
          ]
        },
        {
          "name": "stdout",
          "output_type": "stream",
          "text": [
            "{'eval_loss': 2.4058585166931152, 'eval_rouge1': 23.3715, 'eval_rouge2': 10.7725, 'eval_rougeL': 19.1731, 'eval_rougeLsum': 21.9838, 'eval_gen_len': 18.9996, 'eval_runtime': 73.3848, 'eval_samples_per_second': 68.079, 'eval_steps_per_second': 4.265, 'epoch': 8.77}\n"
          ]
        },
        {
          "name": "stderr",
          "output_type": "stream",
          "text": [
            "Model weights saved in .models/summarization/t5-small/ver2-large\\checkpoint-27400\\pytorch_model.bin\n",
            "tokenizer config file saved in .models/summarization/t5-small/ver2-large\\checkpoint-27400\\tokenizer_config.json\n",
            "Special tokens file saved in .models/summarization/t5-small/ver2-large\\checkpoint-27400\\special_tokens_map.json\n",
            "Copy vocab file to .models/summarization/t5-small/ver2-large\\checkpoint-27400\\spiece.model\n",
            "Deleting older checkpoint [.models\\summarization\\t5-small\\ver2-large\\checkpoint-27000] due to args.save_total_limit\n",
            " 88%|████████▊ | 27500/31230 [6:41:40<06:34,  9.45it/s]   The following columns in the evaluation set don't have a corresponding argument in `T5ForConditionalGeneration.forward` and have been ignored: article, highlights, id. If article, highlights, id are not expected by `T5ForConditionalGeneration.forward`,  you can safely ignore this message.\n",
            "***** Running Evaluation *****\n",
            "  Num examples = 4996\n",
            "  Batch size = 16\n"
          ]
        },
        {
          "name": "stdout",
          "output_type": "stream",
          "text": [
            "{'loss': 2.7423, 'learning_rate': 2.3957732949087417e-06, 'epoch': 8.81}\n"
          ]
        },
        {
          "name": "stderr",
          "output_type": "stream",
          "text": [
            "                                                       \n",
            " 88%|████████▊ | 27500/31230 [6:42:57<06:34,  9.45it/s]"
          ]
        },
        {
          "name": "stdout",
          "output_type": "stream",
          "text": [
            "{'eval_loss': 2.4058241844177246, 'eval_rouge1': 23.3647, 'eval_rouge2': 10.7762, 'eval_rougeL': 19.1815, 'eval_rougeLsum': 21.9761, 'eval_gen_len': 18.9996, 'eval_runtime': 76.8758, 'eval_samples_per_second': 64.988, 'eval_steps_per_second': 4.072, 'epoch': 8.81}\n"
          ]
        },
        {
          "name": "stderr",
          "output_type": "stream",
          "text": [
            " 88%|████████▊ | 27600/31230 [6:43:08<06:12,  9.73it/s]   The following columns in the evaluation set don't have a corresponding argument in `T5ForConditionalGeneration.forward` and have been ignored: article, highlights, id. If article, highlights, id are not expected by `T5ForConditionalGeneration.forward`,  you can safely ignore this message.\n",
            "***** Running Evaluation *****\n",
            "  Num examples = 4996\n",
            "  Batch size = 16\n",
            "                                                       \n",
            " 88%|████████▊ | 27600/31230 [6:44:22<06:12,  9.73it/s]Saving model checkpoint to .models/summarization/t5-small/ver2-large\\checkpoint-27600\n",
            "Configuration saved in .models/summarization/t5-small/ver2-large\\checkpoint-27600\\config.json\n"
          ]
        },
        {
          "name": "stdout",
          "output_type": "stream",
          "text": [
            "{'eval_loss': 2.405785083770752, 'eval_rouge1': 23.3487, 'eval_rouge2': 10.7606, 'eval_rougeL': 19.1536, 'eval_rougeLsum': 21.9572, 'eval_gen_len': 18.9996, 'eval_runtime': 73.5932, 'eval_samples_per_second': 67.887, 'eval_steps_per_second': 4.253, 'epoch': 8.84}\n"
          ]
        },
        {
          "name": "stderr",
          "output_type": "stream",
          "text": [
            "Model weights saved in .models/summarization/t5-small/ver2-large\\checkpoint-27600\\pytorch_model.bin\n",
            "tokenizer config file saved in .models/summarization/t5-small/ver2-large\\checkpoint-27600\\tokenizer_config.json\n",
            "Special tokens file saved in .models/summarization/t5-small/ver2-large\\checkpoint-27600\\special_tokens_map.json\n",
            "Copy vocab file to .models/summarization/t5-small/ver2-large\\checkpoint-27600\\spiece.model\n",
            "Deleting older checkpoint [.models\\summarization\\t5-small\\ver2-large\\checkpoint-27200] due to args.save_total_limit\n",
            " 89%|████████▊ | 27700/31230 [6:44:36<06:08,  9.57it/s]   The following columns in the evaluation set don't have a corresponding argument in `T5ForConditionalGeneration.forward` and have been ignored: article, highlights, id. If article, highlights, id are not expected by `T5ForConditionalGeneration.forward`,  you can safely ignore this message.\n",
            "***** Running Evaluation *****\n",
            "  Num examples = 4996\n",
            "  Batch size = 16\n",
            "                                                       \n",
            " 89%|████████▊ | 27700/31230 [6:45:49<06:08,  9.57it/s]"
          ]
        },
        {
          "name": "stdout",
          "output_type": "stream",
          "text": [
            "{'eval_loss': 2.405364990234375, 'eval_rouge1': 23.3797, 'eval_rouge2': 10.7825, 'eval_rougeL': 19.1856, 'eval_rougeLsum': 21.9905, 'eval_gen_len': 18.9996, 'eval_runtime': 73.5066, 'eval_samples_per_second': 67.967, 'eval_steps_per_second': 4.258, 'epoch': 8.87}\n"
          ]
        },
        {
          "name": "stderr",
          "output_type": "stream",
          "text": [
            " 89%|████████▉ | 27800/31230 [6:46:01<05:51,  9.77it/s]   The following columns in the evaluation set don't have a corresponding argument in `T5ForConditionalGeneration.forward` and have been ignored: article, highlights, id. If article, highlights, id are not expected by `T5ForConditionalGeneration.forward`,  you can safely ignore this message.\n",
            "***** Running Evaluation *****\n",
            "  Num examples = 4996\n",
            "  Batch size = 16\n",
            "                                                       \n",
            " 89%|████████▉ | 27800/31230 [6:47:14<05:51,  9.77it/s]Saving model checkpoint to .models/summarization/t5-small/ver2-large\\checkpoint-27800\n",
            "Configuration saved in .models/summarization/t5-small/ver2-large\\checkpoint-27800\\config.json\n"
          ]
        },
        {
          "name": "stdout",
          "output_type": "stream",
          "text": [
            "{'eval_loss': 2.4052631855010986, 'eval_rouge1': 23.4066, 'eval_rouge2': 10.7978, 'eval_rougeL': 19.2024, 'eval_rougeLsum': 22.0069, 'eval_gen_len': 18.9996, 'eval_runtime': 73.6056, 'eval_samples_per_second': 67.875, 'eval_steps_per_second': 4.252, 'epoch': 8.9}\n"
          ]
        },
        {
          "name": "stderr",
          "output_type": "stream",
          "text": [
            "Model weights saved in .models/summarization/t5-small/ver2-large\\checkpoint-27800\\pytorch_model.bin\n",
            "tokenizer config file saved in .models/summarization/t5-small/ver2-large\\checkpoint-27800\\tokenizer_config.json\n",
            "Special tokens file saved in .models/summarization/t5-small/ver2-large\\checkpoint-27800\\special_tokens_map.json\n",
            "Copy vocab file to .models/summarization/t5-small/ver2-large\\checkpoint-27800\\spiece.model\n",
            "Deleting older checkpoint [.models\\summarization\\t5-small\\ver2-large\\checkpoint-27400] due to args.save_total_limit\n",
            " 89%|████████▉ | 27900/31230 [6:47:28<05:53,  9.42it/s]   The following columns in the evaluation set don't have a corresponding argument in `T5ForConditionalGeneration.forward` and have been ignored: article, highlights, id. If article, highlights, id are not expected by `T5ForConditionalGeneration.forward`,  you can safely ignore this message.\n",
            "***** Running Evaluation *****\n",
            "  Num examples = 4996\n",
            "  Batch size = 16\n",
            "                                                       \n",
            " 89%|████████▉ | 27900/31230 [6:48:45<05:53,  9.42it/s]"
          ]
        },
        {
          "name": "stdout",
          "output_type": "stream",
          "text": [
            "{'eval_loss': 2.4054017066955566, 'eval_rouge1': 23.3847, 'eval_rouge2': 10.78, 'eval_rougeL': 19.1948, 'eval_rougeLsum': 21.9926, 'eval_gen_len': 18.9996, 'eval_runtime': 77.5839, 'eval_samples_per_second': 64.395, 'eval_steps_per_second': 4.034, 'epoch': 8.93}\n"
          ]
        },
        {
          "name": "stderr",
          "output_type": "stream",
          "text": [
            " 90%|████████▉ | 28000/31230 [6:48:57<05:32,  9.71it/s]   The following columns in the evaluation set don't have a corresponding argument in `T5ForConditionalGeneration.forward` and have been ignored: article, highlights, id. If article, highlights, id are not expected by `T5ForConditionalGeneration.forward`,  you can safely ignore this message.\n",
            "***** Running Evaluation *****\n",
            "  Num examples = 4996\n",
            "  Batch size = 16\n"
          ]
        },
        {
          "name": "stdout",
          "output_type": "stream",
          "text": [
            "{'loss': 2.7473, 'learning_rate': 2.075568363752802e-06, 'epoch': 8.97}\n"
          ]
        },
        {
          "name": "stderr",
          "output_type": "stream",
          "text": [
            "                                                       \n",
            " 90%|████████▉ | 28000/31230 [6:50:10<05:32,  9.71it/s]Saving model checkpoint to .models/summarization/t5-small/ver2-large\\checkpoint-28000\n",
            "Configuration saved in .models/summarization/t5-small/ver2-large\\checkpoint-28000\\config.json\n"
          ]
        },
        {
          "name": "stdout",
          "output_type": "stream",
          "text": [
            "{'eval_loss': 2.4053492546081543, 'eval_rouge1': 23.3654, 'eval_rouge2': 10.775, 'eval_rougeL': 19.171, 'eval_rougeLsum': 21.9714, 'eval_gen_len': 18.9996, 'eval_runtime': 73.4459, 'eval_samples_per_second': 68.023, 'eval_steps_per_second': 4.262, 'epoch': 8.97}\n"
          ]
        },
        {
          "name": "stderr",
          "output_type": "stream",
          "text": [
            "Model weights saved in .models/summarization/t5-small/ver2-large\\checkpoint-28000\\pytorch_model.bin\n",
            "tokenizer config file saved in .models/summarization/t5-small/ver2-large\\checkpoint-28000\\tokenizer_config.json\n",
            "Special tokens file saved in .models/summarization/t5-small/ver2-large\\checkpoint-28000\\special_tokens_map.json\n",
            "Copy vocab file to .models/summarization/t5-small/ver2-large\\checkpoint-28000\\spiece.model\n",
            "Deleting older checkpoint [.models\\summarization\\t5-small\\ver2-large\\checkpoint-27600] due to args.save_total_limit\n",
            " 90%|████████▉ | 28100/31230 [6:50:24<05:34,  9.37it/s]   The following columns in the evaluation set don't have a corresponding argument in `T5ForConditionalGeneration.forward` and have been ignored: article, highlights, id. If article, highlights, id are not expected by `T5ForConditionalGeneration.forward`,  you can safely ignore this message.\n",
            "***** Running Evaluation *****\n",
            "  Num examples = 4996\n",
            "  Batch size = 16\n",
            "                                                       \n",
            " 90%|████████▉ | 28100/31230 [6:51:38<05:34,  9.37it/s]"
          ]
        },
        {
          "name": "stdout",
          "output_type": "stream",
          "text": [
            "{'eval_loss': 2.405546188354492, 'eval_rouge1': 23.391, 'eval_rouge2': 10.7949, 'eval_rougeL': 19.1959, 'eval_rougeLsum': 21.9989, 'eval_gen_len': 18.9996, 'eval_runtime': 74.2009, 'eval_samples_per_second': 67.331, 'eval_steps_per_second': 4.218, 'epoch': 9.0}\n"
          ]
        },
        {
          "name": "stderr",
          "output_type": "stream",
          "text": [
            " 90%|█████████ | 28200/31230 [6:51:49<05:15,  9.60it/s]   The following columns in the evaluation set don't have a corresponding argument in `T5ForConditionalGeneration.forward` and have been ignored: article, highlights, id. If article, highlights, id are not expected by `T5ForConditionalGeneration.forward`,  you can safely ignore this message.\n",
            "***** Running Evaluation *****\n",
            "  Num examples = 4996\n",
            "  Batch size = 16\n",
            "                                                       \n",
            " 90%|█████████ | 28200/31230 [6:53:05<05:15,  9.60it/s]Saving model checkpoint to .models/summarization/t5-small/ver2-large\\checkpoint-28200\n",
            "Configuration saved in .models/summarization/t5-small/ver2-large\\checkpoint-28200\\config.json\n"
          ]
        },
        {
          "name": "stdout",
          "output_type": "stream",
          "text": [
            "{'eval_loss': 2.405745506286621, 'eval_rouge1': 23.378, 'eval_rouge2': 10.7966, 'eval_rougeL': 19.1894, 'eval_rougeLsum': 21.993, 'eval_gen_len': 18.9996, 'eval_runtime': 75.4868, 'eval_samples_per_second': 66.184, 'eval_steps_per_second': 4.146, 'epoch': 9.03}\n"
          ]
        },
        {
          "name": "stderr",
          "output_type": "stream",
          "text": [
            "Model weights saved in .models/summarization/t5-small/ver2-large\\checkpoint-28200\\pytorch_model.bin\n",
            "tokenizer config file saved in .models/summarization/t5-small/ver2-large\\checkpoint-28200\\tokenizer_config.json\n",
            "Special tokens file saved in .models/summarization/t5-small/ver2-large\\checkpoint-28200\\special_tokens_map.json\n",
            "Copy vocab file to .models/summarization/t5-small/ver2-large\\checkpoint-28200\\spiece.model\n",
            "Deleting older checkpoint [.models\\summarization\\t5-small\\ver2-large\\checkpoint-27800] due to args.save_total_limit\n",
            " 91%|█████████ | 28300/31230 [6:53:18<04:59,  9.77it/s]   The following columns in the evaluation set don't have a corresponding argument in `T5ForConditionalGeneration.forward` and have been ignored: article, highlights, id. If article, highlights, id are not expected by `T5ForConditionalGeneration.forward`,  you can safely ignore this message.\n",
            "***** Running Evaluation *****\n",
            "  Num examples = 4996\n",
            "  Batch size = 16\n",
            "                                                       \n",
            " 91%|█████████ | 28300/31230 [6:54:33<04:59,  9.77it/s]"
          ]
        },
        {
          "name": "stdout",
          "output_type": "stream",
          "text": [
            "{'eval_loss': 2.4057705402374268, 'eval_rouge1': 23.3762, 'eval_rouge2': 10.7945, 'eval_rougeL': 19.1905, 'eval_rougeLsum': 21.9827, 'eval_gen_len': 18.9996, 'eval_runtime': 74.4821, 'eval_samples_per_second': 67.077, 'eval_steps_per_second': 4.202, 'epoch': 9.06}\n"
          ]
        },
        {
          "name": "stderr",
          "output_type": "stream",
          "text": [
            " 91%|█████████ | 28400/31230 [6:54:44<04:52,  9.68it/s]   The following columns in the evaluation set don't have a corresponding argument in `T5ForConditionalGeneration.forward` and have been ignored: article, highlights, id. If article, highlights, id are not expected by `T5ForConditionalGeneration.forward`,  you can safely ignore this message.\n",
            "***** Running Evaluation *****\n",
            "  Num examples = 4996\n",
            "  Batch size = 16\n",
            "                                                       \n",
            " 91%|█████████ | 28400/31230 [6:55:59<04:52,  9.68it/s]Saving model checkpoint to .models/summarization/t5-small/ver2-large\\checkpoint-28400\n",
            "Configuration saved in .models/summarization/t5-small/ver2-large\\checkpoint-28400\\config.json\n"
          ]
        },
        {
          "name": "stdout",
          "output_type": "stream",
          "text": [
            "{'eval_loss': 2.405566692352295, 'eval_rouge1': 23.3674, 'eval_rouge2': 10.7837, 'eval_rougeL': 19.1763, 'eval_rougeLsum': 21.98, 'eval_gen_len': 18.9996, 'eval_runtime': 74.6692, 'eval_samples_per_second': 66.908, 'eval_steps_per_second': 4.192, 'epoch': 9.09}\n"
          ]
        },
        {
          "name": "stderr",
          "output_type": "stream",
          "text": [
            "Model weights saved in .models/summarization/t5-small/ver2-large\\checkpoint-28400\\pytorch_model.bin\n",
            "tokenizer config file saved in .models/summarization/t5-small/ver2-large\\checkpoint-28400\\tokenizer_config.json\n",
            "Special tokens file saved in .models/summarization/t5-small/ver2-large\\checkpoint-28400\\special_tokens_map.json\n",
            "Copy vocab file to .models/summarization/t5-small/ver2-large\\checkpoint-28400\\spiece.model\n",
            "Deleting older checkpoint [.models\\summarization\\t5-small\\ver2-large\\checkpoint-28000] due to args.save_total_limit\n",
            " 91%|█████████▏| 28500/31230 [6:56:13<05:12,  8.73it/s]   The following columns in the evaluation set don't have a corresponding argument in `T5ForConditionalGeneration.forward` and have been ignored: article, highlights, id. If article, highlights, id are not expected by `T5ForConditionalGeneration.forward`,  you can safely ignore this message.\n",
            "***** Running Evaluation *****\n",
            "  Num examples = 4996\n",
            "  Batch size = 16\n"
          ]
        },
        {
          "name": "stdout",
          "output_type": "stream",
          "text": [
            "{'loss': 2.7393, 'learning_rate': 1.7560038424591742e-06, 'epoch': 9.13}\n"
          ]
        },
        {
          "name": "stderr",
          "output_type": "stream",
          "text": [
            "                                                       \n",
            " 91%|█████████▏| 28500/31230 [6:57:30<05:12,  8.73it/s]"
          ]
        },
        {
          "name": "stdout",
          "output_type": "stream",
          "text": [
            "{'eval_loss': 2.4055962562561035, 'eval_rouge1': 23.3584, 'eval_rouge2': 10.7804, 'eval_rougeL': 19.1687, 'eval_rougeLsum': 21.9724, 'eval_gen_len': 18.9996, 'eval_runtime': 77.2754, 'eval_samples_per_second': 64.652, 'eval_steps_per_second': 4.05, 'epoch': 9.13}\n"
          ]
        },
        {
          "name": "stderr",
          "output_type": "stream",
          "text": [
            " 92%|█████████▏| 28600/31230 [6:57:42<04:37,  9.48it/s]   The following columns in the evaluation set don't have a corresponding argument in `T5ForConditionalGeneration.forward` and have been ignored: article, highlights, id. If article, highlights, id are not expected by `T5ForConditionalGeneration.forward`,  you can safely ignore this message.\n",
            "***** Running Evaluation *****\n",
            "  Num examples = 4996\n",
            "  Batch size = 16\n",
            "                                                       \n",
            " 92%|█████████▏| 28600/31230 [6:58:55<04:37,  9.48it/s]Saving model checkpoint to .models/summarization/t5-small/ver2-large\\checkpoint-28600\n",
            "Configuration saved in .models/summarization/t5-small/ver2-large\\checkpoint-28600\\config.json\n"
          ]
        },
        {
          "name": "stdout",
          "output_type": "stream",
          "text": [
            "{'eval_loss': 2.405397653579712, 'eval_rouge1': 23.3558, 'eval_rouge2': 10.7755, 'eval_rougeL': 19.1655, 'eval_rougeLsum': 21.9688, 'eval_gen_len': 18.9996, 'eval_runtime': 73.2936, 'eval_samples_per_second': 68.164, 'eval_steps_per_second': 4.27, 'epoch': 9.16}\n"
          ]
        },
        {
          "name": "stderr",
          "output_type": "stream",
          "text": [
            "Model weights saved in .models/summarization/t5-small/ver2-large\\checkpoint-28600\\pytorch_model.bin\n",
            "tokenizer config file saved in .models/summarization/t5-small/ver2-large\\checkpoint-28600\\tokenizer_config.json\n",
            "Special tokens file saved in .models/summarization/t5-small/ver2-large\\checkpoint-28600\\special_tokens_map.json\n",
            "Copy vocab file to .models/summarization/t5-small/ver2-large\\checkpoint-28600\\spiece.model\n",
            "Deleting older checkpoint [.models\\summarization\\t5-small\\ver2-large\\checkpoint-28200] due to args.save_total_limit\n",
            " 92%|█████████▏| 28699/31230 [6:59:08<04:24,  9.57it/s]   The following columns in the evaluation set don't have a corresponding argument in `T5ForConditionalGeneration.forward` and have been ignored: article, highlights, id. If article, highlights, id are not expected by `T5ForConditionalGeneration.forward`,  you can safely ignore this message.\n",
            "***** Running Evaluation *****\n",
            "  Num examples = 4996\n",
            "  Batch size = 16\n",
            "                                                       \n",
            " 92%|█████████▏| 28700/31230 [7:00:22<04:24,  9.57it/s]"
          ]
        },
        {
          "name": "stdout",
          "output_type": "stream",
          "text": [
            "{'eval_loss': 2.4052813053131104, 'eval_rouge1': 23.3717, 'eval_rouge2': 10.781, 'eval_rougeL': 19.1768, 'eval_rougeLsum': 21.9794, 'eval_gen_len': 18.9996, 'eval_runtime': 73.3617, 'eval_samples_per_second': 68.101, 'eval_steps_per_second': 4.267, 'epoch': 9.19}\n"
          ]
        },
        {
          "name": "stderr",
          "output_type": "stream",
          "text": [
            " 92%|█████████▏| 28800/31230 [7:00:33<04:10,  9.72it/s]   The following columns in the evaluation set don't have a corresponding argument in `T5ForConditionalGeneration.forward` and have been ignored: article, highlights, id. If article, highlights, id are not expected by `T5ForConditionalGeneration.forward`,  you can safely ignore this message.\n",
            "***** Running Evaluation *****\n",
            "  Num examples = 4996\n",
            "  Batch size = 16\n",
            "                                                       \n",
            " 92%|█████████▏| 28800/31230 [7:01:50<04:10,  9.72it/s]Saving model checkpoint to .models/summarization/t5-small/ver2-large\\checkpoint-28800\n",
            "Configuration saved in .models/summarization/t5-small/ver2-large\\checkpoint-28800\\config.json\n"
          ]
        },
        {
          "name": "stdout",
          "output_type": "stream",
          "text": [
            "{'eval_loss': 2.4052815437316895, 'eval_rouge1': 23.3803, 'eval_rouge2': 10.795, 'eval_rougeL': 19.1884, 'eval_rougeLsum': 21.9925, 'eval_gen_len': 18.9996, 'eval_runtime': 76.3914, 'eval_samples_per_second': 65.4, 'eval_steps_per_second': 4.097, 'epoch': 9.22}\n"
          ]
        },
        {
          "name": "stderr",
          "output_type": "stream",
          "text": [
            "Model weights saved in .models/summarization/t5-small/ver2-large\\checkpoint-28800\\pytorch_model.bin\n",
            "tokenizer config file saved in .models/summarization/t5-small/ver2-large\\checkpoint-28800\\tokenizer_config.json\n",
            "Special tokens file saved in .models/summarization/t5-small/ver2-large\\checkpoint-28800\\special_tokens_map.json\n",
            "Copy vocab file to .models/summarization/t5-small/ver2-large\\checkpoint-28800\\spiece.model\n",
            "Deleting older checkpoint [.models\\summarization\\t5-small\\ver2-large\\checkpoint-28400] due to args.save_total_limit\n",
            " 93%|█████████▎| 28900/31230 [7:02:03<03:55,  9.88it/s]   The following columns in the evaluation set don't have a corresponding argument in `T5ForConditionalGeneration.forward` and have been ignored: article, highlights, id. If article, highlights, id are not expected by `T5ForConditionalGeneration.forward`,  you can safely ignore this message.\n",
            "***** Running Evaluation *****\n",
            "  Num examples = 4996\n",
            "  Batch size = 16\n",
            "                                                       \n",
            " 93%|█████████▎| 28900/31230 [7:03:19<03:55,  9.88it/s]"
          ]
        },
        {
          "name": "stdout",
          "output_type": "stream",
          "text": [
            "{'eval_loss': 2.4054317474365234, 'eval_rouge1': 23.3769, 'eval_rouge2': 10.7838, 'eval_rougeL': 19.1869, 'eval_rougeLsum': 21.9884, 'eval_gen_len': 18.9996, 'eval_runtime': 75.8956, 'eval_samples_per_second': 65.827, 'eval_steps_per_second': 4.124, 'epoch': 9.25}\n"
          ]
        },
        {
          "name": "stderr",
          "output_type": "stream",
          "text": [
            " 93%|█████████▎| 29000/31230 [7:03:31<03:53,  9.53it/s]   The following columns in the evaluation set don't have a corresponding argument in `T5ForConditionalGeneration.forward` and have been ignored: article, highlights, id. If article, highlights, id are not expected by `T5ForConditionalGeneration.forward`,  you can safely ignore this message.\n",
            "***** Running Evaluation *****\n",
            "  Num examples = 4996\n",
            "  Batch size = 16\n"
          ]
        },
        {
          "name": "stdout",
          "output_type": "stream",
          "text": [
            "{'loss': 2.7459, 'learning_rate': 1.4357989113032342e-06, 'epoch': 9.29}\n"
          ]
        },
        {
          "name": "stderr",
          "output_type": "stream",
          "text": [
            "                                                       \n",
            " 93%|█████████▎| 29000/31230 [7:04:47<03:53,  9.53it/s]Saving model checkpoint to .models/summarization/t5-small/ver2-large\\checkpoint-29000\n",
            "Configuration saved in .models/summarization/t5-small/ver2-large\\checkpoint-29000\\config.json\n"
          ]
        },
        {
          "name": "stdout",
          "output_type": "stream",
          "text": [
            "{'eval_loss': 2.4051318168640137, 'eval_rouge1': 23.3883, 'eval_rouge2': 10.7863, 'eval_rougeL': 19.191, 'eval_rougeLsum': 21.9943, 'eval_gen_len': 18.9996, 'eval_runtime': 76.2972, 'eval_samples_per_second': 65.481, 'eval_steps_per_second': 4.102, 'epoch': 9.29}\n"
          ]
        },
        {
          "name": "stderr",
          "output_type": "stream",
          "text": [
            "Model weights saved in .models/summarization/t5-small/ver2-large\\checkpoint-29000\\pytorch_model.bin\n",
            "tokenizer config file saved in .models/summarization/t5-small/ver2-large\\checkpoint-29000\\tokenizer_config.json\n",
            "Special tokens file saved in .models/summarization/t5-small/ver2-large\\checkpoint-29000\\special_tokens_map.json\n",
            "Copy vocab file to .models/summarization/t5-small/ver2-large\\checkpoint-29000\\spiece.model\n",
            "Deleting older checkpoint [.models\\summarization\\t5-small\\ver2-large\\checkpoint-28600] due to args.save_total_limit\n",
            " 93%|█████████▎| 29100/31230 [7:05:00<03:52,  9.16it/s]   The following columns in the evaluation set don't have a corresponding argument in `T5ForConditionalGeneration.forward` and have been ignored: article, highlights, id. If article, highlights, id are not expected by `T5ForConditionalGeneration.forward`,  you can safely ignore this message.\n",
            "***** Running Evaluation *****\n",
            "  Num examples = 4996\n",
            "  Batch size = 16\n",
            "                                                       \n",
            " 93%|█████████▎| 29100/31230 [7:06:15<03:52,  9.16it/s]"
          ]
        },
        {
          "name": "stdout",
          "output_type": "stream",
          "text": [
            "{'eval_loss': 2.4051666259765625, 'eval_rouge1': 23.3953, 'eval_rouge2': 10.8011, 'eval_rougeL': 19.1996, 'eval_rougeLsum': 22.0029, 'eval_gen_len': 18.9996, 'eval_runtime': 74.9763, 'eval_samples_per_second': 66.634, 'eval_steps_per_second': 4.175, 'epoch': 9.32}\n"
          ]
        },
        {
          "name": "stderr",
          "output_type": "stream",
          "text": [
            " 93%|█████████▎| 29200/31230 [7:06:27<03:20, 10.13it/s]   The following columns in the evaluation set don't have a corresponding argument in `T5ForConditionalGeneration.forward` and have been ignored: article, highlights, id. If article, highlights, id are not expected by `T5ForConditionalGeneration.forward`,  you can safely ignore this message.\n",
            "***** Running Evaluation *****\n",
            "  Num examples = 4996\n",
            "  Batch size = 16\n",
            "                                                       \n",
            " 93%|█████████▎| 29200/31230 [7:07:40<03:20, 10.13it/s]Saving model checkpoint to .models/summarization/t5-small/ver2-large\\checkpoint-29200\n",
            "Configuration saved in .models/summarization/t5-small/ver2-large\\checkpoint-29200\\config.json\n"
          ]
        },
        {
          "name": "stdout",
          "output_type": "stream",
          "text": [
            "{'eval_loss': 2.4051427841186523, 'eval_rouge1': 23.4095, 'eval_rouge2': 10.8147, 'eval_rougeL': 19.2107, 'eval_rougeLsum': 22.0185, 'eval_gen_len': 18.9996, 'eval_runtime': 73.4258, 'eval_samples_per_second': 68.041, 'eval_steps_per_second': 4.263, 'epoch': 9.35}\n"
          ]
        },
        {
          "name": "stderr",
          "output_type": "stream",
          "text": [
            "Model weights saved in .models/summarization/t5-small/ver2-large\\checkpoint-29200\\pytorch_model.bin\n",
            "tokenizer config file saved in .models/summarization/t5-small/ver2-large\\checkpoint-29200\\tokenizer_config.json\n",
            "Special tokens file saved in .models/summarization/t5-small/ver2-large\\checkpoint-29200\\special_tokens_map.json\n",
            "Copy vocab file to .models/summarization/t5-small/ver2-large\\checkpoint-29200\\spiece.model\n",
            "Deleting older checkpoint [.models\\summarization\\t5-small\\ver2-large\\checkpoint-28800] due to args.save_total_limit\n",
            " 94%|█████████▍| 29300/31230 [7:07:54<03:17,  9.77it/s]   The following columns in the evaluation set don't have a corresponding argument in `T5ForConditionalGeneration.forward` and have been ignored: article, highlights, id. If article, highlights, id are not expected by `T5ForConditionalGeneration.forward`,  you can safely ignore this message.\n",
            "***** Running Evaluation *****\n",
            "  Num examples = 4996\n",
            "  Batch size = 16\n",
            "                                                       \n",
            " 94%|█████████▍| 29300/31230 [7:09:07<03:17,  9.77it/s]"
          ]
        },
        {
          "name": "stdout",
          "output_type": "stream",
          "text": [
            "{'eval_loss': 2.405259132385254, 'eval_rouge1': 23.4131, 'eval_rouge2': 10.8128, 'eval_rougeL': 19.2057, 'eval_rougeLsum': 22.0203, 'eval_gen_len': 18.9996, 'eval_runtime': 73.6326, 'eval_samples_per_second': 67.85, 'eval_steps_per_second': 4.251, 'epoch': 9.38}\n"
          ]
        },
        {
          "name": "stderr",
          "output_type": "stream",
          "text": [
            " 94%|█████████▍| 29400/31230 [7:09:19<03:19,  9.16it/s]   The following columns in the evaluation set don't have a corresponding argument in `T5ForConditionalGeneration.forward` and have been ignored: article, highlights, id. If article, highlights, id are not expected by `T5ForConditionalGeneration.forward`,  you can safely ignore this message.\n",
            "***** Running Evaluation *****\n",
            "  Num examples = 4996\n",
            "  Batch size = 16\n",
            "                                                       \n",
            " 94%|█████████▍| 29400/31230 [7:10:35<03:19,  9.16it/s]Saving model checkpoint to .models/summarization/t5-small/ver2-large\\checkpoint-29400\n",
            "Configuration saved in .models/summarization/t5-small/ver2-large\\checkpoint-29400\\config.json\n"
          ]
        },
        {
          "name": "stdout",
          "output_type": "stream",
          "text": [
            "{'eval_loss': 2.405247926712036, 'eval_rouge1': 23.4175, 'eval_rouge2': 10.8116, 'eval_rougeL': 19.2091, 'eval_rougeLsum': 22.0184, 'eval_gen_len': 18.9996, 'eval_runtime': 76.0847, 'eval_samples_per_second': 65.664, 'eval_steps_per_second': 4.114, 'epoch': 9.41}\n"
          ]
        },
        {
          "name": "stderr",
          "output_type": "stream",
          "text": [
            "Model weights saved in .models/summarization/t5-small/ver2-large\\checkpoint-29400\\pytorch_model.bin\n",
            "tokenizer config file saved in .models/summarization/t5-small/ver2-large\\checkpoint-29400\\tokenizer_config.json\n",
            "Special tokens file saved in .models/summarization/t5-small/ver2-large\\checkpoint-29400\\special_tokens_map.json\n",
            "Copy vocab file to .models/summarization/t5-small/ver2-large\\checkpoint-29400\\spiece.model\n",
            "Deleting older checkpoint [.models\\summarization\\t5-small\\ver2-large\\checkpoint-29000] due to args.save_total_limit\n",
            " 94%|█████████▍| 29500/31230 [7:10:49<02:58,  9.71it/s]   The following columns in the evaluation set don't have a corresponding argument in `T5ForConditionalGeneration.forward` and have been ignored: article, highlights, id. If article, highlights, id are not expected by `T5ForConditionalGeneration.forward`,  you can safely ignore this message.\n",
            "***** Running Evaluation *****\n",
            "  Num examples = 4996\n",
            "  Batch size = 16\n"
          ]
        },
        {
          "name": "stdout",
          "output_type": "stream",
          "text": [
            "{'loss': 2.7252, 'learning_rate': 1.1155939801472943e-06, 'epoch': 9.45}\n"
          ]
        },
        {
          "name": "stderr",
          "output_type": "stream",
          "text": [
            "                                                       \n",
            " 94%|█████████▍| 29500/31230 [7:12:05<02:58,  9.71it/s]"
          ]
        },
        {
          "name": "stdout",
          "output_type": "stream",
          "text": [
            "{'eval_loss': 2.4053430557250977, 'eval_rouge1': 23.4138, 'eval_rouge2': 10.814, 'eval_rougeL': 19.2078, 'eval_rougeLsum': 22.0133, 'eval_gen_len': 18.9996, 'eval_runtime': 76.2805, 'eval_samples_per_second': 65.495, 'eval_steps_per_second': 4.103, 'epoch': 9.45}\n"
          ]
        },
        {
          "name": "stderr",
          "output_type": "stream",
          "text": [
            " 95%|█████████▍| 29600/31230 [7:12:16<02:46,  9.82it/s]  The following columns in the evaluation set don't have a corresponding argument in `T5ForConditionalGeneration.forward` and have been ignored: article, highlights, id. If article, highlights, id are not expected by `T5ForConditionalGeneration.forward`,  you can safely ignore this message.\n",
            "***** Running Evaluation *****\n",
            "  Num examples = 4996\n",
            "  Batch size = 16\n",
            "                                                       \n",
            " 95%|█████████▍| 29600/31230 [7:13:30<02:46,  9.82it/s]Saving model checkpoint to .models/summarization/t5-small/ver2-large\\checkpoint-29600\n",
            "Configuration saved in .models/summarization/t5-small/ver2-large\\checkpoint-29600\\config.json\n"
          ]
        },
        {
          "name": "stdout",
          "output_type": "stream",
          "text": [
            "{'eval_loss': 2.405503034591675, 'eval_rouge1': 23.4099, 'eval_rouge2': 10.8133, 'eval_rougeL': 19.1985, 'eval_rougeLsum': 22.0103, 'eval_gen_len': 18.9996, 'eval_runtime': 73.7912, 'eval_samples_per_second': 67.705, 'eval_steps_per_second': 4.242, 'epoch': 9.48}\n"
          ]
        },
        {
          "name": "stderr",
          "output_type": "stream",
          "text": [
            "Model weights saved in .models/summarization/t5-small/ver2-large\\checkpoint-29600\\pytorch_model.bin\n",
            "tokenizer config file saved in .models/summarization/t5-small/ver2-large\\checkpoint-29600\\tokenizer_config.json\n",
            "Special tokens file saved in .models/summarization/t5-small/ver2-large\\checkpoint-29600\\special_tokens_map.json\n",
            "Copy vocab file to .models/summarization/t5-small/ver2-large\\checkpoint-29600\\spiece.model\n",
            "Deleting older checkpoint [.models\\summarization\\t5-small\\ver2-large\\checkpoint-29200] due to args.save_total_limit\n",
            " 95%|█████████▌| 29700/31230 [7:13:44<02:38,  9.64it/s]  The following columns in the evaluation set don't have a corresponding argument in `T5ForConditionalGeneration.forward` and have been ignored: article, highlights, id. If article, highlights, id are not expected by `T5ForConditionalGeneration.forward`,  you can safely ignore this message.\n",
            "***** Running Evaluation *****\n",
            "  Num examples = 4996\n",
            "  Batch size = 16\n",
            "                                                       \n",
            " 95%|█████████▌| 29700/31230 [7:14:57<02:38,  9.64it/s]"
          ]
        },
        {
          "name": "stdout",
          "output_type": "stream",
          "text": [
            "{'eval_loss': 2.4053871631622314, 'eval_rouge1': 23.4098, 'eval_rouge2': 10.802, 'eval_rougeL': 19.2019, 'eval_rougeLsum': 22.0071, 'eval_gen_len': 18.9996, 'eval_runtime': 73.7503, 'eval_samples_per_second': 67.742, 'eval_steps_per_second': 4.244, 'epoch': 9.51}\n"
          ]
        },
        {
          "name": "stderr",
          "output_type": "stream",
          "text": [
            " 95%|█████████▌| 29800/31230 [7:15:09<02:27,  9.70it/s]  The following columns in the evaluation set don't have a corresponding argument in `T5ForConditionalGeneration.forward` and have been ignored: article, highlights, id. If article, highlights, id are not expected by `T5ForConditionalGeneration.forward`,  you can safely ignore this message.\n",
            "***** Running Evaluation *****\n",
            "  Num examples = 4996\n",
            "  Batch size = 16\n",
            "                                                       \n",
            " 95%|█████████▌| 29800/31230 [7:16:24<02:27,  9.70it/s]Saving model checkpoint to .models/summarization/t5-small/ver2-large\\checkpoint-29800\n",
            "Configuration saved in .models/summarization/t5-small/ver2-large\\checkpoint-29800\\config.json\n"
          ]
        },
        {
          "name": "stdout",
          "output_type": "stream",
          "text": [
            "{'eval_loss': 2.4053797721862793, 'eval_rouge1': 23.3946, 'eval_rouge2': 10.7889, 'eval_rougeL': 19.1922, 'eval_rougeLsum': 21.9909, 'eval_gen_len': 18.9996, 'eval_runtime': 75.1511, 'eval_samples_per_second': 66.479, 'eval_steps_per_second': 4.165, 'epoch': 9.54}\n"
          ]
        },
        {
          "name": "stderr",
          "output_type": "stream",
          "text": [
            "Model weights saved in .models/summarization/t5-small/ver2-large\\checkpoint-29800\\pytorch_model.bin\n",
            "tokenizer config file saved in .models/summarization/t5-small/ver2-large\\checkpoint-29800\\tokenizer_config.json\n",
            "Special tokens file saved in .models/summarization/t5-small/ver2-large\\checkpoint-29800\\special_tokens_map.json\n",
            "Copy vocab file to .models/summarization/t5-small/ver2-large\\checkpoint-29800\\spiece.model\n",
            "Deleting older checkpoint [.models\\summarization\\t5-small\\ver2-large\\checkpoint-29400] due to args.save_total_limit\n",
            " 96%|█████████▌| 29900/31230 [7:16:38<02:23,  9.26it/s]  The following columns in the evaluation set don't have a corresponding argument in `T5ForConditionalGeneration.forward` and have been ignored: article, highlights, id. If article, highlights, id are not expected by `T5ForConditionalGeneration.forward`,  you can safely ignore this message.\n",
            "***** Running Evaluation *****\n",
            "  Num examples = 4996\n",
            "  Batch size = 16\n",
            "                                                       \n",
            " 96%|█████████▌| 29900/31230 [7:17:53<02:23,  9.26it/s]"
          ]
        },
        {
          "name": "stdout",
          "output_type": "stream",
          "text": [
            "{'eval_loss': 2.405174493789673, 'eval_rouge1': 23.391, 'eval_rouge2': 10.7921, 'eval_rougeL': 19.1989, 'eval_rougeLsum': 21.9926, 'eval_gen_len': 18.9996, 'eval_runtime': 75.1648, 'eval_samples_per_second': 66.467, 'eval_steps_per_second': 4.164, 'epoch': 9.57}\n"
          ]
        },
        {
          "name": "stderr",
          "output_type": "stream",
          "text": [
            " 96%|█████████▌| 30000/31230 [7:18:05<02:08,  9.60it/s]  The following columns in the evaluation set don't have a corresponding argument in `T5ForConditionalGeneration.forward` and have been ignored: article, highlights, id. If article, highlights, id are not expected by `T5ForConditionalGeneration.forward`,  you can safely ignore this message.\n",
            "***** Running Evaluation *****\n",
            "  Num examples = 4996\n",
            "  Batch size = 16\n"
          ]
        },
        {
          "name": "stdout",
          "output_type": "stream",
          "text": [
            "{'loss': 2.7505, 'learning_rate': 7.953890489913545e-07, 'epoch': 9.61}\n"
          ]
        },
        {
          "name": "stderr",
          "output_type": "stream",
          "text": [
            "                                                       \n",
            " 96%|█████████▌| 30000/31230 [7:19:18<02:08,  9.60it/s]Saving model checkpoint to .models/summarization/t5-small/ver2-large\\checkpoint-30000\n",
            "Configuration saved in .models/summarization/t5-small/ver2-large\\checkpoint-30000\\config.json\n"
          ]
        },
        {
          "name": "stdout",
          "output_type": "stream",
          "text": [
            "{'eval_loss': 2.405001401901245, 'eval_rouge1': 23.3984, 'eval_rouge2': 10.7909, 'eval_rougeL': 19.1972, 'eval_rougeLsum': 21.9933, 'eval_gen_len': 18.9996, 'eval_runtime': 73.4713, 'eval_samples_per_second': 67.999, 'eval_steps_per_second': 4.26, 'epoch': 9.61}\n"
          ]
        },
        {
          "name": "stderr",
          "output_type": "stream",
          "text": [
            "Model weights saved in .models/summarization/t5-small/ver2-large\\checkpoint-30000\\pytorch_model.bin\n",
            "tokenizer config file saved in .models/summarization/t5-small/ver2-large\\checkpoint-30000\\tokenizer_config.json\n",
            "Special tokens file saved in .models/summarization/t5-small/ver2-large\\checkpoint-30000\\special_tokens_map.json\n",
            "Copy vocab file to .models/summarization/t5-small/ver2-large\\checkpoint-30000\\spiece.model\n",
            "Deleting older checkpoint [.models\\summarization\\t5-small\\ver2-large\\checkpoint-29600] due to args.save_total_limit\n",
            " 96%|█████████▋| 30100/31230 [7:19:32<01:58,  9.52it/s]  The following columns in the evaluation set don't have a corresponding argument in `T5ForConditionalGeneration.forward` and have been ignored: article, highlights, id. If article, highlights, id are not expected by `T5ForConditionalGeneration.forward`,  you can safely ignore this message.\n",
            "***** Running Evaluation *****\n",
            "  Num examples = 4996\n",
            "  Batch size = 16\n",
            "                                                       \n",
            " 96%|█████████▋| 30100/31230 [7:20:48<01:58,  9.52it/s]"
          ]
        },
        {
          "name": "stdout",
          "output_type": "stream",
          "text": [
            "{'eval_loss': 2.4048914909362793, 'eval_rouge1': 23.405, 'eval_rouge2': 10.8043, 'eval_rougeL': 19.2086, 'eval_rougeLsum': 22.0047, 'eval_gen_len': 18.9996, 'eval_runtime': 75.7075, 'eval_samples_per_second': 65.991, 'eval_steps_per_second': 4.134, 'epoch': 9.64}\n"
          ]
        },
        {
          "name": "stderr",
          "output_type": "stream",
          "text": [
            " 97%|█████████▋| 30200/31230 [7:20:59<01:45,  9.78it/s]  The following columns in the evaluation set don't have a corresponding argument in `T5ForConditionalGeneration.forward` and have been ignored: article, highlights, id. If article, highlights, id are not expected by `T5ForConditionalGeneration.forward`,  you can safely ignore this message.\n",
            "***** Running Evaluation *****\n",
            "  Num examples = 4996\n",
            "  Batch size = 16\n",
            "                                                       \n",
            " 97%|█████████▋| 30200/31230 [7:22:13<01:45,  9.78it/s]Saving model checkpoint to .models/summarization/t5-small/ver2-large\\checkpoint-30200\n",
            "Configuration saved in .models/summarization/t5-small/ver2-large\\checkpoint-30200\\config.json\n"
          ]
        },
        {
          "name": "stdout",
          "output_type": "stream",
          "text": [
            "{'eval_loss': 2.40502667427063, 'eval_rouge1': 23.4023, 'eval_rouge2': 10.8068, 'eval_rougeL': 19.2113, 'eval_rougeLsum': 21.9977, 'eval_gen_len': 18.9996, 'eval_runtime': 73.4491, 'eval_samples_per_second': 68.02, 'eval_steps_per_second': 4.261, 'epoch': 9.67}\n"
          ]
        },
        {
          "name": "stderr",
          "output_type": "stream",
          "text": [
            "Model weights saved in .models/summarization/t5-small/ver2-large\\checkpoint-30200\\pytorch_model.bin\n",
            "tokenizer config file saved in .models/summarization/t5-small/ver2-large\\checkpoint-30200\\tokenizer_config.json\n",
            "Special tokens file saved in .models/summarization/t5-small/ver2-large\\checkpoint-30200\\special_tokens_map.json\n",
            "Copy vocab file to .models/summarization/t5-small/ver2-large\\checkpoint-30200\\spiece.model\n",
            "Deleting older checkpoint [.models\\summarization\\t5-small\\ver2-large\\checkpoint-29800] due to args.save_total_limit\n",
            " 97%|█████████▋| 30300/31230 [7:22:26<01:36,  9.62it/s]  The following columns in the evaluation set don't have a corresponding argument in `T5ForConditionalGeneration.forward` and have been ignored: article, highlights, id. If article, highlights, id are not expected by `T5ForConditionalGeneration.forward`,  you can safely ignore this message.\n",
            "***** Running Evaluation *****\n",
            "  Num examples = 4996\n",
            "  Batch size = 16\n",
            "                                                       \n",
            " 97%|█████████▋| 30300/31230 [7:23:43<01:36,  9.62it/s]"
          ]
        },
        {
          "name": "stdout",
          "output_type": "stream",
          "text": [
            "{'eval_loss': 2.4050045013427734, 'eval_rouge1': 23.3969, 'eval_rouge2': 10.7994, 'eval_rougeL': 19.2016, 'eval_rougeLsum': 21.9957, 'eval_gen_len': 18.9996, 'eval_runtime': 77.1721, 'eval_samples_per_second': 64.738, 'eval_steps_per_second': 4.056, 'epoch': 9.7}\n"
          ]
        },
        {
          "name": "stderr",
          "output_type": "stream",
          "text": [
            " 97%|█████████▋| 30400/31230 [7:23:55<01:30,  9.21it/s]  The following columns in the evaluation set don't have a corresponding argument in `T5ForConditionalGeneration.forward` and have been ignored: article, highlights, id. If article, highlights, id are not expected by `T5ForConditionalGeneration.forward`,  you can safely ignore this message.\n",
            "***** Running Evaluation *****\n",
            "  Num examples = 4996\n",
            "  Batch size = 16\n",
            "                                                       \n",
            " 97%|█████████▋| 30400/31230 [7:25:11<01:30,  9.21it/s]Saving model checkpoint to .models/summarization/t5-small/ver2-large\\checkpoint-30400\n",
            "Configuration saved in .models/summarization/t5-small/ver2-large\\checkpoint-30400\\config.json\n"
          ]
        },
        {
          "name": "stdout",
          "output_type": "stream",
          "text": [
            "{'eval_loss': 2.4049861431121826, 'eval_rouge1': 23.4029, 'eval_rouge2': 10.807, 'eval_rougeL': 19.2068, 'eval_rougeLsum': 22.0045, 'eval_gen_len': 18.9996, 'eval_runtime': 76.0875, 'eval_samples_per_second': 65.661, 'eval_steps_per_second': 4.114, 'epoch': 9.73}\n"
          ]
        },
        {
          "name": "stderr",
          "output_type": "stream",
          "text": [
            "Model weights saved in .models/summarization/t5-small/ver2-large\\checkpoint-30400\\pytorch_model.bin\n",
            "tokenizer config file saved in .models/summarization/t5-small/ver2-large\\checkpoint-30400\\tokenizer_config.json\n",
            "Special tokens file saved in .models/summarization/t5-small/ver2-large\\checkpoint-30400\\special_tokens_map.json\n",
            "Copy vocab file to .models/summarization/t5-small/ver2-large\\checkpoint-30400\\spiece.model\n",
            "Deleting older checkpoint [.models\\summarization\\t5-small\\ver2-large\\checkpoint-30000] due to args.save_total_limit\n",
            " 98%|█████████▊| 30500/31230 [7:25:25<01:15,  9.62it/s]  The following columns in the evaluation set don't have a corresponding argument in `T5ForConditionalGeneration.forward` and have been ignored: article, highlights, id. If article, highlights, id are not expected by `T5ForConditionalGeneration.forward`,  you can safely ignore this message.\n",
            "***** Running Evaluation *****\n",
            "  Num examples = 4996\n",
            "  Batch size = 16\n"
          ]
        },
        {
          "name": "stdout",
          "output_type": "stream",
          "text": [
            "{'loss': 2.7538, 'learning_rate': 4.7582452769772655e-07, 'epoch': 9.77}\n"
          ]
        },
        {
          "name": "stderr",
          "output_type": "stream",
          "text": [
            "                                                       \n",
            " 98%|█████████▊| 30500/31230 [7:26:40<01:15,  9.62it/s]"
          ]
        },
        {
          "name": "stdout",
          "output_type": "stream",
          "text": [
            "{'eval_loss': 2.40506649017334, 'eval_rouge1': 23.3938, 'eval_rouge2': 10.7909, 'eval_rougeL': 19.1993, 'eval_rougeLsum': 21.9972, 'eval_gen_len': 18.9996, 'eval_runtime': 75.0948, 'eval_samples_per_second': 66.529, 'eval_steps_per_second': 4.168, 'epoch': 9.77}\n"
          ]
        },
        {
          "name": "stderr",
          "output_type": "stream",
          "text": [
            " 98%|█████████▊| 30600/31230 [7:26:51<01:05,  9.65it/s]  The following columns in the evaluation set don't have a corresponding argument in `T5ForConditionalGeneration.forward` and have been ignored: article, highlights, id. If article, highlights, id are not expected by `T5ForConditionalGeneration.forward`,  you can safely ignore this message.\n",
            "***** Running Evaluation *****\n",
            "  Num examples = 4996\n",
            "  Batch size = 16\n",
            "                                                       \n",
            " 98%|█████████▊| 30600/31230 [7:28:05<01:05,  9.65it/s]Saving model checkpoint to .models/summarization/t5-small/ver2-large\\checkpoint-30600\n",
            "Configuration saved in .models/summarization/t5-small/ver2-large\\checkpoint-30600\\config.json\n"
          ]
        },
        {
          "name": "stdout",
          "output_type": "stream",
          "text": [
            "{'eval_loss': 2.4049952030181885, 'eval_rouge1': 23.3924, 'eval_rouge2': 10.7921, 'eval_rougeL': 19.1982, 'eval_rougeLsum': 21.9941, 'eval_gen_len': 18.9996, 'eval_runtime': 73.2454, 'eval_samples_per_second': 68.209, 'eval_steps_per_second': 4.273, 'epoch': 9.8}\n"
          ]
        },
        {
          "name": "stderr",
          "output_type": "stream",
          "text": [
            "Model weights saved in .models/summarization/t5-small/ver2-large\\checkpoint-30600\\pytorch_model.bin\n",
            "tokenizer config file saved in .models/summarization/t5-small/ver2-large\\checkpoint-30600\\tokenizer_config.json\n",
            "Special tokens file saved in .models/summarization/t5-small/ver2-large\\checkpoint-30600\\special_tokens_map.json\n",
            "Copy vocab file to .models/summarization/t5-small/ver2-large\\checkpoint-30600\\spiece.model\n",
            "Deleting older checkpoint [.models\\summarization\\t5-small\\ver2-large\\checkpoint-30200] due to args.save_total_limit\n",
            " 98%|█████████▊| 30700/31230 [7:28:18<00:59,  8.92it/s]  The following columns in the evaluation set don't have a corresponding argument in `T5ForConditionalGeneration.forward` and have been ignored: article, highlights, id. If article, highlights, id are not expected by `T5ForConditionalGeneration.forward`,  you can safely ignore this message.\n",
            "***** Running Evaluation *****\n",
            "  Num examples = 4996\n",
            "  Batch size = 16\n",
            "                                                       \n",
            " 98%|█████████▊| 30700/31230 [7:29:35<00:59,  8.92it/s]"
          ]
        },
        {
          "name": "stdout",
          "output_type": "stream",
          "text": [
            "{'eval_loss': 2.404965877532959, 'eval_rouge1': 23.3958, 'eval_rouge2': 10.7969, 'eval_rougeL': 19.2066, 'eval_rougeLsum': 21.9972, 'eval_gen_len': 18.9996, 'eval_runtime': 77.2018, 'eval_samples_per_second': 64.714, 'eval_steps_per_second': 4.054, 'epoch': 9.83}\n"
          ]
        },
        {
          "name": "stderr",
          "output_type": "stream",
          "text": [
            " 99%|█████████▊| 30800/31230 [7:29:47<00:46,  9.33it/s]  The following columns in the evaluation set don't have a corresponding argument in `T5ForConditionalGeneration.forward` and have been ignored: article, highlights, id. If article, highlights, id are not expected by `T5ForConditionalGeneration.forward`,  you can safely ignore this message.\n",
            "***** Running Evaluation *****\n",
            "  Num examples = 4996\n",
            "  Batch size = 16\n",
            "                                                       \n",
            " 99%|█████████▊| 30800/31230 [7:31:00<00:46,  9.33it/s]Saving model checkpoint to .models/summarization/t5-small/ver2-large\\checkpoint-30800\n",
            "Configuration saved in .models/summarization/t5-small/ver2-large\\checkpoint-30800\\config.json\n"
          ]
        },
        {
          "name": "stdout",
          "output_type": "stream",
          "text": [
            "{'eval_loss': 2.404972791671753, 'eval_rouge1': 23.3926, 'eval_rouge2': 10.7885, 'eval_rougeL': 19.2004, 'eval_rougeLsum': 21.9931, 'eval_gen_len': 18.9996, 'eval_runtime': 73.6822, 'eval_samples_per_second': 67.805, 'eval_steps_per_second': 4.248, 'epoch': 9.86}\n"
          ]
        },
        {
          "name": "stderr",
          "output_type": "stream",
          "text": [
            "Model weights saved in .models/summarization/t5-small/ver2-large\\checkpoint-30800\\pytorch_model.bin\n",
            "tokenizer config file saved in .models/summarization/t5-small/ver2-large\\checkpoint-30800\\tokenizer_config.json\n",
            "Special tokens file saved in .models/summarization/t5-small/ver2-large\\checkpoint-30800\\special_tokens_map.json\n",
            "Copy vocab file to .models/summarization/t5-small/ver2-large\\checkpoint-30800\\spiece.model\n",
            "Deleting older checkpoint [.models\\summarization\\t5-small\\ver2-large\\checkpoint-30400] due to args.save_total_limit\n",
            " 99%|█████████▉| 30900/31230 [7:31:14<00:34,  9.62it/s]  The following columns in the evaluation set don't have a corresponding argument in `T5ForConditionalGeneration.forward` and have been ignored: article, highlights, id. If article, highlights, id are not expected by `T5ForConditionalGeneration.forward`,  you can safely ignore this message.\n",
            "***** Running Evaluation *****\n",
            "  Num examples = 4996\n",
            "  Batch size = 16\n",
            "                                                       \n",
            " 99%|█████████▉| 30900/31230 [7:32:27<00:34,  9.62it/s]"
          ]
        },
        {
          "name": "stdout",
          "output_type": "stream",
          "text": [
            "{'eval_loss': 2.4049794673919678, 'eval_rouge1': 23.3861, 'eval_rouge2': 10.7842, 'eval_rougeL': 19.1972, 'eval_rougeLsum': 21.9899, 'eval_gen_len': 18.9996, 'eval_runtime': 73.6575, 'eval_samples_per_second': 67.827, 'eval_steps_per_second': 4.249, 'epoch': 9.89}\n"
          ]
        },
        {
          "name": "stderr",
          "output_type": "stream",
          "text": [
            " 99%|█████████▉| 31000/31230 [7:32:39<00:23,  9.68it/s]  The following columns in the evaluation set don't have a corresponding argument in `T5ForConditionalGeneration.forward` and have been ignored: article, highlights, id. If article, highlights, id are not expected by `T5ForConditionalGeneration.forward`,  you can safely ignore this message.\n",
            "***** Running Evaluation *****\n",
            "  Num examples = 4996\n",
            "  Batch size = 16\n"
          ]
        },
        {
          "name": "stdout",
          "output_type": "stream",
          "text": [
            "{'loss': 2.7519, 'learning_rate': 1.5561959654178676e-07, 'epoch': 9.93}\n"
          ]
        },
        {
          "name": "stderr",
          "output_type": "stream",
          "text": [
            "                                                       \n",
            " 99%|█████████▉| 31000/31230 [7:33:53<00:23,  9.68it/s]Saving model checkpoint to .models/summarization/t5-small/ver2-large\\checkpoint-31000\n",
            "Configuration saved in .models/summarization/t5-small/ver2-large\\checkpoint-31000\\config.json\n"
          ]
        },
        {
          "name": "stdout",
          "output_type": "stream",
          "text": [
            "{'eval_loss': 2.4050028324127197, 'eval_rouge1': 23.3862, 'eval_rouge2': 10.7835, 'eval_rougeL': 19.1963, 'eval_rougeLsum': 21.9905, 'eval_gen_len': 18.9996, 'eval_runtime': 73.7605, 'eval_samples_per_second': 67.733, 'eval_steps_per_second': 4.243, 'epoch': 9.93}\n"
          ]
        },
        {
          "name": "stderr",
          "output_type": "stream",
          "text": [
            "Model weights saved in .models/summarization/t5-small/ver2-large\\checkpoint-31000\\pytorch_model.bin\n",
            "tokenizer config file saved in .models/summarization/t5-small/ver2-large\\checkpoint-31000\\tokenizer_config.json\n",
            "Special tokens file saved in .models/summarization/t5-small/ver2-large\\checkpoint-31000\\special_tokens_map.json\n",
            "Copy vocab file to .models/summarization/t5-small/ver2-large\\checkpoint-31000\\spiece.model\n",
            "Deleting older checkpoint [.models\\summarization\\t5-small\\ver2-large\\checkpoint-30600] due to args.save_total_limit\n",
            "100%|█████████▉| 31100/31230 [7:34:06<00:13,  9.52it/s]  The following columns in the evaluation set don't have a corresponding argument in `T5ForConditionalGeneration.forward` and have been ignored: article, highlights, id. If article, highlights, id are not expected by `T5ForConditionalGeneration.forward`,  you can safely ignore this message.\n",
            "***** Running Evaluation *****\n",
            "  Num examples = 4996\n",
            "  Batch size = 16\n",
            "                                                       \n",
            "100%|█████████▉| 31100/31230 [7:35:23<00:13,  9.52it/s]"
          ]
        },
        {
          "name": "stdout",
          "output_type": "stream",
          "text": [
            "{'eval_loss': 2.404994249343872, 'eval_rouge1': 23.39, 'eval_rouge2': 10.7842, 'eval_rougeL': 19.1956, 'eval_rougeLsum': 21.9899, 'eval_gen_len': 18.9996, 'eval_runtime': 76.7586, 'eval_samples_per_second': 65.087, 'eval_steps_per_second': 4.078, 'epoch': 9.96}\n"
          ]
        },
        {
          "name": "stderr",
          "output_type": "stream",
          "text": [
            "100%|█████████▉| 31199/31230 [7:35:35<00:03,  8.84it/s]The following columns in the evaluation set don't have a corresponding argument in `T5ForConditionalGeneration.forward` and have been ignored: article, highlights, id. If article, highlights, id are not expected by `T5ForConditionalGeneration.forward`,  you can safely ignore this message.\n",
            "***** Running Evaluation *****\n",
            "  Num examples = 4996\n",
            "  Batch size = 16\n",
            "                                                       \n",
            "100%|█████████▉| 31200/31230 [7:36:53<00:03,  8.84it/s]Saving model checkpoint to .models/summarization/t5-small/ver2-large\\checkpoint-31200\n",
            "Configuration saved in .models/summarization/t5-small/ver2-large\\checkpoint-31200\\config.json\n"
          ]
        },
        {
          "name": "stdout",
          "output_type": "stream",
          "text": [
            "{'eval_loss': 2.4050023555755615, 'eval_rouge1': 23.3876, 'eval_rouge2': 10.7827, 'eval_rougeL': 19.1937, 'eval_rougeLsum': 21.9878, 'eval_gen_len': 18.9996, 'eval_runtime': 77.6702, 'eval_samples_per_second': 64.323, 'eval_steps_per_second': 4.03, 'epoch': 9.99}\n"
          ]
        },
        {
          "name": "stderr",
          "output_type": "stream",
          "text": [
            "Model weights saved in .models/summarization/t5-small/ver2-large\\checkpoint-31200\\pytorch_model.bin\n",
            "tokenizer config file saved in .models/summarization/t5-small/ver2-large\\checkpoint-31200\\tokenizer_config.json\n",
            "Special tokens file saved in .models/summarization/t5-small/ver2-large\\checkpoint-31200\\special_tokens_map.json\n",
            "Copy vocab file to .models/summarization/t5-small/ver2-large\\checkpoint-31200\\spiece.model\n",
            "Deleting older checkpoint [.models\\summarization\\t5-small\\ver2-large\\checkpoint-30800] due to args.save_total_limit\n",
            "100%|█████████▉| 31229/31230 [7:36:59<00:00,  8.58it/s]\n",
            "\n",
            "Training completed. Do not forget to share your model on huggingface.co/models =)\n",
            "\n",
            "\n",
            "Loading best model from .models/summarization/t5-small/ver2-large\\checkpoint-6400 (score: 23.5011).\n",
            "100%|██████████| 31230/31230 [7:36:59<00:00,  1.14it/s]"
          ]
        },
        {
          "name": "stdout",
          "output_type": "stream",
          "text": [
            "{'train_runtime': 27419.8587, 'train_samples_per_second': 18.218, 'train_steps_per_second': 1.139, 'train_loss': 2.7741234956778587, 'epoch': 10.0}\n"
          ]
        },
        {
          "name": "stderr",
          "output_type": "stream",
          "text": [
            "\n"
          ]
        },
        {
          "data": {
            "text/plain": [
              "TrainOutput(global_step=31230, training_loss=2.7741234956778587, metrics={'train_runtime': 27419.8587, 'train_samples_per_second': 18.218, 'train_steps_per_second': 1.139, 'train_loss': 2.7741234956778587, 'epoch': 10.0})"
            ]
          },
          "execution_count": 11,
          "metadata": {},
          "output_type": "execute_result"
        }
      ],
      "source": [
        "trainer.train()"
      ]
    },
    {
      "cell_type": "code",
      "execution_count": 12,
      "metadata": {
        "id": "_4PIcpIeoDW7"
      },
      "outputs": [
        {
          "name": "stderr",
          "output_type": "stream",
          "text": [
            "Saving model checkpoint to .models/summarization/t5-small/ver2-large\n",
            "Configuration saved in .models/summarization/t5-small/ver2-large\\config.json\n",
            "Model weights saved in .models/summarization/t5-small/ver2-large\\pytorch_model.bin\n",
            "tokenizer config file saved in .models/summarization/t5-small/ver2-large\\tokenizer_config.json\n",
            "Special tokens file saved in .models/summarization/t5-small/ver2-large\\special_tokens_map.json\n",
            "Copy vocab file to .models/summarization/t5-small/ver2-large\\spiece.model\n"
          ]
        }
      ],
      "source": [
        "trainer.save_model()"
      ]
    }
  ],
  "metadata": {
    "accelerator": "GPU",
    "colab": {
      "provenance": []
    },
    "kernelspec": {
      "display_name": "Python 3.10.6 ('torch')",
      "language": "python",
      "name": "python3"
    },
    "language_info": {
      "codemirror_mode": {
        "name": "ipython",
        "version": 3
      },
      "file_extension": ".py",
      "mimetype": "text/x-python",
      "name": "python",
      "nbconvert_exporter": "python",
      "pygments_lexer": "ipython3",
      "version": "3.10.6"
    },
    "vscode": {
      "interpreter": {
        "hash": "390691d382ae182d3924d137fdf8ffa4e21f4f9b459e04e28f0ec8539b6436b7"
      }
    },
    "widgets": {
      "application/vnd.jupyter.widget-state+json": {
        "02177e3806ba4dbf967e28b0e6050371": {
          "model_module": "@jupyter-widgets/controls",
          "model_module_version": "1.5.0",
          "model_name": "FloatProgressModel",
          "state": {
            "_dom_classes": [],
            "_model_module": "@jupyter-widgets/controls",
            "_model_module_version": "1.5.0",
            "_model_name": "FloatProgressModel",
            "_view_count": null,
            "_view_module": "@jupyter-widgets/controls",
            "_view_module_version": "1.5.0",
            "_view_name": "ProgressView",
            "bar_style": "success",
            "description": "",
            "description_tooltip": null,
            "layout": "IPY_MODEL_7c7ab3d6f659473990b20d1dfaa8f86b",
            "max": 10,
            "min": 0,
            "orientation": "horizontal",
            "style": "IPY_MODEL_54ba6422cfa24d27b74f23ea95fbd5f3",
            "value": 10
          }
        },
        "0301fdd482ae4502891f98fdad07fdf1": {
          "model_module": "@jupyter-widgets/controls",
          "model_module_version": "1.5.0",
          "model_name": "HBoxModel",
          "state": {
            "_dom_classes": [],
            "_model_module": "@jupyter-widgets/controls",
            "_model_module_version": "1.5.0",
            "_model_name": "HBoxModel",
            "_view_count": null,
            "_view_module": "@jupyter-widgets/controls",
            "_view_module_version": "1.5.0",
            "_view_name": "HBoxView",
            "box_style": "",
            "children": [
              "IPY_MODEL_c3439b75937945e1aa63ec99cb9e72ac",
              "IPY_MODEL_37ec9e1c77bf467b8c8408069929a97c",
              "IPY_MODEL_fa33efa8569e4f6ebab7bc527135d8a0"
            ],
            "layout": "IPY_MODEL_cab740524d1c4f82bf84323b727db0df"
          }
        },
        "047f8f753f9846a1b9246b2f4d60ee75": {
          "model_module": "@jupyter-widgets/controls",
          "model_module_version": "1.5.0",
          "model_name": "HBoxModel",
          "state": {
            "_dom_classes": [],
            "_model_module": "@jupyter-widgets/controls",
            "_model_module_version": "1.5.0",
            "_model_name": "HBoxModel",
            "_view_count": null,
            "_view_module": "@jupyter-widgets/controls",
            "_view_module_version": "1.5.0",
            "_view_name": "HBoxView",
            "box_style": "",
            "children": [
              "IPY_MODEL_352952e1ded64ce89f3910a5c9aaa749",
              "IPY_MODEL_8fa2585849d94d5fa9f249fd1be46089",
              "IPY_MODEL_b1ea400219cb4ac0b14752fa7800b149"
            ],
            "layout": "IPY_MODEL_c5da2ff2b5964c859f08ea4d8c369e2c"
          }
        },
        "0842ad840fce441ab48493df356a46de": {
          "model_module": "@jupyter-widgets/base",
          "model_module_version": "1.2.0",
          "model_name": "LayoutModel",
          "state": {
            "_model_module": "@jupyter-widgets/base",
            "_model_module_version": "1.2.0",
            "_model_name": "LayoutModel",
            "_view_count": null,
            "_view_module": "@jupyter-widgets/base",
            "_view_module_version": "1.2.0",
            "_view_name": "LayoutView",
            "align_content": null,
            "align_items": null,
            "align_self": null,
            "border": null,
            "bottom": null,
            "display": null,
            "flex": null,
            "flex_flow": null,
            "grid_area": null,
            "grid_auto_columns": null,
            "grid_auto_flow": null,
            "grid_auto_rows": null,
            "grid_column": null,
            "grid_gap": null,
            "grid_row": null,
            "grid_template_areas": null,
            "grid_template_columns": null,
            "grid_template_rows": null,
            "height": null,
            "justify_content": null,
            "justify_items": null,
            "left": null,
            "margin": null,
            "max_height": null,
            "max_width": null,
            "min_height": null,
            "min_width": null,
            "object_fit": null,
            "object_position": null,
            "order": null,
            "overflow": null,
            "overflow_x": null,
            "overflow_y": null,
            "padding": null,
            "right": null,
            "top": null,
            "visibility": null,
            "width": null
          }
        },
        "17517339ac704b9aac95be2c7160cd6a": {
          "model_module": "@jupyter-widgets/base",
          "model_module_version": "1.2.0",
          "model_name": "LayoutModel",
          "state": {
            "_model_module": "@jupyter-widgets/base",
            "_model_module_version": "1.2.0",
            "_model_name": "LayoutModel",
            "_view_count": null,
            "_view_module": "@jupyter-widgets/base",
            "_view_module_version": "1.2.0",
            "_view_name": "LayoutView",
            "align_content": null,
            "align_items": null,
            "align_self": null,
            "border": null,
            "bottom": null,
            "display": null,
            "flex": null,
            "flex_flow": null,
            "grid_area": null,
            "grid_auto_columns": null,
            "grid_auto_flow": null,
            "grid_auto_rows": null,
            "grid_column": null,
            "grid_gap": null,
            "grid_row": null,
            "grid_template_areas": null,
            "grid_template_columns": null,
            "grid_template_rows": null,
            "height": null,
            "justify_content": null,
            "justify_items": null,
            "left": null,
            "margin": null,
            "max_height": null,
            "max_width": null,
            "min_height": null,
            "min_width": null,
            "object_fit": null,
            "object_position": null,
            "order": null,
            "overflow": null,
            "overflow_x": null,
            "overflow_y": null,
            "padding": null,
            "right": null,
            "top": null,
            "visibility": null,
            "width": null
          }
        },
        "1e7d4a8fe2b04a4aa5dda0675e9addfd": {
          "model_module": "@jupyter-widgets/controls",
          "model_module_version": "1.5.0",
          "model_name": "HTMLModel",
          "state": {
            "_dom_classes": [],
            "_model_module": "@jupyter-widgets/controls",
            "_model_module_version": "1.5.0",
            "_model_name": "HTMLModel",
            "_view_count": null,
            "_view_module": "@jupyter-widgets/controls",
            "_view_module_version": "1.5.0",
            "_view_name": "HTMLView",
            "description": "",
            "description_tooltip": null,
            "layout": "IPY_MODEL_36b66413311c45dbbddfbf72987662ce",
            "placeholder": "​",
            "style": "IPY_MODEL_1fbb209218c74ad0a04c6975a9ca4291",
            "value": " 1/1 [00:02&lt;00:00,  2.79s/ba]"
          }
        },
        "1f74a72b2a3a4e178f0d2d531a40638f": {
          "model_module": "@jupyter-widgets/base",
          "model_module_version": "1.2.0",
          "model_name": "LayoutModel",
          "state": {
            "_model_module": "@jupyter-widgets/base",
            "_model_module_version": "1.2.0",
            "_model_name": "LayoutModel",
            "_view_count": null,
            "_view_module": "@jupyter-widgets/base",
            "_view_module_version": "1.2.0",
            "_view_name": "LayoutView",
            "align_content": null,
            "align_items": null,
            "align_self": null,
            "border": null,
            "bottom": null,
            "display": null,
            "flex": null,
            "flex_flow": null,
            "grid_area": null,
            "grid_auto_columns": null,
            "grid_auto_flow": null,
            "grid_auto_rows": null,
            "grid_column": null,
            "grid_gap": null,
            "grid_row": null,
            "grid_template_areas": null,
            "grid_template_columns": null,
            "grid_template_rows": null,
            "height": null,
            "justify_content": null,
            "justify_items": null,
            "left": null,
            "margin": null,
            "max_height": null,
            "max_width": null,
            "min_height": null,
            "min_width": null,
            "object_fit": null,
            "object_position": null,
            "order": null,
            "overflow": null,
            "overflow_x": null,
            "overflow_y": null,
            "padding": null,
            "right": null,
            "top": null,
            "visibility": null,
            "width": null
          }
        },
        "1fbb209218c74ad0a04c6975a9ca4291": {
          "model_module": "@jupyter-widgets/controls",
          "model_module_version": "1.5.0",
          "model_name": "DescriptionStyleModel",
          "state": {
            "_model_module": "@jupyter-widgets/controls",
            "_model_module_version": "1.5.0",
            "_model_name": "DescriptionStyleModel",
            "_view_count": null,
            "_view_module": "@jupyter-widgets/base",
            "_view_module_version": "1.2.0",
            "_view_name": "StyleView",
            "description_width": ""
          }
        },
        "26636dfb93134e1d834ec3765a27c127": {
          "model_module": "@jupyter-widgets/controls",
          "model_module_version": "1.5.0",
          "model_name": "ProgressStyleModel",
          "state": {
            "_model_module": "@jupyter-widgets/controls",
            "_model_module_version": "1.5.0",
            "_model_name": "ProgressStyleModel",
            "_view_count": null,
            "_view_module": "@jupyter-widgets/base",
            "_view_module_version": "1.2.0",
            "_view_name": "StyleView",
            "bar_color": null,
            "description_width": ""
          }
        },
        "26fd320643904837b893afd4abe52beb": {
          "model_module": "@jupyter-widgets/base",
          "model_module_version": "1.2.0",
          "model_name": "LayoutModel",
          "state": {
            "_model_module": "@jupyter-widgets/base",
            "_model_module_version": "1.2.0",
            "_model_name": "LayoutModel",
            "_view_count": null,
            "_view_module": "@jupyter-widgets/base",
            "_view_module_version": "1.2.0",
            "_view_name": "LayoutView",
            "align_content": null,
            "align_items": null,
            "align_self": null,
            "border": null,
            "bottom": null,
            "display": null,
            "flex": null,
            "flex_flow": null,
            "grid_area": null,
            "grid_auto_columns": null,
            "grid_auto_flow": null,
            "grid_auto_rows": null,
            "grid_column": null,
            "grid_gap": null,
            "grid_row": null,
            "grid_template_areas": null,
            "grid_template_columns": null,
            "grid_template_rows": null,
            "height": null,
            "justify_content": null,
            "justify_items": null,
            "left": null,
            "margin": null,
            "max_height": null,
            "max_width": null,
            "min_height": null,
            "min_width": null,
            "object_fit": null,
            "object_position": null,
            "order": null,
            "overflow": null,
            "overflow_x": null,
            "overflow_y": null,
            "padding": null,
            "right": null,
            "top": null,
            "visibility": null,
            "width": null
          }
        },
        "2782e664e3204c6187872130853de390": {
          "model_module": "@jupyter-widgets/base",
          "model_module_version": "1.2.0",
          "model_name": "LayoutModel",
          "state": {
            "_model_module": "@jupyter-widgets/base",
            "_model_module_version": "1.2.0",
            "_model_name": "LayoutModel",
            "_view_count": null,
            "_view_module": "@jupyter-widgets/base",
            "_view_module_version": "1.2.0",
            "_view_name": "LayoutView",
            "align_content": null,
            "align_items": null,
            "align_self": null,
            "border": null,
            "bottom": null,
            "display": null,
            "flex": null,
            "flex_flow": null,
            "grid_area": null,
            "grid_auto_columns": null,
            "grid_auto_flow": null,
            "grid_auto_rows": null,
            "grid_column": null,
            "grid_gap": null,
            "grid_row": null,
            "grid_template_areas": null,
            "grid_template_columns": null,
            "grid_template_rows": null,
            "height": null,
            "justify_content": null,
            "justify_items": null,
            "left": null,
            "margin": null,
            "max_height": null,
            "max_width": null,
            "min_height": null,
            "min_width": null,
            "object_fit": null,
            "object_position": null,
            "order": null,
            "overflow": null,
            "overflow_x": null,
            "overflow_y": null,
            "padding": null,
            "right": null,
            "top": null,
            "visibility": null,
            "width": null
          }
        },
        "28871d620ad94e36ace6e6ceeab390d6": {
          "model_module": "@jupyter-widgets/controls",
          "model_module_version": "1.5.0",
          "model_name": "FloatProgressModel",
          "state": {
            "_dom_classes": [],
            "_model_module": "@jupyter-widgets/controls",
            "_model_module_version": "1.5.0",
            "_model_name": "FloatProgressModel",
            "_view_count": null,
            "_view_module": "@jupyter-widgets/controls",
            "_view_module_version": "1.5.0",
            "_view_name": "ProgressView",
            "bar_style": "success",
            "description": "",
            "description_tooltip": null,
            "layout": "IPY_MODEL_d21d070dc84e40a5b483d78cfdb93594",
            "max": 1,
            "min": 0,
            "orientation": "horizontal",
            "style": "IPY_MODEL_2dc17a3544e842caaf196515ca11139e",
            "value": 1
          }
        },
        "2aa1770282d44072b5895575e30225e8": {
          "model_module": "@jupyter-widgets/controls",
          "model_module_version": "1.5.0",
          "model_name": "HTMLModel",
          "state": {
            "_dom_classes": [],
            "_model_module": "@jupyter-widgets/controls",
            "_model_module_version": "1.5.0",
            "_model_name": "HTMLModel",
            "_view_count": null,
            "_view_module": "@jupyter-widgets/controls",
            "_view_module_version": "1.5.0",
            "_view_name": "HTMLView",
            "description": "",
            "description_tooltip": null,
            "layout": "IPY_MODEL_b89ce44dc8424e419a8157a12052021e",
            "placeholder": "​",
            "style": "IPY_MODEL_36aec97cf30447728c4f6413030f575b",
            "value": " 1/1 [00:00&lt;00:00, 16.32ba/s]"
          }
        },
        "2c72d133e7a74a03a42835c16da1cd4a": {
          "model_module": "@jupyter-widgets/controls",
          "model_module_version": "1.5.0",
          "model_name": "HTMLModel",
          "state": {
            "_dom_classes": [],
            "_model_module": "@jupyter-widgets/controls",
            "_model_module_version": "1.5.0",
            "_model_name": "HTMLModel",
            "_view_count": null,
            "_view_module": "@jupyter-widgets/controls",
            "_view_module_version": "1.5.0",
            "_view_name": "HTMLView",
            "description": "",
            "description_tooltip": null,
            "layout": "IPY_MODEL_d79c005836a54a84a45e46262a82599f",
            "placeholder": "​",
            "style": "IPY_MODEL_86c50405f0004a83916bfab7f8de35e4",
            "value": "100%"
          }
        },
        "2dc17a3544e842caaf196515ca11139e": {
          "model_module": "@jupyter-widgets/controls",
          "model_module_version": "1.5.0",
          "model_name": "ProgressStyleModel",
          "state": {
            "_model_module": "@jupyter-widgets/controls",
            "_model_module_version": "1.5.0",
            "_model_name": "ProgressStyleModel",
            "_view_count": null,
            "_view_module": "@jupyter-widgets/base",
            "_view_module_version": "1.2.0",
            "_view_name": "StyleView",
            "bar_color": null,
            "description_width": ""
          }
        },
        "352952e1ded64ce89f3910a5c9aaa749": {
          "model_module": "@jupyter-widgets/controls",
          "model_module_version": "1.5.0",
          "model_name": "HTMLModel",
          "state": {
            "_dom_classes": [],
            "_model_module": "@jupyter-widgets/controls",
            "_model_module_version": "1.5.0",
            "_model_name": "HTMLModel",
            "_view_count": null,
            "_view_module": "@jupyter-widgets/controls",
            "_view_module_version": "1.5.0",
            "_view_name": "HTMLView",
            "description": "",
            "description_tooltip": null,
            "layout": "IPY_MODEL_b1291d561a99427296d36af9f5d4fcfa",
            "placeholder": "​",
            "style": "IPY_MODEL_f8dfdb540ba442afb65d531ff29752f8",
            "value": "100%"
          }
        },
        "36aec97cf30447728c4f6413030f575b": {
          "model_module": "@jupyter-widgets/controls",
          "model_module_version": "1.5.0",
          "model_name": "DescriptionStyleModel",
          "state": {
            "_model_module": "@jupyter-widgets/controls",
            "_model_module_version": "1.5.0",
            "_model_name": "DescriptionStyleModel",
            "_view_count": null,
            "_view_module": "@jupyter-widgets/base",
            "_view_module_version": "1.2.0",
            "_view_name": "StyleView",
            "description_width": ""
          }
        },
        "36b66413311c45dbbddfbf72987662ce": {
          "model_module": "@jupyter-widgets/base",
          "model_module_version": "1.2.0",
          "model_name": "LayoutModel",
          "state": {
            "_model_module": "@jupyter-widgets/base",
            "_model_module_version": "1.2.0",
            "_model_name": "LayoutModel",
            "_view_count": null,
            "_view_module": "@jupyter-widgets/base",
            "_view_module_version": "1.2.0",
            "_view_name": "LayoutView",
            "align_content": null,
            "align_items": null,
            "align_self": null,
            "border": null,
            "bottom": null,
            "display": null,
            "flex": null,
            "flex_flow": null,
            "grid_area": null,
            "grid_auto_columns": null,
            "grid_auto_flow": null,
            "grid_auto_rows": null,
            "grid_column": null,
            "grid_gap": null,
            "grid_row": null,
            "grid_template_areas": null,
            "grid_template_columns": null,
            "grid_template_rows": null,
            "height": null,
            "justify_content": null,
            "justify_items": null,
            "left": null,
            "margin": null,
            "max_height": null,
            "max_width": null,
            "min_height": null,
            "min_width": null,
            "object_fit": null,
            "object_position": null,
            "order": null,
            "overflow": null,
            "overflow_x": null,
            "overflow_y": null,
            "padding": null,
            "right": null,
            "top": null,
            "visibility": null,
            "width": null
          }
        },
        "37ec9e1c77bf467b8c8408069929a97c": {
          "model_module": "@jupyter-widgets/controls",
          "model_module_version": "1.5.0",
          "model_name": "FloatProgressModel",
          "state": {
            "_dom_classes": [],
            "_model_module": "@jupyter-widgets/controls",
            "_model_module_version": "1.5.0",
            "_model_name": "FloatProgressModel",
            "_view_count": null,
            "_view_module": "@jupyter-widgets/controls",
            "_view_module_version": "1.5.0",
            "_view_name": "ProgressView",
            "bar_style": "success",
            "description": "",
            "description_tooltip": null,
            "layout": "IPY_MODEL_595eb8f19d494ce2ae7f2baade468f66",
            "max": 3,
            "min": 0,
            "orientation": "horizontal",
            "style": "IPY_MODEL_26636dfb93134e1d834ec3765a27c127",
            "value": 3
          }
        },
        "3a7fe84faa1c4cf9afe1a64610c955d0": {
          "model_module": "@jupyter-widgets/controls",
          "model_module_version": "1.5.0",
          "model_name": "FloatProgressModel",
          "state": {
            "_dom_classes": [],
            "_model_module": "@jupyter-widgets/controls",
            "_model_module_version": "1.5.0",
            "_model_name": "FloatProgressModel",
            "_view_count": null,
            "_view_module": "@jupyter-widgets/controls",
            "_view_module_version": "1.5.0",
            "_view_name": "ProgressView",
            "bar_style": "success",
            "description": "",
            "description_tooltip": null,
            "layout": "IPY_MODEL_0842ad840fce441ab48493df356a46de",
            "max": 1,
            "min": 0,
            "orientation": "horizontal",
            "style": "IPY_MODEL_7846d9f38eb846e2b31058af93562435",
            "value": 1
          }
        },
        "45c97020fb0c4dd8898f839a0e8f9235": {
          "model_module": "@jupyter-widgets/base",
          "model_module_version": "1.2.0",
          "model_name": "LayoutModel",
          "state": {
            "_model_module": "@jupyter-widgets/base",
            "_model_module_version": "1.2.0",
            "_model_name": "LayoutModel",
            "_view_count": null,
            "_view_module": "@jupyter-widgets/base",
            "_view_module_version": "1.2.0",
            "_view_name": "LayoutView",
            "align_content": null,
            "align_items": null,
            "align_self": null,
            "border": null,
            "bottom": null,
            "display": null,
            "flex": null,
            "flex_flow": null,
            "grid_area": null,
            "grid_auto_columns": null,
            "grid_auto_flow": null,
            "grid_auto_rows": null,
            "grid_column": null,
            "grid_gap": null,
            "grid_row": null,
            "grid_template_areas": null,
            "grid_template_columns": null,
            "grid_template_rows": null,
            "height": null,
            "justify_content": null,
            "justify_items": null,
            "left": null,
            "margin": null,
            "max_height": null,
            "max_width": null,
            "min_height": null,
            "min_width": null,
            "object_fit": null,
            "object_position": null,
            "order": null,
            "overflow": null,
            "overflow_x": null,
            "overflow_y": null,
            "padding": null,
            "right": null,
            "top": null,
            "visibility": null,
            "width": null
          }
        },
        "49e7c6410d714c6fb36cc69a9a8f3bdc": {
          "model_module": "@jupyter-widgets/controls",
          "model_module_version": "1.5.0",
          "model_name": "HTMLModel",
          "state": {
            "_dom_classes": [],
            "_model_module": "@jupyter-widgets/controls",
            "_model_module_version": "1.5.0",
            "_model_name": "HTMLModel",
            "_view_count": null,
            "_view_module": "@jupyter-widgets/controls",
            "_view_module_version": "1.5.0",
            "_view_name": "HTMLView",
            "description": "",
            "description_tooltip": null,
            "layout": "IPY_MODEL_dfe75bfc34084275a5755bf7f4994478",
            "placeholder": "​",
            "style": "IPY_MODEL_842ca780b4b8401597fe094ea83e5278",
            "value": " 10/10 [00:00&lt;00:00, 39.99ba/s]"
          }
        },
        "4eda60f5cca1441a824a3dda74830a86": {
          "model_module": "@jupyter-widgets/controls",
          "model_module_version": "1.5.0",
          "model_name": "HTMLModel",
          "state": {
            "_dom_classes": [],
            "_model_module": "@jupyter-widgets/controls",
            "_model_module_version": "1.5.0",
            "_model_name": "HTMLModel",
            "_view_count": null,
            "_view_module": "@jupyter-widgets/controls",
            "_view_module_version": "1.5.0",
            "_view_name": "HTMLView",
            "description": "",
            "description_tooltip": null,
            "layout": "IPY_MODEL_7b065ce32cfa4509b4f6b17686557bcb",
            "placeholder": "​",
            "style": "IPY_MODEL_cdf6c9093da74ad0bcbff6061b03c605",
            "value": " 1/1 [00:00&lt;00:00, 16.35ba/s]"
          }
        },
        "501cc4713c5e45e7bb13d1394dcfbf71": {
          "model_module": "@jupyter-widgets/controls",
          "model_module_version": "1.5.0",
          "model_name": "FloatProgressModel",
          "state": {
            "_dom_classes": [],
            "_model_module": "@jupyter-widgets/controls",
            "_model_module_version": "1.5.0",
            "_model_name": "FloatProgressModel",
            "_view_count": null,
            "_view_module": "@jupyter-widgets/controls",
            "_view_module_version": "1.5.0",
            "_view_name": "ProgressView",
            "bar_style": "success",
            "description": "",
            "description_tooltip": null,
            "layout": "IPY_MODEL_17517339ac704b9aac95be2c7160cd6a",
            "max": 1,
            "min": 0,
            "orientation": "horizontal",
            "style": "IPY_MODEL_8ea952fe399643fa936d62e8ff5e4eec",
            "value": 1
          }
        },
        "54ba6422cfa24d27b74f23ea95fbd5f3": {
          "model_module": "@jupyter-widgets/controls",
          "model_module_version": "1.5.0",
          "model_name": "ProgressStyleModel",
          "state": {
            "_model_module": "@jupyter-widgets/controls",
            "_model_module_version": "1.5.0",
            "_model_name": "ProgressStyleModel",
            "_view_count": null,
            "_view_module": "@jupyter-widgets/base",
            "_view_module_version": "1.2.0",
            "_view_name": "StyleView",
            "bar_color": null,
            "description_width": ""
          }
        },
        "595eb8f19d494ce2ae7f2baade468f66": {
          "model_module": "@jupyter-widgets/base",
          "model_module_version": "1.2.0",
          "model_name": "LayoutModel",
          "state": {
            "_model_module": "@jupyter-widgets/base",
            "_model_module_version": "1.2.0",
            "_model_name": "LayoutModel",
            "_view_count": null,
            "_view_module": "@jupyter-widgets/base",
            "_view_module_version": "1.2.0",
            "_view_name": "LayoutView",
            "align_content": null,
            "align_items": null,
            "align_self": null,
            "border": null,
            "bottom": null,
            "display": null,
            "flex": null,
            "flex_flow": null,
            "grid_area": null,
            "grid_auto_columns": null,
            "grid_auto_flow": null,
            "grid_auto_rows": null,
            "grid_column": null,
            "grid_gap": null,
            "grid_row": null,
            "grid_template_areas": null,
            "grid_template_columns": null,
            "grid_template_rows": null,
            "height": null,
            "justify_content": null,
            "justify_items": null,
            "left": null,
            "margin": null,
            "max_height": null,
            "max_width": null,
            "min_height": null,
            "min_width": null,
            "object_fit": null,
            "object_position": null,
            "order": null,
            "overflow": null,
            "overflow_x": null,
            "overflow_y": null,
            "padding": null,
            "right": null,
            "top": null,
            "visibility": null,
            "width": null
          }
        },
        "5f882d0050954827a59e0637810cc21d": {
          "model_module": "@jupyter-widgets/base",
          "model_module_version": "1.2.0",
          "model_name": "LayoutModel",
          "state": {
            "_model_module": "@jupyter-widgets/base",
            "_model_module_version": "1.2.0",
            "_model_name": "LayoutModel",
            "_view_count": null,
            "_view_module": "@jupyter-widgets/base",
            "_view_module_version": "1.2.0",
            "_view_name": "LayoutView",
            "align_content": null,
            "align_items": null,
            "align_self": null,
            "border": null,
            "bottom": null,
            "display": null,
            "flex": null,
            "flex_flow": null,
            "grid_area": null,
            "grid_auto_columns": null,
            "grid_auto_flow": null,
            "grid_auto_rows": null,
            "grid_column": null,
            "grid_gap": null,
            "grid_row": null,
            "grid_template_areas": null,
            "grid_template_columns": null,
            "grid_template_rows": null,
            "height": null,
            "justify_content": null,
            "justify_items": null,
            "left": null,
            "margin": null,
            "max_height": null,
            "max_width": null,
            "min_height": null,
            "min_width": null,
            "object_fit": null,
            "object_position": null,
            "order": null,
            "overflow": null,
            "overflow_x": null,
            "overflow_y": null,
            "padding": null,
            "right": null,
            "top": null,
            "visibility": null,
            "width": null
          }
        },
        "63a0dde43b9244378e8037d173405150": {
          "model_module": "@jupyter-widgets/base",
          "model_module_version": "1.2.0",
          "model_name": "LayoutModel",
          "state": {
            "_model_module": "@jupyter-widgets/base",
            "_model_module_version": "1.2.0",
            "_model_name": "LayoutModel",
            "_view_count": null,
            "_view_module": "@jupyter-widgets/base",
            "_view_module_version": "1.2.0",
            "_view_name": "LayoutView",
            "align_content": null,
            "align_items": null,
            "align_self": null,
            "border": null,
            "bottom": null,
            "display": null,
            "flex": null,
            "flex_flow": null,
            "grid_area": null,
            "grid_auto_columns": null,
            "grid_auto_flow": null,
            "grid_auto_rows": null,
            "grid_column": null,
            "grid_gap": null,
            "grid_row": null,
            "grid_template_areas": null,
            "grid_template_columns": null,
            "grid_template_rows": null,
            "height": null,
            "justify_content": null,
            "justify_items": null,
            "left": null,
            "margin": null,
            "max_height": null,
            "max_width": null,
            "min_height": null,
            "min_width": null,
            "object_fit": null,
            "object_position": null,
            "order": null,
            "overflow": null,
            "overflow_x": null,
            "overflow_y": null,
            "padding": null,
            "right": null,
            "top": null,
            "visibility": null,
            "width": null
          }
        },
        "64295ed1dd76428ea6cacb218b0698d9": {
          "model_module": "@jupyter-widgets/base",
          "model_module_version": "1.2.0",
          "model_name": "LayoutModel",
          "state": {
            "_model_module": "@jupyter-widgets/base",
            "_model_module_version": "1.2.0",
            "_model_name": "LayoutModel",
            "_view_count": null,
            "_view_module": "@jupyter-widgets/base",
            "_view_module_version": "1.2.0",
            "_view_name": "LayoutView",
            "align_content": null,
            "align_items": null,
            "align_self": null,
            "border": null,
            "bottom": null,
            "display": null,
            "flex": null,
            "flex_flow": null,
            "grid_area": null,
            "grid_auto_columns": null,
            "grid_auto_flow": null,
            "grid_auto_rows": null,
            "grid_column": null,
            "grid_gap": null,
            "grid_row": null,
            "grid_template_areas": null,
            "grid_template_columns": null,
            "grid_template_rows": null,
            "height": null,
            "justify_content": null,
            "justify_items": null,
            "left": null,
            "margin": null,
            "max_height": null,
            "max_width": null,
            "min_height": null,
            "min_width": null,
            "object_fit": null,
            "object_position": null,
            "order": null,
            "overflow": null,
            "overflow_x": null,
            "overflow_y": null,
            "padding": null,
            "right": null,
            "top": null,
            "visibility": null,
            "width": null
          }
        },
        "64715fe7469645fba906635401df5e17": {
          "model_module": "@jupyter-widgets/controls",
          "model_module_version": "1.5.0",
          "model_name": "FloatProgressModel",
          "state": {
            "_dom_classes": [],
            "_model_module": "@jupyter-widgets/controls",
            "_model_module_version": "1.5.0",
            "_model_name": "FloatProgressModel",
            "_view_count": null,
            "_view_module": "@jupyter-widgets/controls",
            "_view_module_version": "1.5.0",
            "_view_name": "ProgressView",
            "bar_style": "success",
            "description": "",
            "description_tooltip": null,
            "layout": "IPY_MODEL_2782e664e3204c6187872130853de390",
            "max": 1,
            "min": 0,
            "orientation": "horizontal",
            "style": "IPY_MODEL_bf1d2554dadf4ef180783f9d6482ce71",
            "value": 1
          }
        },
        "661cd7d657144cfe9d4caba48d3b28ab": {
          "model_module": "@jupyter-widgets/controls",
          "model_module_version": "1.5.0",
          "model_name": "ProgressStyleModel",
          "state": {
            "_model_module": "@jupyter-widgets/controls",
            "_model_module_version": "1.5.0",
            "_model_name": "ProgressStyleModel",
            "_view_count": null,
            "_view_module": "@jupyter-widgets/base",
            "_view_module_version": "1.2.0",
            "_view_name": "StyleView",
            "bar_color": null,
            "description_width": ""
          }
        },
        "7846d9f38eb846e2b31058af93562435": {
          "model_module": "@jupyter-widgets/controls",
          "model_module_version": "1.5.0",
          "model_name": "ProgressStyleModel",
          "state": {
            "_model_module": "@jupyter-widgets/controls",
            "_model_module_version": "1.5.0",
            "_model_name": "ProgressStyleModel",
            "_view_count": null,
            "_view_module": "@jupyter-widgets/base",
            "_view_module_version": "1.2.0",
            "_view_name": "StyleView",
            "bar_color": null,
            "description_width": ""
          }
        },
        "78805a0b3f4f4260ac46f81ff282f9e7": {
          "model_module": "@jupyter-widgets/controls",
          "model_module_version": "1.5.0",
          "model_name": "HTMLModel",
          "state": {
            "_dom_classes": [],
            "_model_module": "@jupyter-widgets/controls",
            "_model_module_version": "1.5.0",
            "_model_name": "HTMLModel",
            "_view_count": null,
            "_view_module": "@jupyter-widgets/controls",
            "_view_module_version": "1.5.0",
            "_view_name": "HTMLView",
            "description": "",
            "description_tooltip": null,
            "layout": "IPY_MODEL_63a0dde43b9244378e8037d173405150",
            "placeholder": "​",
            "style": "IPY_MODEL_df1291450fb44f0da34fe054536719fa",
            "value": " 1/1 [00:02&lt;00:00,  2.75s/ba]"
          }
        },
        "7b065ce32cfa4509b4f6b17686557bcb": {
          "model_module": "@jupyter-widgets/base",
          "model_module_version": "1.2.0",
          "model_name": "LayoutModel",
          "state": {
            "_model_module": "@jupyter-widgets/base",
            "_model_module_version": "1.2.0",
            "_model_name": "LayoutModel",
            "_view_count": null,
            "_view_module": "@jupyter-widgets/base",
            "_view_module_version": "1.2.0",
            "_view_name": "LayoutView",
            "align_content": null,
            "align_items": null,
            "align_self": null,
            "border": null,
            "bottom": null,
            "display": null,
            "flex": null,
            "flex_flow": null,
            "grid_area": null,
            "grid_auto_columns": null,
            "grid_auto_flow": null,
            "grid_auto_rows": null,
            "grid_column": null,
            "grid_gap": null,
            "grid_row": null,
            "grid_template_areas": null,
            "grid_template_columns": null,
            "grid_template_rows": null,
            "height": null,
            "justify_content": null,
            "justify_items": null,
            "left": null,
            "margin": null,
            "max_height": null,
            "max_width": null,
            "min_height": null,
            "min_width": null,
            "object_fit": null,
            "object_position": null,
            "order": null,
            "overflow": null,
            "overflow_x": null,
            "overflow_y": null,
            "padding": null,
            "right": null,
            "top": null,
            "visibility": null,
            "width": null
          }
        },
        "7c7ab3d6f659473990b20d1dfaa8f86b": {
          "model_module": "@jupyter-widgets/base",
          "model_module_version": "1.2.0",
          "model_name": "LayoutModel",
          "state": {
            "_model_module": "@jupyter-widgets/base",
            "_model_module_version": "1.2.0",
            "_model_name": "LayoutModel",
            "_view_count": null,
            "_view_module": "@jupyter-widgets/base",
            "_view_module_version": "1.2.0",
            "_view_name": "LayoutView",
            "align_content": null,
            "align_items": null,
            "align_self": null,
            "border": null,
            "bottom": null,
            "display": null,
            "flex": null,
            "flex_flow": null,
            "grid_area": null,
            "grid_auto_columns": null,
            "grid_auto_flow": null,
            "grid_auto_rows": null,
            "grid_column": null,
            "grid_gap": null,
            "grid_row": null,
            "grid_template_areas": null,
            "grid_template_columns": null,
            "grid_template_rows": null,
            "height": null,
            "justify_content": null,
            "justify_items": null,
            "left": null,
            "margin": null,
            "max_height": null,
            "max_width": null,
            "min_height": null,
            "min_width": null,
            "object_fit": null,
            "object_position": null,
            "order": null,
            "overflow": null,
            "overflow_x": null,
            "overflow_y": null,
            "padding": null,
            "right": null,
            "top": null,
            "visibility": null,
            "width": null
          }
        },
        "842ca780b4b8401597fe094ea83e5278": {
          "model_module": "@jupyter-widgets/controls",
          "model_module_version": "1.5.0",
          "model_name": "DescriptionStyleModel",
          "state": {
            "_model_module": "@jupyter-widgets/controls",
            "_model_module_version": "1.5.0",
            "_model_name": "DescriptionStyleModel",
            "_view_count": null,
            "_view_module": "@jupyter-widgets/base",
            "_view_module_version": "1.2.0",
            "_view_name": "StyleView",
            "description_width": ""
          }
        },
        "86c50405f0004a83916bfab7f8de35e4": {
          "model_module": "@jupyter-widgets/controls",
          "model_module_version": "1.5.0",
          "model_name": "DescriptionStyleModel",
          "state": {
            "_model_module": "@jupyter-widgets/controls",
            "_model_module_version": "1.5.0",
            "_model_name": "DescriptionStyleModel",
            "_view_count": null,
            "_view_module": "@jupyter-widgets/base",
            "_view_module_version": "1.2.0",
            "_view_name": "StyleView",
            "description_width": ""
          }
        },
        "8a17ec27ff9a41a295c11bd034b62b31": {
          "model_module": "@jupyter-widgets/controls",
          "model_module_version": "1.5.0",
          "model_name": "HTMLModel",
          "state": {
            "_dom_classes": [],
            "_model_module": "@jupyter-widgets/controls",
            "_model_module_version": "1.5.0",
            "_model_name": "HTMLModel",
            "_view_count": null,
            "_view_module": "@jupyter-widgets/controls",
            "_view_module_version": "1.5.0",
            "_view_name": "HTMLView",
            "description": "",
            "description_tooltip": null,
            "layout": "IPY_MODEL_f5856a44b82e42ab96bf3cf1557fe63c",
            "placeholder": "​",
            "style": "IPY_MODEL_e564158ca95a47ef9473adca793f1851",
            "value": "100%"
          }
        },
        "8ea952fe399643fa936d62e8ff5e4eec": {
          "model_module": "@jupyter-widgets/controls",
          "model_module_version": "1.5.0",
          "model_name": "ProgressStyleModel",
          "state": {
            "_model_module": "@jupyter-widgets/controls",
            "_model_module_version": "1.5.0",
            "_model_name": "ProgressStyleModel",
            "_view_count": null,
            "_view_module": "@jupyter-widgets/base",
            "_view_module_version": "1.2.0",
            "_view_name": "StyleView",
            "bar_color": null,
            "description_width": ""
          }
        },
        "8fa2585849d94d5fa9f249fd1be46089": {
          "model_module": "@jupyter-widgets/controls",
          "model_module_version": "1.5.0",
          "model_name": "FloatProgressModel",
          "state": {
            "_dom_classes": [],
            "_model_module": "@jupyter-widgets/controls",
            "_model_module_version": "1.5.0",
            "_model_name": "FloatProgressModel",
            "_view_count": null,
            "_view_module": "@jupyter-widgets/controls",
            "_view_module_version": "1.5.0",
            "_view_name": "ProgressView",
            "bar_style": "success",
            "description": "",
            "description_tooltip": null,
            "layout": "IPY_MODEL_c0725e076df04300a1647e49c272100b",
            "max": 10,
            "min": 0,
            "orientation": "horizontal",
            "style": "IPY_MODEL_661cd7d657144cfe9d4caba48d3b28ab",
            "value": 10
          }
        },
        "958d10bc9803420ebc7fc8b9a1254f09": {
          "model_module": "@jupyter-widgets/base",
          "model_module_version": "1.2.0",
          "model_name": "LayoutModel",
          "state": {
            "_model_module": "@jupyter-widgets/base",
            "_model_module_version": "1.2.0",
            "_model_name": "LayoutModel",
            "_view_count": null,
            "_view_module": "@jupyter-widgets/base",
            "_view_module_version": "1.2.0",
            "_view_name": "LayoutView",
            "align_content": null,
            "align_items": null,
            "align_self": null,
            "border": null,
            "bottom": null,
            "display": null,
            "flex": null,
            "flex_flow": null,
            "grid_area": null,
            "grid_auto_columns": null,
            "grid_auto_flow": null,
            "grid_auto_rows": null,
            "grid_column": null,
            "grid_gap": null,
            "grid_row": null,
            "grid_template_areas": null,
            "grid_template_columns": null,
            "grid_template_rows": null,
            "height": null,
            "justify_content": null,
            "justify_items": null,
            "left": null,
            "margin": null,
            "max_height": null,
            "max_width": null,
            "min_height": null,
            "min_width": null,
            "object_fit": null,
            "object_position": null,
            "order": null,
            "overflow": null,
            "overflow_x": null,
            "overflow_y": null,
            "padding": null,
            "right": null,
            "top": null,
            "visibility": null,
            "width": null
          }
        },
        "9b2115d38f7d4b0aa5a4d830a245eec6": {
          "model_module": "@jupyter-widgets/controls",
          "model_module_version": "1.5.0",
          "model_name": "HBoxModel",
          "state": {
            "_dom_classes": [],
            "_model_module": "@jupyter-widgets/controls",
            "_model_module_version": "1.5.0",
            "_model_name": "HBoxModel",
            "_view_count": null,
            "_view_module": "@jupyter-widgets/controls",
            "_view_module_version": "1.5.0",
            "_view_name": "HBoxView",
            "box_style": "",
            "children": [
              "IPY_MODEL_b458bca9f6c5487bb7e7f88deaea74c5",
              "IPY_MODEL_501cc4713c5e45e7bb13d1394dcfbf71",
              "IPY_MODEL_2aa1770282d44072b5895575e30225e8"
            ],
            "layout": "IPY_MODEL_45c97020fb0c4dd8898f839a0e8f9235"
          }
        },
        "9f033bae3e644cf28699ac4dbb0fb52b": {
          "model_module": "@jupyter-widgets/base",
          "model_module_version": "1.2.0",
          "model_name": "LayoutModel",
          "state": {
            "_model_module": "@jupyter-widgets/base",
            "_model_module_version": "1.2.0",
            "_model_name": "LayoutModel",
            "_view_count": null,
            "_view_module": "@jupyter-widgets/base",
            "_view_module_version": "1.2.0",
            "_view_name": "LayoutView",
            "align_content": null,
            "align_items": null,
            "align_self": null,
            "border": null,
            "bottom": null,
            "display": null,
            "flex": null,
            "flex_flow": null,
            "grid_area": null,
            "grid_auto_columns": null,
            "grid_auto_flow": null,
            "grid_auto_rows": null,
            "grid_column": null,
            "grid_gap": null,
            "grid_row": null,
            "grid_template_areas": null,
            "grid_template_columns": null,
            "grid_template_rows": null,
            "height": null,
            "justify_content": null,
            "justify_items": null,
            "left": null,
            "margin": null,
            "max_height": null,
            "max_width": null,
            "min_height": null,
            "min_width": null,
            "object_fit": null,
            "object_position": null,
            "order": null,
            "overflow": null,
            "overflow_x": null,
            "overflow_y": null,
            "padding": null,
            "right": null,
            "top": null,
            "visibility": null,
            "width": null
          }
        },
        "a0fcb5d0939f407dac5eff7b514c9333": {
          "model_module": "@jupyter-widgets/controls",
          "model_module_version": "1.5.0",
          "model_name": "DescriptionStyleModel",
          "state": {
            "_model_module": "@jupyter-widgets/controls",
            "_model_module_version": "1.5.0",
            "_model_name": "DescriptionStyleModel",
            "_view_count": null,
            "_view_module": "@jupyter-widgets/base",
            "_view_module_version": "1.2.0",
            "_view_name": "StyleView",
            "description_width": ""
          }
        },
        "a610a6eebf6d48928961ccec8ddee793": {
          "model_module": "@jupyter-widgets/controls",
          "model_module_version": "1.5.0",
          "model_name": "DescriptionStyleModel",
          "state": {
            "_model_module": "@jupyter-widgets/controls",
            "_model_module_version": "1.5.0",
            "_model_name": "DescriptionStyleModel",
            "_view_count": null,
            "_view_module": "@jupyter-widgets/base",
            "_view_module_version": "1.2.0",
            "_view_name": "StyleView",
            "description_width": ""
          }
        },
        "ad21a3d49fa54b6aa363c240282195d6": {
          "model_module": "@jupyter-widgets/base",
          "model_module_version": "1.2.0",
          "model_name": "LayoutModel",
          "state": {
            "_model_module": "@jupyter-widgets/base",
            "_model_module_version": "1.2.0",
            "_model_name": "LayoutModel",
            "_view_count": null,
            "_view_module": "@jupyter-widgets/base",
            "_view_module_version": "1.2.0",
            "_view_name": "LayoutView",
            "align_content": null,
            "align_items": null,
            "align_self": null,
            "border": null,
            "bottom": null,
            "display": null,
            "flex": null,
            "flex_flow": null,
            "grid_area": null,
            "grid_auto_columns": null,
            "grid_auto_flow": null,
            "grid_auto_rows": null,
            "grid_column": null,
            "grid_gap": null,
            "grid_row": null,
            "grid_template_areas": null,
            "grid_template_columns": null,
            "grid_template_rows": null,
            "height": null,
            "justify_content": null,
            "justify_items": null,
            "left": null,
            "margin": null,
            "max_height": null,
            "max_width": null,
            "min_height": null,
            "min_width": null,
            "object_fit": null,
            "object_position": null,
            "order": null,
            "overflow": null,
            "overflow_x": null,
            "overflow_y": null,
            "padding": null,
            "right": null,
            "top": null,
            "visibility": null,
            "width": null
          }
        },
        "b1291d561a99427296d36af9f5d4fcfa": {
          "model_module": "@jupyter-widgets/base",
          "model_module_version": "1.2.0",
          "model_name": "LayoutModel",
          "state": {
            "_model_module": "@jupyter-widgets/base",
            "_model_module_version": "1.2.0",
            "_model_name": "LayoutModel",
            "_view_count": null,
            "_view_module": "@jupyter-widgets/base",
            "_view_module_version": "1.2.0",
            "_view_name": "LayoutView",
            "align_content": null,
            "align_items": null,
            "align_self": null,
            "border": null,
            "bottom": null,
            "display": null,
            "flex": null,
            "flex_flow": null,
            "grid_area": null,
            "grid_auto_columns": null,
            "grid_auto_flow": null,
            "grid_auto_rows": null,
            "grid_column": null,
            "grid_gap": null,
            "grid_row": null,
            "grid_template_areas": null,
            "grid_template_columns": null,
            "grid_template_rows": null,
            "height": null,
            "justify_content": null,
            "justify_items": null,
            "left": null,
            "margin": null,
            "max_height": null,
            "max_width": null,
            "min_height": null,
            "min_width": null,
            "object_fit": null,
            "object_position": null,
            "order": null,
            "overflow": null,
            "overflow_x": null,
            "overflow_y": null,
            "padding": null,
            "right": null,
            "top": null,
            "visibility": null,
            "width": null
          }
        },
        "b1ea400219cb4ac0b14752fa7800b149": {
          "model_module": "@jupyter-widgets/controls",
          "model_module_version": "1.5.0",
          "model_name": "HTMLModel",
          "state": {
            "_dom_classes": [],
            "_model_module": "@jupyter-widgets/controls",
            "_model_module_version": "1.5.0",
            "_model_name": "HTMLModel",
            "_view_count": null,
            "_view_module": "@jupyter-widgets/controls",
            "_view_module_version": "1.5.0",
            "_view_name": "HTMLView",
            "description": "",
            "description_tooltip": null,
            "layout": "IPY_MODEL_64295ed1dd76428ea6cacb218b0698d9",
            "placeholder": "​",
            "style": "IPY_MODEL_a610a6eebf6d48928961ccec8ddee793",
            "value": " 10/10 [00:29&lt;00:00,  2.89s/ba]"
          }
        },
        "b458bca9f6c5487bb7e7f88deaea74c5": {
          "model_module": "@jupyter-widgets/controls",
          "model_module_version": "1.5.0",
          "model_name": "HTMLModel",
          "state": {
            "_dom_classes": [],
            "_model_module": "@jupyter-widgets/controls",
            "_model_module_version": "1.5.0",
            "_model_name": "HTMLModel",
            "_view_count": null,
            "_view_module": "@jupyter-widgets/controls",
            "_view_module_version": "1.5.0",
            "_view_name": "HTMLView",
            "description": "",
            "description_tooltip": null,
            "layout": "IPY_MODEL_f416b7072e95432486c56d01d41de646",
            "placeholder": "​",
            "style": "IPY_MODEL_e4f7552828d04c7cad62c7025fcd6d98",
            "value": "100%"
          }
        },
        "b89ce44dc8424e419a8157a12052021e": {
          "model_module": "@jupyter-widgets/base",
          "model_module_version": "1.2.0",
          "model_name": "LayoutModel",
          "state": {
            "_model_module": "@jupyter-widgets/base",
            "_model_module_version": "1.2.0",
            "_model_name": "LayoutModel",
            "_view_count": null,
            "_view_module": "@jupyter-widgets/base",
            "_view_module_version": "1.2.0",
            "_view_name": "LayoutView",
            "align_content": null,
            "align_items": null,
            "align_self": null,
            "border": null,
            "bottom": null,
            "display": null,
            "flex": null,
            "flex_flow": null,
            "grid_area": null,
            "grid_auto_columns": null,
            "grid_auto_flow": null,
            "grid_auto_rows": null,
            "grid_column": null,
            "grid_gap": null,
            "grid_row": null,
            "grid_template_areas": null,
            "grid_template_columns": null,
            "grid_template_rows": null,
            "height": null,
            "justify_content": null,
            "justify_items": null,
            "left": null,
            "margin": null,
            "max_height": null,
            "max_width": null,
            "min_height": null,
            "min_width": null,
            "object_fit": null,
            "object_position": null,
            "order": null,
            "overflow": null,
            "overflow_x": null,
            "overflow_y": null,
            "padding": null,
            "right": null,
            "top": null,
            "visibility": null,
            "width": null
          }
        },
        "bf1d2554dadf4ef180783f9d6482ce71": {
          "model_module": "@jupyter-widgets/controls",
          "model_module_version": "1.5.0",
          "model_name": "ProgressStyleModel",
          "state": {
            "_model_module": "@jupyter-widgets/controls",
            "_model_module_version": "1.5.0",
            "_model_name": "ProgressStyleModel",
            "_view_count": null,
            "_view_module": "@jupyter-widgets/base",
            "_view_module_version": "1.2.0",
            "_view_name": "StyleView",
            "bar_color": null,
            "description_width": ""
          }
        },
        "bf69d7623d7049d68907f42fc01e55ca": {
          "model_module": "@jupyter-widgets/base",
          "model_module_version": "1.2.0",
          "model_name": "LayoutModel",
          "state": {
            "_model_module": "@jupyter-widgets/base",
            "_model_module_version": "1.2.0",
            "_model_name": "LayoutModel",
            "_view_count": null,
            "_view_module": "@jupyter-widgets/base",
            "_view_module_version": "1.2.0",
            "_view_name": "LayoutView",
            "align_content": null,
            "align_items": null,
            "align_self": null,
            "border": null,
            "bottom": null,
            "display": null,
            "flex": null,
            "flex_flow": null,
            "grid_area": null,
            "grid_auto_columns": null,
            "grid_auto_flow": null,
            "grid_auto_rows": null,
            "grid_column": null,
            "grid_gap": null,
            "grid_row": null,
            "grid_template_areas": null,
            "grid_template_columns": null,
            "grid_template_rows": null,
            "height": null,
            "justify_content": null,
            "justify_items": null,
            "left": null,
            "margin": null,
            "max_height": null,
            "max_width": null,
            "min_height": null,
            "min_width": null,
            "object_fit": null,
            "object_position": null,
            "order": null,
            "overflow": null,
            "overflow_x": null,
            "overflow_y": null,
            "padding": null,
            "right": null,
            "top": null,
            "visibility": null,
            "width": null
          }
        },
        "c0725e076df04300a1647e49c272100b": {
          "model_module": "@jupyter-widgets/base",
          "model_module_version": "1.2.0",
          "model_name": "LayoutModel",
          "state": {
            "_model_module": "@jupyter-widgets/base",
            "_model_module_version": "1.2.0",
            "_model_name": "LayoutModel",
            "_view_count": null,
            "_view_module": "@jupyter-widgets/base",
            "_view_module_version": "1.2.0",
            "_view_name": "LayoutView",
            "align_content": null,
            "align_items": null,
            "align_self": null,
            "border": null,
            "bottom": null,
            "display": null,
            "flex": null,
            "flex_flow": null,
            "grid_area": null,
            "grid_auto_columns": null,
            "grid_auto_flow": null,
            "grid_auto_rows": null,
            "grid_column": null,
            "grid_gap": null,
            "grid_row": null,
            "grid_template_areas": null,
            "grid_template_columns": null,
            "grid_template_rows": null,
            "height": null,
            "justify_content": null,
            "justify_items": null,
            "left": null,
            "margin": null,
            "max_height": null,
            "max_width": null,
            "min_height": null,
            "min_width": null,
            "object_fit": null,
            "object_position": null,
            "order": null,
            "overflow": null,
            "overflow_x": null,
            "overflow_y": null,
            "padding": null,
            "right": null,
            "top": null,
            "visibility": null,
            "width": null
          }
        },
        "c3439b75937945e1aa63ec99cb9e72ac": {
          "model_module": "@jupyter-widgets/controls",
          "model_module_version": "1.5.0",
          "model_name": "HTMLModel",
          "state": {
            "_dom_classes": [],
            "_model_module": "@jupyter-widgets/controls",
            "_model_module_version": "1.5.0",
            "_model_name": "HTMLModel",
            "_view_count": null,
            "_view_module": "@jupyter-widgets/controls",
            "_view_module_version": "1.5.0",
            "_view_name": "HTMLView",
            "description": "",
            "description_tooltip": null,
            "layout": "IPY_MODEL_26fd320643904837b893afd4abe52beb",
            "placeholder": "​",
            "style": "IPY_MODEL_d3b7612960c0406c89eb41a1a8db2980",
            "value": "100%"
          }
        },
        "c5da2ff2b5964c859f08ea4d8c369e2c": {
          "model_module": "@jupyter-widgets/base",
          "model_module_version": "1.2.0",
          "model_name": "LayoutModel",
          "state": {
            "_model_module": "@jupyter-widgets/base",
            "_model_module_version": "1.2.0",
            "_model_name": "LayoutModel",
            "_view_count": null,
            "_view_module": "@jupyter-widgets/base",
            "_view_module_version": "1.2.0",
            "_view_name": "LayoutView",
            "align_content": null,
            "align_items": null,
            "align_self": null,
            "border": null,
            "bottom": null,
            "display": null,
            "flex": null,
            "flex_flow": null,
            "grid_area": null,
            "grid_auto_columns": null,
            "grid_auto_flow": null,
            "grid_auto_rows": null,
            "grid_column": null,
            "grid_gap": null,
            "grid_row": null,
            "grid_template_areas": null,
            "grid_template_columns": null,
            "grid_template_rows": null,
            "height": null,
            "justify_content": null,
            "justify_items": null,
            "left": null,
            "margin": null,
            "max_height": null,
            "max_width": null,
            "min_height": null,
            "min_width": null,
            "object_fit": null,
            "object_position": null,
            "order": null,
            "overflow": null,
            "overflow_x": null,
            "overflow_y": null,
            "padding": null,
            "right": null,
            "top": null,
            "visibility": null,
            "width": null
          }
        },
        "c68dc8893d9547a3ba4e93e3bef08e12": {
          "model_module": "@jupyter-widgets/controls",
          "model_module_version": "1.5.0",
          "model_name": "HBoxModel",
          "state": {
            "_dom_classes": [],
            "_model_module": "@jupyter-widgets/controls",
            "_model_module_version": "1.5.0",
            "_model_name": "HBoxModel",
            "_view_count": null,
            "_view_module": "@jupyter-widgets/controls",
            "_view_module_version": "1.5.0",
            "_view_name": "HBoxView",
            "box_style": "",
            "children": [
              "IPY_MODEL_eeffba494ff44ee0ac8500819b6c5d6a",
              "IPY_MODEL_28871d620ad94e36ace6e6ceeab390d6",
              "IPY_MODEL_78805a0b3f4f4260ac46f81ff282f9e7"
            ],
            "layout": "IPY_MODEL_5f882d0050954827a59e0637810cc21d"
          }
        },
        "cab740524d1c4f82bf84323b727db0df": {
          "model_module": "@jupyter-widgets/base",
          "model_module_version": "1.2.0",
          "model_name": "LayoutModel",
          "state": {
            "_model_module": "@jupyter-widgets/base",
            "_model_module_version": "1.2.0",
            "_model_name": "LayoutModel",
            "_view_count": null,
            "_view_module": "@jupyter-widgets/base",
            "_view_module_version": "1.2.0",
            "_view_name": "LayoutView",
            "align_content": null,
            "align_items": null,
            "align_self": null,
            "border": null,
            "bottom": null,
            "display": null,
            "flex": null,
            "flex_flow": null,
            "grid_area": null,
            "grid_auto_columns": null,
            "grid_auto_flow": null,
            "grid_auto_rows": null,
            "grid_column": null,
            "grid_gap": null,
            "grid_row": null,
            "grid_template_areas": null,
            "grid_template_columns": null,
            "grid_template_rows": null,
            "height": null,
            "justify_content": null,
            "justify_items": null,
            "left": null,
            "margin": null,
            "max_height": null,
            "max_width": null,
            "min_height": null,
            "min_width": null,
            "object_fit": null,
            "object_position": null,
            "order": null,
            "overflow": null,
            "overflow_x": null,
            "overflow_y": null,
            "padding": null,
            "right": null,
            "top": null,
            "visibility": null,
            "width": null
          }
        },
        "cdf6c9093da74ad0bcbff6061b03c605": {
          "model_module": "@jupyter-widgets/controls",
          "model_module_version": "1.5.0",
          "model_name": "DescriptionStyleModel",
          "state": {
            "_model_module": "@jupyter-widgets/controls",
            "_model_module_version": "1.5.0",
            "_model_name": "DescriptionStyleModel",
            "_view_count": null,
            "_view_module": "@jupyter-widgets/base",
            "_view_module_version": "1.2.0",
            "_view_name": "StyleView",
            "description_width": ""
          }
        },
        "cec4559a9f3c4581bfac19191c4e4c65": {
          "model_module": "@jupyter-widgets/controls",
          "model_module_version": "1.5.0",
          "model_name": "DescriptionStyleModel",
          "state": {
            "_model_module": "@jupyter-widgets/controls",
            "_model_module_version": "1.5.0",
            "_model_name": "DescriptionStyleModel",
            "_view_count": null,
            "_view_module": "@jupyter-widgets/base",
            "_view_module_version": "1.2.0",
            "_view_name": "StyleView",
            "description_width": ""
          }
        },
        "d08a4c943fb440b28b92621363e0099d": {
          "model_module": "@jupyter-widgets/controls",
          "model_module_version": "1.5.0",
          "model_name": "HBoxModel",
          "state": {
            "_dom_classes": [],
            "_model_module": "@jupyter-widgets/controls",
            "_model_module_version": "1.5.0",
            "_model_name": "HBoxModel",
            "_view_count": null,
            "_view_module": "@jupyter-widgets/controls",
            "_view_module_version": "1.5.0",
            "_view_name": "HBoxView",
            "box_style": "",
            "children": [
              "IPY_MODEL_8a17ec27ff9a41a295c11bd034b62b31",
              "IPY_MODEL_3a7fe84faa1c4cf9afe1a64610c955d0",
              "IPY_MODEL_1e7d4a8fe2b04a4aa5dda0675e9addfd"
            ],
            "layout": "IPY_MODEL_ad21a3d49fa54b6aa363c240282195d6"
          }
        },
        "d21d070dc84e40a5b483d78cfdb93594": {
          "model_module": "@jupyter-widgets/base",
          "model_module_version": "1.2.0",
          "model_name": "LayoutModel",
          "state": {
            "_model_module": "@jupyter-widgets/base",
            "_model_module_version": "1.2.0",
            "_model_name": "LayoutModel",
            "_view_count": null,
            "_view_module": "@jupyter-widgets/base",
            "_view_module_version": "1.2.0",
            "_view_name": "LayoutView",
            "align_content": null,
            "align_items": null,
            "align_self": null,
            "border": null,
            "bottom": null,
            "display": null,
            "flex": null,
            "flex_flow": null,
            "grid_area": null,
            "grid_auto_columns": null,
            "grid_auto_flow": null,
            "grid_auto_rows": null,
            "grid_column": null,
            "grid_gap": null,
            "grid_row": null,
            "grid_template_areas": null,
            "grid_template_columns": null,
            "grid_template_rows": null,
            "height": null,
            "justify_content": null,
            "justify_items": null,
            "left": null,
            "margin": null,
            "max_height": null,
            "max_width": null,
            "min_height": null,
            "min_width": null,
            "object_fit": null,
            "object_position": null,
            "order": null,
            "overflow": null,
            "overflow_x": null,
            "overflow_y": null,
            "padding": null,
            "right": null,
            "top": null,
            "visibility": null,
            "width": null
          }
        },
        "d3b7612960c0406c89eb41a1a8db2980": {
          "model_module": "@jupyter-widgets/controls",
          "model_module_version": "1.5.0",
          "model_name": "DescriptionStyleModel",
          "state": {
            "_model_module": "@jupyter-widgets/controls",
            "_model_module_version": "1.5.0",
            "_model_name": "DescriptionStyleModel",
            "_view_count": null,
            "_view_module": "@jupyter-widgets/base",
            "_view_module_version": "1.2.0",
            "_view_name": "StyleView",
            "description_width": ""
          }
        },
        "d4afd70c2bfb4019b3912b9d40b6b0b2": {
          "model_module": "@jupyter-widgets/controls",
          "model_module_version": "1.5.0",
          "model_name": "DescriptionStyleModel",
          "state": {
            "_model_module": "@jupyter-widgets/controls",
            "_model_module_version": "1.5.0",
            "_model_name": "DescriptionStyleModel",
            "_view_count": null,
            "_view_module": "@jupyter-widgets/base",
            "_view_module_version": "1.2.0",
            "_view_name": "StyleView",
            "description_width": ""
          }
        },
        "d79c005836a54a84a45e46262a82599f": {
          "model_module": "@jupyter-widgets/base",
          "model_module_version": "1.2.0",
          "model_name": "LayoutModel",
          "state": {
            "_model_module": "@jupyter-widgets/base",
            "_model_module_version": "1.2.0",
            "_model_name": "LayoutModel",
            "_view_count": null,
            "_view_module": "@jupyter-widgets/base",
            "_view_module_version": "1.2.0",
            "_view_name": "LayoutView",
            "align_content": null,
            "align_items": null,
            "align_self": null,
            "border": null,
            "bottom": null,
            "display": null,
            "flex": null,
            "flex_flow": null,
            "grid_area": null,
            "grid_auto_columns": null,
            "grid_auto_flow": null,
            "grid_auto_rows": null,
            "grid_column": null,
            "grid_gap": null,
            "grid_row": null,
            "grid_template_areas": null,
            "grid_template_columns": null,
            "grid_template_rows": null,
            "height": null,
            "justify_content": null,
            "justify_items": null,
            "left": null,
            "margin": null,
            "max_height": null,
            "max_width": null,
            "min_height": null,
            "min_width": null,
            "object_fit": null,
            "object_position": null,
            "order": null,
            "overflow": null,
            "overflow_x": null,
            "overflow_y": null,
            "padding": null,
            "right": null,
            "top": null,
            "visibility": null,
            "width": null
          }
        },
        "d7b8fcd9e69246ec8f3e5a6103d3bb86": {
          "model_module": "@jupyter-widgets/controls",
          "model_module_version": "1.5.0",
          "model_name": "HBoxModel",
          "state": {
            "_dom_classes": [],
            "_model_module": "@jupyter-widgets/controls",
            "_model_module_version": "1.5.0",
            "_model_name": "HBoxModel",
            "_view_count": null,
            "_view_module": "@jupyter-widgets/controls",
            "_view_module_version": "1.5.0",
            "_view_name": "HBoxView",
            "box_style": "",
            "children": [
              "IPY_MODEL_2c72d133e7a74a03a42835c16da1cd4a",
              "IPY_MODEL_64715fe7469645fba906635401df5e17",
              "IPY_MODEL_4eda60f5cca1441a824a3dda74830a86"
            ],
            "layout": "IPY_MODEL_958d10bc9803420ebc7fc8b9a1254f09"
          }
        },
        "df1291450fb44f0da34fe054536719fa": {
          "model_module": "@jupyter-widgets/controls",
          "model_module_version": "1.5.0",
          "model_name": "DescriptionStyleModel",
          "state": {
            "_model_module": "@jupyter-widgets/controls",
            "_model_module_version": "1.5.0",
            "_model_name": "DescriptionStyleModel",
            "_view_count": null,
            "_view_module": "@jupyter-widgets/base",
            "_view_module_version": "1.2.0",
            "_view_name": "StyleView",
            "description_width": ""
          }
        },
        "dfe75bfc34084275a5755bf7f4994478": {
          "model_module": "@jupyter-widgets/base",
          "model_module_version": "1.2.0",
          "model_name": "LayoutModel",
          "state": {
            "_model_module": "@jupyter-widgets/base",
            "_model_module_version": "1.2.0",
            "_model_name": "LayoutModel",
            "_view_count": null,
            "_view_module": "@jupyter-widgets/base",
            "_view_module_version": "1.2.0",
            "_view_name": "LayoutView",
            "align_content": null,
            "align_items": null,
            "align_self": null,
            "border": null,
            "bottom": null,
            "display": null,
            "flex": null,
            "flex_flow": null,
            "grid_area": null,
            "grid_auto_columns": null,
            "grid_auto_flow": null,
            "grid_auto_rows": null,
            "grid_column": null,
            "grid_gap": null,
            "grid_row": null,
            "grid_template_areas": null,
            "grid_template_columns": null,
            "grid_template_rows": null,
            "height": null,
            "justify_content": null,
            "justify_items": null,
            "left": null,
            "margin": null,
            "max_height": null,
            "max_width": null,
            "min_height": null,
            "min_width": null,
            "object_fit": null,
            "object_position": null,
            "order": null,
            "overflow": null,
            "overflow_x": null,
            "overflow_y": null,
            "padding": null,
            "right": null,
            "top": null,
            "visibility": null,
            "width": null
          }
        },
        "e4f7552828d04c7cad62c7025fcd6d98": {
          "model_module": "@jupyter-widgets/controls",
          "model_module_version": "1.5.0",
          "model_name": "DescriptionStyleModel",
          "state": {
            "_model_module": "@jupyter-widgets/controls",
            "_model_module_version": "1.5.0",
            "_model_name": "DescriptionStyleModel",
            "_view_count": null,
            "_view_module": "@jupyter-widgets/base",
            "_view_module_version": "1.2.0",
            "_view_name": "StyleView",
            "description_width": ""
          }
        },
        "e564158ca95a47ef9473adca793f1851": {
          "model_module": "@jupyter-widgets/controls",
          "model_module_version": "1.5.0",
          "model_name": "DescriptionStyleModel",
          "state": {
            "_model_module": "@jupyter-widgets/controls",
            "_model_module_version": "1.5.0",
            "_model_name": "DescriptionStyleModel",
            "_view_count": null,
            "_view_module": "@jupyter-widgets/base",
            "_view_module_version": "1.2.0",
            "_view_name": "StyleView",
            "description_width": ""
          }
        },
        "ed763d29ab124ea58a856ef6c0f0a0cb": {
          "model_module": "@jupyter-widgets/base",
          "model_module_version": "1.2.0",
          "model_name": "LayoutModel",
          "state": {
            "_model_module": "@jupyter-widgets/base",
            "_model_module_version": "1.2.0",
            "_model_name": "LayoutModel",
            "_view_count": null,
            "_view_module": "@jupyter-widgets/base",
            "_view_module_version": "1.2.0",
            "_view_name": "LayoutView",
            "align_content": null,
            "align_items": null,
            "align_self": null,
            "border": null,
            "bottom": null,
            "display": null,
            "flex": null,
            "flex_flow": null,
            "grid_area": null,
            "grid_auto_columns": null,
            "grid_auto_flow": null,
            "grid_auto_rows": null,
            "grid_column": null,
            "grid_gap": null,
            "grid_row": null,
            "grid_template_areas": null,
            "grid_template_columns": null,
            "grid_template_rows": null,
            "height": null,
            "justify_content": null,
            "justify_items": null,
            "left": null,
            "margin": null,
            "max_height": null,
            "max_width": null,
            "min_height": null,
            "min_width": null,
            "object_fit": null,
            "object_position": null,
            "order": null,
            "overflow": null,
            "overflow_x": null,
            "overflow_y": null,
            "padding": null,
            "right": null,
            "top": null,
            "visibility": null,
            "width": null
          }
        },
        "edb52231312242c19843e52f11a9b97d": {
          "model_module": "@jupyter-widgets/controls",
          "model_module_version": "1.5.0",
          "model_name": "HBoxModel",
          "state": {
            "_dom_classes": [],
            "_model_module": "@jupyter-widgets/controls",
            "_model_module_version": "1.5.0",
            "_model_name": "HBoxModel",
            "_view_count": null,
            "_view_module": "@jupyter-widgets/controls",
            "_view_module_version": "1.5.0",
            "_view_name": "HBoxView",
            "box_style": "",
            "children": [
              "IPY_MODEL_fd1dfa7fb59e4c01b6b77b8e23e720ee",
              "IPY_MODEL_02177e3806ba4dbf967e28b0e6050371",
              "IPY_MODEL_49e7c6410d714c6fb36cc69a9a8f3bdc"
            ],
            "layout": "IPY_MODEL_1f74a72b2a3a4e178f0d2d531a40638f"
          }
        },
        "eeffba494ff44ee0ac8500819b6c5d6a": {
          "model_module": "@jupyter-widgets/controls",
          "model_module_version": "1.5.0",
          "model_name": "HTMLModel",
          "state": {
            "_dom_classes": [],
            "_model_module": "@jupyter-widgets/controls",
            "_model_module_version": "1.5.0",
            "_model_name": "HTMLModel",
            "_view_count": null,
            "_view_module": "@jupyter-widgets/controls",
            "_view_module_version": "1.5.0",
            "_view_name": "HTMLView",
            "description": "",
            "description_tooltip": null,
            "layout": "IPY_MODEL_9f033bae3e644cf28699ac4dbb0fb52b",
            "placeholder": "​",
            "style": "IPY_MODEL_cec4559a9f3c4581bfac19191c4e4c65",
            "value": "100%"
          }
        },
        "f416b7072e95432486c56d01d41de646": {
          "model_module": "@jupyter-widgets/base",
          "model_module_version": "1.2.0",
          "model_name": "LayoutModel",
          "state": {
            "_model_module": "@jupyter-widgets/base",
            "_model_module_version": "1.2.0",
            "_model_name": "LayoutModel",
            "_view_count": null,
            "_view_module": "@jupyter-widgets/base",
            "_view_module_version": "1.2.0",
            "_view_name": "LayoutView",
            "align_content": null,
            "align_items": null,
            "align_self": null,
            "border": null,
            "bottom": null,
            "display": null,
            "flex": null,
            "flex_flow": null,
            "grid_area": null,
            "grid_auto_columns": null,
            "grid_auto_flow": null,
            "grid_auto_rows": null,
            "grid_column": null,
            "grid_gap": null,
            "grid_row": null,
            "grid_template_areas": null,
            "grid_template_columns": null,
            "grid_template_rows": null,
            "height": null,
            "justify_content": null,
            "justify_items": null,
            "left": null,
            "margin": null,
            "max_height": null,
            "max_width": null,
            "min_height": null,
            "min_width": null,
            "object_fit": null,
            "object_position": null,
            "order": null,
            "overflow": null,
            "overflow_x": null,
            "overflow_y": null,
            "padding": null,
            "right": null,
            "top": null,
            "visibility": null,
            "width": null
          }
        },
        "f5856a44b82e42ab96bf3cf1557fe63c": {
          "model_module": "@jupyter-widgets/base",
          "model_module_version": "1.2.0",
          "model_name": "LayoutModel",
          "state": {
            "_model_module": "@jupyter-widgets/base",
            "_model_module_version": "1.2.0",
            "_model_name": "LayoutModel",
            "_view_count": null,
            "_view_module": "@jupyter-widgets/base",
            "_view_module_version": "1.2.0",
            "_view_name": "LayoutView",
            "align_content": null,
            "align_items": null,
            "align_self": null,
            "border": null,
            "bottom": null,
            "display": null,
            "flex": null,
            "flex_flow": null,
            "grid_area": null,
            "grid_auto_columns": null,
            "grid_auto_flow": null,
            "grid_auto_rows": null,
            "grid_column": null,
            "grid_gap": null,
            "grid_row": null,
            "grid_template_areas": null,
            "grid_template_columns": null,
            "grid_template_rows": null,
            "height": null,
            "justify_content": null,
            "justify_items": null,
            "left": null,
            "margin": null,
            "max_height": null,
            "max_width": null,
            "min_height": null,
            "min_width": null,
            "object_fit": null,
            "object_position": null,
            "order": null,
            "overflow": null,
            "overflow_x": null,
            "overflow_y": null,
            "padding": null,
            "right": null,
            "top": null,
            "visibility": null,
            "width": null
          }
        },
        "f8dfdb540ba442afb65d531ff29752f8": {
          "model_module": "@jupyter-widgets/controls",
          "model_module_version": "1.5.0",
          "model_name": "DescriptionStyleModel",
          "state": {
            "_model_module": "@jupyter-widgets/controls",
            "_model_module_version": "1.5.0",
            "_model_name": "DescriptionStyleModel",
            "_view_count": null,
            "_view_module": "@jupyter-widgets/base",
            "_view_module_version": "1.2.0",
            "_view_name": "StyleView",
            "description_width": ""
          }
        },
        "fa33efa8569e4f6ebab7bc527135d8a0": {
          "model_module": "@jupyter-widgets/controls",
          "model_module_version": "1.5.0",
          "model_name": "HTMLModel",
          "state": {
            "_dom_classes": [],
            "_model_module": "@jupyter-widgets/controls",
            "_model_module_version": "1.5.0",
            "_model_name": "HTMLModel",
            "_view_count": null,
            "_view_module": "@jupyter-widgets/controls",
            "_view_module_version": "1.5.0",
            "_view_name": "HTMLView",
            "description": "",
            "description_tooltip": null,
            "layout": "IPY_MODEL_bf69d7623d7049d68907f42fc01e55ca",
            "placeholder": "​",
            "style": "IPY_MODEL_d4afd70c2bfb4019b3912b9d40b6b0b2",
            "value": " 3/3 [00:00&lt;00:00,  9.39it/s]"
          }
        },
        "fd1dfa7fb59e4c01b6b77b8e23e720ee": {
          "model_module": "@jupyter-widgets/controls",
          "model_module_version": "1.5.0",
          "model_name": "HTMLModel",
          "state": {
            "_dom_classes": [],
            "_model_module": "@jupyter-widgets/controls",
            "_model_module_version": "1.5.0",
            "_model_name": "HTMLModel",
            "_view_count": null,
            "_view_module": "@jupyter-widgets/controls",
            "_view_module_version": "1.5.0",
            "_view_name": "HTMLView",
            "description": "",
            "description_tooltip": null,
            "layout": "IPY_MODEL_ed763d29ab124ea58a856ef6c0f0a0cb",
            "placeholder": "​",
            "style": "IPY_MODEL_a0fcb5d0939f407dac5eff7b514c9333",
            "value": "100%"
          }
        }
      }
    }
  },
  "nbformat": 4,
  "nbformat_minor": 0
}
